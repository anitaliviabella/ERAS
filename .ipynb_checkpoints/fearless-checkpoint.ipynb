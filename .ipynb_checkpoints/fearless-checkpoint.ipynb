{
 "cells": [
  {
   "cell_type": "code",
   "execution_count": 1,
   "id": "061c54fb-f5d5-4fe1-83bd-279881501392",
   "metadata": {
    "tags": []
   },
   "outputs": [],
   "source": [
    "import pandas as pd\n",
    "df = pd.read_csv('corpus/fearless_lyrics.csv', encoding = 'latin-1')"
   ]
  },
  {
   "cell_type": "code",
   "execution_count": 2,
   "id": "909359a6-1721-41d7-b548-62e69002d3b9",
   "metadata": {
    "tags": []
   },
   "outputs": [
    {
     "data": {
      "text/html": [
       "<div>\n",
       "<style scoped>\n",
       "    .dataframe tbody tr th:only-of-type {\n",
       "        vertical-align: middle;\n",
       "    }\n",
       "\n",
       "    .dataframe tbody tr th {\n",
       "        vertical-align: top;\n",
       "    }\n",
       "\n",
       "    .dataframe thead th {\n",
       "        text-align: right;\n",
       "    }\n",
       "</style>\n",
       "<table border=\"1\" class=\"dataframe\">\n",
       "  <thead>\n",
       "    <tr style=\"text-align: right;\">\n",
       "      <th></th>\n",
       "      <th>ï»¿album_name</th>\n",
       "      <th>track_title</th>\n",
       "      <th>track_n</th>\n",
       "      <th>lyric</th>\n",
       "      <th>line</th>\n",
       "    </tr>\n",
       "  </thead>\n",
       "  <tbody>\n",
       "    <tr>\n",
       "      <th>0</th>\n",
       "      <td>Fearless (Taylorâs Version)</td>\n",
       "      <td>Fearless (Taylorâs Version)</td>\n",
       "      <td>1</td>\n",
       "      <td>There's something 'bout the way</td>\n",
       "      <td>1</td>\n",
       "    </tr>\n",
       "    <tr>\n",
       "      <th>1</th>\n",
       "      <td>Fearless (Taylorâs Version)</td>\n",
       "      <td>Fearless (Taylorâs Version)</td>\n",
       "      <td>1</td>\n",
       "      <td>The street looks when it's just rained</td>\n",
       "      <td>2</td>\n",
       "    </tr>\n",
       "    <tr>\n",
       "      <th>2</th>\n",
       "      <td>Fearless (Taylorâs Version)</td>\n",
       "      <td>Fearless (Taylorâs Version)</td>\n",
       "      <td>1</td>\n",
       "      <td>There's a glow off the pavement, you walk me t...</td>\n",
       "      <td>3</td>\n",
       "    </tr>\n",
       "    <tr>\n",
       "      <th>3</th>\n",
       "      <td>Fearless (Taylorâs Version)</td>\n",
       "      <td>Fearless (Taylorâs Version)</td>\n",
       "      <td>1</td>\n",
       "      <td>And you know I wanna ask you to dance right there</td>\n",
       "      <td>4</td>\n",
       "    </tr>\n",
       "    <tr>\n",
       "      <th>4</th>\n",
       "      <td>Fearless (Taylorâs Version)</td>\n",
       "      <td>Fearless (Taylorâs Version)</td>\n",
       "      <td>1</td>\n",
       "      <td>In the middle of the parking lot, yeah</td>\n",
       "      <td>5</td>\n",
       "    </tr>\n",
       "  </tbody>\n",
       "</table>\n",
       "</div>"
      ],
      "text/plain": [
       "                   ï»¿album_name                    track_title  track_n  \\\n",
       "0  Fearless (Taylorâs Version)  Fearless (Taylorâs Version)        1   \n",
       "1  Fearless (Taylorâs Version)  Fearless (Taylorâs Version)        1   \n",
       "2  Fearless (Taylorâs Version)  Fearless (Taylorâs Version)        1   \n",
       "3  Fearless (Taylorâs Version)  Fearless (Taylorâs Version)        1   \n",
       "4  Fearless (Taylorâs Version)  Fearless (Taylorâs Version)        1   \n",
       "\n",
       "                                               lyric  line  \n",
       "0                    There's something 'bout the way     1  \n",
       "1             The street looks when it's just rained     2  \n",
       "2  There's a glow off the pavement, you walk me t...     3  \n",
       "3  And you know I wanna ask you to dance right there     4  \n",
       "4             In the middle of the parking lot, yeah     5  "
      ]
     },
     "execution_count": 2,
     "metadata": {},
     "output_type": "execute_result"
    }
   ],
   "source": [
    "df.head()"
   ]
  },
  {
   "cell_type": "code",
   "execution_count": 3,
   "id": "baf276db-57a9-430a-9a8c-94bc30a98f17",
   "metadata": {
    "tags": []
   },
   "outputs": [],
   "source": [
    "songs = df.groupby('track_title').agg({'lyric': lambda x: \" \".join(x)}).reset_index()"
   ]
  },
  {
   "cell_type": "code",
   "execution_count": 4,
   "id": "add26663-f7ba-4053-8a7c-503bbe185f90",
   "metadata": {
    "tags": []
   },
   "outputs": [],
   "source": [
    "pd.options.display.max_colwidth = 5000"
   ]
  },
  {
   "cell_type": "code",
   "execution_count": 5,
   "id": "bd4cc8d0-a468-4167-b91c-b763d5081f2b",
   "metadata": {
    "tags": []
   },
   "outputs": [
    {
     "data": {
      "text/html": [
       "<div>\n",
       "<style scoped>\n",
       "    .dataframe tbody tr th:only-of-type {\n",
       "        vertical-align: middle;\n",
       "    }\n",
       "\n",
       "    .dataframe tbody tr th {\n",
       "        vertical-align: top;\n",
       "    }\n",
       "\n",
       "    .dataframe thead th {\n",
       "        text-align: right;\n",
       "    }\n",
       "</style>\n",
       "<table border=\"1\" class=\"dataframe\">\n",
       "  <thead>\n",
       "    <tr style=\"text-align: right;\">\n",
       "      <th></th>\n",
       "      <th>track_title</th>\n",
       "      <th>lyric</th>\n",
       "    </tr>\n",
       "  </thead>\n",
       "  <tbody>\n",
       "    <tr>\n",
       "      <th>0</th>\n",
       "      <td>Breathe (Taylorâs Version)</td>\n",
       "      <td>I see your face in my mind as I drive away 'Cause none of us thought it was gonna end that way People are people and sometimes we change our minds But it's killing me to see you go after all this time Mm-mm, mm-mm-mm-mm Mm-mm, mm-mm-mm-mm The music starts playing like the end of a sad movie It's the kind of ending you don't really wanna see 'Cause it's tragedy and it'll only bring you down Now I don't know what to be without you around And we know it's never simple, never easy Never a clean break,Â no one here to save me You're the only thing I know like the back of my hand And I can'tÂ breathe without you, but I have to Breathe without you, but I have to Never wanted this, never wanna see you hurt Every little bump in the road, I tried to swerve But people are people and sometimes it doesn't work out And nothin' we say is gonna save us from the fallout And we know it's never simple, never easy Never a clean break,Â no one here to save me You're the only thing I know like the back of my hand And I can'tÂ breathe without you, but I have to Breathe without you but I have to It's 2 A.M., feeling like I justÂ lost a friend Hope you know it'sÂ not easy, easy for me It's 2 A.M., feeling likeÂ I just lost a friend Hope you know this ain't easy, easy for me And we know it's never simple, never easy Never a clean break,Â no one here to save me, oh I can'tÂ breathe without you, but I have to Breathe without you, but I have to BreatheÂ without you, but I have to Breathe without you, but I have to I'm sorry, I'm sorry (Mmm) I'm sorry, (Yeah, yeah) I'm sorry I'm sorry, I'm sorry (Ooh, ooh) I'm sorry</td>\n",
       "    </tr>\n",
       "    <tr>\n",
       "      <th>1</th>\n",
       "      <td>Bye Bye Baby (Taylorâs Version) [From the Vault]</td>\n",
       "      <td>It wasn't just like a movie The rain didn't soak through my clothes, down to my skin I'm drivin' away and I, I guess you could say This is the last time I'll drive this way again Lost in the grayÂ and I try to grab at the fray 'Cause I, I still love you but I can't Bye bye to everything I thought was on my side Bye bye baby I want you bad but it's come down to nothing And all I have is your sympathy 'Cause you took me home but you just couldn't keep me Bye bye baby Bye bye baby The picture frame is empty On the dresser, vacant just like me I see your writing on the dash Then back to your hesitation I was so sure of everything Everything I thought we'd always have Guess I never doubted it Then the here and the now floods in Feels like I'm becoming a part of your past Bye bye to everything I thought was on my side Bye bye baby I want you bad but it's come down to nothing And all I have is your sympathy 'Cause you took me home but you just couldn't keep me Bye bye baby And there's so much that I can't touch You're all I want but it's not enough this time And all the pages are just slipping through my hands And I'm so scared of how this ends Bye bye to everything I thought was on my side Bye bye baby I want you bad but it's come down to nothing And all I have is your sympathy 'Cause you took me home but you just couldn't keep me Bye bye to everything I thought was on my side Bye bye baby I want you bad but it's come down to nothing And all I have is your sympathy 'Cause you took me home but you just couldn't keep me Oh, you took me home, I thought you were gonna keep me Bye bye baby Bye bye baby</td>\n",
       "    </tr>\n",
       "    <tr>\n",
       "      <th>2</th>\n",
       "      <td>Change (Taylorâs Version)</td>\n",
       "      <td>Well, it's a sad picture, the final blow hits you Somebody else gets what you wanted again and You know itâs all the same, another time and place Repeating history and you're getting sick of it But I believe in whatever you do And I'll do anything to see it through Because these things will change Can you feel it now? These walls that they put up to hold us back will fall down This revolution, the time will come For us to finally win And weâll sing hallelujah, we'll sing hallelujah Oh, oh So we've been outnumbered, raidÐµd, and now cornered It's hard to fight when thÐµ fight ain't fair We're getting stronger now, find things they never found They might be bigger but we're faster and never scared You can walk away, say we don't need this But thereâs something in your eyes says we can beat this âCause these things will change Can you feel it now? These walls that they put up to hold us back will fall down This revolution, the time will come For us to finally win And we'll sing hallelujah, weâll sing hallelujah Oh, oh Tonight, we'll stand, get off our knees Fight for what we've worked for all these years And the battle was long, it's the fight of our lives But weâll stand up champions tonight It was the night things changed Can you see it now? When the wallsÂ that they put up to hold us back fell down It's a revolution, throw your hands up 'Cause we never gave in And we'll sing hallelujah, we sang hallelujah Hallelujah</td>\n",
       "    </tr>\n",
       "    <tr>\n",
       "      <th>3</th>\n",
       "      <td>Come In With the Rain (Taylorâs Version)</td>\n",
       "      <td>I could go back to every laugh But I don't wanna go there anymore And I know all the steps up to your door But I don't wanna go there anymore Talk to the wind, talk to the sky Talk to the man with the reasons why And let me know what you find I'll leave my window open 'Cause I'm too tired at night to call your name Just know I'm right here hoping That you'll come in with the rain I could stand up and sing you a song But I don't wanna have to go that far And I, I've got you down, I know you by heart And you don't even know where I start Talk to yourself, talk to the tears Talk to the man who put you here And don't wait for the sky to clear I'll leave my window open 'Cause I'm too tired at night to call your name, oh Just know I'm right here hoping That you'll come in with the rain I've watched you so long, screamed your name I don't know what else I can say I'll leave my window open 'Cause I'm too tired at night for all these games Just know I'm right here hoping That you'll come in with the rain I could go back to every laugh But I don't wanna go there anymore</td>\n",
       "    </tr>\n",
       "    <tr>\n",
       "      <th>4</th>\n",
       "      <td>Donât You (Taylorâs Version) [From the Vault]</td>\n",
       "      <td>Hey, I knew I'd run into you somewhere It's been a while, I didn't mean to stare I heard she's nothin' like me I'm sure she'll make you happy But don't you, don't you Smile at me and ask me how I've been Don't you say you've Missed me if you don't want me again You don't know how much I feel I love you still So why don't you, don't you? Ah, ah, ah, ah Ah, ah, ah Sometimes, I really wish that I could hate you I've tried, but that's just somethin' I can't do My heart knows what the truth is I swore I wouldn't do this But don't you, don't you Smile at me and ask me how I've been Don't you say you've Missed me if you don't want me again You don't know how much I feel I love you still So why don't you, don't you? So I walk outta here tonight Try to go on with my life And you can say we're still friends (But I don't wanna pretend) So if I see you again Don't you (Don't you), don't you Smile at me and ask me how I've been Don't you (Don't you) say you've Missed me if you don't want me again You don't (You don't) know how much I feel I love you still So why don't you, don't you? Ah, ah, ah, ah Don't you (Ah, ah, ah)</td>\n",
       "    </tr>\n",
       "  </tbody>\n",
       "</table>\n",
       "</div>"
      ],
      "text/plain": [
       "                                          track_title  \\\n",
       "0                        Breathe (Taylorâs Version)   \n",
       "1  Bye Bye Baby (Taylorâs Version) [From the Vault]   \n",
       "2                         Change (Taylorâs Version)   \n",
       "3          Come In With the Rain (Taylorâs Version)   \n",
       "4   Donât You (Taylorâs Version) [From the Vault]   \n",
       "\n",
       "                                                                                                                                                                                                                                                                                                                                                                                                                                                                                                                                                                                                                                                                                                                                                                                                                                                                                                                                                                                                                                                                                                                                                                                                                                                                                                                                                                                                                                                                                                                                                                                                                                                                                lyric  \n",
       "0       I see your face in my mind as I drive away 'Cause none of us thought it was gonna end that way People are people and sometimes we change our minds But it's killing me to see you go after all this time Mm-mm, mm-mm-mm-mm Mm-mm, mm-mm-mm-mm The music starts playing like the end of a sad movie It's the kind of ending you don't really wanna see 'Cause it's tragedy and it'll only bring you down Now I don't know what to be without you around And we know it's never simple, never easy Never a clean break,Â no one here to save me You're the only thing I know like the back of my hand And I can'tÂ breathe without you, but I have to Breathe without you, but I have to Never wanted this, never wanna see you hurt Every little bump in the road, I tried to swerve But people are people and sometimes it doesn't work out And nothin' we say is gonna save us from the fallout And we know it's never simple, never easy Never a clean break,Â no one here to save me You're the only thing I know like the back of my hand And I can'tÂ breathe without you, but I have to Breathe without you but I have to It's 2 A.M., feeling like I justÂ lost a friend Hope you know it'sÂ not easy, easy for me It's 2 A.M., feeling likeÂ I just lost a friend Hope you know this ain't easy, easy for me And we know it's never simple, never easy Never a clean break,Â no one here to save me, oh I can'tÂ breathe without you, but I have to Breathe without you, but I have to BreatheÂ without you, but I have to Breathe without you, but I have to I'm sorry, I'm sorry (Mmm) I'm sorry, (Yeah, yeah) I'm sorry I'm sorry, I'm sorry (Ooh, ooh) I'm sorry  \n",
       "1  It wasn't just like a movie The rain didn't soak through my clothes, down to my skin I'm drivin' away and I, I guess you could say This is the last time I'll drive this way again Lost in the grayÂ and I try to grab at the fray 'Cause I, I still love you but I can't Bye bye to everything I thought was on my side Bye bye baby I want you bad but it's come down to nothing And all I have is your sympathy 'Cause you took me home but you just couldn't keep me Bye bye baby Bye bye baby The picture frame is empty On the dresser, vacant just like me I see your writing on the dash Then back to your hesitation I was so sure of everything Everything I thought we'd always have Guess I never doubted it Then the here and the now floods in Feels like I'm becoming a part of your past Bye bye to everything I thought was on my side Bye bye baby I want you bad but it's come down to nothing And all I have is your sympathy 'Cause you took me home but you just couldn't keep me Bye bye baby And there's so much that I can't touch You're all I want but it's not enough this time And all the pages are just slipping through my hands And I'm so scared of how this ends Bye bye to everything I thought was on my side Bye bye baby I want you bad but it's come down to nothing And all I have is your sympathy 'Cause you took me home but you just couldn't keep me Bye bye to everything I thought was on my side Bye bye baby I want you bad but it's come down to nothing And all I have is your sympathy 'Cause you took me home but you just couldn't keep me Oh, you took me home, I thought you were gonna keep me Bye bye baby Bye bye baby  \n",
       "2                                                                                                                                                                         Well, it's a sad picture, the final blow hits you Somebody else gets what you wanted again and You know itâs all the same, another time and place Repeating history and you're getting sick of it But I believe in whatever you do And I'll do anything to see it through Because these things will change Can you feel it now? These walls that they put up to hold us back will fall down This revolution, the time will come For us to finally win And weâll sing hallelujah, we'll sing hallelujah Oh, oh So we've been outnumbered, raidÐµd, and now cornered It's hard to fight when thÐµ fight ain't fair We're getting stronger now, find things they never found They might be bigger but we're faster and never scared You can walk away, say we don't need this But thereâs something in your eyes says we can beat this âCause these things will change Can you feel it now? These walls that they put up to hold us back will fall down This revolution, the time will come For us to finally win And we'll sing hallelujah, weâll sing hallelujah Oh, oh Tonight, we'll stand, get off our knees Fight for what we've worked for all these years And the battle was long, it's the fight of our lives But weâll stand up champions tonight It was the night things changed Can you see it now? When the wallsÂ that they put up to hold us back fell down It's a revolution, throw your hands up 'Cause we never gave in And we'll sing hallelujah, we sang hallelujah Hallelujah  \n",
       "3                                                                                                                                                                                                                                                                                                                                                                                                                                                                                                                                                                I could go back to every laugh But I don't wanna go there anymore And I know all the steps up to your door But I don't wanna go there anymore Talk to the wind, talk to the sky Talk to the man with the reasons why And let me know what you find I'll leave my window open 'Cause I'm too tired at night to call your name Just know I'm right here hoping That you'll come in with the rain I could stand up and sing you a song But I don't wanna have to go that far And I, I've got you down, I know you by heart And you don't even know where I start Talk to yourself, talk to the tears Talk to the man who put you here And don't wait for the sky to clear I'll leave my window open 'Cause I'm too tired at night to call your name, oh Just know I'm right here hoping That you'll come in with the rain I've watched you so long, screamed your name I don't know what else I can say I'll leave my window open 'Cause I'm too tired at night for all these games Just know I'm right here hoping That you'll come in with the rain I could go back to every laugh But I don't wanna go there anymore  \n",
       "4                                                                                                                                                                                                                                                                                                                                                                                                                                                                                                               Hey, I knew I'd run into you somewhere It's been a while, I didn't mean to stare I heard she's nothin' like me I'm sure she'll make you happy But don't you, don't you Smile at me and ask me how I've been Don't you say you've Missed me if you don't want me again You don't know how much I feel I love you still So why don't you, don't you? Ah, ah, ah, ah Ah, ah, ah Sometimes, I really wish that I could hate you I've tried, but that's just somethin' I can't do My heart knows what the truth is I swore I wouldn't do this But don't you, don't you Smile at me and ask me how I've been Don't you say you've Missed me if you don't want me again You don't know how much I feel I love you still So why don't you, don't you? So I walk outta here tonight Try to go on with my life And you can say we're still friends (But I don't wanna pretend) So if I see you again Don't you (Don't you), don't you Smile at me and ask me how I've been Don't you (Don't you) say you've Missed me if you don't want me again You don't (You don't) know how much I feel I love you still So why don't you, don't you? Ah, ah, ah, ah Don't you (Ah, ah, ah)  "
      ]
     },
     "execution_count": 5,
     "metadata": {},
     "output_type": "execute_result"
    }
   ],
   "source": [
    "songs.head()"
   ]
  },
  {
   "cell_type": "code",
   "execution_count": 6,
   "id": "257df5f0-66d9-4c19-a924-91eb1b11b0b3",
   "metadata": {
    "tags": []
   },
   "outputs": [
    {
     "data": {
      "text/plain": [
       "26"
      ]
     },
     "execution_count": 6,
     "metadata": {},
     "output_type": "execute_result"
    }
   ],
   "source": [
    "len(songs)"
   ]
  },
  {
   "cell_type": "code",
   "execution_count": 7,
   "id": "fc8df06c-7fe3-4bc1-8b9c-cd9277ecea35",
   "metadata": {
    "tags": []
   },
   "outputs": [],
   "source": [
    "import sklearn"
   ]
  },
  {
   "cell_type": "code",
   "execution_count": 8,
   "id": "b1b17f83-edc7-44e6-9a59-1661a35e8c16",
   "metadata": {
    "tags": []
   },
   "outputs": [],
   "source": [
    "from sklearn.feature_extraction.text import TfidfVectorizer"
   ]
  },
  {
   "cell_type": "code",
   "execution_count": 9,
   "id": "fbeb0076-7e1a-41e6-a2c2-7cd7e1b7a5ba",
   "metadata": {
    "tags": []
   },
   "outputs": [
    {
     "name": "stderr",
     "output_type": "stream",
     "text": [
      "[nltk_data] Downloading package stopwords to /Users/anita/nltk_data...\n",
      "[nltk_data]   Package stopwords is already up-to-date!\n"
     ]
    },
    {
     "data": {
      "text/plain": [
       "True"
      ]
     },
     "execution_count": 9,
     "metadata": {},
     "output_type": "execute_result"
    }
   ],
   "source": [
    "import nltk\n",
    "from nltk.corpus import stopwords\n",
    "nltk.download('stopwords')"
   ]
  },
  {
   "cell_type": "code",
   "execution_count": 10,
   "id": "c5b86191-11db-4644-b773-dd400f005a43",
   "metadata": {
    "tags": []
   },
   "outputs": [],
   "source": [
    "stop_words = stopwords.words('english')"
   ]
  },
  {
   "cell_type": "code",
   "execution_count": 11,
   "id": "98f41634-2c55-48ab-a89e-d1a428f6a5c8",
   "metadata": {
    "tags": []
   },
   "outputs": [],
   "source": [
    "stop_words.extend([\n",
    "    \"oh\", \"come\", \"sorry\", \"loved\", \"happy\", \"whoa\", \"baby\", \"anymore\", \"name\", \"white\",\n",
    "    \"said\", \"always\", \"everything\", \"back\", \"nothing\", \"feel\", \"wrong\", \"oh\", \"called\",\n",
    "    \"mm\", \"help\", \"never\", \"people\", \"one\", \"feeling\", \"hey\", \"since\", \"met\",\n",
    "    \"fall\", \"today\", \"talk\", \"time\", \"leave\", \"window\", \"sing\", \"far\", \"shine\", \"day\",\n",
    "    \"still\", \"much\", \"swore\", \"knows\", \"want\", \"gets\", \"say\", \"first\", \"take\", \"tell\",\n",
    "    \"around\", \"believe\", \"things\", \"breath\"\n",
    "])"
   ]
  },
  {
   "cell_type": "code",
   "execution_count": 12,
   "id": "8abc4a12-6f65-45b3-be7f-d7d082d3db01",
   "metadata": {
    "tags": []
   },
   "outputs": [],
   "source": [
    "vectorizer = TfidfVectorizer(stop_words = stop_words, min_df = 0.1)"
   ]
  },
  {
   "cell_type": "code",
   "execution_count": 13,
   "id": "997e533d-2f0f-4665-bb44-2d847215bee9",
   "metadata": {
    "tags": []
   },
   "outputs": [],
   "source": [
    "tfidf = vectorizer.fit_transform(songs['lyric'])"
   ]
  },
  {
   "cell_type": "code",
   "execution_count": 14,
   "id": "ac2a21a2-7401-4a24-8d58-a8a5f7095f6e",
   "metadata": {
    "tags": []
   },
   "outputs": [],
   "source": [
    "from sklearn.decomposition import NMF"
   ]
  },
  {
   "cell_type": "code",
   "execution_count": 15,
   "id": "f24c2a26-cc45-4cf6-b4cf-5a3f376d0a8e",
   "metadata": {
    "tags": []
   },
   "outputs": [],
   "source": [
    "nmf = NMF(n_components = 6)"
   ]
  },
  {
   "cell_type": "code",
   "execution_count": 16,
   "id": "29e35027-ef7b-4eb8-b72d-6b1f05c7a197",
   "metadata": {
    "tags": []
   },
   "outputs": [],
   "source": [
    "topic_values = nmf.fit_transform(tfidf)"
   ]
  },
  {
   "cell_type": "code",
   "execution_count": 17,
   "id": "82d89fd1-02c1-4d33-a117-29a6b5a57c84",
   "metadata": {
    "tags": []
   },
   "outputs": [
    {
     "name": "stdout",
     "output_type": "stream",
     "text": [
      "Topic #1: know best hand see run better head yeah drive wanna\n",
      "Topic #2: gone flashback stare phone cause eye caught looked forget thought\n",
      "Topic #3: way smile love saw knew another see breaking miss air\n",
      "Topic #4: got last like tired wanna long know would right fine\n",
      "Topic #5: need fight stand cause know side let crying see door\n",
      "Topic #6: gonna talking bout someday daddy cause way could walk seen\n"
     ]
    }
   ],
   "source": [
    "for topic_num, topic in enumerate(nmf.components_):\n",
    "    message = \"Topic #{}: \".format(topic_num + 1)\n",
    "    message += \" \".join([vectorizer.get_feature_names_out()[i] for i in topic.argsort()[:-11 :-1]])\n",
    "    print(message)\n",
    "    "
   ]
  },
  {
   "cell_type": "code",
   "execution_count": 18,
   "id": "4a7a3c5f-de1f-4283-8cb2-5ae3e1b071bf",
   "metadata": {},
   "outputs": [],
   "source": [
    "topic_labels = ['decision-making', 'regret', 'love', 'uncertainty', 'conflict', 'future']"
   ]
  },
  {
   "cell_type": "code",
   "execution_count": 19,
   "id": "6c46c5a8-39a2-4728-b77e-a67624f81610",
   "metadata": {
    "tags": []
   },
   "outputs": [
    {
     "data": {
      "text/html": [
       "<div>\n",
       "<style scoped>\n",
       "    .dataframe tbody tr th:only-of-type {\n",
       "        vertical-align: middle;\n",
       "    }\n",
       "\n",
       "    .dataframe tbody tr th {\n",
       "        vertical-align: top;\n",
       "    }\n",
       "\n",
       "    .dataframe thead th {\n",
       "        text-align: right;\n",
       "    }\n",
       "</style>\n",
       "<table border=\"1\" class=\"dataframe\">\n",
       "  <thead>\n",
       "    <tr style=\"text-align: right;\">\n",
       "      <th></th>\n",
       "      <th>decision-making</th>\n",
       "      <th>regret</th>\n",
       "      <th>love</th>\n",
       "      <th>uncertainty</th>\n",
       "      <th>conflict</th>\n",
       "      <th>future</th>\n",
       "    </tr>\n",
       "  </thead>\n",
       "  <tbody>\n",
       "    <tr>\n",
       "      <th>0</th>\n",
       "      <td>0.342638</td>\n",
       "      <td>0.000000</td>\n",
       "      <td>0.025690</td>\n",
       "      <td>0.083713</td>\n",
       "      <td>0.000000</td>\n",
       "      <td>0.101786</td>\n",
       "    </tr>\n",
       "    <tr>\n",
       "      <th>1</th>\n",
       "      <td>0.000000</td>\n",
       "      <td>0.115557</td>\n",
       "      <td>0.000000</td>\n",
       "      <td>0.125841</td>\n",
       "      <td>0.218926</td>\n",
       "      <td>0.057281</td>\n",
       "    </tr>\n",
       "    <tr>\n",
       "      <th>2</th>\n",
       "      <td>0.000000</td>\n",
       "      <td>0.000000</td>\n",
       "      <td>0.000000</td>\n",
       "      <td>0.000000</td>\n",
       "      <td>0.601241</td>\n",
       "      <td>0.000000</td>\n",
       "    </tr>\n",
       "    <tr>\n",
       "      <th>3</th>\n",
       "      <td>0.173789</td>\n",
       "      <td>0.000000</td>\n",
       "      <td>0.000000</td>\n",
       "      <td>0.343584</td>\n",
       "      <td>0.034517</td>\n",
       "      <td>0.004661</td>\n",
       "    </tr>\n",
       "    <tr>\n",
       "      <th>4</th>\n",
       "      <td>0.163089</td>\n",
       "      <td>0.014523</td>\n",
       "      <td>0.357168</td>\n",
       "      <td>0.000000</td>\n",
       "      <td>0.000000</td>\n",
       "      <td>0.000000</td>\n",
       "    </tr>\n",
       "    <tr>\n",
       "      <th>5</th>\n",
       "      <td>0.392164</td>\n",
       "      <td>0.016979</td>\n",
       "      <td>0.000000</td>\n",
       "      <td>0.000000</td>\n",
       "      <td>0.000000</td>\n",
       "      <td>0.000000</td>\n",
       "    </tr>\n",
       "    <tr>\n",
       "      <th>6</th>\n",
       "      <td>0.133472</td>\n",
       "      <td>0.000000</td>\n",
       "      <td>0.000000</td>\n",
       "      <td>0.000000</td>\n",
       "      <td>0.000000</td>\n",
       "      <td>0.597626</td>\n",
       "    </tr>\n",
       "    <tr>\n",
       "      <th>7</th>\n",
       "      <td>0.000000</td>\n",
       "      <td>0.802052</td>\n",
       "      <td>0.000000</td>\n",
       "      <td>0.000000</td>\n",
       "      <td>0.000000</td>\n",
       "      <td>0.000000</td>\n",
       "    </tr>\n",
       "    <tr>\n",
       "      <th>8</th>\n",
       "      <td>0.000000</td>\n",
       "      <td>0.801913</td>\n",
       "      <td>0.000000</td>\n",
       "      <td>0.000000</td>\n",
       "      <td>0.000000</td>\n",
       "      <td>0.011028</td>\n",
       "    </tr>\n",
       "    <tr>\n",
       "      <th>9</th>\n",
       "      <td>0.016220</td>\n",
       "      <td>0.000000</td>\n",
       "      <td>0.147121</td>\n",
       "      <td>0.163298</td>\n",
       "      <td>0.064271</td>\n",
       "      <td>0.172506</td>\n",
       "    </tr>\n",
       "    <tr>\n",
       "      <th>10</th>\n",
       "      <td>0.000000</td>\n",
       "      <td>0.004374</td>\n",
       "      <td>0.311945</td>\n",
       "      <td>0.053617</td>\n",
       "      <td>0.000000</td>\n",
       "      <td>0.302025</td>\n",
       "    </tr>\n",
       "    <tr>\n",
       "      <th>11</th>\n",
       "      <td>0.076881</td>\n",
       "      <td>0.036423</td>\n",
       "      <td>0.255032</td>\n",
       "      <td>0.000000</td>\n",
       "      <td>0.250126</td>\n",
       "      <td>0.027050</td>\n",
       "    </tr>\n",
       "    <tr>\n",
       "      <th>12</th>\n",
       "      <td>0.000000</td>\n",
       "      <td>0.022552</td>\n",
       "      <td>0.161552</td>\n",
       "      <td>0.315437</td>\n",
       "      <td>0.000000</td>\n",
       "      <td>0.020816</td>\n",
       "    </tr>\n",
       "    <tr>\n",
       "      <th>13</th>\n",
       "      <td>0.000000</td>\n",
       "      <td>0.000000</td>\n",
       "      <td>0.496630</td>\n",
       "      <td>0.000000</td>\n",
       "      <td>0.058698</td>\n",
       "      <td>0.000000</td>\n",
       "    </tr>\n",
       "    <tr>\n",
       "      <th>14</th>\n",
       "      <td>0.173748</td>\n",
       "      <td>0.000000</td>\n",
       "      <td>0.000000</td>\n",
       "      <td>0.339533</td>\n",
       "      <td>0.102973</td>\n",
       "      <td>0.000000</td>\n",
       "    </tr>\n",
       "    <tr>\n",
       "      <th>15</th>\n",
       "      <td>0.000000</td>\n",
       "      <td>0.000000</td>\n",
       "      <td>0.140813</td>\n",
       "      <td>0.000000</td>\n",
       "      <td>0.390776</td>\n",
       "      <td>0.000000</td>\n",
       "    </tr>\n",
       "    <tr>\n",
       "      <th>16</th>\n",
       "      <td>0.386446</td>\n",
       "      <td>0.000000</td>\n",
       "      <td>0.000000</td>\n",
       "      <td>0.000000</td>\n",
       "      <td>0.067932</td>\n",
       "      <td>0.000000</td>\n",
       "    </tr>\n",
       "    <tr>\n",
       "      <th>17</th>\n",
       "      <td>0.008271</td>\n",
       "      <td>0.038664</td>\n",
       "      <td>0.000000</td>\n",
       "      <td>0.000000</td>\n",
       "      <td>0.697790</td>\n",
       "      <td>0.000000</td>\n",
       "    </tr>\n",
       "    <tr>\n",
       "      <th>18</th>\n",
       "      <td>0.000000</td>\n",
       "      <td>0.054384</td>\n",
       "      <td>0.489809</td>\n",
       "      <td>0.024704</td>\n",
       "      <td>0.000000</td>\n",
       "      <td>0.000000</td>\n",
       "    </tr>\n",
       "    <tr>\n",
       "      <th>19</th>\n",
       "      <td>0.000000</td>\n",
       "      <td>0.000000</td>\n",
       "      <td>0.495900</td>\n",
       "      <td>0.000000</td>\n",
       "      <td>0.000000</td>\n",
       "      <td>0.000000</td>\n",
       "    </tr>\n",
       "    <tr>\n",
       "      <th>20</th>\n",
       "      <td>0.000000</td>\n",
       "      <td>0.100032</td>\n",
       "      <td>0.000000</td>\n",
       "      <td>0.317637</td>\n",
       "      <td>0.000000</td>\n",
       "      <td>0.000000</td>\n",
       "    </tr>\n",
       "    <tr>\n",
       "      <th>21</th>\n",
       "      <td>0.000000</td>\n",
       "      <td>0.000000</td>\n",
       "      <td>0.000000</td>\n",
       "      <td>0.000000</td>\n",
       "      <td>0.000000</td>\n",
       "      <td>0.650959</td>\n",
       "    </tr>\n",
       "    <tr>\n",
       "      <th>22</th>\n",
       "      <td>0.040932</td>\n",
       "      <td>0.000000</td>\n",
       "      <td>0.000000</td>\n",
       "      <td>0.000000</td>\n",
       "      <td>0.418618</td>\n",
       "      <td>0.248947</td>\n",
       "    </tr>\n",
       "    <tr>\n",
       "      <th>23</th>\n",
       "      <td>0.000000</td>\n",
       "      <td>0.000000</td>\n",
       "      <td>0.000000</td>\n",
       "      <td>0.559067</td>\n",
       "      <td>0.000000</td>\n",
       "      <td>0.010114</td>\n",
       "    </tr>\n",
       "    <tr>\n",
       "      <th>24</th>\n",
       "      <td>0.248631</td>\n",
       "      <td>0.024352</td>\n",
       "      <td>0.073022</td>\n",
       "      <td>0.113204</td>\n",
       "      <td>0.021988</td>\n",
       "      <td>0.103251</td>\n",
       "    </tr>\n",
       "    <tr>\n",
       "      <th>25</th>\n",
       "      <td>0.000000</td>\n",
       "      <td>0.070723</td>\n",
       "      <td>0.000000</td>\n",
       "      <td>0.564008</td>\n",
       "      <td>0.000000</td>\n",
       "      <td>0.000000</td>\n",
       "    </tr>\n",
       "  </tbody>\n",
       "</table>\n",
       "</div>"
      ],
      "text/plain": [
       "    decision-making    regret      love  uncertainty  conflict    future\n",
       "0          0.342638  0.000000  0.025690     0.083713  0.000000  0.101786\n",
       "1          0.000000  0.115557  0.000000     0.125841  0.218926  0.057281\n",
       "2          0.000000  0.000000  0.000000     0.000000  0.601241  0.000000\n",
       "3          0.173789  0.000000  0.000000     0.343584  0.034517  0.004661\n",
       "4          0.163089  0.014523  0.357168     0.000000  0.000000  0.000000\n",
       "5          0.392164  0.016979  0.000000     0.000000  0.000000  0.000000\n",
       "6          0.133472  0.000000  0.000000     0.000000  0.000000  0.597626\n",
       "7          0.000000  0.802052  0.000000     0.000000  0.000000  0.000000\n",
       "8          0.000000  0.801913  0.000000     0.000000  0.000000  0.011028\n",
       "9          0.016220  0.000000  0.147121     0.163298  0.064271  0.172506\n",
       "10         0.000000  0.004374  0.311945     0.053617  0.000000  0.302025\n",
       "11         0.076881  0.036423  0.255032     0.000000  0.250126  0.027050\n",
       "12         0.000000  0.022552  0.161552     0.315437  0.000000  0.020816\n",
       "13         0.000000  0.000000  0.496630     0.000000  0.058698  0.000000\n",
       "14         0.173748  0.000000  0.000000     0.339533  0.102973  0.000000\n",
       "15         0.000000  0.000000  0.140813     0.000000  0.390776  0.000000\n",
       "16         0.386446  0.000000  0.000000     0.000000  0.067932  0.000000\n",
       "17         0.008271  0.038664  0.000000     0.000000  0.697790  0.000000\n",
       "18         0.000000  0.054384  0.489809     0.024704  0.000000  0.000000\n",
       "19         0.000000  0.000000  0.495900     0.000000  0.000000  0.000000\n",
       "20         0.000000  0.100032  0.000000     0.317637  0.000000  0.000000\n",
       "21         0.000000  0.000000  0.000000     0.000000  0.000000  0.650959\n",
       "22         0.040932  0.000000  0.000000     0.000000  0.418618  0.248947\n",
       "23         0.000000  0.000000  0.000000     0.559067  0.000000  0.010114\n",
       "24         0.248631  0.024352  0.073022     0.113204  0.021988  0.103251\n",
       "25         0.000000  0.070723  0.000000     0.564008  0.000000  0.000000"
      ]
     },
     "execution_count": 19,
     "metadata": {},
     "output_type": "execute_result"
    }
   ],
   "source": [
    "df_topics = pd.DataFrame(topic_values, columns = topic_labels)\n",
    "df_topics"
   ]
  },
  {
   "cell_type": "code",
   "execution_count": 20,
   "id": "c36db3ed-8ba1-4873-b3be-4728447f3e00",
   "metadata": {
    "tags": []
   },
   "outputs": [],
   "source": [
    "songs = songs.join(df_topics)"
   ]
  },
  {
   "cell_type": "code",
   "execution_count": 21,
   "id": "c94efecc-a7a3-4fb3-8eeb-615246770241",
   "metadata": {
    "tags": []
   },
   "outputs": [],
   "source": [
    "#topic is in\n",
    "songs.loc[songs['decision-making'] >= 0.1, 'decision-making'] = 1\n",
    "songs.loc[songs['regret'] >= 0.1, 'regret'] = 1\n",
    "songs.loc[songs['love'] >= 0.1, 'love'] = 1\n",
    "songs.loc[songs['uncertainty'] >= 0.1, 'uncertainty'] = 1\n",
    "songs.loc[songs['conflict'] >= 0.1, 'conflict'] = 1\n",
    "songs.loc[songs['future'] >= 0.1, 'future'] = 1"
   ]
  },
  {
   "cell_type": "code",
   "execution_count": 22,
   "id": "a2675184-a1c4-49fa-b52c-009c9103dade",
   "metadata": {
    "tags": []
   },
   "outputs": [],
   "source": [
    "#topic is in\n",
    "songs.loc[songs['decision-making'] < 0.1, 'decision-making'] = 0\n",
    "songs.loc[songs['regret'] < 0.1, 'regret'] = 0\n",
    "songs.loc[songs['love'] < 0.1, 'love'] = 0\n",
    "songs.loc[songs['uncertainty'] < 0.1, 'uncertainty'] = 0\n",
    "songs.loc[songs['conflict'] < 0.1, 'conflict'] = 0\n",
    "songs.loc[songs['future'] < 0.1, 'future'] = 0"
   ]
  },
  {
   "cell_type": "code",
   "execution_count": 23,
   "id": "c26b9cc4-9260-4c48-baed-d0b34a6268e8",
   "metadata": {
    "tags": []
   },
   "outputs": [],
   "source": [
    "songs_csv = songs.to_csv('topics/fearless_topics.csv')"
   ]
  },
  {
   "cell_type": "code",
   "execution_count": null,
   "id": "9123a64b-5516-4ee0-8a39-3503d150e079",
   "metadata": {},
   "outputs": [],
   "source": []
  },
  {
   "cell_type": "code",
   "execution_count": null,
   "id": "e4848dde-4e8f-4789-8428-a3b96e6e4ea5",
   "metadata": {},
   "outputs": [],
   "source": []
  },
  {
   "cell_type": "code",
   "execution_count": null,
   "id": "c586eb6c-7192-479f-ba3d-ddab9d8895a9",
   "metadata": {},
   "outputs": [],
   "source": []
  }
 ],
 "metadata": {
  "kernelspec": {
   "display_name": "Python 3 (ipykernel)",
   "language": "python",
   "name": "python3"
  },
  "language_info": {
   "codemirror_mode": {
    "name": "ipython",
    "version": 3
   },
   "file_extension": ".py",
   "mimetype": "text/x-python",
   "name": "python",
   "nbconvert_exporter": "python",
   "pygments_lexer": "ipython3",
   "version": "3.11.9"
  }
 },
 "nbformat": 4,
 "nbformat_minor": 5
}
