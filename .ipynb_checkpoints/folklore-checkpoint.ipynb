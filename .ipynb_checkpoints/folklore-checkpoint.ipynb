{
 "cells": [
  {
   "cell_type": "code",
   "execution_count": 1,
   "id": "97e6ea5f-1a85-4e74-8699-5928416c0ebb",
   "metadata": {
    "tags": []
   },
   "outputs": [],
   "source": [
    "import pandas as pd"
   ]
  },
  {
   "cell_type": "code",
   "execution_count": 2,
   "id": "746c4892-2610-4639-a719-48a93e7bd6d9",
   "metadata": {
    "tags": []
   },
   "outputs": [],
   "source": [
    "df = pd.read_csv('corpus/evermore_lyrics.csv', encoding = 'latin-1')"
   ]
  },
  {
   "cell_type": "code",
   "execution_count": 3,
   "id": "64cf3082-b3d5-4d58-aa89-68f7b01e0e8c",
   "metadata": {
    "tags": []
   },
   "outputs": [
    {
     "data": {
      "text/html": [
       "<div>\n",
       "<style scoped>\n",
       "    .dataframe tbody tr th:only-of-type {\n",
       "        vertical-align: middle;\n",
       "    }\n",
       "\n",
       "    .dataframe tbody tr th {\n",
       "        vertical-align: top;\n",
       "    }\n",
       "\n",
       "    .dataframe thead th {\n",
       "        text-align: right;\n",
       "    }\n",
       "</style>\n",
       "<table border=\"1\" class=\"dataframe\">\n",
       "  <thead>\n",
       "    <tr style=\"text-align: right;\">\n",
       "      <th></th>\n",
       "      <th>ï»¿album_name</th>\n",
       "      <th>track_title</th>\n",
       "      <th>track_n</th>\n",
       "      <th>lyric</th>\n",
       "      <th>line</th>\n",
       "    </tr>\n",
       "  </thead>\n",
       "  <tbody>\n",
       "    <tr>\n",
       "      <th>0</th>\n",
       "      <td>evermore (deluxe version)</td>\n",
       "      <td>willow</td>\n",
       "      <td>1</td>\n",
       "      <td>I'm like the water when your ship rolled in th...</td>\n",
       "      <td>1</td>\n",
       "    </tr>\n",
       "    <tr>\n",
       "      <th>1</th>\n",
       "      <td>evermore (deluxe version)</td>\n",
       "      <td>willow</td>\n",
       "      <td>1</td>\n",
       "      <td>Rough on the surface, but you cut through like...</td>\n",
       "      <td>2</td>\n",
       "    </tr>\n",
       "    <tr>\n",
       "      <th>2</th>\n",
       "      <td>evermore (deluxe version)</td>\n",
       "      <td>willow</td>\n",
       "      <td>1</td>\n",
       "      <td>And if it was an open-shut case</td>\n",
       "      <td>3</td>\n",
       "    </tr>\n",
       "    <tr>\n",
       "      <th>3</th>\n",
       "      <td>evermore (deluxe version)</td>\n",
       "      <td>willow</td>\n",
       "      <td>1</td>\n",
       "      <td>I never would've known from that look on your ...</td>\n",
       "      <td>4</td>\n",
       "    </tr>\n",
       "    <tr>\n",
       "      <th>4</th>\n",
       "      <td>evermore (deluxe version)</td>\n",
       "      <td>willow</td>\n",
       "      <td>1</td>\n",
       "      <td>Lost in your current like a priceless wine</td>\n",
       "      <td>5</td>\n",
       "    </tr>\n",
       "  </tbody>\n",
       "</table>\n",
       "</div>"
      ],
      "text/plain": [
       "               ï»¿album_name track_title  track_n  \\\n",
       "0  evermore (deluxe version)      willow        1   \n",
       "1  evermore (deluxe version)      willow        1   \n",
       "2  evermore (deluxe version)      willow        1   \n",
       "3  evermore (deluxe version)      willow        1   \n",
       "4  evermore (deluxe version)      willow        1   \n",
       "\n",
       "                                               lyric  line  \n",
       "0  I'm like the water when your ship rolled in th...     1  \n",
       "1  Rough on the surface, but you cut through like...     2  \n",
       "2                    And if it was an open-shut case     3  \n",
       "3  I never would've known from that look on your ...     4  \n",
       "4         Lost in your current like a priceless wine     5  "
      ]
     },
     "execution_count": 3,
     "metadata": {},
     "output_type": "execute_result"
    }
   ],
   "source": [
    "df.head()"
   ]
  },
  {
   "cell_type": "code",
   "execution_count": 4,
   "id": "e9db7d36-aa96-41e2-affd-92f8898879d4",
   "metadata": {
    "tags": []
   },
   "outputs": [],
   "source": [
    "songs = df.groupby('track_title').agg({'lyric': lambda x: \" \".join(x)}).reset_index()"
   ]
  },
  {
   "cell_type": "code",
   "execution_count": 5,
   "id": "68a335b2-a9a0-4dfc-a507-022830c1a0a1",
   "metadata": {
    "tags": []
   },
   "outputs": [],
   "source": [
    "pd.options.display.max_colwidth = 5000"
   ]
  },
  {
   "cell_type": "code",
   "execution_count": 6,
   "id": "31569bd5-35b9-4761-bc63-7d28af52e79e",
   "metadata": {
    "tags": []
   },
   "outputs": [
    {
     "data": {
      "text/html": [
       "<div>\n",
       "<style scoped>\n",
       "    .dataframe tbody tr th:only-of-type {\n",
       "        vertical-align: middle;\n",
       "    }\n",
       "\n",
       "    .dataframe tbody tr th {\n",
       "        vertical-align: top;\n",
       "    }\n",
       "\n",
       "    .dataframe thead th {\n",
       "        text-align: right;\n",
       "    }\n",
       "</style>\n",
       "<table border=\"1\" class=\"dataframe\">\n",
       "  <thead>\n",
       "    <tr style=\"text-align: right;\">\n",
       "      <th></th>\n",
       "      <th>track_title</th>\n",
       "      <th>lyric</th>\n",
       "    </tr>\n",
       "  </thead>\n",
       "  <tbody>\n",
       "    <tr>\n",
       "      <th>0</th>\n",
       "      <td>champagne problems</td>\n",
       "      <td>You booked the night train for a reason So you could sit there in this hurt Bustling crowds or silent sleepers You're not sure which is worse Because I dropped your hand while dancing Left youâoutâthereâstanding Crestfallen on theâlanding Champagne problems Your mom'sâring in your pocket My picture in your wallet Your heart was glass, I dropped it Champagne problems You told your family for a reason You couldn't keep it in Your sister splashed out on the bottle Now no one's celebrating Dom PÃ©rignon, you brought it No crowd of friends applauded Your hometown skeptics called it Champagne problems You had a speech, you're speechless Love slipped beyond your reaches And I couldn't give a reason Champagne problems Joeboy 'Sip (Alcohol)' Official Lyrics &amp; Meaning | Verified Your Midas touch on the Chevy door November flush and your flannel cure \"This dorm was once a madhouse\" I made a joke, \"Well, it's made for me\" How evergreen, our group of friends Don't think we'll say that word again And soon they'll have the nerve to deck the halls That we once walked through One for the money, two for the show I never was ready so I watch you go Sometimes you just don't know the answer 'Til someone's on their knees and asks you \"She would've made such a lovely bride What a shame she's fucked in the head,\" they said But you'll find the real thing instead She'll patch up your tapestry that I shred And hold your hand while dancing Never leave you standing Crestfallen on the landing With champagne problems Your mom's ring in your pocket Her picture in your wallet You won't remember all my Champagne problems You won't remember all my Champagne problems</td>\n",
       "    </tr>\n",
       "    <tr>\n",
       "      <th>1</th>\n",
       "      <td>cowboy like me</td>\n",
       "      <td>And the tennis court was covered up With some tent-like thing And you asked me to dance But I said, \"Dancin' is a dangerous game\" Oh, I thought This is gonna be one of those things Now I know I'm never gonna love again I've got some tricks up my sleeve Takes one to know one You're a cowboy like me Never wanted love Just a fancy car Now I'm waiting by the phone Like I'm sitting in an airport bar You had some tricks up your sleeve Takes one to know one You're a cowboy like me Perched in the dark Telling all the rich folks anything they wanna hear Like it could be love I could be the way forward Only if they pay for it You're a bandit like me Eyes full of stars Hustling for the good life Never thought I'd meet you here It could be love We could be the way forward And I know I'll pay for it You're a cowboy like me Perched in the dark Telling all the rich folks anything they wanna hear Like it could be love I could be the way forward Only if they pay for it You're a bandit like me Eyes full of stars Hustling for the good life Never thought I'd meet you here It could be love We could be the way forward And I know I'll pay for it And the skeletons in both our closets Plotted hard to fuck this up And the old men that I've swindled Really did believe I was the one And the ladies lunching have their stories about When you passed through town But that was all before I locked it down Now you hang from my lips Like the Gardens of Babylon With your boots beneath my bed Forever is the sweetest con I've had some tricks up my sleeve Takes one to know one You're a cowboy like me And I'm never gonna love again I'm never gonna love again I'm never gonna love again</td>\n",
       "    </tr>\n",
       "    <tr>\n",
       "      <th>2</th>\n",
       "      <td>willow</td>\n",
       "      <td>I'm like the water when your ship rolled in that night Rough on the surface, but you cut through like a knife And if it was an open-shut case I never would've known from that look on your face Lost in your current like a priceless wine The more that you say, the less I know Wherever you stray, I follow I'm begging for you to take my hand Wreck my plans, that's my man Life was a willow and it bent right to your wind Head on the pillow, I could feel you sneakin' in As if you were a mythical thing Like you were a trophy or a champion ring And there was one prize I'd cheat to win The more that you say, the less I know Wherever you stray, I follow I'm begging for you to take my hand Wreck my plans, that's my man You know that my train could take you home Anywhere else is hollow I'm begging for you to take my hand Wreck my plans, that's my man Life was a willow and it bent right to your wind They count me out time and time again Life was a willow and it bent right to your wind But I come back stronger than a '90s trend Wait for the signal, and I'll meet you after dark Show me the places where the others gave you scars Now this is an open-shut case I guess I should've known from the look on your face Every bait-and-switch was a work of art The more that you say, the less I know Wherever you stray, I follow I'm begging for you to take my hand Wreck my plans, that's my man You know that my train could take you home Anywhere else is hollow I'm begging for you to take my hand Wreck my plans, that's my man The more that you say, the less I know Wherever you stray, I follow I'm begging for you to take my hand Wreck my plans, that's my man You know that my train could take you home Anywhere else is hollow I'm begging for you to take my hand Wreck my plans, that's my man Hey, that's my man That's my man Yeah, that's my man Every bait-and-switch was a work of art That's my man Hey, that's my man I'm begging for you to take my hand Wreck my plans, that's my man</td>\n",
       "    </tr>\n",
       "    <tr>\n",
       "      <th>3</th>\n",
       "      <td>âclosure</td>\n",
       "      <td>It's been a long time And seeing the shape of your name Still spells out pain It wasn't right The way it all went down Looks like you know that now Yes, I got your letter Yes, I'm doing better It cut deep to know ya, right to the bone Yes, I got your letter Yes, I'm doing better I know that it's over, I don't need your Closure, your closure Don't treat me like Some situation that needs to be handled I'm fine with my spite And my tears, and my beers and my candles I can feel youÂ smoothing me over Yes, I got your letter Yes, I'm doing bettÐµr It cut deep to know ya, right to the bone Yes, I got your lÐµtter Yes, I'm doing better I know that it's over, I don't need your Closure, your closure Your closure, your closure I know I'm just a wrinkle in your new life Staying friends would iron it out so nice Guilty, guilty,Â reaching out across the sea That you put between you and me But it's fake and it's oh so unnecessary Yes, I got your letter Yes, I'm doing better It cut deep to know ya, right to the bone Yes, I got your letter Yes, I'm doing better I know that it's over, I don't need your Closure, closure, your closure Your closure</td>\n",
       "    </tr>\n",
       "    <tr>\n",
       "      <th>4</th>\n",
       "      <td>âconey island</td>\n",
       "      <td>Break my soul in two looking for you But you're right here If I can't relate to you anymore Then who am I related to? And if this is the long haul How'd we get here so soon? Did I close my fist around something delicate? Did I shatter you? And I'm sitting on a bench in Coney Island Wondering where did my baby go? The fast times, the bright lights, the merry go Sorry for not making you my centerfold Over and over Lost again with no surprises Disappointments, close your eyes And it gets colder and colder When the sun goes down The question pounds my head What's a lifetime of achievement If I pushed you to the edge? But you were too polite to leave me And do you miss the rogue Who coaxed you into paradise and left you there? Will you forgive my soul When you're too wise to trust me and too old to care? 'Cause we were like the mall before the internet It was the one place to be The mischief, the gift-wrapped suburban dreams Sorry for not winning you an arcade ring Over and over Lost again with no surprises Disappointments, close your eyes And it gets colder and colder When the sun goes down Were you waiting at our old spot In the tree line By the gold clock Did I leave you hanging every single day? Were you standing in the hallway With a big cake, happy birthday Did I paint your bluest skies the darkest grey? A universe away And when I got into the accident The sight that flashed before me was your face But when I walked up to the podium, I think that I forgot to say your name I'm on a bench in Coney Island Wondering where did my baby go? The fast times, the bright lights, the merry go Sorry for not making you my centerfold Over and over Lost again with no surprises Disappointments, close your eyes And it gets colder and colder When the sun goes down When the sun goes down The sight that flashed before me was your face When the sun goes down But I think that I forgot to say your name Over and over Sorry for not making you my, making you my Making you my centerfold</td>\n",
       "    </tr>\n",
       "  </tbody>\n",
       "</table>\n",
       "</div>"
      ],
      "text/plain": [
       "          track_title  \\\n",
       "0  champagne problems   \n",
       "1      cowboy like me   \n",
       "2              willow   \n",
       "3          âclosure   \n",
       "4     âconey island   \n",
       "\n",
       "                                                                                                                                                                                                                                                                                                                                                                                                                                                                                                                                                                                                                                                                                                                                                                                                                                                                                                                                                                                                                                                                                                                                                                                                                                                                                                                                                                                                                                                                                                                                                                                                                                                                                                                                                                                                                                                                                                                                                                                                                                                                        lyric  \n",
       "0                                                                                                                                                                                                                                                                                                                                       You booked the night train for a reason So you could sit there in this hurt Bustling crowds or silent sleepers You're not sure which is worse Because I dropped your hand while dancing Left youâoutâthereâstanding Crestfallen on theâlanding Champagne problems Your mom'sâring in your pocket My picture in your wallet Your heart was glass, I dropped it Champagne problems You told your family for a reason You couldn't keep it in Your sister splashed out on the bottle Now no one's celebrating Dom PÃ©rignon, you brought it No crowd of friends applauded Your hometown skeptics called it Champagne problems You had a speech, you're speechless Love slipped beyond your reaches And I couldn't give a reason Champagne problems Joeboy 'Sip (Alcohol)' Official Lyrics & Meaning | Verified Your Midas touch on the Chevy door November flush and your flannel cure \"This dorm was once a madhouse\" I made a joke, \"Well, it's made for me\" How evergreen, our group of friends Don't think we'll say that word again And soon they'll have the nerve to deck the halls That we once walked through One for the money, two for the show I never was ready so I watch you go Sometimes you just don't know the answer 'Til someone's on their knees and asks you \"She would've made such a lovely bride What a shame she's fucked in the head,\" they said But you'll find the real thing instead She'll patch up your tapestry that I shred And hold your hand while dancing Never leave you standing Crestfallen on the landing With champagne problems Your mom's ring in your pocket Her picture in your wallet You won't remember all my Champagne problems You won't remember all my Champagne problems  \n",
       "1                                                                                                                                                                                                                                                                                                                                    And the tennis court was covered up With some tent-like thing And you asked me to dance But I said, \"Dancin' is a dangerous game\" Oh, I thought This is gonna be one of those things Now I know I'm never gonna love again I've got some tricks up my sleeve Takes one to know one You're a cowboy like me Never wanted love Just a fancy car Now I'm waiting by the phone Like I'm sitting in an airport bar You had some tricks up your sleeve Takes one to know one You're a cowboy like me Perched in the dark Telling all the rich folks anything they wanna hear Like it could be love I could be the way forward Only if they pay for it You're a bandit like me Eyes full of stars Hustling for the good life Never thought I'd meet you here It could be love We could be the way forward And I know I'll pay for it You're a cowboy like me Perched in the dark Telling all the rich folks anything they wanna hear Like it could be love I could be the way forward Only if they pay for it You're a bandit like me Eyes full of stars Hustling for the good life Never thought I'd meet you here It could be love We could be the way forward And I know I'll pay for it And the skeletons in both our closets Plotted hard to fuck this up And the old men that I've swindled Really did believe I was the one And the ladies lunching have their stories about When you passed through town But that was all before I locked it down Now you hang from my lips Like the Gardens of Babylon With your boots beneath my bed Forever is the sweetest con I've had some tricks up my sleeve Takes one to know one You're a cowboy like me And I'm never gonna love again I'm never gonna love again I'm never gonna love again  \n",
       "2                  I'm like the water when your ship rolled in that night Rough on the surface, but you cut through like a knife And if it was an open-shut case I never would've known from that look on your face Lost in your current like a priceless wine The more that you say, the less I know Wherever you stray, I follow I'm begging for you to take my hand Wreck my plans, that's my man Life was a willow and it bent right to your wind Head on the pillow, I could feel you sneakin' in As if you were a mythical thing Like you were a trophy or a champion ring And there was one prize I'd cheat to win The more that you say, the less I know Wherever you stray, I follow I'm begging for you to take my hand Wreck my plans, that's my man You know that my train could take you home Anywhere else is hollow I'm begging for you to take my hand Wreck my plans, that's my man Life was a willow and it bent right to your wind They count me out time and time again Life was a willow and it bent right to your wind But I come back stronger than a '90s trend Wait for the signal, and I'll meet you after dark Show me the places where the others gave you scars Now this is an open-shut case I guess I should've known from the look on your face Every bait-and-switch was a work of art The more that you say, the less I know Wherever you stray, I follow I'm begging for you to take my hand Wreck my plans, that's my man You know that my train could take you home Anywhere else is hollow I'm begging for you to take my hand Wreck my plans, that's my man The more that you say, the less I know Wherever you stray, I follow I'm begging for you to take my hand Wreck my plans, that's my man You know that my train could take you home Anywhere else is hollow I'm begging for you to take my hand Wreck my plans, that's my man Hey, that's my man That's my man Yeah, that's my man Every bait-and-switch was a work of art That's my man Hey, that's my man I'm begging for you to take my hand Wreck my plans, that's my man  \n",
       "3                                                                                                                                                                                                                                                                                                                                                                                                                                                                                                                                                                                                                                                                                                                                                                                                                                                                                   It's been a long time And seeing the shape of your name Still spells out pain It wasn't right The way it all went down Looks like you know that now Yes, I got your letter Yes, I'm doing better It cut deep to know ya, right to the bone Yes, I got your letter Yes, I'm doing better I know that it's over, I don't need your Closure, your closure Don't treat me like Some situation that needs to be handled I'm fine with my spite And my tears, and my beers and my candles I can feel youÂ smoothing me over Yes, I got your letter Yes, I'm doing bettÐµr It cut deep to know ya, right to the bone Yes, I got your lÐµtter Yes, I'm doing better I know that it's over, I don't need your Closure, your closure Your closure, your closure I know I'm just a wrinkle in your new life Staying friends would iron it out so nice Guilty, guilty,Â reaching out across the sea That you put between you and me But it's fake and it's oh so unnecessary Yes, I got your letter Yes, I'm doing better It cut deep to know ya, right to the bone Yes, I got your letter Yes, I'm doing better I know that it's over, I don't need your Closure, closure, your closure Your closure  \n",
       "4  Break my soul in two looking for you But you're right here If I can't relate to you anymore Then who am I related to? And if this is the long haul How'd we get here so soon? Did I close my fist around something delicate? Did I shatter you? And I'm sitting on a bench in Coney Island Wondering where did my baby go? The fast times, the bright lights, the merry go Sorry for not making you my centerfold Over and over Lost again with no surprises Disappointments, close your eyes And it gets colder and colder When the sun goes down The question pounds my head What's a lifetime of achievement If I pushed you to the edge? But you were too polite to leave me And do you miss the rogue Who coaxed you into paradise and left you there? Will you forgive my soul When you're too wise to trust me and too old to care? 'Cause we were like the mall before the internet It was the one place to be The mischief, the gift-wrapped suburban dreams Sorry for not winning you an arcade ring Over and over Lost again with no surprises Disappointments, close your eyes And it gets colder and colder When the sun goes down Were you waiting at our old spot In the tree line By the gold clock Did I leave you hanging every single day? Were you standing in the hallway With a big cake, happy birthday Did I paint your bluest skies the darkest grey? A universe away And when I got into the accident The sight that flashed before me was your face But when I walked up to the podium, I think that I forgot to say your name I'm on a bench in Coney Island Wondering where did my baby go? The fast times, the bright lights, the merry go Sorry for not making you my centerfold Over and over Lost again with no surprises Disappointments, close your eyes And it gets colder and colder When the sun goes down When the sun goes down The sight that flashed before me was your face When the sun goes down But I think that I forgot to say your name Over and over Sorry for not making you my, making you my Making you my centerfold  "
      ]
     },
     "execution_count": 6,
     "metadata": {},
     "output_type": "execute_result"
    }
   ],
   "source": [
    "songs.head()"
   ]
  },
  {
   "cell_type": "code",
   "execution_count": 7,
   "id": "6f551efe-bc7b-4114-b7a1-7624200dc4d1",
   "metadata": {},
   "outputs": [
    {
     "data": {
      "text/plain": [
       "17"
      ]
     },
     "execution_count": 7,
     "metadata": {},
     "output_type": "execute_result"
    }
   ],
   "source": [
    "len(songs)"
   ]
  },
  {
   "cell_type": "code",
   "execution_count": 8,
   "id": "bf324a95-51a8-41f6-9626-4b0deb1c02ff",
   "metadata": {
    "tags": []
   },
   "outputs": [],
   "source": [
    "import sklearn"
   ]
  },
  {
   "cell_type": "code",
   "execution_count": 9,
   "id": "fa6725fc-747b-4e7f-bcc9-4681acdc8d4a",
   "metadata": {
    "tags": []
   },
   "outputs": [],
   "source": [
    "from sklearn.feature_extraction.text import TfidfVectorizer"
   ]
  },
  {
   "cell_type": "code",
   "execution_count": 10,
   "id": "483427a2-e654-4f99-a3ce-46230ea51fb8",
   "metadata": {
    "tags": []
   },
   "outputs": [
    {
     "name": "stderr",
     "output_type": "stream",
     "text": [
      "[nltk_data] Downloading package stopwords to /Users/anita/nltk_data...\n",
      "[nltk_data]   Package stopwords is already up-to-date!\n"
     ]
    },
    {
     "data": {
      "text/plain": [
       "True"
      ]
     },
     "execution_count": 10,
     "metadata": {},
     "output_type": "execute_result"
    }
   ],
   "source": [
    "import nltk\n",
    "from nltk.corpus import stopwords\n",
    "nltk.download('stopwords')"
   ]
  },
  {
   "cell_type": "code",
   "execution_count": 11,
   "id": "3bf82ab4-858c-4275-b776-5237786548cb",
   "metadata": {
    "tags": []
   },
   "outputs": [],
   "source": [
    "stop_words = stopwords.words('english')"
   ]
  },
  {
   "cell_type": "code",
   "execution_count": 12,
   "id": "e263a7e1-5d76-4b9a-9565-fe4e4e109757",
   "metadata": {
    "tags": []
   },
   "outputs": [],
   "source": [
    "stop_words.extend([\"man\", \"take\", \"watch\", \"hand\", \"sit\", \"tell\", \"begging\", \"know\", \"head\", \"covered\",\n",
    "    \"better\", \"died\", \"still\", \"left\", \"got\", \"cut\", \"ya\", \"evermore\", \"making\", \"goes\",\n",
    "    \"sorry\", \"behind\", \"lost\", \"light\", \"go\", \"things\", \"ah\", \"yeah\", \"story\", \"long\",\n",
    "    \"keep\", \"bad\", \"time\", \"like\", \"love\", \"never\", \"could\", \"gold\", \"everybody\", \"one\",\n",
    "    \"gonna\", \"wants\", \"way\", \"thing\", \"prove\", \"sometimes\", \"think\", \"body\", \"day\", \"good\",\n",
    "    \"call\", \"find\"])"
   ]
  },
  {
   "cell_type": "code",
   "execution_count": 13,
   "id": "6256c5c1-7ad2-4053-86fd-f5650c302d99",
   "metadata": {
    "tags": []
   },
   "outputs": [],
   "source": [
    "vectorizer = TfidfVectorizer(stop_words = stop_words, min_df = 0.1)"
   ]
  },
  {
   "cell_type": "code",
   "execution_count": 14,
   "id": "8932c348-d02f-4a37-94d5-67e9e1d53a18",
   "metadata": {
    "tags": []
   },
   "outputs": [],
   "source": [
    "tfidf = vectorizer.fit_transform(songs['lyric'])"
   ]
  },
  {
   "cell_type": "code",
   "execution_count": 15,
   "id": "22ec696a-b676-439e-89ee-274c9a68e468",
   "metadata": {
    "tags": []
   },
   "outputs": [],
   "source": [
    "from sklearn.decomposition import NMF"
   ]
  },
  {
   "cell_type": "code",
   "execution_count": 16,
   "id": "713c0930-064b-46b9-ba77-2ef0b3b08f60",
   "metadata": {
    "tags": []
   },
   "outputs": [],
   "source": [
    "nmf = NMF(n_components = 6)"
   ]
  },
  {
   "cell_type": "code",
   "execution_count": 17,
   "id": "9bdacb74-a19f-4aac-ae74-48feeb346f6d",
   "metadata": {
    "tags": []
   },
   "outputs": [],
   "source": [
    "topic_values = nmf.fit_transform(tfidf)"
   ]
  },
  {
   "cell_type": "code",
   "execution_count": 18,
   "id": "4960ddd1-de48-47d4-b7e6-b21b83d22a01",
   "metadata": {
    "tags": []
   },
   "outputs": [
    {
     "name": "stdout",
     "output_type": "stream",
     "text": [
      "Topic #1: right bone say soul giving run home pushed tears else\n",
      "Topic #2: stay around taken write asked looks real kind always hometown\n",
      "Topic #3: leave dancing made hurt give standing ring eyes met see\n",
      "Topic #4: pain stone oh house goddamn waves mine get sure die\n",
      "Topic #5: ever stars anything takes thought wanna eyes known hey well\n",
      "Topic #6: much shit wrong door fancy lay best wait cause would\n"
     ]
    }
   ],
   "source": [
    "for topic_num, topic in enumerate(nmf.components_):\n",
    "    message = \"Topic #{}: \".format(topic_num + 1)\n",
    "    message += \" \".join([vectorizer.get_feature_names_out()[i] for i in topic.argsort()[:-11 :-1]])\n",
    "    print(message)\n",
    "    "
   ]
  },
  {
   "cell_type": "code",
   "execution_count": 19,
   "id": "1a867000-1b07-4044-8d2d-fe2e9bd0d159",
   "metadata": {
    "tags": []
   },
   "outputs": [],
   "source": [
    "topic_labels = ['struggle', 'nostalgia', 'emotional experience', 'suffering', 'reflection', 'frustration']"
   ]
  },
  {
   "cell_type": "code",
   "execution_count": 20,
   "id": "3f1141fe-2105-4248-8860-3b6f11a12d23",
   "metadata": {
    "tags": []
   },
   "outputs": [
    {
     "data": {
      "text/html": [
       "<div>\n",
       "<style scoped>\n",
       "    .dataframe tbody tr th:only-of-type {\n",
       "        vertical-align: middle;\n",
       "    }\n",
       "\n",
       "    .dataframe tbody tr th {\n",
       "        vertical-align: top;\n",
       "    }\n",
       "\n",
       "    .dataframe thead th {\n",
       "        text-align: right;\n",
       "    }\n",
       "</style>\n",
       "<table border=\"1\" class=\"dataframe\">\n",
       "  <thead>\n",
       "    <tr style=\"text-align: right;\">\n",
       "      <th></th>\n",
       "      <th>struggle</th>\n",
       "      <th>nostalgia</th>\n",
       "      <th>emotional experience</th>\n",
       "      <th>suffering</th>\n",
       "      <th>reflection</th>\n",
       "      <th>frustration</th>\n",
       "    </tr>\n",
       "  </thead>\n",
       "  <tbody>\n",
       "    <tr>\n",
       "      <th>0</th>\n",
       "      <td>0.000000</td>\n",
       "      <td>0.000000</td>\n",
       "      <td>0.612351</td>\n",
       "      <td>0.000000</td>\n",
       "      <td>0.000000</td>\n",
       "      <td>0.000000</td>\n",
       "    </tr>\n",
       "    <tr>\n",
       "      <th>1</th>\n",
       "      <td>0.000000</td>\n",
       "      <td>0.000000</td>\n",
       "      <td>0.000000</td>\n",
       "      <td>0.016843</td>\n",
       "      <td>0.701328</td>\n",
       "      <td>0.009721</td>\n",
       "    </tr>\n",
       "    <tr>\n",
       "      <th>2</th>\n",
       "      <td>0.213109</td>\n",
       "      <td>0.000000</td>\n",
       "      <td>0.046096</td>\n",
       "      <td>0.000000</td>\n",
       "      <td>0.169594</td>\n",
       "      <td>0.000000</td>\n",
       "    </tr>\n",
       "    <tr>\n",
       "      <th>3</th>\n",
       "      <td>0.343886</td>\n",
       "      <td>0.000000</td>\n",
       "      <td>0.000000</td>\n",
       "      <td>0.000000</td>\n",
       "      <td>0.000000</td>\n",
       "      <td>0.000000</td>\n",
       "    </tr>\n",
       "    <tr>\n",
       "      <th>4</th>\n",
       "      <td>0.108809</td>\n",
       "      <td>0.021144</td>\n",
       "      <td>0.400327</td>\n",
       "      <td>0.000000</td>\n",
       "      <td>0.017598</td>\n",
       "      <td>0.000000</td>\n",
       "    </tr>\n",
       "    <tr>\n",
       "      <th>5</th>\n",
       "      <td>0.000000</td>\n",
       "      <td>0.000000</td>\n",
       "      <td>0.020528</td>\n",
       "      <td>0.000000</td>\n",
       "      <td>0.745705</td>\n",
       "      <td>0.000000</td>\n",
       "    </tr>\n",
       "    <tr>\n",
       "      <th>6</th>\n",
       "      <td>0.006374</td>\n",
       "      <td>0.000000</td>\n",
       "      <td>0.000000</td>\n",
       "      <td>0.542465</td>\n",
       "      <td>0.000000</td>\n",
       "      <td>0.000000</td>\n",
       "    </tr>\n",
       "    <tr>\n",
       "      <th>7</th>\n",
       "      <td>0.043357</td>\n",
       "      <td>0.000000</td>\n",
       "      <td>0.054108</td>\n",
       "      <td>0.029704</td>\n",
       "      <td>0.008804</td>\n",
       "      <td>0.530469</td>\n",
       "    </tr>\n",
       "    <tr>\n",
       "      <th>8</th>\n",
       "      <td>0.000000</td>\n",
       "      <td>0.000000</td>\n",
       "      <td>0.620667</td>\n",
       "      <td>0.010606</td>\n",
       "      <td>0.008859</td>\n",
       "      <td>0.014042</td>\n",
       "    </tr>\n",
       "    <tr>\n",
       "      <th>9</th>\n",
       "      <td>0.301585</td>\n",
       "      <td>0.020953</td>\n",
       "      <td>0.019045</td>\n",
       "      <td>0.000000</td>\n",
       "      <td>0.000000</td>\n",
       "      <td>0.000000</td>\n",
       "    </tr>\n",
       "    <tr>\n",
       "      <th>10</th>\n",
       "      <td>0.000000</td>\n",
       "      <td>0.000000</td>\n",
       "      <td>0.000000</td>\n",
       "      <td>0.614208</td>\n",
       "      <td>0.009161</td>\n",
       "      <td>0.000000</td>\n",
       "    </tr>\n",
       "    <tr>\n",
       "      <th>11</th>\n",
       "      <td>0.247958</td>\n",
       "      <td>0.000000</td>\n",
       "      <td>0.000000</td>\n",
       "      <td>0.000000</td>\n",
       "      <td>0.020570</td>\n",
       "      <td>0.278490</td>\n",
       "    </tr>\n",
       "    <tr>\n",
       "      <th>12</th>\n",
       "      <td>0.000000</td>\n",
       "      <td>0.587212</td>\n",
       "      <td>0.000000</td>\n",
       "      <td>0.000000</td>\n",
       "      <td>0.000000</td>\n",
       "      <td>0.000000</td>\n",
       "    </tr>\n",
       "    <tr>\n",
       "      <th>13</th>\n",
       "      <td>0.000619</td>\n",
       "      <td>0.027282</td>\n",
       "      <td>0.067213</td>\n",
       "      <td>0.397136</td>\n",
       "      <td>0.000000</td>\n",
       "      <td>0.049016</td>\n",
       "    </tr>\n",
       "    <tr>\n",
       "      <th>14</th>\n",
       "      <td>0.283616</td>\n",
       "      <td>0.145507</td>\n",
       "      <td>0.011941</td>\n",
       "      <td>0.066840</td>\n",
       "      <td>0.033353</td>\n",
       "      <td>0.000000</td>\n",
       "    </tr>\n",
       "    <tr>\n",
       "      <th>15</th>\n",
       "      <td>0.000000</td>\n",
       "      <td>0.000000</td>\n",
       "      <td>0.000000</td>\n",
       "      <td>0.000000</td>\n",
       "      <td>0.000000</td>\n",
       "      <td>0.822956</td>\n",
       "    </tr>\n",
       "    <tr>\n",
       "      <th>16</th>\n",
       "      <td>0.000000</td>\n",
       "      <td>0.449683</td>\n",
       "      <td>0.036710</td>\n",
       "      <td>0.056794</td>\n",
       "      <td>0.076127</td>\n",
       "      <td>0.000000</td>\n",
       "    </tr>\n",
       "  </tbody>\n",
       "</table>\n",
       "</div>"
      ],
      "text/plain": [
       "    struggle  nostalgia  emotional experience  suffering  reflection  \\\n",
       "0   0.000000   0.000000              0.612351   0.000000    0.000000   \n",
       "1   0.000000   0.000000              0.000000   0.016843    0.701328   \n",
       "2   0.213109   0.000000              0.046096   0.000000    0.169594   \n",
       "3   0.343886   0.000000              0.000000   0.000000    0.000000   \n",
       "4   0.108809   0.021144              0.400327   0.000000    0.017598   \n",
       "5   0.000000   0.000000              0.020528   0.000000    0.745705   \n",
       "6   0.006374   0.000000              0.000000   0.542465    0.000000   \n",
       "7   0.043357   0.000000              0.054108   0.029704    0.008804   \n",
       "8   0.000000   0.000000              0.620667   0.010606    0.008859   \n",
       "9   0.301585   0.020953              0.019045   0.000000    0.000000   \n",
       "10  0.000000   0.000000              0.000000   0.614208    0.009161   \n",
       "11  0.247958   0.000000              0.000000   0.000000    0.020570   \n",
       "12  0.000000   0.587212              0.000000   0.000000    0.000000   \n",
       "13  0.000619   0.027282              0.067213   0.397136    0.000000   \n",
       "14  0.283616   0.145507              0.011941   0.066840    0.033353   \n",
       "15  0.000000   0.000000              0.000000   0.000000    0.000000   \n",
       "16  0.000000   0.449683              0.036710   0.056794    0.076127   \n",
       "\n",
       "    frustration  \n",
       "0      0.000000  \n",
       "1      0.009721  \n",
       "2      0.000000  \n",
       "3      0.000000  \n",
       "4      0.000000  \n",
       "5      0.000000  \n",
       "6      0.000000  \n",
       "7      0.530469  \n",
       "8      0.014042  \n",
       "9      0.000000  \n",
       "10     0.000000  \n",
       "11     0.278490  \n",
       "12     0.000000  \n",
       "13     0.049016  \n",
       "14     0.000000  \n",
       "15     0.822956  \n",
       "16     0.000000  "
      ]
     },
     "execution_count": 20,
     "metadata": {},
     "output_type": "execute_result"
    }
   ],
   "source": [
    "df_topics = pd.DataFrame(topic_values, columns = topic_labels)\n",
    "df_topics"
   ]
  },
  {
   "cell_type": "code",
   "execution_count": 21,
   "id": "c3b4a156-9ff6-4cd0-af76-2f632ec1e47e",
   "metadata": {
    "tags": []
   },
   "outputs": [],
   "source": [
    "songs = songs.join(df_topics)"
   ]
  },
  {
   "cell_type": "code",
   "execution_count": 22,
   "id": "c8deded5-faa4-47a5-b542-22656de9dada",
   "metadata": {
    "tags": []
   },
   "outputs": [],
   "source": [
    "#topic is in\n",
    "songs.loc[songs['struggle'] >= 0.1, 'struggle'] = 1\n",
    "songs.loc[songs['nostalgia'] >= 0.1, 'nostalgia'] = 1\n",
    "songs.loc[songs['emotional experience'] >= 0.1, 'emotional experience'] = 1\n",
    "songs.loc[songs['suffering'] >= 0.1, 'suffering'] = 1\n",
    "songs.loc[songs['reflection'] >= 0.1, 'reflection'] = 1\n",
    "songs.loc[songs['frustration'] >= 0.1, 'frustration'] = 1"
   ]
  },
  {
   "cell_type": "code",
   "execution_count": 23,
   "id": "cb147a2a-7a75-401e-8a69-ddc61c820e45",
   "metadata": {
    "tags": []
   },
   "outputs": [],
   "source": [
    "#topic is out\n",
    "songs.loc[songs['struggle'] < 0.1, 'struggle'] = 0\n",
    "songs.loc[songs['nostalgia'] < 0.1, 'nostalgia'] = 0\n",
    "songs.loc[songs['emotional experience'] < 0.1, 'emotional experience'] = 0\n",
    "songs.loc[songs['suffering'] < 0.1, 'suffering'] = 0\n",
    "songs.loc[songs['reflection'] < 0.1, 'reflection'] = 0\n",
    "songs.loc[songs['frustration'] < 0.1, 'frustration'] = 0"
   ]
  },
  {
   "cell_type": "code",
   "execution_count": 24,
   "id": "cd60301b-ae63-4f27-a515-d3356c269f2c",
   "metadata": {
    "tags": []
   },
   "outputs": [],
   "source": [
    "songs_csv = songs.to_csv('topics/evermore_topics.csv')"
   ]
  },
  {
   "cell_type": "code",
   "execution_count": null,
   "id": "69e13cea-46c2-4e0e-8c5d-a54780b9c899",
   "metadata": {},
   "outputs": [],
   "source": []
  }
 ],
 "metadata": {
  "kernelspec": {
   "display_name": "Python 3 (ipykernel)",
   "language": "python",
   "name": "python3"
  },
  "language_info": {
   "codemirror_mode": {
    "name": "ipython",
    "version": 3
   },
   "file_extension": ".py",
   "mimetype": "text/x-python",
   "name": "python",
   "nbconvert_exporter": "python",
   "pygments_lexer": "ipython3",
   "version": "3.11.9"
  }
 },
 "nbformat": 4,
 "nbformat_minor": 5
}
