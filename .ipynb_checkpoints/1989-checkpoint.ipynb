{
 "cells": [
  {
   "cell_type": "code",
   "execution_count": 1,
   "id": "97e6ea5f-1a85-4e74-8699-5928416c0ebb",
   "metadata": {
    "tags": []
   },
   "outputs": [],
   "source": [
    "import pandas as pd"
   ]
  },
  {
   "cell_type": "code",
   "execution_count": 2,
   "id": "746c4892-2610-4639-a719-48a93e7bd6d9",
   "metadata": {
    "tags": []
   },
   "outputs": [],
   "source": [
    "df = pd.read_csv('corpus/red_lyrics.csv', encoding = 'latin-1')"
   ]
  },
  {
   "cell_type": "code",
   "execution_count": 3,
   "id": "64cf3082-b3d5-4d58-aa89-68f7b01e0e8c",
   "metadata": {
    "tags": []
   },
   "outputs": [
    {
     "data": {
      "text/html": [
       "<div>\n",
       "<style scoped>\n",
       "    .dataframe tbody tr th:only-of-type {\n",
       "        vertical-align: middle;\n",
       "    }\n",
       "\n",
       "    .dataframe tbody tr th {\n",
       "        vertical-align: top;\n",
       "    }\n",
       "\n",
       "    .dataframe thead th {\n",
       "        text-align: right;\n",
       "    }\n",
       "</style>\n",
       "<table border=\"1\" class=\"dataframe\">\n",
       "  <thead>\n",
       "    <tr style=\"text-align: right;\">\n",
       "      <th></th>\n",
       "      <th>ï»¿album_name</th>\n",
       "      <th>track_title</th>\n",
       "      <th>track_n</th>\n",
       "      <th>lyric</th>\n",
       "      <th>line</th>\n",
       "    </tr>\n",
       "  </thead>\n",
       "  <tbody>\n",
       "    <tr>\n",
       "      <th>0</th>\n",
       "      <td>Red (Deluxe Edition)</td>\n",
       "      <td>State of Grace</td>\n",
       "      <td>1</td>\n",
       "      <td>I'm walking fast through the traffic lights</td>\n",
       "      <td>1</td>\n",
       "    </tr>\n",
       "    <tr>\n",
       "      <th>1</th>\n",
       "      <td>Red (Deluxe Edition)</td>\n",
       "      <td>State of Grace</td>\n",
       "      <td>1</td>\n",
       "      <td>Busy streets and busy lives</td>\n",
       "      <td>2</td>\n",
       "    </tr>\n",
       "    <tr>\n",
       "      <th>2</th>\n",
       "      <td>Red (Deluxe Edition)</td>\n",
       "      <td>State of Grace</td>\n",
       "      <td>1</td>\n",
       "      <td>And all we know is touch and go</td>\n",
       "      <td>3</td>\n",
       "    </tr>\n",
       "    <tr>\n",
       "      <th>3</th>\n",
       "      <td>Red (Deluxe Edition)</td>\n",
       "      <td>State of Grace</td>\n",
       "      <td>1</td>\n",
       "      <td>We are alone with our changing minds</td>\n",
       "      <td>4</td>\n",
       "    </tr>\n",
       "    <tr>\n",
       "      <th>4</th>\n",
       "      <td>Red (Deluxe Edition)</td>\n",
       "      <td>State of Grace</td>\n",
       "      <td>1</td>\n",
       "      <td>We fall in love 'til it hurts or bleeds</td>\n",
       "      <td>5</td>\n",
       "    </tr>\n",
       "  </tbody>\n",
       "</table>\n",
       "</div>"
      ],
      "text/plain": [
       "          ï»¿album_name     track_title  track_n  \\\n",
       "0  Red (Deluxe Edition)  State of Grace        1   \n",
       "1  Red (Deluxe Edition)  State of Grace        1   \n",
       "2  Red (Deluxe Edition)  State of Grace        1   \n",
       "3  Red (Deluxe Edition)  State of Grace        1   \n",
       "4  Red (Deluxe Edition)  State of Grace        1   \n",
       "\n",
       "                                         lyric  line  \n",
       "0  I'm walking fast through the traffic lights     1  \n",
       "1                  Busy streets and busy lives     2  \n",
       "2              And all we know is touch and go     3  \n",
       "3         We are alone with our changing minds     4  \n",
       "4      We fall in love 'til it hurts or bleeds     5  "
      ]
     },
     "execution_count": 3,
     "metadata": {},
     "output_type": "execute_result"
    }
   ],
   "source": [
    "df.head()"
   ]
  },
  {
   "cell_type": "code",
   "execution_count": 4,
   "id": "e9db7d36-aa96-41e2-affd-92f8898879d4",
   "metadata": {
    "tags": []
   },
   "outputs": [],
   "source": [
    "songs = df.groupby('track_title').agg({'lyric': lambda x: \" \".join(x)}).reset_index()"
   ]
  },
  {
   "cell_type": "code",
   "execution_count": 5,
   "id": "68a335b2-a9a0-4dfc-a507-022830c1a0a1",
   "metadata": {
    "tags": []
   },
   "outputs": [],
   "source": [
    "pd.options.display.max_colwidth = 5000"
   ]
  },
  {
   "cell_type": "code",
   "execution_count": 6,
   "id": "31569bd5-35b9-4761-bc63-7d28af52e79e",
   "metadata": {
    "tags": []
   },
   "outputs": [
    {
     "data": {
      "text/html": [
       "<div>\n",
       "<style scoped>\n",
       "    .dataframe tbody tr th:only-of-type {\n",
       "        vertical-align: middle;\n",
       "    }\n",
       "\n",
       "    .dataframe tbody tr th {\n",
       "        vertical-align: top;\n",
       "    }\n",
       "\n",
       "    .dataframe thead th {\n",
       "        text-align: right;\n",
       "    }\n",
       "</style>\n",
       "<table border=\"1\" class=\"dataframe\">\n",
       "  <thead>\n",
       "    <tr style=\"text-align: right;\">\n",
       "      <th></th>\n",
       "      <th>track_title</th>\n",
       "      <th>lyric</th>\n",
       "    </tr>\n",
       "  </thead>\n",
       "  <tbody>\n",
       "    <tr>\n",
       "      <th>0</th>\n",
       "      <td>22</td>\n",
       "      <td>It feels like a perfect night To dress up like hipsters And make fun of our exes, uh-uh, uh-uh It feels like a perfect night For breakfast at midnight To fall in love with strangers, uh-uh, uh-uh Yeah We're happy, free, confused, and lonely at the same time It's miserable and magical, oh, yeah Tonight's the night when we forget about the deadlines It's time, oh-oh I don't know about you, but I'm feeling 22 Everything will be alright if you keep me next to you You don't know about me, but I'll bet you want to Everything will be alright if we just keep dancing like we're 22, 22 It seems like one of those nights This place is too crowded Too many cool kids, uh-uh, uh-uh (Who's Taylor Swift, anyway? Ew) It seems like one of those nights We ditch the whole scene And end up dreaming Instead of sleeping Joeboy 'Sip (Alcohol)' Official Lyrics &amp; Meaning | Verified Yeah We're happy, free, confused, and lonely in the best way It's miserable and magical, oh, yeah Tonight's the night when we forget about the heartbreaks It's time, oh-oh (Hey!) I don't know about you, but I'm feeling 22 Everything will be alright (Ooh) if you keep me next to you You don't know about me, but I'll bet you want to Everything will be alright if (Alright) We just keep dancing like we're 22 (Oh, oh, oh, oh, oh) 22 (I don't know about you) 22, 22 It feels like one of those nights We ditch the whole scene It feels like one of those nights We won't be sleeping It feels like one of those nights You look like bad news I gotta have you I gotta have you Ooh, ooh, yeah (Hey!) I don't know about you, but I'm feeling 22 Everything will be alright if (Ooh) you keep me next to you You don't know about me, but I'll bet you want to Everything will be alright if we just keep dancing like we're 22 (Whoa, oh) 22 (Dancing like) 22 (Yeah, yeah), 22, (Yeah, yeah, yeah) It feels like one of those nights We ditch the whole scene It feels like one of those nights We won't be sleeping It feels like one of those nights You look like bad news I gotta have you I gotta have you</td>\n",
       "    </tr>\n",
       "    <tr>\n",
       "      <th>1</th>\n",
       "      <td>All Too Well</td>\n",
       "      <td>I walked through the door with you, the air was cold But something 'bout it felt like home somehow And I left my scarf there at your sister's house And you've still got it in your drawer, even now Oh, your sweet disposition and my wide-eyed gaze We're singing in the car, getting lost upstate Autumn leaves falling down like pieces into place And I can picture it after all these days And I know it's long gone and That magic's not here no more And I might be okay, but I'm not fine at all Oh, oh, oh 'Cause there we are again on that little town street You almost ran the red 'cause you were lookin' over at me Wind in my hair, I was there I remember it all too well Photo album on the counter, your cheeks were turning red You used to be a little kid with glasses in a twin-sized bed And your mother's telling stories 'bout you on the tee-ball team You tell me 'bout your past, thinking your future was me And I know it's long gone and There was nothing else I could do And I forget about you long enough To forget why I needed to 'Cause there we are again in the middle of the night We're dancing âround the kitchen in the refrigerator light Down the stairs, I was there I remember it all too well, yeah Maybe we got lost in translation Maybe I asked for too much But maybe this thing was a masterpiece 'Til you tore it all up Running scared, I was there I remember it all too well And you call me up again Just to break me like a promise So casually cruel in the name of being honest I'm a crumpled up piece of paper lying here 'Cause I remember it all, all, all Too well Time won't fly, it's like I'm paralyzed by it I'd like to be my old self again, but I'm still trying to find it After plaid shirt days and nights when you made me your own Now you mail back my things and I walk home alone But you keep my old scarf from that very first week 'Cause it reminds you of innocence and it smells like me You can't get rid of it 'Cause you remember it all too well, yeah 'Cause there we are again when I loved you so Back before you lost the one real thing you've ever known It was rare, I was there I remember it all too well Wind in my hair, you were there You remember it all Down the stairs, you were there You remember it all It was rare, I was there I remember it all too well</td>\n",
       "    </tr>\n",
       "    <tr>\n",
       "      <th>2</th>\n",
       "      <td>Begin Again</td>\n",
       "      <td>Took a deep breath in the mirror He didn't like it when I wore high heels, but I do Turn the lock and put my headphones on He always said he didn't get this song but I do, I do Walked in, expecting you'd be late But you got here early and you stand and wave I walk to you You pull my chair out and help me in And you don't know how nice that is, but I do And you throw your head back laughing like a little kid I think it's strange that you think I'm funny 'cause he never did I've been spending the last eight months Thinking all love ever does is break and burn and end But on a Wednesday in a cafÃ©, I watched it begin again You said you never met one girl who Had as many James Taylor records as you, but I do We tell stories and you don't know why I'm coming off a little shy, but I do But you throw your head back laughing like a little kid I think it's strange that you think I'm funny 'cause he never did I've been spending the last eight months Thinking all love ever does is break and burn and end But on a Wednesday in a cafÃ©, I watched it begin again And we walked down the block to my car And I almost brought him up But you start to talk about the movies That your family watches every single Christmas And I want to talk about that And for the first time, what's past is past 'Cause you throw your head back laughing like a little kid I think it's strange that you think I'm funny 'cause he never did I've been spending the last eight months Thinking all love ever does is break and burn and end But on a Wednesday in a cafÃ©, I watched it begin again But on a Wednesday in a cafÃ©, I watched it begin again</td>\n",
       "    </tr>\n",
       "    <tr>\n",
       "      <th>3</th>\n",
       "      <td>Come Back... Be Here</td>\n",
       "      <td>You said it in a simple way 4 AM, the second day How strange that I don't know you at all Stumbled through the long goodbye One last kiss, then catch your flight Right when I was just about to fall I told myself, don't get attached But in my mind, I play it back Spinning faster than the plane that took you And this is when the feeling sinks in I don't wanna miss you like this Come back, be here, come back, be here I guess you're in New York today I don't wanna need you this way Come back, be here, come back, be here The delicate beginning rush The feeling you can know so much Without knowing anything at all And now that I can put this down If I had known what I know now I never would've played so nonchalant Taxi cabs and busy streets That never bring you back to me I can't help but wish you took me with you And this is when the feeling sinks in I don't wanna miss you like this Come back, be here, come back, be here I guess you're in London today And I don't wanna need you this way Come back, be here, come back, be here This is falling in love in the cruelest way This is falling for you when you are worlds away In New York, be here But you're in London, and I break down 'Cause it's not fair that you're not around This is when the feeling sinks in I don't wanna miss you like this Come back, be here, come back, be here I guess you're in New York today And I don't wanna need you this way Come back, be here, come back, be here Oh-oh, oh-oh I don't wanna miss you like this Oh-oh, oh-oh Come back, be here Come back, be here</td>\n",
       "    </tr>\n",
       "    <tr>\n",
       "      <th>4</th>\n",
       "      <td>Everything Has Changed</td>\n",
       "      <td>All I knew this morning when I woke Is I know something now Know something now I didn't before And all I've seen since 18 hours ago Is green eyes and freckles and your smile In the back of my mind, making me feel like I just wanna know you better Know you better, know you better now I just wanna know you better Know you better, know you better now I just wanna know you better Know you better, know you better now I just wanna know you, know you, know you 'Cause all I know is we said, \"Hello\" And your eyes look like coming home All I know is a simple name Everything has changed All I know is you held the door You'll be mine and I'll be yours All I know since yesterday Is everything has changed And all my walls stood tall, painted blue And I'll take 'em down, take 'em down And open up the door for you And all I feel in my stomach is butterflies The beautiful kind, making up for lost time Taking flight, making me feel right I just wanna know you better Know you better, know you better now I just wanna know you better Know you better, know you better now I just wanna know you better Know you better, know you better now I just wanna know you, know you, know you 'Cause all I know is we said, \"Hello\" And your eyes look like coming home All I know is a simple name Everything has changed All I know is you held the door You'll be mine and I'll be yours All I know since yesterday Is everything has changed Come back and tell me why I'm feeling like I've missed you all this time And meet me there tonight And let me know that it's not all in my mind I just wanna know you better Know you better, know you better now I just wanna know you, know you, know you 'Cause all I know is we said, \"Hello\" And your eyes look like coming home All I know is a simple name Everything has changed All I know is you held the door You'll be mine and I'll be yours All I know since yesterday Is everything has changed All I know is we said, \"Hello\" So dust off your highest hopes All I know is pouring rain And everything has changed All I know is a new found grace All my days, I'll know your face All I know since yesterday Is everything has changed</td>\n",
       "    </tr>\n",
       "  </tbody>\n",
       "</table>\n",
       "</div>"
      ],
      "text/plain": [
       "              track_title  \\\n",
       "0                      22   \n",
       "1            All Too Well   \n",
       "2             Begin Again   \n",
       "3    Come Back... Be Here   \n",
       "4  Everything Has Changed   \n",
       "\n",
       "                                                                                                                                                                                                                                                                                                                                                                                                                                                                                                                                                                                                                                                                                                                                                                                                                                                                                                                                                                                                                                                                                                                                                                                                                                                                                                                                                                                                                                                                                                                                                                                                                                                                                                                                                                                                                                                                                                                                                                                                                                                                                                                                                                                                                                                                                                                                                                            lyric  \n",
       "0                                                                                                                                                                                                                                               It feels like a perfect night To dress up like hipsters And make fun of our exes, uh-uh, uh-uh It feels like a perfect night For breakfast at midnight To fall in love with strangers, uh-uh, uh-uh Yeah We're happy, free, confused, and lonely at the same time It's miserable and magical, oh, yeah Tonight's the night when we forget about the deadlines It's time, oh-oh I don't know about you, but I'm feeling 22 Everything will be alright if you keep me next to you You don't know about me, but I'll bet you want to Everything will be alright if we just keep dancing like we're 22, 22 It seems like one of those nights This place is too crowded Too many cool kids, uh-uh, uh-uh (Who's Taylor Swift, anyway? Ew) It seems like one of those nights We ditch the whole scene And end up dreaming Instead of sleeping Joeboy 'Sip (Alcohol)' Official Lyrics & Meaning | Verified Yeah We're happy, free, confused, and lonely in the best way It's miserable and magical, oh, yeah Tonight's the night when we forget about the heartbreaks It's time, oh-oh (Hey!) I don't know about you, but I'm feeling 22 Everything will be alright (Ooh) if you keep me next to you You don't know about me, but I'll bet you want to Everything will be alright if (Alright) We just keep dancing like we're 22 (Oh, oh, oh, oh, oh) 22 (I don't know about you) 22, 22 It feels like one of those nights We ditch the whole scene It feels like one of those nights We won't be sleeping It feels like one of those nights You look like bad news I gotta have you I gotta have you Ooh, ooh, yeah (Hey!) I don't know about you, but I'm feeling 22 Everything will be alright if (Ooh) you keep me next to you You don't know about me, but I'll bet you want to Everything will be alright if we just keep dancing like we're 22 (Whoa, oh) 22 (Dancing like) 22 (Yeah, yeah), 22, (Yeah, yeah, yeah) It feels like one of those nights We ditch the whole scene It feels like one of those nights We won't be sleeping It feels like one of those nights You look like bad news I gotta have you I gotta have you  \n",
       "1  I walked through the door with you, the air was cold But something 'bout it felt like home somehow And I left my scarf there at your sister's house And you've still got it in your drawer, even now Oh, your sweet disposition and my wide-eyed gaze We're singing in the car, getting lost upstate Autumn leaves falling down like pieces into place And I can picture it after all these days And I know it's long gone and That magic's not here no more And I might be okay, but I'm not fine at all Oh, oh, oh 'Cause there we are again on that little town street You almost ran the red 'cause you were lookin' over at me Wind in my hair, I was there I remember it all too well Photo album on the counter, your cheeks were turning red You used to be a little kid with glasses in a twin-sized bed And your mother's telling stories 'bout you on the tee-ball team You tell me 'bout your past, thinking your future was me And I know it's long gone and There was nothing else I could do And I forget about you long enough To forget why I needed to 'Cause there we are again in the middle of the night We're dancing âround the kitchen in the refrigerator light Down the stairs, I was there I remember it all too well, yeah Maybe we got lost in translation Maybe I asked for too much But maybe this thing was a masterpiece 'Til you tore it all up Running scared, I was there I remember it all too well And you call me up again Just to break me like a promise So casually cruel in the name of being honest I'm a crumpled up piece of paper lying here 'Cause I remember it all, all, all Too well Time won't fly, it's like I'm paralyzed by it I'd like to be my old self again, but I'm still trying to find it After plaid shirt days and nights when you made me your own Now you mail back my things and I walk home alone But you keep my old scarf from that very first week 'Cause it reminds you of innocence and it smells like me You can't get rid of it 'Cause you remember it all too well, yeah 'Cause there we are again when I loved you so Back before you lost the one real thing you've ever known It was rare, I was there I remember it all too well Wind in my hair, you were there You remember it all Down the stairs, you were there You remember it all It was rare, I was there I remember it all too well  \n",
       "2                                                                                                                                                                                                                                                                                                                                                                                                                                                                                                                                                                                                                                                                                         Took a deep breath in the mirror He didn't like it when I wore high heels, but I do Turn the lock and put my headphones on He always said he didn't get this song but I do, I do Walked in, expecting you'd be late But you got here early and you stand and wave I walk to you You pull my chair out and help me in And you don't know how nice that is, but I do And you throw your head back laughing like a little kid I think it's strange that you think I'm funny 'cause he never did I've been spending the last eight months Thinking all love ever does is break and burn and end But on a Wednesday in a cafÃ©, I watched it begin again You said you never met one girl who Had as many James Taylor records as you, but I do We tell stories and you don't know why I'm coming off a little shy, but I do But you throw your head back laughing like a little kid I think it's strange that you think I'm funny 'cause he never did I've been spending the last eight months Thinking all love ever does is break and burn and end But on a Wednesday in a cafÃ©, I watched it begin again And we walked down the block to my car And I almost brought him up But you start to talk about the movies That your family watches every single Christmas And I want to talk about that And for the first time, what's past is past 'Cause you throw your head back laughing like a little kid I think it's strange that you think I'm funny 'cause he never did I've been spending the last eight months Thinking all love ever does is break and burn and end But on a Wednesday in a cafÃ©, I watched it begin again But on a Wednesday in a cafÃ©, I watched it begin again  \n",
       "3                                                                                                                                                                                                                                                                                                                                                                                                                                                                                                                                                                                                                                                                                                                                                                          You said it in a simple way 4 AM, the second day How strange that I don't know you at all Stumbled through the long goodbye One last kiss, then catch your flight Right when I was just about to fall I told myself, don't get attached But in my mind, I play it back Spinning faster than the plane that took you And this is when the feeling sinks in I don't wanna miss you like this Come back, be here, come back, be here I guess you're in New York today I don't wanna need you this way Come back, be here, come back, be here The delicate beginning rush The feeling you can know so much Without knowing anything at all And now that I can put this down If I had known what I know now I never would've played so nonchalant Taxi cabs and busy streets That never bring you back to me I can't help but wish you took me with you And this is when the feeling sinks in I don't wanna miss you like this Come back, be here, come back, be here I guess you're in London today And I don't wanna need you this way Come back, be here, come back, be here This is falling in love in the cruelest way This is falling for you when you are worlds away In New York, be here But you're in London, and I break down 'Cause it's not fair that you're not around This is when the feeling sinks in I don't wanna miss you like this Come back, be here, come back, be here I guess you're in New York today And I don't wanna need you this way Come back, be here, come back, be here Oh-oh, oh-oh I don't wanna miss you like this Oh-oh, oh-oh Come back, be here Come back, be here  \n",
       "4                                                                                                                                               All I knew this morning when I woke Is I know something now Know something now I didn't before And all I've seen since 18 hours ago Is green eyes and freckles and your smile In the back of my mind, making me feel like I just wanna know you better Know you better, know you better now I just wanna know you better Know you better, know you better now I just wanna know you better Know you better, know you better now I just wanna know you, know you, know you 'Cause all I know is we said, \"Hello\" And your eyes look like coming home All I know is a simple name Everything has changed All I know is you held the door You'll be mine and I'll be yours All I know since yesterday Is everything has changed And all my walls stood tall, painted blue And I'll take 'em down, take 'em down And open up the door for you And all I feel in my stomach is butterflies The beautiful kind, making up for lost time Taking flight, making me feel right I just wanna know you better Know you better, know you better now I just wanna know you better Know you better, know you better now I just wanna know you better Know you better, know you better now I just wanna know you, know you, know you 'Cause all I know is we said, \"Hello\" And your eyes look like coming home All I know is a simple name Everything has changed All I know is you held the door You'll be mine and I'll be yours All I know since yesterday Is everything has changed Come back and tell me why I'm feeling like I've missed you all this time And meet me there tonight And let me know that it's not all in my mind I just wanna know you better Know you better, know you better now I just wanna know you, know you, know you 'Cause all I know is we said, \"Hello\" And your eyes look like coming home All I know is a simple name Everything has changed All I know is you held the door You'll be mine and I'll be yours All I know since yesterday Is everything has changed All I know is we said, \"Hello\" So dust off your highest hopes All I know is pouring rain And everything has changed All I know is a new found grace All my days, I'll know your face All I know since yesterday Is everything has changed  "
      ]
     },
     "execution_count": 6,
     "metadata": {},
     "output_type": "execute_result"
    }
   ],
   "source": [
    "songs.head()"
   ]
  },
  {
   "cell_type": "code",
   "execution_count": 7,
   "id": "6f551efe-bc7b-4114-b7a1-7624200dc4d1",
   "metadata": {},
   "outputs": [
    {
     "data": {
      "text/plain": [
       "22"
      ]
     },
     "execution_count": 7,
     "metadata": {},
     "output_type": "execute_result"
    }
   ],
   "source": [
    "len(songs)"
   ]
  },
  {
   "cell_type": "code",
   "execution_count": 8,
   "id": "bf324a95-51a8-41f6-9626-4b0deb1c02ff",
   "metadata": {
    "tags": []
   },
   "outputs": [],
   "source": [
    "import sklearn"
   ]
  },
  {
   "cell_type": "code",
   "execution_count": 9,
   "id": "fa6725fc-747b-4e7f-bcc9-4681acdc8d4a",
   "metadata": {
    "tags": []
   },
   "outputs": [],
   "source": [
    "from sklearn.feature_extraction.text import TfidfVectorizer"
   ]
  },
  {
   "cell_type": "code",
   "execution_count": 10,
   "id": "483427a2-e654-4f99-a3ce-46230ea51fb8",
   "metadata": {
    "tags": []
   },
   "outputs": [
    {
     "name": "stderr",
     "output_type": "stream",
     "text": [
      "[nltk_data] Downloading package stopwords to /Users/anita/nltk_data...\n",
      "[nltk_data]   Package stopwords is already up-to-date!\n"
     ]
    },
    {
     "data": {
      "text/plain": [
       "True"
      ]
     },
     "execution_count": 10,
     "metadata": {},
     "output_type": "execute_result"
    }
   ],
   "source": [
    "import nltk\n",
    "from nltk.corpus import stopwords\n",
    "nltk.download('stopwords')"
   ]
  },
  {
   "cell_type": "code",
   "execution_count": 11,
   "id": "3bf82ab4-858c-4275-b776-5237786548cb",
   "metadata": {
    "tags": []
   },
   "outputs": [],
   "source": [
    "stop_words = stopwords.words('english')"
   ]
  },
  {
   "cell_type": "code",
   "execution_count": 12,
   "id": "e263a7e1-5d76-4b9a-9565-fe4e4e109757",
   "metadata": {
    "tags": []
   },
   "outputs": [],
   "source": [
    "stop_words.extend([ \"oh\", \"yeah\", \"got\", \"tell\", \"girl\", \"look\", \"never\", \"coming\", \"good\",\n",
    "    \"play\", \"busy\", \"fight\", \"grace\", \"right\", \"follow\", \"home\", \"nothing\",\n",
    "    \"hope\", \"stay\", \"eye\", \"would\", \"like\", \"loving\", \"trying\", \"missing\",\n",
    "    \"met\", \"head\", \"dancing\", \"made\", \"whole\", \"forget\", \"ever\", \"keep\",\n",
    "    \"wanna\", \"better\", \"almost\", \"back\", \"everything\", \"every\"])"
   ]
  },
  {
   "cell_type": "code",
   "execution_count": 13,
   "id": "6256c5c1-7ad2-4053-86fd-f5650c302d99",
   "metadata": {
    "tags": []
   },
   "outputs": [],
   "source": [
    "vectorizer = TfidfVectorizer(stop_words = stop_words, min_df = 0.1)"
   ]
  },
  {
   "cell_type": "code",
   "execution_count": 14,
   "id": "8932c348-d02f-4a37-94d5-67e9e1d53a18",
   "metadata": {
    "tags": []
   },
   "outputs": [],
   "source": [
    "tfidf = vectorizer.fit_transform(songs['lyric'])"
   ]
  },
  {
   "cell_type": "code",
   "execution_count": 15,
   "id": "22ec696a-b676-439e-89ee-274c9a68e468",
   "metadata": {
    "tags": []
   },
   "outputs": [],
   "source": [
    "from sklearn.decomposition import NMF"
   ]
  },
  {
   "cell_type": "code",
   "execution_count": 16,
   "id": "713c0930-064b-46b9-ba77-2ef0b3b08f60",
   "metadata": {
    "tags": []
   },
   "outputs": [],
   "source": [
    "nmf = NMF(n_components = 6)"
   ]
  },
  {
   "cell_type": "code",
   "execution_count": 17,
   "id": "9bdacb74-a19f-4aac-ae74-48feeb346f6d",
   "metadata": {
    "tags": []
   },
   "outputs": [],
   "source": [
    "topic_values = nmf.fit_transform(tfidf)"
   ]
  },
  {
   "cell_type": "code",
   "execution_count": 18,
   "id": "4960ddd1-de48-47d4-b7e6-b21b83d22a01",
   "metadata": {
    "tags": []
   },
   "outputs": [
    {
     "name": "stdout",
     "output_type": "stream",
     "text": [
      "Topic #1: ooh night place best moved impossible talk things one getting\n",
      "Topic #2: red known blue remember street alone end wind old new\n",
      "Topic #3: iâ love room live wild go loved wrong alone know\n",
      "Topic #4: think get time last asking name away night mind say\n",
      "Topic #5: youâ one know knew call want make say thing feel\n",
      "Topic #6: love gonna tonight stood looking time come lyrics meaning official\n"
     ]
    }
   ],
   "source": [
    "for topic_num, topic in enumerate(nmf.components_):\n",
    "    message = \"Topic #{}: \".format(topic_num + 1)\n",
    "    message += \" \".join([vectorizer.get_feature_names_out()[i] for i in topic.argsort()[:-11 :-1]])\n",
    "    print(message)"
   ]
  },
  {
   "cell_type": "code",
   "execution_count": 19,
   "id": "1a867000-1b07-4044-8d2d-fe2e9bd0d159",
   "metadata": {
    "tags": []
   },
   "outputs": [],
   "source": [
    "topic_labels = ['challenges', 'nostalgia', 'loneliness', 'regret', 'desire', 'music']"
   ]
  },
  {
   "cell_type": "code",
   "execution_count": 20,
   "id": "3f1141fe-2105-4248-8860-3b6f11a12d23",
   "metadata": {
    "tags": []
   },
   "outputs": [
    {
     "data": {
      "text/html": [
       "<div>\n",
       "<style scoped>\n",
       "    .dataframe tbody tr th:only-of-type {\n",
       "        vertical-align: middle;\n",
       "    }\n",
       "\n",
       "    .dataframe tbody tr th {\n",
       "        vertical-align: top;\n",
       "    }\n",
       "\n",
       "    .dataframe thead th {\n",
       "        text-align: right;\n",
       "    }\n",
       "</style>\n",
       "<table border=\"1\" class=\"dataframe\">\n",
       "  <thead>\n",
       "    <tr style=\"text-align: right;\">\n",
       "      <th></th>\n",
       "      <th>challenges</th>\n",
       "      <th>nostalgia</th>\n",
       "      <th>loneliness</th>\n",
       "      <th>regret</th>\n",
       "      <th>desire</th>\n",
       "      <th>music</th>\n",
       "    </tr>\n",
       "  </thead>\n",
       "  <tbody>\n",
       "    <tr>\n",
       "      <th>0</th>\n",
       "      <td>0.216917</td>\n",
       "      <td>0.000000</td>\n",
       "      <td>0.000000</td>\n",
       "      <td>0.000000</td>\n",
       "      <td>0.416247</td>\n",
       "      <td>0.142122</td>\n",
       "    </tr>\n",
       "    <tr>\n",
       "      <th>1</th>\n",
       "      <td>0.045637</td>\n",
       "      <td>0.231789</td>\n",
       "      <td>0.000000</td>\n",
       "      <td>0.144000</td>\n",
       "      <td>0.093527</td>\n",
       "      <td>0.023576</td>\n",
       "    </tr>\n",
       "    <tr>\n",
       "      <th>2</th>\n",
       "      <td>0.000000</td>\n",
       "      <td>0.033743</td>\n",
       "      <td>0.000000</td>\n",
       "      <td>0.515672</td>\n",
       "      <td>0.024469</td>\n",
       "      <td>0.115172</td>\n",
       "    </tr>\n",
       "    <tr>\n",
       "      <th>3</th>\n",
       "      <td>0.000000</td>\n",
       "      <td>0.010611</td>\n",
       "      <td>0.057104</td>\n",
       "      <td>0.018137</td>\n",
       "      <td>0.016470</td>\n",
       "      <td>0.346462</td>\n",
       "    </tr>\n",
       "    <tr>\n",
       "      <th>4</th>\n",
       "      <td>0.000000</td>\n",
       "      <td>0.019419</td>\n",
       "      <td>0.075497</td>\n",
       "      <td>0.062071</td>\n",
       "      <td>0.381545</td>\n",
       "      <td>0.000000</td>\n",
       "    </tr>\n",
       "    <tr>\n",
       "      <th>5</th>\n",
       "      <td>0.001706</td>\n",
       "      <td>0.016220</td>\n",
       "      <td>0.000000</td>\n",
       "      <td>0.007376</td>\n",
       "      <td>0.457069</td>\n",
       "      <td>0.000000</td>\n",
       "    </tr>\n",
       "    <tr>\n",
       "      <th>6</th>\n",
       "      <td>0.000000</td>\n",
       "      <td>0.000000</td>\n",
       "      <td>0.000000</td>\n",
       "      <td>0.000000</td>\n",
       "      <td>0.000000</td>\n",
       "      <td>0.772262</td>\n",
       "    </tr>\n",
       "    <tr>\n",
       "      <th>7</th>\n",
       "      <td>0.000000</td>\n",
       "      <td>0.000000</td>\n",
       "      <td>0.000000</td>\n",
       "      <td>0.041925</td>\n",
       "      <td>0.537817</td>\n",
       "      <td>0.284341</td>\n",
       "    </tr>\n",
       "    <tr>\n",
       "      <th>8</th>\n",
       "      <td>0.026109</td>\n",
       "      <td>0.044699</td>\n",
       "      <td>0.000000</td>\n",
       "      <td>0.036166</td>\n",
       "      <td>0.269807</td>\n",
       "      <td>0.000000</td>\n",
       "    </tr>\n",
       "    <tr>\n",
       "      <th>9</th>\n",
       "      <td>0.000000</td>\n",
       "      <td>0.692328</td>\n",
       "      <td>0.000000</td>\n",
       "      <td>0.000000</td>\n",
       "      <td>0.000000</td>\n",
       "      <td>0.000000</td>\n",
       "    </tr>\n",
       "    <tr>\n",
       "      <th>10</th>\n",
       "      <td>0.000000</td>\n",
       "      <td>0.687229</td>\n",
       "      <td>0.025437</td>\n",
       "      <td>0.000000</td>\n",
       "      <td>0.000000</td>\n",
       "      <td>0.024126</td>\n",
       "    </tr>\n",
       "    <tr>\n",
       "      <th>11</th>\n",
       "      <td>0.013070</td>\n",
       "      <td>0.000000</td>\n",
       "      <td>0.097286</td>\n",
       "      <td>0.000000</td>\n",
       "      <td>0.000000</td>\n",
       "      <td>0.643658</td>\n",
       "    </tr>\n",
       "    <tr>\n",
       "      <th>12</th>\n",
       "      <td>0.358006</td>\n",
       "      <td>0.006732</td>\n",
       "      <td>0.000000</td>\n",
       "      <td>0.037711</td>\n",
       "      <td>0.000000</td>\n",
       "      <td>0.026247</td>\n",
       "    </tr>\n",
       "    <tr>\n",
       "      <th>13</th>\n",
       "      <td>0.000247</td>\n",
       "      <td>0.000000</td>\n",
       "      <td>0.704625</td>\n",
       "      <td>0.000000</td>\n",
       "      <td>0.000000</td>\n",
       "      <td>0.013491</td>\n",
       "    </tr>\n",
       "    <tr>\n",
       "      <th>14</th>\n",
       "      <td>0.000000</td>\n",
       "      <td>0.001426</td>\n",
       "      <td>0.713615</td>\n",
       "      <td>0.000000</td>\n",
       "      <td>0.000000</td>\n",
       "      <td>0.010154</td>\n",
       "    </tr>\n",
       "    <tr>\n",
       "      <th>15</th>\n",
       "      <td>0.018658</td>\n",
       "      <td>0.000000</td>\n",
       "      <td>0.000000</td>\n",
       "      <td>0.536264</td>\n",
       "      <td>0.000000</td>\n",
       "      <td>0.198369</td>\n",
       "    </tr>\n",
       "    <tr>\n",
       "      <th>16</th>\n",
       "      <td>0.000000</td>\n",
       "      <td>0.000000</td>\n",
       "      <td>0.000000</td>\n",
       "      <td>0.411932</td>\n",
       "      <td>0.000000</td>\n",
       "      <td>0.014420</td>\n",
       "    </tr>\n",
       "    <tr>\n",
       "      <th>17</th>\n",
       "      <td>0.000000</td>\n",
       "      <td>0.000000</td>\n",
       "      <td>0.000000</td>\n",
       "      <td>0.000000</td>\n",
       "      <td>0.788291</td>\n",
       "      <td>0.000000</td>\n",
       "    </tr>\n",
       "    <tr>\n",
       "      <th>18</th>\n",
       "      <td>0.000000</td>\n",
       "      <td>0.194072</td>\n",
       "      <td>0.000000</td>\n",
       "      <td>0.027766</td>\n",
       "      <td>0.575553</td>\n",
       "      <td>0.000000</td>\n",
       "    </tr>\n",
       "    <tr>\n",
       "      <th>19</th>\n",
       "      <td>0.000000</td>\n",
       "      <td>0.000000</td>\n",
       "      <td>0.000182</td>\n",
       "      <td>0.702141</td>\n",
       "      <td>0.000000</td>\n",
       "      <td>0.000000</td>\n",
       "    </tr>\n",
       "    <tr>\n",
       "      <th>20</th>\n",
       "      <td>0.000000</td>\n",
       "      <td>0.000000</td>\n",
       "      <td>0.310280</td>\n",
       "      <td>0.513657</td>\n",
       "      <td>0.000000</td>\n",
       "      <td>0.000000</td>\n",
       "    </tr>\n",
       "    <tr>\n",
       "      <th>21</th>\n",
       "      <td>0.367087</td>\n",
       "      <td>0.000000</td>\n",
       "      <td>0.000000</td>\n",
       "      <td>0.000000</td>\n",
       "      <td>0.000000</td>\n",
       "      <td>0.000000</td>\n",
       "    </tr>\n",
       "  </tbody>\n",
       "</table>\n",
       "</div>"
      ],
      "text/plain": [
       "    challenges  nostalgia  loneliness    regret    desire     music\n",
       "0     0.216917   0.000000    0.000000  0.000000  0.416247  0.142122\n",
       "1     0.045637   0.231789    0.000000  0.144000  0.093527  0.023576\n",
       "2     0.000000   0.033743    0.000000  0.515672  0.024469  0.115172\n",
       "3     0.000000   0.010611    0.057104  0.018137  0.016470  0.346462\n",
       "4     0.000000   0.019419    0.075497  0.062071  0.381545  0.000000\n",
       "5     0.001706   0.016220    0.000000  0.007376  0.457069  0.000000\n",
       "6     0.000000   0.000000    0.000000  0.000000  0.000000  0.772262\n",
       "7     0.000000   0.000000    0.000000  0.041925  0.537817  0.284341\n",
       "8     0.026109   0.044699    0.000000  0.036166  0.269807  0.000000\n",
       "9     0.000000   0.692328    0.000000  0.000000  0.000000  0.000000\n",
       "10    0.000000   0.687229    0.025437  0.000000  0.000000  0.024126\n",
       "11    0.013070   0.000000    0.097286  0.000000  0.000000  0.643658\n",
       "12    0.358006   0.006732    0.000000  0.037711  0.000000  0.026247\n",
       "13    0.000247   0.000000    0.704625  0.000000  0.000000  0.013491\n",
       "14    0.000000   0.001426    0.713615  0.000000  0.000000  0.010154\n",
       "15    0.018658   0.000000    0.000000  0.536264  0.000000  0.198369\n",
       "16    0.000000   0.000000    0.000000  0.411932  0.000000  0.014420\n",
       "17    0.000000   0.000000    0.000000  0.000000  0.788291  0.000000\n",
       "18    0.000000   0.194072    0.000000  0.027766  0.575553  0.000000\n",
       "19    0.000000   0.000000    0.000182  0.702141  0.000000  0.000000\n",
       "20    0.000000   0.000000    0.310280  0.513657  0.000000  0.000000\n",
       "21    0.367087   0.000000    0.000000  0.000000  0.000000  0.000000"
      ]
     },
     "execution_count": 20,
     "metadata": {},
     "output_type": "execute_result"
    }
   ],
   "source": [
    "df_topics = pd.DataFrame(topic_values, columns = topic_labels)\n",
    "df_topics"
   ]
  },
  {
   "cell_type": "code",
   "execution_count": 21,
   "id": "c3b4a156-9ff6-4cd0-af76-2f632ec1e47e",
   "metadata": {
    "tags": []
   },
   "outputs": [],
   "source": [
    "songs = songs.join(df_topics) #'challenges', 'nostalgia', 'loneliness', 'regret', 'desire', 'music'"
   ]
  },
  {
   "cell_type": "code",
   "execution_count": 22,
   "id": "c8deded5-faa4-47a5-b542-22656de9dada",
   "metadata": {
    "tags": []
   },
   "outputs": [],
   "source": [
    "songs.loc[songs['challenges'] >= 0.1, 'challenges'] = 1\n",
    "songs.loc[songs['nostalgia'] >= 0.1, 'nostalgia'] = 1\n",
    "songs.loc[songs['loneliness'] >= 0.1, 'loneliness'] = 1\n",
    "songs.loc[songs['regret'] >= 0.1, 'regret'] = 1\n",
    "songs.loc[songs['desire'] >= 0.1, 'desire'] = 1\n",
    "songs.loc[songs['music'] >= 0.1, 'music'] = 1"
   ]
  },
  {
   "cell_type": "code",
   "execution_count": 23,
   "id": "cb147a2a-7a75-401e-8a69-ddc61c820e45",
   "metadata": {
    "tags": []
   },
   "outputs": [],
   "source": [
    "songs.loc[songs['challenges'] < 0.1, 'challenges'] = 0\n",
    "songs.loc[songs['nostalgia'] < 0.1, 'nostalgia'] = 0\n",
    "songs.loc[songs['loneliness'] < 0.1, 'loneliness'] = 0\n",
    "songs.loc[songs['regret'] < 0.1, 'regret'] = 0\n",
    "songs.loc[songs['desire'] < 0.1, 'desire'] = 0\n",
    "songs.loc[songs['music'] < 0.1, 'music'] = 0"
   ]
  },
  {
   "cell_type": "code",
   "execution_count": 24,
   "id": "cd60301b-ae63-4f27-a515-d3356c269f2c",
   "metadata": {
    "tags": []
   },
   "outputs": [],
   "source": [
    "songs_csv = songs.to_csv('topics/red_topics.csv')"
   ]
  },
  {
   "cell_type": "code",
   "execution_count": null,
   "id": "69e13cea-46c2-4e0e-8c5d-a54780b9c899",
   "metadata": {},
   "outputs": [],
   "source": []
  }
 ],
 "metadata": {
  "kernelspec": {
   "display_name": "Python 3 (ipykernel)",
   "language": "python",
   "name": "python3"
  },
  "language_info": {
   "codemirror_mode": {
    "name": "ipython",
    "version": 3
   },
   "file_extension": ".py",
   "mimetype": "text/x-python",
   "name": "python",
   "nbconvert_exporter": "python",
   "pygments_lexer": "ipython3",
   "version": "3.11.9"
  }
 },
 "nbformat": 4,
 "nbformat_minor": 5
}
