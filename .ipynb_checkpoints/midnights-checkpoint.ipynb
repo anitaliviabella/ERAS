{
 "cells": [
  {
   "cell_type": "code",
   "execution_count": 1,
   "id": "97e6ea5f-1a85-4e74-8699-5928416c0ebb",
   "metadata": {
    "tags": []
   },
   "outputs": [],
   "source": [
    "import pandas as pd"
   ]
  },
  {
   "cell_type": "code",
   "execution_count": 2,
   "id": "746c4892-2610-4639-a719-48a93e7bd6d9",
   "metadata": {
    "tags": []
   },
   "outputs": [],
   "source": [
    "df = pd.read_csv('corpus/1989_lyrics.csv', encoding = 'latin-1')"
   ]
  },
  {
   "cell_type": "code",
   "execution_count": 3,
   "id": "64cf3082-b3d5-4d58-aa89-68f7b01e0e8c",
   "metadata": {
    "tags": []
   },
   "outputs": [
    {
     "data": {
      "text/html": [
       "<div>\n",
       "<style scoped>\n",
       "    .dataframe tbody tr th:only-of-type {\n",
       "        vertical-align: middle;\n",
       "    }\n",
       "\n",
       "    .dataframe tbody tr th {\n",
       "        vertical-align: top;\n",
       "    }\n",
       "\n",
       "    .dataframe thead th {\n",
       "        text-align: right;\n",
       "    }\n",
       "</style>\n",
       "<table border=\"1\" class=\"dataframe\">\n",
       "  <thead>\n",
       "    <tr style=\"text-align: right;\">\n",
       "      <th></th>\n",
       "      <th>ï»¿album_name</th>\n",
       "      <th>track_title</th>\n",
       "      <th>track_n</th>\n",
       "      <th>lyric</th>\n",
       "      <th>line</th>\n",
       "    </tr>\n",
       "  </thead>\n",
       "  <tbody>\n",
       "    <tr>\n",
       "      <th>0</th>\n",
       "      <td>1989 (Deluxe)</td>\n",
       "      <td>Welcome to New York</td>\n",
       "      <td>1</td>\n",
       "      <td>Walking through a crowd, the village is aglow</td>\n",
       "      <td>1</td>\n",
       "    </tr>\n",
       "    <tr>\n",
       "      <th>1</th>\n",
       "      <td>1989 (Deluxe)</td>\n",
       "      <td>Welcome to New York</td>\n",
       "      <td>1</td>\n",
       "      <td>Kaleidoscope of loud heartbeats under coats</td>\n",
       "      <td>2</td>\n",
       "    </tr>\n",
       "    <tr>\n",
       "      <th>2</th>\n",
       "      <td>1989 (Deluxe)</td>\n",
       "      <td>Welcome to New York</td>\n",
       "      <td>1</td>\n",
       "      <td>Everybody here wanted something more</td>\n",
       "      <td>3</td>\n",
       "    </tr>\n",
       "    <tr>\n",
       "      <th>3</th>\n",
       "      <td>1989 (Deluxe)</td>\n",
       "      <td>Welcome to New York</td>\n",
       "      <td>1</td>\n",
       "      <td>Searching for a sound we hadn't heard before</td>\n",
       "      <td>4</td>\n",
       "    </tr>\n",
       "    <tr>\n",
       "      <th>4</th>\n",
       "      <td>1989 (Deluxe)</td>\n",
       "      <td>Welcome to New York</td>\n",
       "      <td>1</td>\n",
       "      <td>And it said</td>\n",
       "      <td>5</td>\n",
       "    </tr>\n",
       "  </tbody>\n",
       "</table>\n",
       "</div>"
      ],
      "text/plain": [
       "   ï»¿album_name          track_title  track_n  \\\n",
       "0  1989 (Deluxe)  Welcome to New York        1   \n",
       "1  1989 (Deluxe)  Welcome to New York        1   \n",
       "2  1989 (Deluxe)  Welcome to New York        1   \n",
       "3  1989 (Deluxe)  Welcome to New York        1   \n",
       "4  1989 (Deluxe)  Welcome to New York        1   \n",
       "\n",
       "                                           lyric  line  \n",
       "0  Walking through a crowd, the village is aglow     1  \n",
       "1    Kaleidoscope of loud heartbeats under coats     2  \n",
       "2           Everybody here wanted something more     3  \n",
       "3   Searching for a sound we hadn't heard before     4  \n",
       "4                                    And it said     5  "
      ]
     },
     "execution_count": 3,
     "metadata": {},
     "output_type": "execute_result"
    }
   ],
   "source": [
    "df.head()"
   ]
  },
  {
   "cell_type": "code",
   "execution_count": 4,
   "id": "e9db7d36-aa96-41e2-affd-92f8898879d4",
   "metadata": {
    "tags": []
   },
   "outputs": [],
   "source": [
    "songs = df.groupby('track_title').agg({'lyric': lambda x: \" \".join(x)}).reset_index()"
   ]
  },
  {
   "cell_type": "code",
   "execution_count": 5,
   "id": "68a335b2-a9a0-4dfc-a507-022830c1a0a1",
   "metadata": {
    "tags": []
   },
   "outputs": [],
   "source": [
    "pd.options.display.max_colwidth = 5000"
   ]
  },
  {
   "cell_type": "code",
   "execution_count": 6,
   "id": "31569bd5-35b9-4761-bc63-7d28af52e79e",
   "metadata": {
    "tags": []
   },
   "outputs": [
    {
     "data": {
      "text/html": [
       "<div>\n",
       "<style scoped>\n",
       "    .dataframe tbody tr th:only-of-type {\n",
       "        vertical-align: middle;\n",
       "    }\n",
       "\n",
       "    .dataframe tbody tr th {\n",
       "        vertical-align: top;\n",
       "    }\n",
       "\n",
       "    .dataframe thead th {\n",
       "        text-align: right;\n",
       "    }\n",
       "</style>\n",
       "<table border=\"1\" class=\"dataframe\">\n",
       "  <thead>\n",
       "    <tr style=\"text-align: right;\">\n",
       "      <th></th>\n",
       "      <th>track_title</th>\n",
       "      <th>lyric</th>\n",
       "    </tr>\n",
       "  </thead>\n",
       "  <tbody>\n",
       "    <tr>\n",
       "      <th>0</th>\n",
       "      <td>All You Had to Do Was Stay</td>\n",
       "      <td>(Hey, hey, hey) (Hey, hey, hey) (Hey, hey, hey) (Hey, hey, hey) People like you always want back The love they gave away And people like me wanna believe you When you say you've changed The more I think about it now The less I know All I know is that you drove us Off the road (Stay) Hey, all you had to do was stay Had me in the palm of your hand, then Why'd you have to go and lock me out when I let you in? (Stay) Hey, now you say you want it back Now that it's just too late Well, could've been easy All you had to do was (Stay) All you had to do was (Stay) All you had to do was (Stay) All you had to do was (Stay) All you had to do was stay Here you are now, calling me up But I don't know what to say I've been picking up the pieces Of the mess you made People like you always want back The love they pushed aside But people like me are gone forever When you say goodbye (Stay) Hey, all you had to do was stay Had me in the palm of your hand, then Why'd you have to go and lock me out when I let you in? (Stay) Hey, now you say you want it back Now that it's just too late Well, could've been easy All you had to do was (Stay) All you had to do was (Stay) All you had to do was (Stay) All you had to do was (Stay, stay, stay, stay, stay) Let me remind you This was what you wanted (Oh, oh, oh-oh-oh) You ended it You were all I wanted (Oh, oh, oh-oh-oh) But not like this Not like this Not like this Oh, all you had to do was... (Stay) Hey, all you had to do was stay Had me in the palm of your hand, then Why'd you want to go and lock me out when I let you in? (Stay) Hey, now you say you want it back Now that it's just too late Well, could've been easy All you had to do was... (Stay) Hey, all you had to do was stay Had me in the palm of your hand, then Why'd you have to go and lock me out when I let you in? (Stay) Hey, now you say you want it back Now that it's just too late Well, could've been easy (All you had to do was stay) All you had to do was (Stay) All you had to do was (Stay) (Oh) All you had to do was (Stay) All you had to do was (Stay) (Ooh) All you had to do was (Stay)</td>\n",
       "    </tr>\n",
       "    <tr>\n",
       "      <th>1</th>\n",
       "      <td>Bad Blood</td>\n",
       "      <td>'Cause baby, now we've got bad blood You know it used to be mad love So take a look what you've done 'Cause baby, now we've got bad blood, hey! Now we've got problems And I don't think we can solve 'em You made a really deep cut And baby, now we've got bad blood, hey! Did you have to do this? I was thinking that you could be trusted Did you have to ruin what was shiny? Now it's all rusted Did you have to hit me where I'm weak? Baby, I couldn't breathe And rub it in so deep Salt in the wound like you're laughing right at me Oh, it's so sad to Think about the good times You and I 'Cause baby, now we've got bad blood You know it used to be mad love So take a look what you've done 'Cause baby, now we've got bad blood, hey! Now we've got problems And I don't think we can solve 'em You made a really deep cut And baby, now we've got bad blood, hey! Did you think we'd be fine? Still got scars in my back from your knives So don't think it's in the past These kinds of wounds they last and they last Now, did you think it all through? All these things will catch up to you And time can heal, but this won't So if you're coming my way Just don't Oh, it's so sad to Think about the good times You and I 'Cause baby, now we've got bad blood You know it used to be mad love So take a look what you've done 'Cause baby, now we've got bad blood, hey! Now we've got problems And I don't think we can solve 'em You made a really deep cut And baby, now we've got bad blood, hey! Band-aids don't fix bullet holes You say sorry just for show If you live like that, you live with ghosts Band-aids don't fix bullet holes You say sorry just for show If you live like that, you live with ghosts If you love like that, blood runs cold! 'Cause baby, now we've got bad blood You know it used to be mad love So take a look what you've done 'Cause baby, now we've got bad blood, hey! Now we've got problems And I don't think we can solve 'em (Think we can solve 'em) You made a really deep cut And baby, now we've got bad blood, hey! 'Cause baby, now we've got bad blood You know it used to be mad love So take a look what you've done (Look what you've done) 'Cause baby, now we've got bad blood, hey! Now we've got problems And I don't think we can solve 'em You made a really deep cut And baby, now we've got bad blood, hey!</td>\n",
       "    </tr>\n",
       "    <tr>\n",
       "      <th>2</th>\n",
       "      <td>Blank Space</td>\n",
       "      <td>Nice to meet you, where you been? I could show you incredible things Magic, madness, heaven, sin Saw you there, and I thought \"Oh my God, look at that face You look like my next mistake Love's a game, wanna play?\" Ayy New money, suit and tie I can read you like a magazine Ain't it funny? Rumors fly And I know you heard about me So hey, let's be friends I'm dyin' to see how this one ends Grab your passport and my hand I can make the bad guys good for a weekend So it's gonna be forever Or it's gonna go down in flames You can tell me when it's over, mm If the high was worth the pain Got a long list of ex-lovers They'll tell you I'm insane 'Cause you know I love the players And you love the game 'Cause we're young and we're reckless We'll take this way too far It'll leave you breathless, hmm Or with a nasty scar Got a long list of ex-lovers They'll tell you I'm insane But I've got a blank space, baby And I'll write your name Joeboy 'Sip (Alcohol)' Official Lyrics &amp; Meaning | Verified Cherry lips, crystal skies I could show you incredible things Stolen kisses, pretty lies You're the King, baby, I'm your Queen Find out what you want Be that girl for a month Wait, the worst is yet to come Oh, no Screaming, crying, perfect storms I can make all the tables turn Rose garden filled with thorns Keep you second guessin' like \"Oh my God, who is she?\" I get drunk on jealousy But you'll come back each time you leave 'Cause, darling, I'm a nightmare dressed like a daydream So it's gonna be forever Or it's gonna go down in flames You can tell me when it's over, mm If the high was worth the pain Got a long list of ex-lovers They'll tell you I'm insane 'Cause you know I love the players And you love the game 'Cause we're young and we're reckless We'll take this way too far It'll leave you breathless, hmm Or with a nasty scar Got a long list of ex-lovers They'll tell you I'm insane But I've got a blank space, baby And I'll write your name Boys only want love if it's torture Don't say I didn't, say I didn't warn ya Boys only want love if it's torture Don't say I didn't, say I didn't warn ya So it's gonna be forever Or it's gonna go down in flames You can tell me when it's over, mm If the high was worth the pain Got a long list of ex-lovers They'll tell you I'm insane 'Cause you know I love the players And you love the game 'Cause we're young and we're reckless We'll take this way too far It'll leave you breathless, hmm Or with a nasty scar Got a long list of ex-lovers They'll tell you I'm insane But I've got a blank space, baby And I'll write your name</td>\n",
       "    </tr>\n",
       "    <tr>\n",
       "      <th>3</th>\n",
       "      <td>Clean</td>\n",
       "      <td>The drought was the very worst (Oh-oh, oh-oh) When the flowers that we'd grown together died of thirst It was months and months of back and forth (Oh-oh, oh-oh) You're still all over me Like a wine-stained dress I can't wear anymore Hung my head as I lost the war And the sky turned black like a perfect storm Rain came pouring down When I was drowning, that's when I could finally breathe And by morning Gone was any trace of you, I think I am finally clean (Oh, oh, oh, oh) There was nothing left to do (Oh-oh, oh-oh) When the butterflies turned to Dust that covered my whole room So I punched a hole in the roof (Oh-oh, oh-oh) Let the flood carry away all my pictures of you The water filled my lungs, I screamed so loud But no one heard a thing Rain came pouring down When I was drowning, that's when I could finally breathe And by morning Gone was any trace of you, I think I am finally clean (Oh, oh, oh, oh) I think I am finally clean (Oh, oh) Oh, oh, oh, oh, oh-oh Said, I think I am finally clean (Oh, oh) Oh, oh, oh, oh, oh-oh Ten months sober, I must admit Just because you're clean, don't mean you don't miss it Ten months older, I won't give in Now that I'm clean, I'm never gonna risk it The drought was the very worst (Oh-oh, oh-oh) When the flowers that we'd grown together died of thirst (Oh) The rain came pouring down When I was drowning, that's when I could finally breathe And by morning Gone was any trace of you, I think I am finally clean Rain came pouring down When I was drowning, that's when I could finally breathe And by morning Gone was any trace of you, I think I am finally clean (Oh, oh) Finally clean Think I'm finally clean (Oh, oh) Oh-oh, oh-oh (Oh, oh, oh) Think I'm finally clean</td>\n",
       "    </tr>\n",
       "    <tr>\n",
       "      <th>4</th>\n",
       "      <td>How You Get the Girl</td>\n",
       "      <td>Oh, oh, oh Oh, oh, oh Oh-oh, oh-oh Stand there like a ghost Shaking from the rain, rain She'll open up the door and say, \"Are you insane?\" Say it's been a long six months And you were too afraid to tell her what you want, want And that's how it works That's how you get the girl And then, you say I want you for worse or for better I would wait forever and ever Broke your heart, I'll put it back together I would wait forever and ever And that's how it works That's how you get the girl, girl (Oh-oh, oh) And that's how it works That's how you get the girl, girl Remind her how it used to be, be, yeah-yeah With pictures in frames of kisses on cheeks, cheeks Tell her how you must have lost your mind, ooh-ooh When you left her all alone And never told her why, why And that's how it works That's how you lost the girl And now, you say I want you for worse or for better I would wait forever and ever (Ever and ever) Broke your heart, I'll put it back together I would wait forever and ever And that's how it works That's how you get the girl, girl (Oh-oh, oh-oh) And that's how it works That's how you get the girl, girl Yeah, yeah And you know Oh, oh, oh, oh, oh, oh, oh, oh, oh, oh That I don't want you to go, oh, oh Remind me how it used to be Pictures in frames of kisses on cheeks And say you want me, yeah-yeah And then you say I want you for worse or for betterÂ (Worse or for better) I would wait forever and ever (Ever and ever) Broke your heart, I'll put it back together I want you forever and ever (I would wait forever and ever) And that's how it works That's how you get the girl, girl (This is how it works) And that's how it works That's how you get the girl, girl (Get the girl) (That's how it works) And that's how it works That's how you get the girl, girl (Oh, oh, oh, oh, oh, oh, oh, oh, oh, oh) And that's how it works That's how you get the girl, girl (Oh, oh, oh, oh, oh, oh, oh, oh, oh, oh) And that's how it works That's how you got the girl</td>\n",
       "    </tr>\n",
       "  </tbody>\n",
       "</table>\n",
       "</div>"
      ],
      "text/plain": [
       "                  track_title  \\\n",
       "0  All You Had to Do Was Stay   \n",
       "1                   Bad Blood   \n",
       "2                 Blank Space   \n",
       "3                       Clean   \n",
       "4        How You Get the Girl   \n",
       "\n",
       "                                                                                                                                                                                                                                                                                                                                                                                                                                                                                                                                                                                                                                                                                                                                                                                                                                                                                                                                                                                                                                                                                                                                                                                                                                                                                                                                                                                                                                                                                                                                                                                                                                                                                                                                                                                                                                                                                                                                                                                                                                                                                                                                                                                                                                                                                                                                                                                                                                                                                                                                                                                                                                                                              lyric  \n",
       "0                                                                                                                                                                                                                                                                                                                                                                                                                                                                                               (Hey, hey, hey) (Hey, hey, hey) (Hey, hey, hey) (Hey, hey, hey) People like you always want back The love they gave away And people like me wanna believe you When you say you've changed The more I think about it now The less I know All I know is that you drove us Off the road (Stay) Hey, all you had to do was stay Had me in the palm of your hand, then Why'd you have to go and lock me out when I let you in? (Stay) Hey, now you say you want it back Now that it's just too late Well, could've been easy All you had to do was (Stay) All you had to do was (Stay) All you had to do was (Stay) All you had to do was (Stay) All you had to do was stay Here you are now, calling me up But I don't know what to say I've been picking up the pieces Of the mess you made People like you always want back The love they pushed aside But people like me are gone forever When you say goodbye (Stay) Hey, all you had to do was stay Had me in the palm of your hand, then Why'd you have to go and lock me out when I let you in? (Stay) Hey, now you say you want it back Now that it's just too late Well, could've been easy All you had to do was (Stay) All you had to do was (Stay) All you had to do was (Stay) All you had to do was (Stay, stay, stay, stay, stay) Let me remind you This was what you wanted (Oh, oh, oh-oh-oh) You ended it You were all I wanted (Oh, oh, oh-oh-oh) But not like this Not like this Not like this Oh, all you had to do was... (Stay) Hey, all you had to do was stay Had me in the palm of your hand, then Why'd you want to go and lock me out when I let you in? (Stay) Hey, now you say you want it back Now that it's just too late Well, could've been easy All you had to do was... (Stay) Hey, all you had to do was stay Had me in the palm of your hand, then Why'd you have to go and lock me out when I let you in? (Stay) Hey, now you say you want it back Now that it's just too late Well, could've been easy (All you had to do was stay) All you had to do was (Stay) All you had to do was (Stay) (Oh) All you had to do was (Stay) All you had to do was (Stay) (Ooh) All you had to do was (Stay)  \n",
       "1                                                                                                                                                                                                                                                                            'Cause baby, now we've got bad blood You know it used to be mad love So take a look what you've done 'Cause baby, now we've got bad blood, hey! Now we've got problems And I don't think we can solve 'em You made a really deep cut And baby, now we've got bad blood, hey! Did you have to do this? I was thinking that you could be trusted Did you have to ruin what was shiny? Now it's all rusted Did you have to hit me where I'm weak? Baby, I couldn't breathe And rub it in so deep Salt in the wound like you're laughing right at me Oh, it's so sad to Think about the good times You and I 'Cause baby, now we've got bad blood You know it used to be mad love So take a look what you've done 'Cause baby, now we've got bad blood, hey! Now we've got problems And I don't think we can solve 'em You made a really deep cut And baby, now we've got bad blood, hey! Did you think we'd be fine? Still got scars in my back from your knives So don't think it's in the past These kinds of wounds they last and they last Now, did you think it all through? All these things will catch up to you And time can heal, but this won't So if you're coming my way Just don't Oh, it's so sad to Think about the good times You and I 'Cause baby, now we've got bad blood You know it used to be mad love So take a look what you've done 'Cause baby, now we've got bad blood, hey! Now we've got problems And I don't think we can solve 'em You made a really deep cut And baby, now we've got bad blood, hey! Band-aids don't fix bullet holes You say sorry just for show If you live like that, you live with ghosts Band-aids don't fix bullet holes You say sorry just for show If you live like that, you live with ghosts If you love like that, blood runs cold! 'Cause baby, now we've got bad blood You know it used to be mad love So take a look what you've done 'Cause baby, now we've got bad blood, hey! Now we've got problems And I don't think we can solve 'em (Think we can solve 'em) You made a really deep cut And baby, now we've got bad blood, hey! 'Cause baby, now we've got bad blood You know it used to be mad love So take a look what you've done (Look what you've done) 'Cause baby, now we've got bad blood, hey! Now we've got problems And I don't think we can solve 'em You made a really deep cut And baby, now we've got bad blood, hey!  \n",
       "2  Nice to meet you, where you been? I could show you incredible things Magic, madness, heaven, sin Saw you there, and I thought \"Oh my God, look at that face You look like my next mistake Love's a game, wanna play?\" Ayy New money, suit and tie I can read you like a magazine Ain't it funny? Rumors fly And I know you heard about me So hey, let's be friends I'm dyin' to see how this one ends Grab your passport and my hand I can make the bad guys good for a weekend So it's gonna be forever Or it's gonna go down in flames You can tell me when it's over, mm If the high was worth the pain Got a long list of ex-lovers They'll tell you I'm insane 'Cause you know I love the players And you love the game 'Cause we're young and we're reckless We'll take this way too far It'll leave you breathless, hmm Or with a nasty scar Got a long list of ex-lovers They'll tell you I'm insane But I've got a blank space, baby And I'll write your name Joeboy 'Sip (Alcohol)' Official Lyrics & Meaning | Verified Cherry lips, crystal skies I could show you incredible things Stolen kisses, pretty lies You're the King, baby, I'm your Queen Find out what you want Be that girl for a month Wait, the worst is yet to come Oh, no Screaming, crying, perfect storms I can make all the tables turn Rose garden filled with thorns Keep you second guessin' like \"Oh my God, who is she?\" I get drunk on jealousy But you'll come back each time you leave 'Cause, darling, I'm a nightmare dressed like a daydream So it's gonna be forever Or it's gonna go down in flames You can tell me when it's over, mm If the high was worth the pain Got a long list of ex-lovers They'll tell you I'm insane 'Cause you know I love the players And you love the game 'Cause we're young and we're reckless We'll take this way too far It'll leave you breathless, hmm Or with a nasty scar Got a long list of ex-lovers They'll tell you I'm insane But I've got a blank space, baby And I'll write your name Boys only want love if it's torture Don't say I didn't, say I didn't warn ya Boys only want love if it's torture Don't say I didn't, say I didn't warn ya So it's gonna be forever Or it's gonna go down in flames You can tell me when it's over, mm If the high was worth the pain Got a long list of ex-lovers They'll tell you I'm insane 'Cause you know I love the players And you love the game 'Cause we're young and we're reckless We'll take this way too far It'll leave you breathless, hmm Or with a nasty scar Got a long list of ex-lovers They'll tell you I'm insane But I've got a blank space, baby And I'll write your name  \n",
       "3                                                                                                                                                                                                                                                                                                                                                                                                                                                                                                                                                                                                                                                                                                                                                                                                                                                                                             The drought was the very worst (Oh-oh, oh-oh) When the flowers that we'd grown together died of thirst It was months and months of back and forth (Oh-oh, oh-oh) You're still all over me Like a wine-stained dress I can't wear anymore Hung my head as I lost the war And the sky turned black like a perfect storm Rain came pouring down When I was drowning, that's when I could finally breathe And by morning Gone was any trace of you, I think I am finally clean (Oh, oh, oh, oh) There was nothing left to do (Oh-oh, oh-oh) When the butterflies turned to Dust that covered my whole room So I punched a hole in the roof (Oh-oh, oh-oh) Let the flood carry away all my pictures of you The water filled my lungs, I screamed so loud But no one heard a thing Rain came pouring down When I was drowning, that's when I could finally breathe And by morning Gone was any trace of you, I think I am finally clean (Oh, oh, oh, oh) I think I am finally clean (Oh, oh) Oh, oh, oh, oh, oh-oh Said, I think I am finally clean (Oh, oh) Oh, oh, oh, oh, oh-oh Ten months sober, I must admit Just because you're clean, don't mean you don't miss it Ten months older, I won't give in Now that I'm clean, I'm never gonna risk it The drought was the very worst (Oh-oh, oh-oh) When the flowers that we'd grown together died of thirst (Oh) The rain came pouring down When I was drowning, that's when I could finally breathe And by morning Gone was any trace of you, I think I am finally clean Rain came pouring down When I was drowning, that's when I could finally breathe And by morning Gone was any trace of you, I think I am finally clean (Oh, oh) Finally clean Think I'm finally clean (Oh, oh) Oh-oh, oh-oh (Oh, oh, oh) Think I'm finally clean  \n",
       "4                                                                                                                                                                                                                                                                                                                                                                                                                                                                                                                                                                                                                                Oh, oh, oh Oh, oh, oh Oh-oh, oh-oh Stand there like a ghost Shaking from the rain, rain She'll open up the door and say, \"Are you insane?\" Say it's been a long six months And you were too afraid to tell her what you want, want And that's how it works That's how you get the girl And then, you say I want you for worse or for better I would wait forever and ever Broke your heart, I'll put it back together I would wait forever and ever And that's how it works That's how you get the girl, girl (Oh-oh, oh) And that's how it works That's how you get the girl, girl Remind her how it used to be, be, yeah-yeah With pictures in frames of kisses on cheeks, cheeks Tell her how you must have lost your mind, ooh-ooh When you left her all alone And never told her why, why And that's how it works That's how you lost the girl And now, you say I want you for worse or for better I would wait forever and ever (Ever and ever) Broke your heart, I'll put it back together I would wait forever and ever And that's how it works That's how you get the girl, girl (Oh-oh, oh-oh) And that's how it works That's how you get the girl, girl Yeah, yeah And you know Oh, oh, oh, oh, oh, oh, oh, oh, oh, oh That I don't want you to go, oh, oh Remind me how it used to be Pictures in frames of kisses on cheeks And say you want me, yeah-yeah And then you say I want you for worse or for betterÂ (Worse or for better) I would wait forever and ever (Ever and ever) Broke your heart, I'll put it back together I want you forever and ever (I would wait forever and ever) And that's how it works That's how you get the girl, girl (This is how it works) And that's how it works That's how you get the girl, girl (Get the girl) (That's how it works) And that's how it works That's how you get the girl, girl (Oh, oh, oh, oh, oh, oh, oh, oh, oh, oh) And that's how it works That's how you get the girl, girl (Oh, oh, oh, oh, oh, oh, oh, oh, oh, oh) And that's how it works That's how you got the girl  "
      ]
     },
     "execution_count": 6,
     "metadata": {},
     "output_type": "execute_result"
    }
   ],
   "source": [
    "songs.head()"
   ]
  },
  {
   "cell_type": "code",
   "execution_count": 7,
   "id": "6f551efe-bc7b-4114-b7a1-7624200dc4d1",
   "metadata": {},
   "outputs": [
    {
     "data": {
      "text/plain": [
       "16"
      ]
     },
     "execution_count": 7,
     "metadata": {},
     "output_type": "execute_result"
    }
   ],
   "source": [
    "len(songs)"
   ]
  },
  {
   "cell_type": "code",
   "execution_count": 8,
   "id": "bf324a95-51a8-41f6-9626-4b0deb1c02ff",
   "metadata": {
    "tags": []
   },
   "outputs": [],
   "source": [
    "import sklearn"
   ]
  },
  {
   "cell_type": "code",
   "execution_count": 9,
   "id": "fa6725fc-747b-4e7f-bcc9-4681acdc8d4a",
   "metadata": {
    "tags": []
   },
   "outputs": [],
   "source": [
    "from sklearn.feature_extraction.text import TfidfVectorizer"
   ]
  },
  {
   "cell_type": "code",
   "execution_count": 10,
   "id": "483427a2-e654-4f99-a3ce-46230ea51fb8",
   "metadata": {
    "tags": []
   },
   "outputs": [
    {
     "name": "stderr",
     "output_type": "stream",
     "text": [
      "[nltk_data] Downloading package stopwords to /Users/anita/nltk_data...\n",
      "[nltk_data]   Package stopwords is already up-to-date!\n"
     ]
    },
    {
     "data": {
      "text/plain": [
       "True"
      ]
     },
     "execution_count": 10,
     "metadata": {},
     "output_type": "execute_result"
    }
   ],
   "source": [
    "import nltk\n",
    "from nltk.corpus import stopwords\n",
    "nltk.download('stopwords')"
   ]
  },
  {
   "cell_type": "code",
   "execution_count": 11,
   "id": "3bf82ab4-858c-4275-b776-5237786548cb",
   "metadata": {
    "tags": []
   },
   "outputs": [],
   "source": [
    "stop_words = stopwords.words('english')"
   ]
  },
  {
   "cell_type": "code",
   "execution_count": 12,
   "id": "e263a7e1-5d76-4b9a-9565-fe4e4e109757",
   "metadata": {
    "tags": []
   },
   "outputs": [],
   "source": [
    "stop_words.extend([\"oh\", \"girl\", \"came\", \"gone\", \"get\", \"ever\", \"rain\", \"months\", \"back\",\n",
    "    \"got\", \"cause\", \"baby\", \"found\", \"bad\", \"never\", \"home\", \"way\",\n",
    "    \"stay\", \"gonna\", \"mmm\", \"hate\", \"hey\", \"play\", \"people\", \"like\",\n",
    "    \"ah\", \"new\", \"wildest\", \"dreams\", \"even\", \"see\", \"dress\", \"nice\", \"red\",\n",
    "    \"would\", \"right\", \"knew\", \"mad\", \"come\", \"forget\", \"hung\", \"live\",\n",
    "    \"yet\", \"clear\", \"remember\", \"good\", \"yeah\", \"together\", \"thinking\", \"ooh\", \"tell\"])"
   ]
  },
  {
   "cell_type": "code",
   "execution_count": 13,
   "id": "6256c5c1-7ad2-4053-86fd-f5650c302d99",
   "metadata": {
    "tags": []
   },
   "outputs": [],
   "source": [
    "vectorizer = TfidfVectorizer(stop_words = stop_words, min_df = 0.1)"
   ]
  },
  {
   "cell_type": "code",
   "execution_count": 14,
   "id": "8932c348-d02f-4a37-94d5-67e9e1d53a18",
   "metadata": {
    "tags": []
   },
   "outputs": [],
   "source": [
    "tfidf = vectorizer.fit_transform(songs['lyric'])"
   ]
  },
  {
   "cell_type": "code",
   "execution_count": 15,
   "id": "22ec696a-b676-439e-89ee-274c9a68e468",
   "metadata": {
    "tags": []
   },
   "outputs": [],
   "source": [
    "from sklearn.decomposition import NMF"
   ]
  },
  {
   "cell_type": "code",
   "execution_count": 16,
   "id": "713c0930-064b-46b9-ba77-2ef0b3b08f60",
   "metadata": {
    "tags": []
   },
   "outputs": [],
   "source": [
    "nmf = NMF(n_components = 6)"
   ]
  },
  {
   "cell_type": "code",
   "execution_count": 17,
   "id": "9bdacb74-a19f-4aac-ae74-48feeb346f6d",
   "metadata": {
    "tags": []
   },
   "outputs": [],
   "source": [
    "topic_values = nmf.fit_transform(tfidf)"
   ]
  },
  {
   "cell_type": "code",
   "execution_count": 18,
   "id": "4960ddd1-de48-47d4-b7e6-b21b83d22a01",
   "metadata": {
    "tags": []
   },
   "outputs": [
    {
     "name": "stdout",
     "output_type": "stream",
     "text": [
      "Topic #1: know run hide love always hand long straight pass trying\n",
      "Topic #2: say forever want cheeks worse wait lost better well lips\n",
      "Topic #3: every free last life us night best dancing alcohol verified\n",
      "Topic #4: think breathe morning used look made worst could take turned\n",
      "Topic #5: go stop players say ex make keep long gettin beat\n",
      "Topic #6: love lights beat true feel dance hear boys keeps look\n"
     ]
    }
   ],
   "source": [
    "for topic_num, topic in enumerate(nmf.components_):\n",
    "    message = \"Topic #{}: \".format(topic_num + 1)\n",
    "    message += \" \".join([vectorizer.get_feature_names_out()[i] for i in topic.argsort()[:-11 :-1]])\n",
    "    print(message)"
   ]
  },
  {
   "cell_type": "code",
   "execution_count": 19,
   "id": "1a867000-1b07-4044-8d2d-fe2e9bd0d159",
   "metadata": {
    "tags": []
   },
   "outputs": [],
   "source": [
    "topic_labels = ['relationships', 'desire', 'enjoying life', 'turmoil', 'moving on', 'romantic vibes']"
   ]
  },
  {
   "cell_type": "code",
   "execution_count": 20,
   "id": "3f1141fe-2105-4248-8860-3b6f11a12d23",
   "metadata": {
    "tags": []
   },
   "outputs": [
    {
     "data": {
      "text/html": [
       "<div>\n",
       "<style scoped>\n",
       "    .dataframe tbody tr th:only-of-type {\n",
       "        vertical-align: middle;\n",
       "    }\n",
       "\n",
       "    .dataframe tbody tr th {\n",
       "        vertical-align: top;\n",
       "    }\n",
       "\n",
       "    .dataframe thead th {\n",
       "        text-align: right;\n",
       "    }\n",
       "</style>\n",
       "<table border=\"1\" class=\"dataframe\">\n",
       "  <thead>\n",
       "    <tr style=\"text-align: right;\">\n",
       "      <th></th>\n",
       "      <th>relationships</th>\n",
       "      <th>desire</th>\n",
       "      <th>enjoying life</th>\n",
       "      <th>turmoil</th>\n",
       "      <th>moving on</th>\n",
       "      <th>romantic vibes</th>\n",
       "    </tr>\n",
       "  </thead>\n",
       "  <tbody>\n",
       "    <tr>\n",
       "      <th>0</th>\n",
       "      <td>0.188435</td>\n",
       "      <td>0.417430</td>\n",
       "      <td>0.000000</td>\n",
       "      <td>0.010506</td>\n",
       "      <td>0.154572</td>\n",
       "      <td>0.000000</td>\n",
       "    </tr>\n",
       "    <tr>\n",
       "      <th>1</th>\n",
       "      <td>0.044967</td>\n",
       "      <td>0.000000</td>\n",
       "      <td>0.000000</td>\n",
       "      <td>0.680983</td>\n",
       "      <td>0.030393</td>\n",
       "      <td>0.116566</td>\n",
       "    </tr>\n",
       "    <tr>\n",
       "      <th>2</th>\n",
       "      <td>0.065327</td>\n",
       "      <td>0.143523</td>\n",
       "      <td>0.001440</td>\n",
       "      <td>0.000000</td>\n",
       "      <td>0.443608</td>\n",
       "      <td>0.235532</td>\n",
       "    </tr>\n",
       "    <tr>\n",
       "      <th>3</th>\n",
       "      <td>0.000000</td>\n",
       "      <td>0.000000</td>\n",
       "      <td>0.000000</td>\n",
       "      <td>0.781814</td>\n",
       "      <td>0.000000</td>\n",
       "      <td>0.000000</td>\n",
       "    </tr>\n",
       "    <tr>\n",
       "      <th>4</th>\n",
       "      <td>0.000000</td>\n",
       "      <td>0.817239</td>\n",
       "      <td>0.000000</td>\n",
       "      <td>0.000000</td>\n",
       "      <td>0.000000</td>\n",
       "      <td>0.000000</td>\n",
       "    </tr>\n",
       "    <tr>\n",
       "      <th>5</th>\n",
       "      <td>0.525345</td>\n",
       "      <td>0.000000</td>\n",
       "      <td>0.000000</td>\n",
       "      <td>0.000000</td>\n",
       "      <td>0.000000</td>\n",
       "      <td>0.000000</td>\n",
       "    </tr>\n",
       "    <tr>\n",
       "      <th>6</th>\n",
       "      <td>0.463792</td>\n",
       "      <td>0.000000</td>\n",
       "      <td>0.000000</td>\n",
       "      <td>0.056799</td>\n",
       "      <td>0.000469</td>\n",
       "      <td>0.014483</td>\n",
       "    </tr>\n",
       "    <tr>\n",
       "      <th>7</th>\n",
       "      <td>0.009314</td>\n",
       "      <td>0.000000</td>\n",
       "      <td>0.571307</td>\n",
       "      <td>0.000000</td>\n",
       "      <td>0.037001</td>\n",
       "      <td>0.028829</td>\n",
       "    </tr>\n",
       "    <tr>\n",
       "      <th>8</th>\n",
       "      <td>0.000000</td>\n",
       "      <td>0.000000</td>\n",
       "      <td>0.596714</td>\n",
       "      <td>0.021347</td>\n",
       "      <td>0.000000</td>\n",
       "      <td>0.000000</td>\n",
       "    </tr>\n",
       "    <tr>\n",
       "      <th>9</th>\n",
       "      <td>0.000000</td>\n",
       "      <td>0.003726</td>\n",
       "      <td>0.000000</td>\n",
       "      <td>0.000000</td>\n",
       "      <td>0.779408</td>\n",
       "      <td>0.000000</td>\n",
       "    </tr>\n",
       "    <tr>\n",
       "      <th>10</th>\n",
       "      <td>0.000000</td>\n",
       "      <td>0.000000</td>\n",
       "      <td>0.084076</td>\n",
       "      <td>0.000000</td>\n",
       "      <td>0.672641</td>\n",
       "      <td>0.000000</td>\n",
       "    </tr>\n",
       "    <tr>\n",
       "      <th>11</th>\n",
       "      <td>0.062691</td>\n",
       "      <td>0.000000</td>\n",
       "      <td>0.000000</td>\n",
       "      <td>0.000000</td>\n",
       "      <td>0.000000</td>\n",
       "      <td>0.664819</td>\n",
       "    </tr>\n",
       "    <tr>\n",
       "      <th>12</th>\n",
       "      <td>0.000000</td>\n",
       "      <td>0.032652</td>\n",
       "      <td>0.021816</td>\n",
       "      <td>0.000000</td>\n",
       "      <td>0.039942</td>\n",
       "      <td>0.559602</td>\n",
       "    </tr>\n",
       "    <tr>\n",
       "      <th>13</th>\n",
       "      <td>0.015453</td>\n",
       "      <td>0.636824</td>\n",
       "      <td>0.000000</td>\n",
       "      <td>0.000000</td>\n",
       "      <td>0.044915</td>\n",
       "      <td>0.000000</td>\n",
       "    </tr>\n",
       "    <tr>\n",
       "      <th>14</th>\n",
       "      <td>0.000000</td>\n",
       "      <td>0.437345</td>\n",
       "      <td>0.234540</td>\n",
       "      <td>0.069112</td>\n",
       "      <td>0.000000</td>\n",
       "      <td>0.031363</td>\n",
       "    </tr>\n",
       "    <tr>\n",
       "      <th>15</th>\n",
       "      <td>0.000000</td>\n",
       "      <td>0.000000</td>\n",
       "      <td>0.005742</td>\n",
       "      <td>0.004948</td>\n",
       "      <td>0.000000</td>\n",
       "      <td>0.758943</td>\n",
       "    </tr>\n",
       "  </tbody>\n",
       "</table>\n",
       "</div>"
      ],
      "text/plain": [
       "    relationships    desire  enjoying life   turmoil  moving on  \\\n",
       "0        0.188435  0.417430       0.000000  0.010506   0.154572   \n",
       "1        0.044967  0.000000       0.000000  0.680983   0.030393   \n",
       "2        0.065327  0.143523       0.001440  0.000000   0.443608   \n",
       "3        0.000000  0.000000       0.000000  0.781814   0.000000   \n",
       "4        0.000000  0.817239       0.000000  0.000000   0.000000   \n",
       "5        0.525345  0.000000       0.000000  0.000000   0.000000   \n",
       "6        0.463792  0.000000       0.000000  0.056799   0.000469   \n",
       "7        0.009314  0.000000       0.571307  0.000000   0.037001   \n",
       "8        0.000000  0.000000       0.596714  0.021347   0.000000   \n",
       "9        0.000000  0.003726       0.000000  0.000000   0.779408   \n",
       "10       0.000000  0.000000       0.084076  0.000000   0.672641   \n",
       "11       0.062691  0.000000       0.000000  0.000000   0.000000   \n",
       "12       0.000000  0.032652       0.021816  0.000000   0.039942   \n",
       "13       0.015453  0.636824       0.000000  0.000000   0.044915   \n",
       "14       0.000000  0.437345       0.234540  0.069112   0.000000   \n",
       "15       0.000000  0.000000       0.005742  0.004948   0.000000   \n",
       "\n",
       "    romantic vibes  \n",
       "0         0.000000  \n",
       "1         0.116566  \n",
       "2         0.235532  \n",
       "3         0.000000  \n",
       "4         0.000000  \n",
       "5         0.000000  \n",
       "6         0.014483  \n",
       "7         0.028829  \n",
       "8         0.000000  \n",
       "9         0.000000  \n",
       "10        0.000000  \n",
       "11        0.664819  \n",
       "12        0.559602  \n",
       "13        0.000000  \n",
       "14        0.031363  \n",
       "15        0.758943  "
      ]
     },
     "execution_count": 20,
     "metadata": {},
     "output_type": "execute_result"
    }
   ],
   "source": [
    "df_topics = pd.DataFrame(topic_values, columns = topic_labels)\n",
    "df_topics"
   ]
  },
  {
   "cell_type": "code",
   "execution_count": 21,
   "id": "c3b4a156-9ff6-4cd0-af76-2f632ec1e47e",
   "metadata": {
    "tags": []
   },
   "outputs": [],
   "source": [
    "songs = songs.join(df_topics) "
   ]
  },
  {
   "cell_type": "code",
   "execution_count": 22,
   "id": "c8deded5-faa4-47a5-b542-22656de9dada",
   "metadata": {
    "tags": []
   },
   "outputs": [],
   "source": [
    "songs.loc[songs['relationships'] >= 0.1, 'relationships'] = 1\n",
    "songs.loc[songs['desire'] >= 0.1, 'desire'] = 1\n",
    "songs.loc[songs['enjoying life'] >= 0.1, 'enjoying life'] = 1\n",
    "songs.loc[songs['turmoil'] >= 0.1, 'turmoil'] = 1\n",
    "songs.loc[songs['moving on'] >= 0.1, 'moving on'] = 1\n",
    "songs.loc[songs['romantic vibes'] >= 0.1, 'romantic vibes'] = 1"
   ]
  },
  {
   "cell_type": "code",
   "execution_count": 23,
   "id": "cb147a2a-7a75-401e-8a69-ddc61c820e45",
   "metadata": {
    "tags": []
   },
   "outputs": [],
   "source": [
    "songs.loc[songs['relationships'] < 0.1, 'relationships'] = 0\n",
    "songs.loc[songs['desire'] < 0.1, 'desire'] = 0\n",
    "songs.loc[songs['enjoying life'] < 0.1, 'enjoying life'] = 0\n",
    "songs.loc[songs['turmoil'] < 0.1, 'turmoil'] = 0\n",
    "songs.loc[songs['moving on'] < 0.1, 'moving on'] = 0\n",
    "songs.loc[songs['romantic vibes'] < 0.1, 'romantic vibes'] = 0"
   ]
  },
  {
   "cell_type": "code",
   "execution_count": 24,
   "id": "cd60301b-ae63-4f27-a515-d3356c269f2c",
   "metadata": {
    "tags": []
   },
   "outputs": [],
   "source": [
    "songs_csv = songs.to_csv('topics/1989_topics.csv')"
   ]
  },
  {
   "cell_type": "code",
   "execution_count": null,
   "id": "69e13cea-46c2-4e0e-8c5d-a54780b9c899",
   "metadata": {},
   "outputs": [],
   "source": []
  }
 ],
 "metadata": {
  "kernelspec": {
   "display_name": "Python 3 (ipykernel)",
   "language": "python",
   "name": "python3"
  },
  "language_info": {
   "codemirror_mode": {
    "name": "ipython",
    "version": 3
   },
   "file_extension": ".py",
   "mimetype": "text/x-python",
   "name": "python",
   "nbconvert_exporter": "python",
   "pygments_lexer": "ipython3",
   "version": "3.11.9"
  }
 },
 "nbformat": 4,
 "nbformat_minor": 5
}
