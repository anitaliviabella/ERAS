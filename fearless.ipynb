{
 "cells": [
  {
   "cell_type": "code",
   "execution_count": 1,
   "id": "061c54fb-f5d5-4fe1-83bd-279881501392",
   "metadata": {
    "tags": []
   },
   "outputs": [],
   "source": [
    "import pandas as pd\n",
    "df = pd.read_csv('corpus/fearless_lyrics.csv', encoding = 'latin-1')"
   ]
  },
  {
   "cell_type": "code",
   "execution_count": 2,
   "id": "909359a6-1721-41d7-b548-62e69002d3b9",
   "metadata": {
    "tags": []
   },
   "outputs": [
    {
     "data": {
      "text/html": [
       "<div>\n",
       "<style scoped>\n",
       "    .dataframe tbody tr th:only-of-type {\n",
       "        vertical-align: middle;\n",
       "    }\n",
       "\n",
       "    .dataframe tbody tr th {\n",
       "        vertical-align: top;\n",
       "    }\n",
       "\n",
       "    .dataframe thead th {\n",
       "        text-align: right;\n",
       "    }\n",
       "</style>\n",
       "<table border=\"1\" class=\"dataframe\">\n",
       "  <thead>\n",
       "    <tr style=\"text-align: right;\">\n",
       "      <th></th>\n",
       "      <th>ï»¿album_name</th>\n",
       "      <th>track_title</th>\n",
       "      <th>track_n</th>\n",
       "      <th>lyric</th>\n",
       "      <th>line</th>\n",
       "    </tr>\n",
       "  </thead>\n",
       "  <tbody>\n",
       "    <tr>\n",
       "      <th>0</th>\n",
       "      <td>Fearless (Taylorâs Version)</td>\n",
       "      <td>Fearless (Taylorâs Version)</td>\n",
       "      <td>1</td>\n",
       "      <td>There's something 'bout the way</td>\n",
       "      <td>1</td>\n",
       "    </tr>\n",
       "    <tr>\n",
       "      <th>1</th>\n",
       "      <td>Fearless (Taylorâs Version)</td>\n",
       "      <td>Fearless (Taylorâs Version)</td>\n",
       "      <td>1</td>\n",
       "      <td>The street looks when it's just rained</td>\n",
       "      <td>2</td>\n",
       "    </tr>\n",
       "    <tr>\n",
       "      <th>2</th>\n",
       "      <td>Fearless (Taylorâs Version)</td>\n",
       "      <td>Fearless (Taylorâs Version)</td>\n",
       "      <td>1</td>\n",
       "      <td>There's a glow off the pavement, you walk me t...</td>\n",
       "      <td>3</td>\n",
       "    </tr>\n",
       "    <tr>\n",
       "      <th>3</th>\n",
       "      <td>Fearless (Taylorâs Version)</td>\n",
       "      <td>Fearless (Taylorâs Version)</td>\n",
       "      <td>1</td>\n",
       "      <td>And you know I wanna ask you to dance right there</td>\n",
       "      <td>4</td>\n",
       "    </tr>\n",
       "    <tr>\n",
       "      <th>4</th>\n",
       "      <td>Fearless (Taylorâs Version)</td>\n",
       "      <td>Fearless (Taylorâs Version)</td>\n",
       "      <td>1</td>\n",
       "      <td>In the middle of the parking lot, yeah</td>\n",
       "      <td>5</td>\n",
       "    </tr>\n",
       "  </tbody>\n",
       "</table>\n",
       "</div>"
      ],
      "text/plain": [
       "                   ï»¿album_name                    track_title  track_n  \\\n",
       "0  Fearless (Taylorâs Version)  Fearless (Taylorâs Version)        1   \n",
       "1  Fearless (Taylorâs Version)  Fearless (Taylorâs Version)        1   \n",
       "2  Fearless (Taylorâs Version)  Fearless (Taylorâs Version)        1   \n",
       "3  Fearless (Taylorâs Version)  Fearless (Taylorâs Version)        1   \n",
       "4  Fearless (Taylorâs Version)  Fearless (Taylorâs Version)        1   \n",
       "\n",
       "                                               lyric  line  \n",
       "0                    There's something 'bout the way     1  \n",
       "1             The street looks when it's just rained     2  \n",
       "2  There's a glow off the pavement, you walk me t...     3  \n",
       "3  And you know I wanna ask you to dance right there     4  \n",
       "4             In the middle of the parking lot, yeah     5  "
      ]
     },
     "execution_count": 2,
     "metadata": {},
     "output_type": "execute_result"
    }
   ],
   "source": [
    "df.head()"
   ]
  },
  {
   "cell_type": "code",
   "execution_count": 3,
   "id": "baf276db-57a9-430a-9a8c-94bc30a98f17",
   "metadata": {
    "tags": []
   },
   "outputs": [],
   "source": [
    "songs = df.groupby('track_title').agg({'lyric': lambda x: \" \".join(x)}).reset_index()"
   ]
  },
  {
   "cell_type": "code",
   "execution_count": 4,
   "id": "add26663-f7ba-4053-8a7c-503bbe185f90",
   "metadata": {
    "tags": []
   },
   "outputs": [],
   "source": [
    "pd.options.display.max_colwidth = 5000"
   ]
  },
  {
   "cell_type": "code",
   "execution_count": 5,
   "id": "bd4cc8d0-a468-4167-b91c-b763d5081f2b",
   "metadata": {
    "tags": []
   },
   "outputs": [
    {
     "data": {
      "text/html": [
       "<div>\n",
       "<style scoped>\n",
       "    .dataframe tbody tr th:only-of-type {\n",
       "        vertical-align: middle;\n",
       "    }\n",
       "\n",
       "    .dataframe tbody tr th {\n",
       "        vertical-align: top;\n",
       "    }\n",
       "\n",
       "    .dataframe thead th {\n",
       "        text-align: right;\n",
       "    }\n",
       "</style>\n",
       "<table border=\"1\" class=\"dataframe\">\n",
       "  <thead>\n",
       "    <tr style=\"text-align: right;\">\n",
       "      <th></th>\n",
       "      <th>track_title</th>\n",
       "      <th>lyric</th>\n",
       "    </tr>\n",
       "  </thead>\n",
       "  <tbody>\n",
       "    <tr>\n",
       "      <th>0</th>\n",
       "      <td>Breathe (Taylorâs Version)</td>\n",
       "      <td>I see your face in my mind as I drive away 'Cause none of us thought it was gonna end that way People are people and sometimes we change our minds But it's killing me to see you go after all this time Mm-mm, mm-mm-mm-mm Mm-mm, mm-mm-mm-mm The music starts playing like the end of a sad movie It's the kind of ending you don't really wanna see 'Cause it's tragedy and it'll only bring you down Now I don't know what to be without you around And we know it's never simple, never easy Never a clean break,Â no one here to save me You're the only thing I know like the back of my hand And I can'tÂ breathe without you, but I have to Breathe without you, but I have to Never wanted this, never wanna see you hurt Every little bump in the road, I tried to swerve But people are people and sometimes it doesn't work out And nothin' we say is gonna save us from the fallout And we know it's never simple, never easy Never a clean break,Â no one here to save me You're the only thing I know like the back of my hand And I can'tÂ breathe without you, but I have to Breathe without you but I have to It's 2 A.M., feeling like I justÂ lost a friend Hope you know it'sÂ not easy, easy for me It's 2 A.M., feeling likeÂ I just lost a friend Hope you know this ain't easy, easy for me And we know it's never simple, never easy Never a clean break,Â no one here to save me, oh I can'tÂ breathe without you, but I have to Breathe without you, but I have to BreatheÂ without you, but I have to Breathe without you, but I have to I'm sorry, I'm sorry (Mmm) I'm sorry, (Yeah, yeah) I'm sorry I'm sorry, I'm sorry (Ooh, ooh) I'm sorry</td>\n",
       "    </tr>\n",
       "    <tr>\n",
       "      <th>1</th>\n",
       "      <td>Bye Bye Baby (Taylorâs Version) [From the Vault]</td>\n",
       "      <td>It wasn't just like a movie The rain didn't soak through my clothes, down to my skin I'm drivin' away and I, I guess you could say This is the last time I'll drive this way again Lost in the grayÂ and I try to grab at the fray 'Cause I, I still love you but I can't Bye bye to everything I thought was on my side Bye bye baby I want you bad but it's come down to nothing And all I have is your sympathy 'Cause you took me home but you just couldn't keep me Bye bye baby Bye bye baby The picture frame is empty On the dresser, vacant just like me I see your writing on the dash Then back to your hesitation I was so sure of everything Everything I thought we'd always have Guess I never doubted it Then the here and the now floods in Feels like I'm becoming a part of your past Bye bye to everything I thought was on my side Bye bye baby I want you bad but it's come down to nothing And all I have is your sympathy 'Cause you took me home but you just couldn't keep me Bye bye baby And there's so much that I can't touch You're all I want but it's not enough this time And all the pages are just slipping through my hands And I'm so scared of how this ends Bye bye to everything I thought was on my side Bye bye baby I want you bad but it's come down to nothing And all I have is your sympathy 'Cause you took me home but you just couldn't keep me Bye bye to everything I thought was on my side Bye bye baby I want you bad but it's come down to nothing And all I have is your sympathy 'Cause you took me home but you just couldn't keep me Oh, you took me home, I thought you were gonna keep me Bye bye baby Bye bye baby</td>\n",
       "    </tr>\n",
       "    <tr>\n",
       "      <th>2</th>\n",
       "      <td>Change (Taylorâs Version)</td>\n",
       "      <td>Well, it's a sad picture, the final blow hits you Somebody else gets what you wanted again and You know itâs all the same, another time and place Repeating history and you're getting sick of it But I believe in whatever you do And I'll do anything to see it through Because these things will change Can you feel it now? These walls that they put up to hold us back will fall down This revolution, the time will come For us to finally win And weâll sing hallelujah, we'll sing hallelujah Oh, oh So we've been outnumbered, raidÐµd, and now cornered It's hard to fight when thÐµ fight ain't fair We're getting stronger now, find things they never found They might be bigger but we're faster and never scared You can walk away, say we don't need this But thereâs something in your eyes says we can beat this âCause these things will change Can you feel it now? These walls that they put up to hold us back will fall down This revolution, the time will come For us to finally win And we'll sing hallelujah, weâll sing hallelujah Oh, oh Tonight, we'll stand, get off our knees Fight for what we've worked for all these years And the battle was long, it's the fight of our lives But weâll stand up champions tonight It was the night things changed Can you see it now? When the wallsÂ that they put up to hold us back fell down It's a revolution, throw your hands up 'Cause we never gave in And we'll sing hallelujah, we sang hallelujah Hallelujah</td>\n",
       "    </tr>\n",
       "    <tr>\n",
       "      <th>3</th>\n",
       "      <td>Come In With the Rain (Taylorâs Version)</td>\n",
       "      <td>I could go back to every laugh But I don't wanna go there anymore And I know all the steps up to your door But I don't wanna go there anymore Talk to the wind, talk to the sky Talk to the man with the reasons why And let me know what you find I'll leave my window open 'Cause I'm too tired at night to call your name Just know I'm right here hoping That you'll come in with the rain I could stand up and sing you a song But I don't wanna have to go that far And I, I've got you down, I know you by heart And you don't even know where I start Talk to yourself, talk to the tears Talk to the man who put you here And don't wait for the sky to clear I'll leave my window open 'Cause I'm too tired at night to call your name, oh Just know I'm right here hoping That you'll come in with the rain I've watched you so long, screamed your name I don't know what else I can say I'll leave my window open 'Cause I'm too tired at night for all these games Just know I'm right here hoping That you'll come in with the rain I could go back to every laugh But I don't wanna go there anymore</td>\n",
       "    </tr>\n",
       "    <tr>\n",
       "      <th>4</th>\n",
       "      <td>Donât You (Taylorâs Version) [From the Vault]</td>\n",
       "      <td>Hey, I knew I'd run into you somewhere It's been a while, I didn't mean to stare I heard she's nothin' like me I'm sure she'll make you happy But don't you, don't you Smile at me and ask me how I've been Don't you say you've Missed me if you don't want me again You don't know how much I feel I love you still So why don't you, don't you? Ah, ah, ah, ah Ah, ah, ah Sometimes, I really wish that I could hate you I've tried, but that's just somethin' I can't do My heart knows what the truth is I swore I wouldn't do this But don't you, don't you Smile at me and ask me how I've been Don't you say you've Missed me if you don't want me again You don't know how much I feel I love you still So why don't you, don't you? So I walk outta here tonight Try to go on with my life And you can say we're still friends (But I don't wanna pretend) So if I see you again Don't you (Don't you), don't you Smile at me and ask me how I've been Don't you (Don't you) say you've Missed me if you don't want me again You don't (You don't) know how much I feel I love you still So why don't you, don't you? Ah, ah, ah, ah Don't you (Ah, ah, ah)</td>\n",
       "    </tr>\n",
       "  </tbody>\n",
       "</table>\n",
       "</div>"
      ],
      "text/plain": [
       "                                          track_title  \\\n",
       "0                        Breathe (Taylorâs Version)   \n",
       "1  Bye Bye Baby (Taylorâs Version) [From the Vault]   \n",
       "2                         Change (Taylorâs Version)   \n",
       "3          Come In With the Rain (Taylorâs Version)   \n",
       "4   Donât You (Taylorâs Version) [From the Vault]   \n",
       "\n",
       "                                                                                                                                                                                                                                                                                                                                                                                                                                                                                                                                                                                                                                                                                                                                                                                                                                                                                                                                                                                                                                                                                                                                                                                                                                                                                                                                                                                                                                                                                                                                                                                                                                                                                lyric  \n",
       "0       I see your face in my mind as I drive away 'Cause none of us thought it was gonna end that way People are people and sometimes we change our minds But it's killing me to see you go after all this time Mm-mm, mm-mm-mm-mm Mm-mm, mm-mm-mm-mm The music starts playing like the end of a sad movie It's the kind of ending you don't really wanna see 'Cause it's tragedy and it'll only bring you down Now I don't know what to be without you around And we know it's never simple, never easy Never a clean break,Â no one here to save me You're the only thing I know like the back of my hand And I can'tÂ breathe without you, but I have to Breathe without you, but I have to Never wanted this, never wanna see you hurt Every little bump in the road, I tried to swerve But people are people and sometimes it doesn't work out And nothin' we say is gonna save us from the fallout And we know it's never simple, never easy Never a clean break,Â no one here to save me You're the only thing I know like the back of my hand And I can'tÂ breathe without you, but I have to Breathe without you but I have to It's 2 A.M., feeling like I justÂ lost a friend Hope you know it'sÂ not easy, easy for me It's 2 A.M., feeling likeÂ I just lost a friend Hope you know this ain't easy, easy for me And we know it's never simple, never easy Never a clean break,Â no one here to save me, oh I can'tÂ breathe without you, but I have to Breathe without you, but I have to BreatheÂ without you, but I have to Breathe without you, but I have to I'm sorry, I'm sorry (Mmm) I'm sorry, (Yeah, yeah) I'm sorry I'm sorry, I'm sorry (Ooh, ooh) I'm sorry  \n",
       "1  It wasn't just like a movie The rain didn't soak through my clothes, down to my skin I'm drivin' away and I, I guess you could say This is the last time I'll drive this way again Lost in the grayÂ and I try to grab at the fray 'Cause I, I still love you but I can't Bye bye to everything I thought was on my side Bye bye baby I want you bad but it's come down to nothing And all I have is your sympathy 'Cause you took me home but you just couldn't keep me Bye bye baby Bye bye baby The picture frame is empty On the dresser, vacant just like me I see your writing on the dash Then back to your hesitation I was so sure of everything Everything I thought we'd always have Guess I never doubted it Then the here and the now floods in Feels like I'm becoming a part of your past Bye bye to everything I thought was on my side Bye bye baby I want you bad but it's come down to nothing And all I have is your sympathy 'Cause you took me home but you just couldn't keep me Bye bye baby And there's so much that I can't touch You're all I want but it's not enough this time And all the pages are just slipping through my hands And I'm so scared of how this ends Bye bye to everything I thought was on my side Bye bye baby I want you bad but it's come down to nothing And all I have is your sympathy 'Cause you took me home but you just couldn't keep me Bye bye to everything I thought was on my side Bye bye baby I want you bad but it's come down to nothing And all I have is your sympathy 'Cause you took me home but you just couldn't keep me Oh, you took me home, I thought you were gonna keep me Bye bye baby Bye bye baby  \n",
       "2                                                                                                                                                                         Well, it's a sad picture, the final blow hits you Somebody else gets what you wanted again and You know itâs all the same, another time and place Repeating history and you're getting sick of it But I believe in whatever you do And I'll do anything to see it through Because these things will change Can you feel it now? These walls that they put up to hold us back will fall down This revolution, the time will come For us to finally win And weâll sing hallelujah, we'll sing hallelujah Oh, oh So we've been outnumbered, raidÐµd, and now cornered It's hard to fight when thÐµ fight ain't fair We're getting stronger now, find things they never found They might be bigger but we're faster and never scared You can walk away, say we don't need this But thereâs something in your eyes says we can beat this âCause these things will change Can you feel it now? These walls that they put up to hold us back will fall down This revolution, the time will come For us to finally win And we'll sing hallelujah, weâll sing hallelujah Oh, oh Tonight, we'll stand, get off our knees Fight for what we've worked for all these years And the battle was long, it's the fight of our lives But weâll stand up champions tonight It was the night things changed Can you see it now? When the wallsÂ that they put up to hold us back fell down It's a revolution, throw your hands up 'Cause we never gave in And we'll sing hallelujah, we sang hallelujah Hallelujah  \n",
       "3                                                                                                                                                                                                                                                                                                                                                                                                                                                                                                                                                                I could go back to every laugh But I don't wanna go there anymore And I know all the steps up to your door But I don't wanna go there anymore Talk to the wind, talk to the sky Talk to the man with the reasons why And let me know what you find I'll leave my window open 'Cause I'm too tired at night to call your name Just know I'm right here hoping That you'll come in with the rain I could stand up and sing you a song But I don't wanna have to go that far And I, I've got you down, I know you by heart And you don't even know where I start Talk to yourself, talk to the tears Talk to the man who put you here And don't wait for the sky to clear I'll leave my window open 'Cause I'm too tired at night to call your name, oh Just know I'm right here hoping That you'll come in with the rain I've watched you so long, screamed your name I don't know what else I can say I'll leave my window open 'Cause I'm too tired at night for all these games Just know I'm right here hoping That you'll come in with the rain I could go back to every laugh But I don't wanna go there anymore  \n",
       "4                                                                                                                                                                                                                                                                                                                                                                                                                                                                                                               Hey, I knew I'd run into you somewhere It's been a while, I didn't mean to stare I heard she's nothin' like me I'm sure she'll make you happy But don't you, don't you Smile at me and ask me how I've been Don't you say you've Missed me if you don't want me again You don't know how much I feel I love you still So why don't you, don't you? Ah, ah, ah, ah Ah, ah, ah Sometimes, I really wish that I could hate you I've tried, but that's just somethin' I can't do My heart knows what the truth is I swore I wouldn't do this But don't you, don't you Smile at me and ask me how I've been Don't you say you've Missed me if you don't want me again You don't know how much I feel I love you still So why don't you, don't you? So I walk outta here tonight Try to go on with my life And you can say we're still friends (But I don't wanna pretend) So if I see you again Don't you (Don't you), don't you Smile at me and ask me how I've been Don't you (Don't you) say you've Missed me if you don't want me again You don't (You don't) know how much I feel I love you still So why don't you, don't you? Ah, ah, ah, ah Don't you (Ah, ah, ah)  "
      ]
     },
     "execution_count": 5,
     "metadata": {},
     "output_type": "execute_result"
    }
   ],
   "source": [
    "songs.head()"
   ]
  },
  {
   "cell_type": "code",
   "execution_count": 6,
   "id": "257df5f0-66d9-4c19-a924-91eb1b11b0b3",
   "metadata": {
    "tags": []
   },
   "outputs": [
    {
     "data": {
      "text/plain": [
       "26"
      ]
     },
     "execution_count": 6,
     "metadata": {},
     "output_type": "execute_result"
    }
   ],
   "source": [
    "len(songs)"
   ]
  },
  {
   "cell_type": "code",
   "execution_count": 7,
   "id": "fc8df06c-7fe3-4bc1-8b9c-cd9277ecea35",
   "metadata": {
    "tags": []
   },
   "outputs": [],
   "source": [
    "import sklearn"
   ]
  },
  {
   "cell_type": "code",
   "execution_count": 8,
   "id": "b1b17f83-edc7-44e6-9a59-1661a35e8c16",
   "metadata": {
    "tags": []
   },
   "outputs": [],
   "source": [
    "from sklearn.feature_extraction.text import TfidfVectorizer"
   ]
  },
  {
   "cell_type": "code",
   "execution_count": 9,
   "id": "fbeb0076-7e1a-41e6-a2c2-7cd7e1b7a5ba",
   "metadata": {
    "tags": []
   },
   "outputs": [
    {
     "name": "stderr",
     "output_type": "stream",
     "text": [
      "[nltk_data] Downloading package stopwords to /Users/anita/nltk_data...\n",
      "[nltk_data]   Package stopwords is already up-to-date!\n"
     ]
    },
    {
     "data": {
      "text/plain": [
       "True"
      ]
     },
     "execution_count": 9,
     "metadata": {},
     "output_type": "execute_result"
    }
   ],
   "source": [
    "import nltk\n",
    "from nltk.corpus import stopwords\n",
    "nltk.download('stopwords')"
   ]
  },
  {
   "cell_type": "code",
   "execution_count": 10,
   "id": "c5b86191-11db-4644-b773-dd400f005a43",
   "metadata": {
    "tags": []
   },
   "outputs": [],
   "source": [
    "stop_words = stopwords.words('english')"
   ]
  },
  {
   "cell_type": "code",
   "execution_count": 11,
   "id": "98f41634-2c55-48ab-a89e-d1a428f6a5c8",
   "metadata": {
    "tags": []
   },
   "outputs": [],
   "source": [
    "stop_words.extend([\n",
    "    \"oh\", \"come\", \"sorry\", \"loved\", \"happy\", \"whoa\", \"baby\", \"anymore\", \"name\", \"white\",\n",
    "    \"said\", \"always\", \"everything\", \"back\", \"nothing\", \"feel\", \"wrong\", \"oh\", \"called\",\n",
    "    \"mm\", \"help\", \"never\", \"people\", \"one\", \"feeling\", \"hey\", \"since\", \"met\",\n",
    "    \"fall\", \"today\", \"talk\", \"time\", \"leave\", \"window\", \"sing\", \"far\", \"shine\", \"day\",\n",
    "    \"still\", \"much\", \"swore\", \"knows\", \"want\", \"gets\", \"say\", \"first\", \"take\", \"tell\",\n",
    "    \"around\", \"believe\", \"things\", \"breath\"\n",
    "])"
   ]
  },
  {
   "cell_type": "code",
   "execution_count": 12,
   "id": "8abc4a12-6f65-45b3-be7f-d7d082d3db01",
   "metadata": {
    "tags": []
   },
   "outputs": [],
   "source": [
    "vectorizer = TfidfVectorizer(stop_words = stop_words, min_df = 0.1)"
   ]
  },
  {
   "cell_type": "code",
   "execution_count": 13,
   "id": "997e533d-2f0f-4665-bb44-2d847215bee9",
   "metadata": {
    "tags": []
   },
   "outputs": [],
   "source": [
    "tfidf = vectorizer.fit_transform(songs['lyric'])"
   ]
  },
  {
   "cell_type": "code",
   "execution_count": 14,
   "id": "ac2a21a2-7401-4a24-8d58-a8a5f7095f6e",
   "metadata": {
    "tags": []
   },
   "outputs": [],
   "source": [
    "from sklearn.decomposition import NMF"
   ]
  },
  {
   "cell_type": "code",
   "execution_count": 15,
   "id": "f24c2a26-cc45-4cf6-b4cf-5a3f376d0a8e",
   "metadata": {
    "tags": []
   },
   "outputs": [],
   "source": [
    "nmf = NMF(n_components = 6)"
   ]
  },
  {
   "cell_type": "code",
   "execution_count": 16,
   "id": "29e35027-ef7b-4eb8-b72d-6b1f05c7a197",
   "metadata": {
    "tags": []
   },
   "outputs": [],
   "source": [
    "topic_values = nmf.fit_transform(tfidf)"
   ]
  },
  {
   "cell_type": "code",
   "execution_count": 17,
   "id": "82d89fd1-02c1-4d33-a117-29a6b5a57c84",
   "metadata": {
    "tags": []
   },
   "outputs": [
    {
     "name": "stdout",
     "output_type": "stream",
     "text": [
      "Topic #1: know best hand see run better gonna head wanna yeah\n",
      "Topic #2: gone stare flashback phone cause eye looked caught forget something\n",
      "Topic #3: way smile love gonna saw could every like knew another\n",
      "Topic #4: last got wanna right fine would long every tired like\n",
      "Topic #5: fight need let waiting crying face morning see stand town\n",
      "Topic #6: took little like side middle keep thought night got cause\n"
     ]
    }
   ],
   "source": [
    "for topic_num, topic in enumerate(nmf.components_):\n",
    "    message = \"Topic #{}: \".format(topic_num + 1)\n",
    "    message += \" \".join([vectorizer.get_feature_names_out()[i] for i in topic.argsort()[:-11 :-1]])\n",
    "    print(message)\n",
    "    "
   ]
  },
  {
   "cell_type": "code",
   "execution_count": 18,
   "id": "4a7a3c5f-de1f-4283-8cb2-5ae3e1b071bf",
   "metadata": {},
   "outputs": [],
   "source": [
    "topic_labels = ['decision-making', 'regret', 'love', 'uncertainty', 'conflict', 'future']"
   ]
  },
  {
   "cell_type": "code",
   "execution_count": 19,
   "id": "6c46c5a8-39a2-4728-b77e-a67624f81610",
   "metadata": {
    "tags": []
   },
   "outputs": [
    {
     "data": {
      "text/html": [
       "<div>\n",
       "<style scoped>\n",
       "    .dataframe tbody tr th:only-of-type {\n",
       "        vertical-align: middle;\n",
       "    }\n",
       "\n",
       "    .dataframe tbody tr th {\n",
       "        vertical-align: top;\n",
       "    }\n",
       "\n",
       "    .dataframe thead th {\n",
       "        text-align: right;\n",
       "    }\n",
       "</style>\n",
       "<table border=\"1\" class=\"dataframe\">\n",
       "  <thead>\n",
       "    <tr style=\"text-align: right;\">\n",
       "      <th></th>\n",
       "      <th>decision-making</th>\n",
       "      <th>regret</th>\n",
       "      <th>love</th>\n",
       "      <th>uncertainty</th>\n",
       "      <th>conflict</th>\n",
       "      <th>future</th>\n",
       "    </tr>\n",
       "  </thead>\n",
       "  <tbody>\n",
       "    <tr>\n",
       "      <th>0</th>\n",
       "      <td>0.346223</td>\n",
       "      <td>0.000000</td>\n",
       "      <td>0.047027</td>\n",
       "      <td>0.042170</td>\n",
       "      <td>0.000000</td>\n",
       "      <td>0.101417</td>\n",
       "    </tr>\n",
       "    <tr>\n",
       "      <th>1</th>\n",
       "      <td>0.000000</td>\n",
       "      <td>0.009202</td>\n",
       "      <td>0.002870</td>\n",
       "      <td>0.000000</td>\n",
       "      <td>0.000000</td>\n",
       "      <td>0.648780</td>\n",
       "    </tr>\n",
       "    <tr>\n",
       "      <th>2</th>\n",
       "      <td>0.000000</td>\n",
       "      <td>0.004021</td>\n",
       "      <td>0.000000</td>\n",
       "      <td>0.005467</td>\n",
       "      <td>0.597348</td>\n",
       "      <td>0.000000</td>\n",
       "    </tr>\n",
       "    <tr>\n",
       "      <th>3</th>\n",
       "      <td>0.164113</td>\n",
       "      <td>0.000000</td>\n",
       "      <td>0.000000</td>\n",
       "      <td>0.443375</td>\n",
       "      <td>0.000000</td>\n",
       "      <td>0.000000</td>\n",
       "    </tr>\n",
       "    <tr>\n",
       "      <th>4</th>\n",
       "      <td>0.139338</td>\n",
       "      <td>0.032019</td>\n",
       "      <td>0.321786</td>\n",
       "      <td>0.000000</td>\n",
       "      <td>0.000000</td>\n",
       "      <td>0.000000</td>\n",
       "    </tr>\n",
       "    <tr>\n",
       "      <th>5</th>\n",
       "      <td>0.370747</td>\n",
       "      <td>0.026294</td>\n",
       "      <td>0.000000</td>\n",
       "      <td>0.000000</td>\n",
       "      <td>0.000000</td>\n",
       "      <td>0.000000</td>\n",
       "    </tr>\n",
       "    <tr>\n",
       "      <th>6</th>\n",
       "      <td>0.250259</td>\n",
       "      <td>0.000000</td>\n",
       "      <td>0.225166</td>\n",
       "      <td>0.000000</td>\n",
       "      <td>0.000000</td>\n",
       "      <td>0.000000</td>\n",
       "    </tr>\n",
       "    <tr>\n",
       "      <th>7</th>\n",
       "      <td>0.000000</td>\n",
       "      <td>0.823597</td>\n",
       "      <td>0.000000</td>\n",
       "      <td>0.000000</td>\n",
       "      <td>0.000000</td>\n",
       "      <td>0.000000</td>\n",
       "    </tr>\n",
       "    <tr>\n",
       "      <th>8</th>\n",
       "      <td>0.001353</td>\n",
       "      <td>0.820329</td>\n",
       "      <td>0.000000</td>\n",
       "      <td>0.000000</td>\n",
       "      <td>0.003961</td>\n",
       "      <td>0.010645</td>\n",
       "    </tr>\n",
       "    <tr>\n",
       "      <th>9</th>\n",
       "      <td>0.031596</td>\n",
       "      <td>0.000000</td>\n",
       "      <td>0.230560</td>\n",
       "      <td>0.231730</td>\n",
       "      <td>0.031477</td>\n",
       "      <td>0.000000</td>\n",
       "    </tr>\n",
       "    <tr>\n",
       "      <th>10</th>\n",
       "      <td>0.000000</td>\n",
       "      <td>0.006242</td>\n",
       "      <td>0.452331</td>\n",
       "      <td>0.093423</td>\n",
       "      <td>0.000000</td>\n",
       "      <td>0.000000</td>\n",
       "    </tr>\n",
       "    <tr>\n",
       "      <th>11</th>\n",
       "      <td>0.057729</td>\n",
       "      <td>0.021429</td>\n",
       "      <td>0.193741</td>\n",
       "      <td>0.000000</td>\n",
       "      <td>0.277204</td>\n",
       "      <td>0.142249</td>\n",
       "    </tr>\n",
       "    <tr>\n",
       "      <th>12</th>\n",
       "      <td>0.000000</td>\n",
       "      <td>0.037239</td>\n",
       "      <td>0.076227</td>\n",
       "      <td>0.479184</td>\n",
       "      <td>0.000000</td>\n",
       "      <td>0.000000</td>\n",
       "    </tr>\n",
       "    <tr>\n",
       "      <th>13</th>\n",
       "      <td>0.000000</td>\n",
       "      <td>0.000000</td>\n",
       "      <td>0.374334</td>\n",
       "      <td>0.000000</td>\n",
       "      <td>0.195992</td>\n",
       "      <td>0.010453</td>\n",
       "    </tr>\n",
       "    <tr>\n",
       "      <th>14</th>\n",
       "      <td>0.172878</td>\n",
       "      <td>0.000000</td>\n",
       "      <td>0.000000</td>\n",
       "      <td>0.199482</td>\n",
       "      <td>0.019011</td>\n",
       "      <td>0.325977</td>\n",
       "    </tr>\n",
       "    <tr>\n",
       "      <th>15</th>\n",
       "      <td>0.000000</td>\n",
       "      <td>0.000000</td>\n",
       "      <td>0.000000</td>\n",
       "      <td>0.000000</td>\n",
       "      <td>0.649656</td>\n",
       "      <td>0.000000</td>\n",
       "    </tr>\n",
       "    <tr>\n",
       "      <th>16</th>\n",
       "      <td>0.372426</td>\n",
       "      <td>0.000000</td>\n",
       "      <td>0.000000</td>\n",
       "      <td>0.000000</td>\n",
       "      <td>0.055405</td>\n",
       "      <td>0.000000</td>\n",
       "    </tr>\n",
       "    <tr>\n",
       "      <th>17</th>\n",
       "      <td>0.029958</td>\n",
       "      <td>0.014271</td>\n",
       "      <td>0.000000</td>\n",
       "      <td>0.000000</td>\n",
       "      <td>0.444656</td>\n",
       "      <td>0.295795</td>\n",
       "    </tr>\n",
       "    <tr>\n",
       "      <th>18</th>\n",
       "      <td>0.000000</td>\n",
       "      <td>0.065333</td>\n",
       "      <td>0.419300</td>\n",
       "      <td>0.040734</td>\n",
       "      <td>0.000000</td>\n",
       "      <td>0.013686</td>\n",
       "    </tr>\n",
       "    <tr>\n",
       "      <th>19</th>\n",
       "      <td>0.000000</td>\n",
       "      <td>0.000000</td>\n",
       "      <td>0.442066</td>\n",
       "      <td>0.000000</td>\n",
       "      <td>0.000000</td>\n",
       "      <td>0.010003</td>\n",
       "    </tr>\n",
       "    <tr>\n",
       "      <th>20</th>\n",
       "      <td>0.000000</td>\n",
       "      <td>0.000000</td>\n",
       "      <td>0.000000</td>\n",
       "      <td>0.000000</td>\n",
       "      <td>0.000000</td>\n",
       "      <td>0.634332</td>\n",
       "    </tr>\n",
       "    <tr>\n",
       "      <th>21</th>\n",
       "      <td>0.043452</td>\n",
       "      <td>0.000000</td>\n",
       "      <td>0.335303</td>\n",
       "      <td>0.000000</td>\n",
       "      <td>0.000000</td>\n",
       "      <td>0.000000</td>\n",
       "    </tr>\n",
       "    <tr>\n",
       "      <th>22</th>\n",
       "      <td>0.116421</td>\n",
       "      <td>0.000000</td>\n",
       "      <td>0.000000</td>\n",
       "      <td>0.000000</td>\n",
       "      <td>0.511197</td>\n",
       "      <td>0.000000</td>\n",
       "    </tr>\n",
       "    <tr>\n",
       "      <th>23</th>\n",
       "      <td>0.000000</td>\n",
       "      <td>0.000000</td>\n",
       "      <td>0.000000</td>\n",
       "      <td>0.583921</td>\n",
       "      <td>0.000000</td>\n",
       "      <td>0.050323</td>\n",
       "    </tr>\n",
       "    <tr>\n",
       "      <th>24</th>\n",
       "      <td>0.248443</td>\n",
       "      <td>0.008396</td>\n",
       "      <td>0.072550</td>\n",
       "      <td>0.024482</td>\n",
       "      <td>0.072063</td>\n",
       "      <td>0.166293</td>\n",
       "    </tr>\n",
       "    <tr>\n",
       "      <th>25</th>\n",
       "      <td>0.000000</td>\n",
       "      <td>0.088195</td>\n",
       "      <td>0.000000</td>\n",
       "      <td>0.653263</td>\n",
       "      <td>0.000000</td>\n",
       "      <td>0.000000</td>\n",
       "    </tr>\n",
       "  </tbody>\n",
       "</table>\n",
       "</div>"
      ],
      "text/plain": [
       "    decision-making    regret      love  uncertainty  conflict    future\n",
       "0          0.346223  0.000000  0.047027     0.042170  0.000000  0.101417\n",
       "1          0.000000  0.009202  0.002870     0.000000  0.000000  0.648780\n",
       "2          0.000000  0.004021  0.000000     0.005467  0.597348  0.000000\n",
       "3          0.164113  0.000000  0.000000     0.443375  0.000000  0.000000\n",
       "4          0.139338  0.032019  0.321786     0.000000  0.000000  0.000000\n",
       "5          0.370747  0.026294  0.000000     0.000000  0.000000  0.000000\n",
       "6          0.250259  0.000000  0.225166     0.000000  0.000000  0.000000\n",
       "7          0.000000  0.823597  0.000000     0.000000  0.000000  0.000000\n",
       "8          0.001353  0.820329  0.000000     0.000000  0.003961  0.010645\n",
       "9          0.031596  0.000000  0.230560     0.231730  0.031477  0.000000\n",
       "10         0.000000  0.006242  0.452331     0.093423  0.000000  0.000000\n",
       "11         0.057729  0.021429  0.193741     0.000000  0.277204  0.142249\n",
       "12         0.000000  0.037239  0.076227     0.479184  0.000000  0.000000\n",
       "13         0.000000  0.000000  0.374334     0.000000  0.195992  0.010453\n",
       "14         0.172878  0.000000  0.000000     0.199482  0.019011  0.325977\n",
       "15         0.000000  0.000000  0.000000     0.000000  0.649656  0.000000\n",
       "16         0.372426  0.000000  0.000000     0.000000  0.055405  0.000000\n",
       "17         0.029958  0.014271  0.000000     0.000000  0.444656  0.295795\n",
       "18         0.000000  0.065333  0.419300     0.040734  0.000000  0.013686\n",
       "19         0.000000  0.000000  0.442066     0.000000  0.000000  0.010003\n",
       "20         0.000000  0.000000  0.000000     0.000000  0.000000  0.634332\n",
       "21         0.043452  0.000000  0.335303     0.000000  0.000000  0.000000\n",
       "22         0.116421  0.000000  0.000000     0.000000  0.511197  0.000000\n",
       "23         0.000000  0.000000  0.000000     0.583921  0.000000  0.050323\n",
       "24         0.248443  0.008396  0.072550     0.024482  0.072063  0.166293\n",
       "25         0.000000  0.088195  0.000000     0.653263  0.000000  0.000000"
      ]
     },
     "execution_count": 19,
     "metadata": {},
     "output_type": "execute_result"
    }
   ],
   "source": [
    "df_topics = pd.DataFrame(topic_values, columns = topic_labels)\n",
    "df_topics"
   ]
  },
  {
   "cell_type": "code",
   "execution_count": 20,
   "id": "c36db3ed-8ba1-4873-b3be-4728447f3e00",
   "metadata": {
    "tags": []
   },
   "outputs": [],
   "source": [
    "songs = songs.join(df_topics)"
   ]
  },
  {
   "cell_type": "code",
   "execution_count": 21,
   "id": "c94efecc-a7a3-4fb3-8eeb-615246770241",
   "metadata": {
    "tags": []
   },
   "outputs": [],
   "source": [
    "#topic is in\n",
    "songs.loc[songs['decision-making'] >= 0.1, 'decision-making'] = 1\n",
    "songs.loc[songs['regret'] >= 0.1, 'regret'] = 1\n",
    "songs.loc[songs['love'] >= 0.1, 'love'] = 1\n",
    "songs.loc[songs['uncertainty'] >= 0.1, 'uncertainty'] = 1\n",
    "songs.loc[songs['conflict'] >= 0.1, 'conflict'] = 1\n",
    "songs.loc[songs['future'] >= 0.1, 'future'] = 1"
   ]
  },
  {
   "cell_type": "code",
   "execution_count": 22,
   "id": "a2675184-a1c4-49fa-b52c-009c9103dade",
   "metadata": {
    "tags": []
   },
   "outputs": [],
   "source": [
    "#topic is in\n",
    "songs.loc[songs['decision-making'] < 0.1, 'decision-making'] = 0\n",
    "songs.loc[songs['regret'] < 0.1, 'regret'] = 0\n",
    "songs.loc[songs['love'] < 0.1, 'love'] = 0\n",
    "songs.loc[songs['uncertainty'] < 0.1, 'uncertainty'] = 0\n",
    "songs.loc[songs['conflict'] < 0.1, 'conflict'] = 0\n",
    "songs.loc[songs['future'] < 0.1, 'future'] = 0"
   ]
  },
  {
   "cell_type": "code",
   "execution_count": 23,
   "id": "c26b9cc4-9260-4c48-baed-d0b34a6268e8",
   "metadata": {
    "tags": []
   },
   "outputs": [],
   "source": [
    "songs_csv = songs.to_csv('topics/fearless_topics.csv')"
   ]
  },
  {
   "cell_type": "code",
   "execution_count": null,
   "id": "9123a64b-5516-4ee0-8a39-3503d150e079",
   "metadata": {},
   "outputs": [],
   "source": []
  },
  {
   "cell_type": "code",
   "execution_count": null,
   "id": "e4848dde-4e8f-4789-8428-a3b96e6e4ea5",
   "metadata": {},
   "outputs": [],
   "source": []
  },
  {
   "cell_type": "code",
   "execution_count": null,
   "id": "c586eb6c-7192-479f-ba3d-ddab9d8895a9",
   "metadata": {},
   "outputs": [],
   "source": []
  }
 ],
 "metadata": {
  "kernelspec": {
   "display_name": "Python 3 (ipykernel)",
   "language": "python",
   "name": "python3"
  },
  "language_info": {
   "codemirror_mode": {
    "name": "ipython",
    "version": 3
   },
   "file_extension": ".py",
   "mimetype": "text/x-python",
   "name": "python",
   "nbconvert_exporter": "python",
   "pygments_lexer": "ipython3",
   "version": "3.11.9"
  }
 },
 "nbformat": 4,
 "nbformat_minor": 5
}
