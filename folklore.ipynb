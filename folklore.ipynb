{
 "cells": [
  {
   "cell_type": "code",
   "execution_count": 1,
   "id": "97e6ea5f-1a85-4e74-8699-5928416c0ebb",
   "metadata": {
    "tags": []
   },
   "outputs": [],
   "source": [
    "import pandas as pd"
   ]
  },
  {
   "cell_type": "code",
   "execution_count": 2,
   "id": "746c4892-2610-4639-a719-48a93e7bd6d9",
   "metadata": {
    "tags": []
   },
   "outputs": [],
   "source": [
    "df = pd.read_csv('corpus/folklore_lyrics.csv', encoding = 'latin-1')"
   ]
  },
  {
   "cell_type": "code",
   "execution_count": 3,
   "id": "64cf3082-b3d5-4d58-aa89-68f7b01e0e8c",
   "metadata": {
    "tags": []
   },
   "outputs": [
    {
     "data": {
      "text/html": [
       "<div>\n",
       "<style scoped>\n",
       "    .dataframe tbody tr th:only-of-type {\n",
       "        vertical-align: middle;\n",
       "    }\n",
       "\n",
       "    .dataframe tbody tr th {\n",
       "        vertical-align: top;\n",
       "    }\n",
       "\n",
       "    .dataframe thead th {\n",
       "        text-align: right;\n",
       "    }\n",
       "</style>\n",
       "<table border=\"1\" class=\"dataframe\">\n",
       "  <thead>\n",
       "    <tr style=\"text-align: right;\">\n",
       "      <th></th>\n",
       "      <th>ï»¿album_name</th>\n",
       "      <th>track_title</th>\n",
       "      <th>track_n</th>\n",
       "      <th>lyric</th>\n",
       "      <th>line</th>\n",
       "    </tr>\n",
       "  </thead>\n",
       "  <tbody>\n",
       "    <tr>\n",
       "      <th>0</th>\n",
       "      <td>folklore (deluxe version)</td>\n",
       "      <td>the 1</td>\n",
       "      <td>1</td>\n",
       "      <td>I'm doing good, I'm on some new shit</td>\n",
       "      <td>1</td>\n",
       "    </tr>\n",
       "    <tr>\n",
       "      <th>1</th>\n",
       "      <td>folklore (deluxe version)</td>\n",
       "      <td>the 1</td>\n",
       "      <td>1</td>\n",
       "      <td>Been saying \"yes\" instead of \"no\"</td>\n",
       "      <td>2</td>\n",
       "    </tr>\n",
       "    <tr>\n",
       "      <th>2</th>\n",
       "      <td>folklore (deluxe version)</td>\n",
       "      <td>the 1</td>\n",
       "      <td>1</td>\n",
       "      <td>I thought Iâ",
       "sawâ",
       "you at theâ",
       "bus stop, I d...</td>\n",
       "      <td>3</td>\n",
       "    </tr>\n",
       "    <tr>\n",
       "      <th>3</th>\n",
       "      <td>folklore (deluxe version)</td>\n",
       "      <td>the 1</td>\n",
       "      <td>1</td>\n",
       "      <td>I hitâ",
       "the ground running each night</td>\n",
       "      <td>4</td>\n",
       "    </tr>\n",
       "    <tr>\n",
       "      <th>4</th>\n",
       "      <td>folklore (deluxe version)</td>\n",
       "      <td>the 1</td>\n",
       "      <td>1</td>\n",
       "      <td>I hit the Sunday matinÃ©e</td>\n",
       "      <td>5</td>\n",
       "    </tr>\n",
       "  </tbody>\n",
       "</table>\n",
       "</div>"
      ],
      "text/plain": [
       "               ï»¿album_name track_title  track_n  \\\n",
       "0  folklore (deluxe version)       the 1        1   \n",
       "1  folklore (deluxe version)       the 1        1   \n",
       "2  folklore (deluxe version)       the 1        1   \n",
       "3  folklore (deluxe version)       the 1        1   \n",
       "4  folklore (deluxe version)       the 1        1   \n",
       "\n",
       "                                               lyric  line  \n",
       "0               I'm doing good, I'm on some new shit     1  \n",
       "1                  Been saying \"yes\" instead of \"no\"     2  \n",
       "2  I thought Iâ\n",
       "sawâ\n",
       "you at theâ\n",
       "bus stop, I d...     3  \n",
       "3              I hitâ\n",
       "the ground running each night     4  \n",
       "4                          I hit the Sunday matinÃ©e     5  "
      ]
     },
     "execution_count": 3,
     "metadata": {},
     "output_type": "execute_result"
    }
   ],
   "source": [
    "df.head()"
   ]
  },
  {
   "cell_type": "code",
   "execution_count": 4,
   "id": "e9db7d36-aa96-41e2-affd-92f8898879d4",
   "metadata": {
    "tags": []
   },
   "outputs": [],
   "source": [
    "songs = df.groupby('track_title').agg({'lyric': lambda x: \" \".join(x)}).reset_index()"
   ]
  },
  {
   "cell_type": "code",
   "execution_count": 5,
   "id": "68a335b2-a9a0-4dfc-a507-022830c1a0a1",
   "metadata": {
    "tags": []
   },
   "outputs": [],
   "source": [
    "pd.options.display.max_colwidth = 5000"
   ]
  },
  {
   "cell_type": "code",
   "execution_count": 6,
   "id": "31569bd5-35b9-4761-bc63-7d28af52e79e",
   "metadata": {
    "tags": []
   },
   "outputs": [
    {
     "data": {
      "text/html": [
       "<div>\n",
       "<style scoped>\n",
       "    .dataframe tbody tr th:only-of-type {\n",
       "        vertical-align: middle;\n",
       "    }\n",
       "\n",
       "    .dataframe tbody tr th {\n",
       "        vertical-align: top;\n",
       "    }\n",
       "\n",
       "    .dataframe thead th {\n",
       "        text-align: right;\n",
       "    }\n",
       "</style>\n",
       "<table border=\"1\" class=\"dataframe\">\n",
       "  <thead>\n",
       "    <tr style=\"text-align: right;\">\n",
       "      <th></th>\n",
       "      <th>track_title</th>\n",
       "      <th>lyric</th>\n",
       "    </tr>\n",
       "  </thead>\n",
       "  <tbody>\n",
       "    <tr>\n",
       "      <th>0</th>\n",
       "      <td>august</td>\n",
       "      <td>Salt air, and the rust on your door I never needed anything more Whispers of \"Are youâ",
       "sure?\" \"Neverâ",
       "have I everâ",
       "before\" But I can see us lostâ",
       "in the memory August slipped away into a moment in time 'Cause it was never mine And I can see us twisted in bedsheets August sipped away like a bottle of wine 'Cause you were never mine Your back beneath the sun Wishin' I could write my name on it Will you call when you're back at school? I remember thinkin' I had you But I can see us lost in the memory August slipped away into a moment in time 'Cause it was never mine And I can see us twisted in bedsheets August sipped away like a bottle of wine 'Cause you were never mine Back when we were still changin' for the better Wanting was enough For me, it was enough To live for the hope of it all Cancel plans just in case you'd call And say, \"Meet me behind the mall\" So much for summer love and saying \"us\" 'Cause you weren't mine to lose You weren't mine to lose, no But I can see us lost in the memory August slipped away into a moment in time 'Cause it was never mine And I can see us twisted in bedsheets August sipped away like a bottle of wine 'Cause you were never mine 'Cause you were never mine Never mine But do you remember? Remember when I pulled up and said \"Get in the car\" And then canceled my plans just in case you'd call? Back when I was livin' for the hope of it all, for the hope of it all \"Meet me behind the mall\" (Remember when I pulled up and said \"Get in the car\") (And then canceled my plans just in case you'd call?) (Back when I was livin' for the hope of it all, for the hope of it all) (\"Meet me behind the mall\") Remember when I pulled up and said \"Get in the car\" And then canceled my plans just in case you'd call? Back when I was livin' for the hope of it all (For the hope of it all) For the hope of it all, for the hope of it all (For the hope of it all, for the hope of it all)</td>\n",
       "    </tr>\n",
       "    <tr>\n",
       "      <th>1</th>\n",
       "      <td>cardigan</td>\n",
       "      <td>Vintage tee, brand new phone High heels on cobblestones When you are young, they assume you knowâ",
       "nothing Sequinâ",
       "smile, black lipstick Sensualâ",
       "politics When you are young, they assumeâ",
       "you know nothing But I knew you Dancin' in your Levi's Drunk under a streetlight, I I knew you Hand under my sweatshirt Baby, kiss it better, I And when I felt like I was an old cardigan Under someone's bed You put me on and said I was your favorite A friend to all is a friend to none Chase two girls, lose the one When you are young, they assume you know nothing But I knew you Playing hide-and-seek and Giving me your weekends, I I knew you Your heartbeat on the High Line Once in twenty lifetimes, I And when I felt like I was an old cardigan Under someone's bed You put me on and said I was your favorite To kiss in cars and downtown bars Was all we needed You drew stars around my scars But now I'm bleedin' 'Cause I knew you Steppin' on the last train Marked me like a bloodstain, I I knew you Tried to change the ending Peter losing Wendy, I I knew you Leavin' like a father Running like water, I And when you are young, they assume you know nothing But I knew you'd linger like a tattoo kiss I knew you'd haunt all of my what-ifs The smell of smoke would hang around this long 'Cause I knew everything when I was young I knew I'd curse you for the longest time Chasin' shadows in the grocery line I knew you'd miss me once the thrill expired And you'd be standin' in my front porch light And I knew you'd come back to me You'd come back to me And you'd come back to me And you'd come back And when I felt like I was an old cardigan Under someone's bed You put me on and said I was your favorite</td>\n",
       "    </tr>\n",
       "    <tr>\n",
       "      <th>2</th>\n",
       "      <td>hoax</td>\n",
       "      <td>My only one My smoking gun My eclipsed sun This has broken me down My twisted knife My sleepless night Myâ",
       "winlessâ",
       "fight This has frozenâ",
       "my ground Stood on the cliffside screaming,â",
       "\"Give me a reason\" Your faithless love's the only hoax Iâbelieveâin Don'tâwant no otherâshade of blueâbut you No other sadness in the world would do My best laid plan Your sleight of hand My barren land I am ash from your fire Stood on the cliffside screaming, \"Give me a reason\" Your faithless love's the only hoax I believe in Don't want no other shade of blue but you No other sadness in the world would do You know I left a part of me back in New York You knew the hero died so what's the movie for? You knew it still hurts underneath my scars From when they pulled me apart You knew the password so I let you in the door You knew you won so what's the point of keeping score? You knew it still hurts underneath my scars From when they pulled me apart But what you did was just as dark (Ah, ah, ah) Darling, this was just as hard As when they pulled me apart My only one My kingdom come undone My broken drum You have beaten my heart Don't want no other shade of blue but you No other sadness in the world would do</td>\n",
       "    </tr>\n",
       "    <tr>\n",
       "      <th>3</th>\n",
       "      <td>my tears ricochet</td>\n",
       "      <td>We gather here, we line up, weepin' in a sunlit room And if I'm on fire,â",
       "you'llâ",
       "be made ofâ",
       "ashes, too Even on my worst day,â",
       "did I deserve, babe All the hell you gave me? 'Cause Iâlovedâyou,âI swear Iâloved you 'Til myâdying day I didn't have it in myself to go with grace And you're the hero flying around, saving face And if I'm dead to you, why are you at the wake? Cursing my name, wishing I stayed Look at how my tears ricochet We gather stones,Â never knowing what they'll mean Some to throw, some to make a diamond ring You know I didn't want to have to haunt you But what a ghostly scene You wear the same jewels that I gave you As you bury me I didn't have it in myself to go with grace 'Cause when I'd fight, you used to tell me I was brave And if I'm dead to you, why are you at the wake? Cursing my name, wishing I stayed Look at how my tears ricochet And I can go anywhere I want Anywhere I want, just not home And you can aim for my heart, go for blood But you would still miss me in your bones And I still talk to you (When I'm screaming at the sky) And when you can't sleep at nightÂ (You hear myÂ stolen lullabies) I didn't have it in myself to go with grace And so the battleships will sink beneath the waves You had to kill me, but it killed you just the same Cursing my name, wishing I stayed You turned into your worst fears And you're tossing out blame, drunk on this pain Crossing out the good years And you're cursing my name, wishing I stayed Look at how my tears ricochet</td>\n",
       "    </tr>\n",
       "    <tr>\n",
       "      <th>4</th>\n",
       "      <td>seven</td>\n",
       "      <td>Please picture me in the trees I hit my peak at seven Feet in the swing overâ",
       "theâ",
       "creek I was tooâ",
       "scared to jump in But I, Iâ",
       "was high in the sky With Pennsylvania under me Are there still beautiful things? Sweet tea in the summer Cross your heart, won't tell no other And though I canât recall your face I still got love for you Your braids like a pattern Love you to the Moon and to Saturn Passed down like folk songs The love lasts so long And I've been meaning to tell you I think your house is haunted Your dad is always mad and that must be why And I think you should come live with me And we can be pirates Then you won't have to cry Or hide in the closet And just like a folk song Our love will be passed on Please picture me in the weeds Before I learned civility I used to scream ferociously Any time I wanted I, I Sweet tea in the summer Cross my heart, wonât tell no other And though I can't recall your face I still got love for you Pack your dolls and a sweater We'll move to India forever Passed down like folk songs Our love lasts so long</td>\n",
       "    </tr>\n",
       "  </tbody>\n",
       "</table>\n",
       "</div>"
      ],
      "text/plain": [
       "         track_title  \\\n",
       "0             august   \n",
       "1           cardigan   \n",
       "2               hoax   \n",
       "3  my tears ricochet   \n",
       "4              seven   \n",
       "\n",
       "                                                                                                                                                                                                                                                                                                                                                                                                                                                                                                                                                                                                                                                                                                                                                                                                                                                                                                                                                                                                                                                                                                                                                                                                                                                                                                                                                                                                                                                                                                                                                                                                                                                                                                                                                                                                                                                                                                                                                                                             lyric  \n",
       "0  Salt air, and the rust on your door I never needed anything more Whispers of \"Are youâ\n",
       "sure?\" \"Neverâ\n",
       "have I everâ\n",
       "before\" But I can see us lostâ\n",
       "in the memory August slipped away into a moment in time 'Cause it was never mine And I can see us twisted in bedsheets August sipped away like a bottle of wine 'Cause you were never mine Your back beneath the sun Wishin' I could write my name on it Will you call when you're back at school? I remember thinkin' I had you But I can see us lost in the memory August slipped away into a moment in time 'Cause it was never mine And I can see us twisted in bedsheets August sipped away like a bottle of wine 'Cause you were never mine Back when we were still changin' for the better Wanting was enough For me, it was enough To live for the hope of it all Cancel plans just in case you'd call And say, \"Meet me behind the mall\" So much for summer love and saying \"us\" 'Cause you weren't mine to lose You weren't mine to lose, no But I can see us lost in the memory August slipped away into a moment in time 'Cause it was never mine And I can see us twisted in bedsheets August sipped away like a bottle of wine 'Cause you were never mine 'Cause you were never mine Never mine But do you remember? Remember when I pulled up and said \"Get in the car\" And then canceled my plans just in case you'd call? Back when I was livin' for the hope of it all, for the hope of it all \"Meet me behind the mall\" (Remember when I pulled up and said \"Get in the car\") (And then canceled my plans just in case you'd call?) (Back when I was livin' for the hope of it all, for the hope of it all) (\"Meet me behind the mall\") Remember when I pulled up and said \"Get in the car\" And then canceled my plans just in case you'd call? Back when I was livin' for the hope of it all (For the hope of it all) For the hope of it all, for the hope of it all (For the hope of it all, for the hope of it all)  \n",
       "1                                                                                                                                                                                                                                   Vintage tee, brand new phone High heels on cobblestones When you are young, they assume you knowâ\n",
       "nothing Sequinâ\n",
       "smile, black lipstick Sensualâ\n",
       "politics When you are young, they assumeâ\n",
       "you know nothing But I knew you Dancin' in your Levi's Drunk under a streetlight, I I knew you Hand under my sweatshirt Baby, kiss it better, I And when I felt like I was an old cardigan Under someone's bed You put me on and said I was your favorite A friend to all is a friend to none Chase two girls, lose the one When you are young, they assume you know nothing But I knew you Playing hide-and-seek and Giving me your weekends, I I knew you Your heartbeat on the High Line Once in twenty lifetimes, I And when I felt like I was an old cardigan Under someone's bed You put me on and said I was your favorite To kiss in cars and downtown bars Was all we needed You drew stars around my scars But now I'm bleedin' 'Cause I knew you Steppin' on the last train Marked me like a bloodstain, I I knew you Tried to change the ending Peter losing Wendy, I I knew you Leavin' like a father Running like water, I And when you are young, they assume you know nothing But I knew you'd linger like a tattoo kiss I knew you'd haunt all of my what-ifs The smell of smoke would hang around this long 'Cause I knew everything when I was young I knew I'd curse you for the longest time Chasin' shadows in the grocery line I knew you'd miss me once the thrill expired And you'd be standin' in my front porch light And I knew you'd come back to me You'd come back to me And you'd come back to me And you'd come back And when I felt like I was an old cardigan Under someone's bed You put me on and said I was your favorite  \n",
       "2                                                                                                                                                                                                                                                                                                                                                                                                                                                                                                                                                                                                                                                                                                                                 My only one My smoking gun My eclipsed sun This has broken me down My twisted knife My sleepless night Myâ\n",
       "winlessâ\n",
       "fight This has frozenâ\n",
       "my ground Stood on the cliffside screaming,â\n",
       "\"Give me a reason\" Your faithless love's the only hoax Iâbelieveâin Don'tâwant no otherâshade of blueâbut you No other sadness in the world would do My best laid plan Your sleight of hand My barren land I am ash from your fire Stood on the cliffside screaming, \"Give me a reason\" Your faithless love's the only hoax I believe in Don't want no other shade of blue but you No other sadness in the world would do You know I left a part of me back in New York You knew the hero died so what's the movie for? You knew it still hurts underneath my scars From when they pulled me apart You knew the password so I let you in the door You knew you won so what's the point of keeping score? You knew it still hurts underneath my scars From when they pulled me apart But what you did was just as dark (Ah, ah, ah) Darling, this was just as hard As when they pulled me apart My only one My kingdom come undone My broken drum You have beaten my heart Don't want no other shade of blue but you No other sadness in the world would do  \n",
       "3                                                                                                                                                                                                                                                                                                                                                                                                                       We gather here, we line up, weepin' in a sunlit room And if I'm on fire,â\n",
       "you'llâ\n",
       "be made ofâ\n",
       "ashes, too Even on my worst day,â\n",
       "did I deserve, babe All the hell you gave me? 'Cause Iâlovedâyou,âI swear Iâloved you 'Til myâdying day I didn't have it in myself to go with grace And you're the hero flying around, saving face And if I'm dead to you, why are you at the wake? Cursing my name, wishing I stayed Look at how my tears ricochet We gather stones,Â never knowing what they'll mean Some to throw, some to make a diamond ring You know I didn't want to have to haunt you But what a ghostly scene You wear the same jewels that I gave you As you bury me I didn't have it in myself to go with grace 'Cause when I'd fight, you used to tell me I was brave And if I'm dead to you, why are you at the wake? Cursing my name, wishing I stayed Look at how my tears ricochet And I can go anywhere I want Anywhere I want, just not home And you can aim for my heart, go for blood But you would still miss me in your bones And I still talk to you (When I'm screaming at the sky) And when you can't sleep at nightÂ (You hear myÂ stolen lullabies) I didn't have it in myself to go with grace And so the battleships will sink beneath the waves You had to kill me, but it killed you just the same Cursing my name, wishing I stayed You turned into your worst fears And you're tossing out blame, drunk on this pain Crossing out the good years And you're cursing my name, wishing I stayed Look at how my tears ricochet  \n",
       "4                                                                                                                                                                                                                                                                                                                                                                                                                                                                                                                                                                                                                                                                                                                                                                                                                                                                                         Please picture me in the trees I hit my peak at seven Feet in the swing overâ\n",
       "theâ\n",
       "creek I was tooâ\n",
       "scared to jump in But I, Iâ\n",
       "was high in the sky With Pennsylvania under me Are there still beautiful things? Sweet tea in the summer Cross your heart, won't tell no other And though I canât recall your face I still got love for you Your braids like a pattern Love you to the Moon and to Saturn Passed down like folk songs The love lasts so long And I've been meaning to tell you I think your house is haunted Your dad is always mad and that must be why And I think you should come live with me And we can be pirates Then you won't have to cry Or hide in the closet And just like a folk song Our love will be passed on Please picture me in the weeds Before I learned civility I used to scream ferociously Any time I wanted I, I Sweet tea in the summer Cross my heart, wonât tell no other And though I can't recall your face I still got love for you Pack your dolls and a sweater We'll move to India forever Passed down like folk songs Our love lasts so long  "
      ]
     },
     "execution_count": 6,
     "metadata": {},
     "output_type": "execute_result"
    }
   ],
   "source": [
    "songs.head()"
   ]
  },
  {
   "cell_type": "code",
   "execution_count": 7,
   "id": "6f551efe-bc7b-4114-b7a1-7624200dc4d1",
   "metadata": {},
   "outputs": [
    {
     "data": {
      "text/plain": [
       "17"
      ]
     },
     "execution_count": 7,
     "metadata": {},
     "output_type": "execute_result"
    }
   ],
   "source": [
    "len(songs)"
   ]
  },
  {
   "cell_type": "code",
   "execution_count": 8,
   "id": "bf324a95-51a8-41f6-9626-4b0deb1c02ff",
   "metadata": {
    "tags": []
   },
   "outputs": [],
   "source": [
    "import sklearn"
   ]
  },
  {
   "cell_type": "code",
   "execution_count": 9,
   "id": "fa6725fc-747b-4e7f-bcc9-4681acdc8d4a",
   "metadata": {
    "tags": []
   },
   "outputs": [],
   "source": [
    "from sklearn.feature_extraction.text import TfidfVectorizer"
   ]
  },
  {
   "cell_type": "code",
   "execution_count": 10,
   "id": "483427a2-e654-4f99-a3ce-46230ea51fb8",
   "metadata": {
    "tags": []
   },
   "outputs": [
    {
     "name": "stderr",
     "output_type": "stream",
     "text": [
      "[nltk_data] Downloading package stopwords to /Users/anita/nltk_data...\n",
      "[nltk_data]   Package stopwords is already up-to-date!\n"
     ]
    },
    {
     "data": {
      "text/plain": [
       "True"
      ]
     },
     "execution_count": 10,
     "metadata": {},
     "output_type": "execute_result"
    }
   ],
   "source": [
    "import nltk\n",
    "from nltk.corpus import stopwords\n",
    "nltk.download('stopwords')"
   ]
  },
  {
   "cell_type": "code",
   "execution_count": 11,
   "id": "3bf82ab4-858c-4275-b776-5237786548cb",
   "metadata": {
    "tags": []
   },
   "outputs": [],
   "source": [
    "stop_words = stopwords.words('english')"
   ]
  },
  {
   "cell_type": "code",
   "execution_count": 12,
   "id": "e263a7e1-5d76-4b9a-9565-fe4e4e109757",
   "metadata": {
    "tags": []
   },
   "outputs": [],
   "source": [
    "stop_words.extend([\"would\", \"enough\", \"true\", \"party\", \"showed\", \n",
    "    \"ooh\", \"seen\", \"signs\", \"ah\", \"town\", \n",
    "    \"mind\", \"back\", \"scars\", \"pulled\", \"come\", \n",
    "    \"want\", \"cliffside\", \"screaming\", \"watch\", \"cry\", \n",
    "    \"die\", \"take\", \"breathe\", \"lakes\", \"go\", \n",
    "    \"still\", \"mad\", \"wanted\", \"like\", \"heels\", \n",
    "    \"everything\", \"passed\", \"call\", \"times\", \"leave\", \n",
    "    \"million\", \"little\", \"us\", \"cause\", \"behind\"])"
   ]
  },
  {
   "cell_type": "code",
   "execution_count": 13,
   "id": "6256c5c1-7ad2-4053-86fd-f5650c302d99",
   "metadata": {
    "tags": []
   },
   "outputs": [],
   "source": [
    "vectorizer = TfidfVectorizer(stop_words = stop_words, min_df = 0.1)"
   ]
  },
  {
   "cell_type": "code",
   "execution_count": 14,
   "id": "8932c348-d02f-4a37-94d5-67e9e1d53a18",
   "metadata": {
    "tags": []
   },
   "outputs": [],
   "source": [
    "tfidf = vectorizer.fit_transform(songs['lyric'])"
   ]
  },
  {
   "cell_type": "code",
   "execution_count": 15,
   "id": "22ec696a-b676-439e-89ee-274c9a68e468",
   "metadata": {
    "tags": []
   },
   "outputs": [],
   "source": [
    "from sklearn.decomposition import NMF"
   ]
  },
  {
   "cell_type": "code",
   "execution_count": 16,
   "id": "713c0930-064b-46b9-ba77-2ef0b3b08f60",
   "metadata": {
    "tags": []
   },
   "outputs": [],
   "source": [
    "nmf = NMF(n_components = 6)"
   ]
  },
  {
   "cell_type": "code",
   "execution_count": 17,
   "id": "9bdacb74-a19f-4aac-ae74-48feeb346f6d",
   "metadata": {
    "tags": []
   },
   "outputs": [],
   "source": [
    "topic_values = nmf.fit_transform(tfidf)"
   ]
  },
  {
   "cell_type": "code",
   "execution_count": 18,
   "id": "4960ddd1-de48-47d4-b7e6-b21b83d22a01",
   "metadata": {
    "tags": []
   },
   "outputs": [
    {
     "name": "stdout",
     "output_type": "stream",
     "text": [
      "Topic #1: look went tell love right name waves myâ feet worst\n",
      "Topic #2: knew give broken nothing kiss know cardigan hand someone love\n",
      "Topic #3: never see give gave meet think could time twisted car\n",
      "Topic #4: trying know every find love near hard show one say\n",
      "Topic #5: time woman gave toâ money think ever american house said\n",
      "Topic #6: single speak keep someone twenty minutes sleep make dream things\n"
     ]
    }
   ],
   "source": [
    "for topic_num, topic in enumerate(nmf.components_):\n",
    "    message = \"Topic #{}: \".format(topic_num + 1)\n",
    "    message += \" \".join([vectorizer.get_feature_names_out()[i] for i in topic.argsort()[:-11 :-1]])\n",
    "    print(message)\n",
    "    "
   ]
  },
  {
   "cell_type": "code",
   "execution_count": 19,
   "id": "1a867000-1b07-4044-8d2d-fe2e9bd0d159",
   "metadata": {
    "tags": []
   },
   "outputs": [],
   "source": [
    "topic_labels = ['frustration', 'discovery', 'pain', 'desperation', 'struggle', 'reflection']"
   ]
  },
  {
   "cell_type": "code",
   "execution_count": 20,
   "id": "3f1141fe-2105-4248-8860-3b6f11a12d23",
   "metadata": {
    "tags": []
   },
   "outputs": [
    {
     "data": {
      "text/html": [
       "<div>\n",
       "<style scoped>\n",
       "    .dataframe tbody tr th:only-of-type {\n",
       "        vertical-align: middle;\n",
       "    }\n",
       "\n",
       "    .dataframe tbody tr th {\n",
       "        vertical-align: top;\n",
       "    }\n",
       "\n",
       "    .dataframe thead th {\n",
       "        text-align: right;\n",
       "    }\n",
       "</style>\n",
       "<table border=\"1\" class=\"dataframe\">\n",
       "  <thead>\n",
       "    <tr style=\"text-align: right;\">\n",
       "      <th></th>\n",
       "      <th>frustration</th>\n",
       "      <th>discovery</th>\n",
       "      <th>pain</th>\n",
       "      <th>desperation</th>\n",
       "      <th>struggle</th>\n",
       "      <th>reflection</th>\n",
       "    </tr>\n",
       "  </thead>\n",
       "  <tbody>\n",
       "    <tr>\n",
       "      <th>0</th>\n",
       "      <td>0.000000</td>\n",
       "      <td>0.000000</td>\n",
       "      <td>0.568639</td>\n",
       "      <td>0.000000</td>\n",
       "      <td>0.000000</td>\n",
       "      <td>0.000000</td>\n",
       "    </tr>\n",
       "    <tr>\n",
       "      <th>1</th>\n",
       "      <td>0.000000</td>\n",
       "      <td>0.551456</td>\n",
       "      <td>0.000000</td>\n",
       "      <td>0.000000</td>\n",
       "      <td>0.051808</td>\n",
       "      <td>0.022959</td>\n",
       "    </tr>\n",
       "    <tr>\n",
       "      <th>2</th>\n",
       "      <td>0.018960</td>\n",
       "      <td>0.569386</td>\n",
       "      <td>0.009231</td>\n",
       "      <td>0.000000</td>\n",
       "      <td>0.000000</td>\n",
       "      <td>0.000000</td>\n",
       "    </tr>\n",
       "    <tr>\n",
       "      <th>3</th>\n",
       "      <td>0.359297</td>\n",
       "      <td>0.000000</td>\n",
       "      <td>0.069791</td>\n",
       "      <td>0.000000</td>\n",
       "      <td>0.000000</td>\n",
       "      <td>0.000000</td>\n",
       "    </tr>\n",
       "    <tr>\n",
       "      <th>4</th>\n",
       "      <td>0.275514</td>\n",
       "      <td>0.003496</td>\n",
       "      <td>0.054804</td>\n",
       "      <td>0.018459</td>\n",
       "      <td>0.012931</td>\n",
       "      <td>0.000000</td>\n",
       "    </tr>\n",
       "    <tr>\n",
       "      <th>5</th>\n",
       "      <td>0.000000</td>\n",
       "      <td>0.000000</td>\n",
       "      <td>0.512698</td>\n",
       "      <td>0.133620</td>\n",
       "      <td>0.000000</td>\n",
       "      <td>0.073651</td>\n",
       "    </tr>\n",
       "    <tr>\n",
       "      <th>6</th>\n",
       "      <td>0.000000</td>\n",
       "      <td>0.000000</td>\n",
       "      <td>0.000000</td>\n",
       "      <td>0.794976</td>\n",
       "      <td>0.000000</td>\n",
       "      <td>0.000000</td>\n",
       "    </tr>\n",
       "    <tr>\n",
       "      <th>7</th>\n",
       "      <td>0.156381</td>\n",
       "      <td>0.064235</td>\n",
       "      <td>0.000000</td>\n",
       "      <td>0.305915</td>\n",
       "      <td>0.136487</td>\n",
       "      <td>0.042013</td>\n",
       "    </tr>\n",
       "    <tr>\n",
       "      <th>8</th>\n",
       "      <td>0.000000</td>\n",
       "      <td>0.000000</td>\n",
       "      <td>0.000000</td>\n",
       "      <td>0.000000</td>\n",
       "      <td>0.000000</td>\n",
       "      <td>0.990601</td>\n",
       "    </tr>\n",
       "    <tr>\n",
       "      <th>9</th>\n",
       "      <td>0.006658</td>\n",
       "      <td>0.000000</td>\n",
       "      <td>0.447952</td>\n",
       "      <td>0.000000</td>\n",
       "      <td>0.158204</td>\n",
       "      <td>0.014318</td>\n",
       "    </tr>\n",
       "    <tr>\n",
       "      <th>10</th>\n",
       "      <td>0.152592</td>\n",
       "      <td>0.000000</td>\n",
       "      <td>0.000000</td>\n",
       "      <td>0.107532</td>\n",
       "      <td>0.000000</td>\n",
       "      <td>0.587228</td>\n",
       "    </tr>\n",
       "    <tr>\n",
       "      <th>11</th>\n",
       "      <td>0.000000</td>\n",
       "      <td>0.000000</td>\n",
       "      <td>0.000000</td>\n",
       "      <td>0.000000</td>\n",
       "      <td>0.758388</td>\n",
       "      <td>0.108405</td>\n",
       "    </tr>\n",
       "    <tr>\n",
       "      <th>12</th>\n",
       "      <td>0.019105</td>\n",
       "      <td>0.007782</td>\n",
       "      <td>0.000000</td>\n",
       "      <td>0.259752</td>\n",
       "      <td>0.477861</td>\n",
       "      <td>0.000000</td>\n",
       "    </tr>\n",
       "    <tr>\n",
       "      <th>13</th>\n",
       "      <td>0.000000</td>\n",
       "      <td>0.000000</td>\n",
       "      <td>0.060868</td>\n",
       "      <td>0.779246</td>\n",
       "      <td>0.000000</td>\n",
       "      <td>0.005120</td>\n",
       "    </tr>\n",
       "    <tr>\n",
       "      <th>14</th>\n",
       "      <td>0.006112</td>\n",
       "      <td>0.119521</td>\n",
       "      <td>0.339705</td>\n",
       "      <td>0.013032</td>\n",
       "      <td>0.000000</td>\n",
       "      <td>0.000000</td>\n",
       "    </tr>\n",
       "    <tr>\n",
       "      <th>15</th>\n",
       "      <td>0.408767</td>\n",
       "      <td>0.000000</td>\n",
       "      <td>0.000000</td>\n",
       "      <td>0.000000</td>\n",
       "      <td>0.000000</td>\n",
       "      <td>0.000000</td>\n",
       "    </tr>\n",
       "    <tr>\n",
       "      <th>16</th>\n",
       "      <td>0.000000</td>\n",
       "      <td>0.000000</td>\n",
       "      <td>0.027776</td>\n",
       "      <td>0.000000</td>\n",
       "      <td>0.793059</td>\n",
       "      <td>0.000000</td>\n",
       "    </tr>\n",
       "  </tbody>\n",
       "</table>\n",
       "</div>"
      ],
      "text/plain": [
       "    frustration  discovery      pain  desperation  struggle  reflection\n",
       "0      0.000000   0.000000  0.568639     0.000000  0.000000    0.000000\n",
       "1      0.000000   0.551456  0.000000     0.000000  0.051808    0.022959\n",
       "2      0.018960   0.569386  0.009231     0.000000  0.000000    0.000000\n",
       "3      0.359297   0.000000  0.069791     0.000000  0.000000    0.000000\n",
       "4      0.275514   0.003496  0.054804     0.018459  0.012931    0.000000\n",
       "5      0.000000   0.000000  0.512698     0.133620  0.000000    0.073651\n",
       "6      0.000000   0.000000  0.000000     0.794976  0.000000    0.000000\n",
       "7      0.156381   0.064235  0.000000     0.305915  0.136487    0.042013\n",
       "8      0.000000   0.000000  0.000000     0.000000  0.000000    0.990601\n",
       "9      0.006658   0.000000  0.447952     0.000000  0.158204    0.014318\n",
       "10     0.152592   0.000000  0.000000     0.107532  0.000000    0.587228\n",
       "11     0.000000   0.000000  0.000000     0.000000  0.758388    0.108405\n",
       "12     0.019105   0.007782  0.000000     0.259752  0.477861    0.000000\n",
       "13     0.000000   0.000000  0.060868     0.779246  0.000000    0.005120\n",
       "14     0.006112   0.119521  0.339705     0.013032  0.000000    0.000000\n",
       "15     0.408767   0.000000  0.000000     0.000000  0.000000    0.000000\n",
       "16     0.000000   0.000000  0.027776     0.000000  0.793059    0.000000"
      ]
     },
     "execution_count": 20,
     "metadata": {},
     "output_type": "execute_result"
    }
   ],
   "source": [
    "df_topics = pd.DataFrame(topic_values, columns = topic_labels)\n",
    "df_topics"
   ]
  },
  {
   "cell_type": "code",
   "execution_count": 21,
   "id": "c3b4a156-9ff6-4cd0-af76-2f632ec1e47e",
   "metadata": {
    "tags": []
   },
   "outputs": [],
   "source": [
    "songs = songs.join(df_topics) #'frustratoin', 'discovery', 'pain', 'desperation', 'struggle', 'reflection'"
   ]
  },
  {
   "cell_type": "code",
   "execution_count": 22,
   "id": "c8deded5-faa4-47a5-b542-22656de9dada",
   "metadata": {
    "tags": []
   },
   "outputs": [],
   "source": [
    "songs.loc[songs['frustration'] >= 0.1, 'frustration'] = 1\n",
    "songs.loc[songs['discovery'] >= 0.1, 'discovery'] = 1\n",
    "songs.loc[songs['pain'] >= 0.1, 'pain'] = 1\n",
    "songs.loc[songs['desperation'] >= 0.1, 'desperation'] = 1\n",
    "songs.loc[songs['struggle'] >= 0.1, 'struggle'] = 1\n",
    "songs.loc[songs['reflection'] >= 0.1, 'reflection'] = 1"
   ]
  },
  {
   "cell_type": "code",
   "execution_count": 23,
   "id": "cb147a2a-7a75-401e-8a69-ddc61c820e45",
   "metadata": {
    "tags": []
   },
   "outputs": [],
   "source": [
    "songs.loc[songs['frustration'] >= 0.1, 'frustration'] = 0\n",
    "songs.loc[songs['discovery'] >= 0.1, 'discovery'] = 0\n",
    "songs.loc[songs['pain'] >= 0.1, 'pain'] = 0\n",
    "songs.loc[songs['desperation'] >= 0.1, 'desperation'] = 0\n",
    "songs.loc[songs['struggle'] >= 0.1, 'struggle'] = 0\n",
    "songs.loc[songs['reflection'] >= 0.1, 'reflection'] = 0"
   ]
  },
  {
   "cell_type": "code",
   "execution_count": 24,
   "id": "cd60301b-ae63-4f27-a515-d3356c269f2c",
   "metadata": {
    "tags": []
   },
   "outputs": [],
   "source": [
    "songs_csv = songs.to_csv('topics/folklore_topics.csv')"
   ]
  },
  {
   "cell_type": "code",
   "execution_count": null,
   "id": "69e13cea-46c2-4e0e-8c5d-a54780b9c899",
   "metadata": {},
   "outputs": [],
   "source": []
  }
 ],
 "metadata": {
  "kernelspec": {
   "display_name": "Python 3 (ipykernel)",
   "language": "python",
   "name": "python3"
  },
  "language_info": {
   "codemirror_mode": {
    "name": "ipython",
    "version": 3
   },
   "file_extension": ".py",
   "mimetype": "text/x-python",
   "name": "python",
   "nbconvert_exporter": "python",
   "pygments_lexer": "ipython3",
   "version": "3.11.9"
  }
 },
 "nbformat": 4,
 "nbformat_minor": 5
}
