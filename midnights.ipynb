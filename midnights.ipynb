{
 "cells": [
  {
   "cell_type": "code",
   "execution_count": 1,
   "id": "97e6ea5f-1a85-4e74-8699-5928416c0ebb",
   "metadata": {
    "tags": []
   },
   "outputs": [],
   "source": [
    "import pandas as pd"
   ]
  },
  {
   "cell_type": "code",
   "execution_count": 2,
   "id": "746c4892-2610-4639-a719-48a93e7bd6d9",
   "metadata": {
    "tags": []
   },
   "outputs": [],
   "source": [
    "midnight_df = pd.read_csv('corpus/midnights_lyrics.csv', encoding = 'latin-1')"
   ]
  },
  {
   "cell_type": "code",
   "execution_count": 3,
   "id": "6556372a-bce5-4cc8-842b-a25e46513780",
   "metadata": {},
   "outputs": [],
   "source": [
    "df = midnight_df[midnight_df['Album'] == 'Midnights']"
   ]
  },
  {
   "cell_type": "code",
   "execution_count": 4,
   "id": "64cf3082-b3d5-4d58-aa89-68f7b01e0e8c",
   "metadata": {
    "tags": []
   },
   "outputs": [
    {
     "data": {
      "text/html": [
       "<div>\n",
       "<style scoped>\n",
       "    .dataframe tbody tr th:only-of-type {\n",
       "        vertical-align: middle;\n",
       "    }\n",
       "\n",
       "    .dataframe tbody tr th {\n",
       "        vertical-align: top;\n",
       "    }\n",
       "\n",
       "    .dataframe thead th {\n",
       "        text-align: right;\n",
       "    }\n",
       "</style>\n",
       "<table border=\"1\" class=\"dataframe\">\n",
       "  <thead>\n",
       "    <tr style=\"text-align: right;\">\n",
       "      <th></th>\n",
       "      <th>index</th>\n",
       "      <th>Album</th>\n",
       "      <th>Song Name</th>\n",
       "      <th>Lyrics</th>\n",
       "    </tr>\n",
       "  </thead>\n",
       "  <tbody>\n",
       "    <tr>\n",
       "      <th>134</th>\n",
       "      <td>142</td>\n",
       "      <td>Midnights</td>\n",
       "      <td>Lavender Haze</td>\n",
       "      <td>Meet me at midnight  Staring at the ceiling wi...</td>\n",
       "    </tr>\n",
       "    <tr>\n",
       "      <th>135</th>\n",
       "      <td>143</td>\n",
       "      <td>Midnights</td>\n",
       "      <td>Maroon</td>\n",
       "      <td>When the morning came We were cleaning incense...</td>\n",
       "    </tr>\n",
       "    <tr>\n",
       "      <th>136</th>\n",
       "      <td>144</td>\n",
       "      <td>Midnights</td>\n",
       "      <td>Labyrinth</td>\n",
       "      <td>\"It only hurts this much right now\" Was what I...</td>\n",
       "    </tr>\n",
       "    <tr>\n",
       "      <th>137</th>\n",
       "      <td>145</td>\n",
       "      <td>Midnights</td>\n",
       "      <td>Anti Hero</td>\n",
       "      <td>I have this thing where I get older, but just ...</td>\n",
       "    </tr>\n",
       "    <tr>\n",
       "      <th>138</th>\n",
       "      <td>146</td>\n",
       "      <td>Midnights</td>\n",
       "      <td>Vigilante Shit</td>\n",
       "      <td>Draw the cat eye sharp enough to kill a man Yo...</td>\n",
       "    </tr>\n",
       "  </tbody>\n",
       "</table>\n",
       "</div>"
      ],
      "text/plain": [
       "     index      Album       Song Name  \\\n",
       "134    142  Midnights   Lavender Haze   \n",
       "135    143  Midnights          Maroon   \n",
       "136    144  Midnights       Labyrinth   \n",
       "137    145  Midnights       Anti Hero   \n",
       "138    146  Midnights  Vigilante Shit   \n",
       "\n",
       "                                                Lyrics  \n",
       "134  Meet me at midnight  Staring at the ceiling wi...  \n",
       "135  When the morning came We were cleaning incense...  \n",
       "136  \"It only hurts this much right now\" Was what I...  \n",
       "137  I have this thing where I get older, but just ...  \n",
       "138  Draw the cat eye sharp enough to kill a man Yo...  "
      ]
     },
     "execution_count": 4,
     "metadata": {},
     "output_type": "execute_result"
    }
   ],
   "source": [
    "df.head()"
   ]
  },
  {
   "cell_type": "code",
   "execution_count": 5,
   "id": "373736e4-f616-4d33-bea9-9f6eabdc0daf",
   "metadata": {
    "tags": []
   },
   "outputs": [],
   "source": [
    "songs = df.groupby('Song Name').agg({'Lyrics': lambda x: \" \".join(x)}).reset_index()"
   ]
  },
  {
   "cell_type": "code",
   "execution_count": 6,
   "id": "c0ae7348-99ee-4642-83bb-53c3de5ffbcf",
   "metadata": {
    "tags": []
   },
   "outputs": [],
   "source": [
    "pd.options.display.max_colwidth = 5000"
   ]
  },
  {
   "cell_type": "code",
   "execution_count": 7,
   "id": "9115d6c2-66ca-481c-86ad-fc0603384420",
   "metadata": {
    "tags": []
   },
   "outputs": [
    {
     "data": {
      "text/html": [
       "<div>\n",
       "<style scoped>\n",
       "    .dataframe tbody tr th:only-of-type {\n",
       "        vertical-align: middle;\n",
       "    }\n",
       "\n",
       "    .dataframe tbody tr th {\n",
       "        vertical-align: top;\n",
       "    }\n",
       "\n",
       "    .dataframe thead th {\n",
       "        text-align: right;\n",
       "    }\n",
       "</style>\n",
       "<table border=\"1\" class=\"dataframe\">\n",
       "  <thead>\n",
       "    <tr style=\"text-align: right;\">\n",
       "      <th></th>\n",
       "      <th>Song Name</th>\n",
       "      <th>Lyrics</th>\n",
       "    </tr>\n",
       "  </thead>\n",
       "  <tbody>\n",
       "    <tr>\n",
       "      <th>0</th>\n",
       "      <td>Anti Hero</td>\n",
       "      <td>I have this thing where I get older, but just never wiser Midnights become my afternoons When my depression works the graveyard shift, all of the people I've ghosted stand there in the room  I should not be left to my own devices They come with prices and vices I end up in crisis (Tale as old as time) I wake up screaming from dreaming One day, I'll watch as you're leaving 'Cause you got tired of my scheming (For the last time) It's me, hi I'm the problem, it's me At teatime, everybody agrees I'll stare directly at the sun, but never in the mirror It must be exhausting always rooting for the anti-hero  Sometimes, I feel like everybody is a sexy baby And I'm a monster on the hill Too big to hang out, slowly lurching toward your favorite city Pierced through the heart, but never killed  Did you hear my covert narcissism I disguise as altruism Like some kind of congressman? (A tale as old as time) I wake up screaming from dreaming One day, I'll watch as you're leaving And life will lose all its meaning (For the last time)  It's me, hi I'm the problem, it's me (I'm the problem, it's me) At teatime, everybody agrees I'll stare directly at the sun, but never in the mirror It must be exhausting always rooting for the anti-hero You might also like I have this dream my daughter-in-law kills me for the money She thinks I left them in the will The family gathers 'round and reads it and then someone screams out \"She's laughing up at us from Hell\"  It's me, hi I'm the problem, it's me It's me, hi I'm the problem, it's me It's me, hi Everybody agrees, everybody agrees  It's me, hi (Hi) I'm the problem, it's me (I'm the problem, it's me) At teatime (Teatime), everybody agrees (Everybody agrees) I'll stare directly at the sun, but never in the mirror It must be exhausting always rooting for the anti-hero</td>\n",
       "    </tr>\n",
       "    <tr>\n",
       "      <th>1</th>\n",
       "      <td>Bejeweled</td>\n",
       "      <td>Baby love, I think I've been a little too kind Didn't notice you walkin' all over my peace of mind In the shoes I gave you as a present Puttin' someone first only works when you're in their top five And by the way, I'm goin' out tonight  Best believe I'm still bejeweled When I walk in the room I can still make the whole place shimmer And when I meet the band They ask, \"Do you have a man?\" I could still say, \"I don't remember\" Familiarity breeds contempt Don't put mÐµ in the basement WhÐµn I want the penthouse of your heart Diamonds in my eyes I polish up real, I polish up real nice Nice  Baby boy, I think I've been too good of a girl (Too good of a girl) Did all the extra credit, then got graded on a curve I think it's time to teach some lessons I made you my world (Huh), have you heard? (Huh) I can reclaim the land And I miss you (Miss you), but I miss sparklin' (Nice)  Best believe I'm still bejeweled When I walk in the room I can still make the whole place shimmer And when I meet the band They ask, \"Do you have a man?\" I could still say, \"I don't remember\" Familiarity breeds contempt Don't put me in the basement When I want the penthouse of your heart Diamonds in my eyes I polish up real, I polish up real nice  Nice You might also like Sapphire tears on my face Sadness became my whole sky But some guy said my aura's moonstone Just 'cause he was high And we're dancin' all night And you can try to change my mind But you might have to wait in line What's a girl gonna do? A diamond's gotta shine  Best believe I'm still bejeweled When I walk in the room I can still make the whole place shimmer (Shimmer) And when I meet the band They ask, \"Do you have a man?\" I could still say, \"I don't remember\" Familiarity breeds contempt Don't put me in the basement When I want the penthouse of your heart Diamonds in my eyes I polish up real (Nice), I polish up real nice  And we're dancin' all night And you can try to change my mind But you might have to wait in line What's a girl gonna do? What's a girl gonna do? I polish up nice Best believe I'm still bejeweled When I walk in the room I can still make the whole place shimmer</td>\n",
       "    </tr>\n",
       "    <tr>\n",
       "      <th>2</th>\n",
       "      <td>Karma</td>\n",
       "      <td>You're talking shit for the hell of it Addicted to betrayal, but you're relevant You're terrified to look down 'Cause if you dare, you'll see the glare Of everyone you burned just to get there It's coming back around  And I keep my side of the street clean You wouldn't know what I mean 'Cause karma is my boyfriend Karma is a god Karma is the breeze in my hair on the weekend Karma's a relaxing thought Aren't you envious that for you it's not? Sweet like honey, karma is a cat Purring in my lap 'cause it loves me Flexing like a goddamn acrobat Me and karma vibe like that  Spiderboy, king of thieves Weave your little webs of opacity My pennies made your crown Trick me once, trick me twice Don't you know that cash ain't the only price? It's coming back around  And I keep my side of the street clean You wouldn't know what I mean  'Cause karma is my boyfriend Karma is a god Karma is the breeze in my hair on the weekend Karma's a relaxing thought Aren't you envious that for you it's not? Sweet like honey, karma is a cat Purring in my lap 'cause it loves me Flexing like a goddamn acrobat Me and karma vibe like that You might also like Ask me what I learned from all those years Ask me what I earned from all those tears Ask me why so many fade, but I'm still here (I'm still here, I'm still here)  'Cause karma is the thunder Rattling your ground Karma's on your scent like a bounty hunter Karma's gonna track you down Step by step, from town to town Sweet like justice, karma is a queen Karma takes all my friends to the summit Karma is the guy on the screen Coming straight home to me  'Cause karma is my boyfriend (Karma is my boyfriend) Karma is a god Karma is the breeze in my hair on the weekend (Weekend) Karma's a relaxing thought Aren't you envious that for you it's not? Sweet like honey, karma is a cat Purring in my lap 'cause it loves me Flexing like a goddamn acrobat Me and karma vibe like that Karma is my boyfriend Karma is a god (Ah) Uh-huh, mm Karma's a relaxing thought</td>\n",
       "    </tr>\n",
       "    <tr>\n",
       "      <th>3</th>\n",
       "      <td>Labyrinth</td>\n",
       "      <td>\"It only hurts this much right now\" Was what I was thinkin' the whole time Breathe in, breathe through, breathe deep, breathe out I'll be gettin' over you my whole life  You know how scared I am of elevators Never trust it if it rises fast It can't last Uh-oh, I'm fallin' in love Oh no, I'm fallin' in love again Oh, I'm fallin' in love I thought the plane was goin' down How'd you turn it right around?  It only feels this raw right now Lost in the labyrinth of my mind Break up, break free, break through, break down You would break your back to make me break a smile  You know how much I hate That everybody just expects me to bounce back Just like that  Uh-oh, I'm fallin' in love Oh no, I'm fallin' in love again Oh, I'm fallin' in love I thought the plane was goin' down How'd you turn it right around? Uh-oh, I'm fallin' in love Oh no, I'm fallin' in love again Oh, I'm fallin' in love I thought the plane was goin' down How'd you turn it right around? Uh-oh, I'm fallin' in love Oh no, I'm fallin' in love again Oh, I'm fallin' in love I thought the plane was goin' down How'd you turn it right around? Uh-oh, I'm fallin' in love Oh no, I'm fallin' in love again Oh, I'm fallin' in love I thought the plane was goin' down How'd you turn it right around?You might also like</td>\n",
       "    </tr>\n",
       "    <tr>\n",
       "      <th>4</th>\n",
       "      <td>Lavender Haze</td>\n",
       "      <td>Meet me at midnight  Staring at the ceiling with you Oh, you don't ever say too much And you don't really read into My melancholia  I been under scrutiny (Yeah, oh, yeah) You handle it beautifully (Yeah, oh, yeah) All this shit is new to me (Yeah, oh, yeah) I feel the lavender haze creeping up on me Surreal I'm damned if I do give a damn what people say No deal The 1950s shit they want from me I just wanna stay in that lavender haze  All they keep asking me (All they keep asking me) Is if I'm gonna be your bride The only kinda girl they see (Only kinda girl they see) Is a one-night or a wife  I find it dizzying (Yeah, oh, yeah) They're bringing up my history (Yeah, oh, yeah) But you weren't even listening (Yeah, oh, yeah)  I feel the lavender haze creepin' up on me Surreal I'm damned if I do give a damn what people say No deal The 1950s shit they want from me I just wanna stay in that lavender haze You might also like That lavender haze  Talk your talk and go viral I just need this love spiral Get it off your chest Get it off my desk (Get it off my desk) Talk your talk and go viral I just need this love spiral Get it off your chest Get it off my desk  I feel (I feel), the lavender haze creeping up on me Surreal I'm damned if I do give a damn what people say No deal (No deal) The 1950s shit they want from me I just wanna stay in that lavender haze  Get it off your chest Get it off my desk That lavender haze I just wanna stay I just wanna stay in that lavender haze</td>\n",
       "    </tr>\n",
       "  </tbody>\n",
       "</table>\n",
       "</div>"
      ],
      "text/plain": [
       "       Song Name  \\\n",
       "0      Anti Hero   \n",
       "1      Bejeweled   \n",
       "2          Karma   \n",
       "3      Labyrinth   \n",
       "4  Lavender Haze   \n",
       "\n",
       "                                                                                                                                                                                                                                                                                                                                                                                                                                                                                                                                                                                                                                                                                                                                                                                                                                                                                                                                                                                                                                                                                                                                                                                                                                                                                                                                                                                                                                                                                                                                                                                                                                                                                                                                                                                                                                                                                                                                                                                                                                                                                                                                                                                                                                Lyrics  \n",
       "0                                                                                                                                                                                                                                                                                                                                           I have this thing where I get older, but just never wiser Midnights become my afternoons When my depression works the graveyard shift, all of the people I've ghosted stand there in the room  I should not be left to my own devices They come with prices and vices I end up in crisis (Tale as old as time) I wake up screaming from dreaming One day, I'll watch as you're leaving 'Cause you got tired of my scheming (For the last time) It's me, hi I'm the problem, it's me At teatime, everybody agrees I'll stare directly at the sun, but never in the mirror It must be exhausting always rooting for the anti-hero  Sometimes, I feel like everybody is a sexy baby And I'm a monster on the hill Too big to hang out, slowly lurching toward your favorite city Pierced through the heart, but never killed  Did you hear my covert narcissism I disguise as altruism Like some kind of congressman? (A tale as old as time) I wake up screaming from dreaming One day, I'll watch as you're leaving And life will lose all its meaning (For the last time)  It's me, hi I'm the problem, it's me (I'm the problem, it's me) At teatime, everybody agrees I'll stare directly at the sun, but never in the mirror It must be exhausting always rooting for the anti-hero You might also like I have this dream my daughter-in-law kills me for the money She thinks I left them in the will The family gathers 'round and reads it and then someone screams out \"She's laughing up at us from Hell\"  It's me, hi I'm the problem, it's me It's me, hi I'm the problem, it's me It's me, hi Everybody agrees, everybody agrees  It's me, hi (Hi) I'm the problem, it's me (I'm the problem, it's me) At teatime (Teatime), everybody agrees (Everybody agrees) I'll stare directly at the sun, but never in the mirror It must be exhausting always rooting for the anti-hero  \n",
       "1  Baby love, I think I've been a little too kind Didn't notice you walkin' all over my peace of mind In the shoes I gave you as a present Puttin' someone first only works when you're in their top five And by the way, I'm goin' out tonight  Best believe I'm still bejeweled When I walk in the room I can still make the whole place shimmer And when I meet the band They ask, \"Do you have a man?\" I could still say, \"I don't remember\" Familiarity breeds contempt Don't put mÐµ in the basement WhÐµn I want the penthouse of your heart Diamonds in my eyes I polish up real, I polish up real nice Nice  Baby boy, I think I've been too good of a girl (Too good of a girl) Did all the extra credit, then got graded on a curve I think it's time to teach some lessons I made you my world (Huh), have you heard? (Huh) I can reclaim the land And I miss you (Miss you), but I miss sparklin' (Nice)  Best believe I'm still bejeweled When I walk in the room I can still make the whole place shimmer And when I meet the band They ask, \"Do you have a man?\" I could still say, \"I don't remember\" Familiarity breeds contempt Don't put me in the basement When I want the penthouse of your heart Diamonds in my eyes I polish up real, I polish up real nice  Nice You might also like Sapphire tears on my face Sadness became my whole sky But some guy said my aura's moonstone Just 'cause he was high And we're dancin' all night And you can try to change my mind But you might have to wait in line What's a girl gonna do? A diamond's gotta shine  Best believe I'm still bejeweled When I walk in the room I can still make the whole place shimmer (Shimmer) And when I meet the band They ask, \"Do you have a man?\" I could still say, \"I don't remember\" Familiarity breeds contempt Don't put me in the basement When I want the penthouse of your heart Diamonds in my eyes I polish up real (Nice), I polish up real nice  And we're dancin' all night And you can try to change my mind But you might have to wait in line What's a girl gonna do? What's a girl gonna do? I polish up nice Best believe I'm still bejeweled When I walk in the room I can still make the whole place shimmer  \n",
       "2                                                                                                                                                       You're talking shit for the hell of it Addicted to betrayal, but you're relevant You're terrified to look down 'Cause if you dare, you'll see the glare Of everyone you burned just to get there It's coming back around  And I keep my side of the street clean You wouldn't know what I mean 'Cause karma is my boyfriend Karma is a god Karma is the breeze in my hair on the weekend Karma's a relaxing thought Aren't you envious that for you it's not? Sweet like honey, karma is a cat Purring in my lap 'cause it loves me Flexing like a goddamn acrobat Me and karma vibe like that  Spiderboy, king of thieves Weave your little webs of opacity My pennies made your crown Trick me once, trick me twice Don't you know that cash ain't the only price? It's coming back around  And I keep my side of the street clean You wouldn't know what I mean  'Cause karma is my boyfriend Karma is a god Karma is the breeze in my hair on the weekend Karma's a relaxing thought Aren't you envious that for you it's not? Sweet like honey, karma is a cat Purring in my lap 'cause it loves me Flexing like a goddamn acrobat Me and karma vibe like that You might also like Ask me what I learned from all those years Ask me what I earned from all those tears Ask me why so many fade, but I'm still here (I'm still here, I'm still here)  'Cause karma is the thunder Rattling your ground Karma's on your scent like a bounty hunter Karma's gonna track you down Step by step, from town to town Sweet like justice, karma is a queen Karma takes all my friends to the summit Karma is the guy on the screen Coming straight home to me  'Cause karma is my boyfriend (Karma is my boyfriend) Karma is a god Karma is the breeze in my hair on the weekend (Weekend) Karma's a relaxing thought Aren't you envious that for you it's not? Sweet like honey, karma is a cat Purring in my lap 'cause it loves me Flexing like a goddamn acrobat Me and karma vibe like that Karma is my boyfriend Karma is a god (Ah) Uh-huh, mm Karma's a relaxing thought  \n",
       "3                                                                                                                                                                                                                                                                                                                                                                                                                                                                                                                                                                                                                                                                                                                                                                                                                                                                                                    \"It only hurts this much right now\" Was what I was thinkin' the whole time Breathe in, breathe through, breathe deep, breathe out I'll be gettin' over you my whole life  You know how scared I am of elevators Never trust it if it rises fast It can't last Uh-oh, I'm fallin' in love Oh no, I'm fallin' in love again Oh, I'm fallin' in love I thought the plane was goin' down How'd you turn it right around?  It only feels this raw right now Lost in the labyrinth of my mind Break up, break free, break through, break down You would break your back to make me break a smile  You know how much I hate That everybody just expects me to bounce back Just like that  Uh-oh, I'm fallin' in love Oh no, I'm fallin' in love again Oh, I'm fallin' in love I thought the plane was goin' down How'd you turn it right around? Uh-oh, I'm fallin' in love Oh no, I'm fallin' in love again Oh, I'm fallin' in love I thought the plane was goin' down How'd you turn it right around? Uh-oh, I'm fallin' in love Oh no, I'm fallin' in love again Oh, I'm fallin' in love I thought the plane was goin' down How'd you turn it right around? Uh-oh, I'm fallin' in love Oh no, I'm fallin' in love again Oh, I'm fallin' in love I thought the plane was goin' down How'd you turn it right around?You might also like  \n",
       "4                                                                                                                                                                                                                                                                                                                                                                                                                                                                                                                                                                                                                                                                                      Meet me at midnight  Staring at the ceiling with you Oh, you don't ever say too much And you don't really read into My melancholia  I been under scrutiny (Yeah, oh, yeah) You handle it beautifully (Yeah, oh, yeah) All this shit is new to me (Yeah, oh, yeah) I feel the lavender haze creeping up on me Surreal I'm damned if I do give a damn what people say No deal The 1950s shit they want from me I just wanna stay in that lavender haze  All they keep asking me (All they keep asking me) Is if I'm gonna be your bride The only kinda girl they see (Only kinda girl they see) Is a one-night or a wife  I find it dizzying (Yeah, oh, yeah) They're bringing up my history (Yeah, oh, yeah) But you weren't even listening (Yeah, oh, yeah)  I feel the lavender haze creepin' up on me Surreal I'm damned if I do give a damn what people say No deal The 1950s shit they want from me I just wanna stay in that lavender haze You might also like That lavender haze  Talk your talk and go viral I just need this love spiral Get it off your chest Get it off my desk (Get it off my desk) Talk your talk and go viral I just need this love spiral Get it off your chest Get it off my desk  I feel (I feel), the lavender haze creeping up on me Surreal I'm damned if I do give a damn what people say No deal (No deal) The 1950s shit they want from me I just wanna stay in that lavender haze  Get it off your chest Get it off my desk That lavender haze I just wanna stay I just wanna stay in that lavender haze  "
      ]
     },
     "execution_count": 7,
     "metadata": {},
     "output_type": "execute_result"
    }
   ],
   "source": [
    "songs.head()"
   ]
  },
  {
   "cell_type": "code",
   "execution_count": 8,
   "id": "bf324a95-51a8-41f6-9626-4b0deb1c02ff",
   "metadata": {
    "tags": []
   },
   "outputs": [],
   "source": [
    "import sklearn"
   ]
  },
  {
   "cell_type": "code",
   "execution_count": 9,
   "id": "fa6725fc-747b-4e7f-bcc9-4681acdc8d4a",
   "metadata": {
    "tags": []
   },
   "outputs": [],
   "source": [
    "from sklearn.feature_extraction.text import TfidfVectorizer"
   ]
  },
  {
   "cell_type": "code",
   "execution_count": 10,
   "id": "483427a2-e654-4f99-a3ce-46230ea51fb8",
   "metadata": {
    "tags": []
   },
   "outputs": [
    {
     "name": "stderr",
     "output_type": "stream",
     "text": [
      "[nltk_data] Downloading package stopwords to /Users/anita/nltk_data...\n",
      "[nltk_data]   Package stopwords is already up-to-date!\n"
     ]
    },
    {
     "data": {
      "text/plain": [
       "True"
      ]
     },
     "execution_count": 10,
     "metadata": {},
     "output_type": "execute_result"
    }
   ],
   "source": [
    "import nltk\n",
    "from nltk.corpus import stopwords\n",
    "nltk.download('stopwords')"
   ]
  },
  {
   "cell_type": "code",
   "execution_count": 11,
   "id": "3bf82ab4-858c-4275-b776-5237786548cb",
   "metadata": {
    "tags": []
   },
   "outputs": [],
   "source": [
    "stop_words = stopwords.words('english')"
   ]
  },
  {
   "cell_type": "code",
   "execution_count": 12,
   "id": "e263a7e1-5d76-4b9a-9565-fe4e4e109757",
   "metadata": {
    "tags": []
   },
   "outputs": [],
   "source": [
    "stop_words.extend([\"still\", \"nice\", \"ask\", \"room\", \"put\", \"girl\", \"real\", \"best\", \"wish\", \"whole\",\n",
    "    \"comin\", \"sweet\", \"like\", \"said\", \"end\", \"home\", \"somethin\", \"find\", \"ever\", \"everyone\",\n",
    "    \"oh\", \"love\", \"right\", \"yeah\", \"uh\", \"thought\", \"goin\", \"around\", \"much\", \"stay\",\n",
    "    \"get\", \"shit\", \"sad\", \"ends\", \"even\", \"want\", \"people\", \"someone\",\n",
    "    \"everybody\", \"blood\", \"always\", \"wake\", \"kid\", \"never\", \"saw\", \"looked\", \"us\",\n",
    "    \"wanted\", \"midnight\", \"told\", \"cause\", \"bride\", \"mine\", \"midnights\"])"
   ]
  },
  {
   "cell_type": "code",
   "execution_count": 13,
   "id": "6256c5c1-7ad2-4053-86fd-f5650c302d99",
   "metadata": {
    "tags": []
   },
   "outputs": [],
   "source": [
    "vectorizer = TfidfVectorizer(stop_words = stop_words, min_df = 0.1)"
   ]
  },
  {
   "cell_type": "code",
   "execution_count": 14,
   "id": "8932c348-d02f-4a37-94d5-67e9e1d53a18",
   "metadata": {
    "tags": []
   },
   "outputs": [],
   "source": [
    "tfidf = vectorizer.fit_transform(songs['Lyrics'])"
   ]
  },
  {
   "cell_type": "code",
   "execution_count": 15,
   "id": "22ec696a-b676-439e-89ee-274c9a68e468",
   "metadata": {
    "tags": []
   },
   "outputs": [],
   "source": [
    "from sklearn.decomposition import NMF"
   ]
  },
  {
   "cell_type": "code",
   "execution_count": 16,
   "id": "713c0930-064b-46b9-ba77-2ef0b3b08f60",
   "metadata": {
    "tags": []
   },
   "outputs": [],
   "source": [
    "nmf = NMF(n_components = 6)"
   ]
  },
  {
   "cell_type": "code",
   "execution_count": 17,
   "id": "9bdacb74-a19f-4aac-ae74-48feeb346f6d",
   "metadata": {
    "tags": []
   },
   "outputs": [],
   "source": [
    "topic_values = nmf.fit_transform(tfidf)"
   ]
  },
  {
   "cell_type": "code",
   "execution_count": 18,
   "id": "3796a40f-e138-49d6-8f9a-c9f89f6fa9da",
   "metadata": {},
   "outputs": [
    {
     "name": "stdout",
     "output_type": "stream",
     "text": [
      "Topic #1: night friends could make one fun first touch kiss remember\n",
      "Topic #2: kind sometimes day time family thinks big heart things picture\n",
      "Topic #3: feels dream stars fuckin ah tonight smile would life time\n",
      "Topic #4: know cat loves back lap step keep town friends thieves\n",
      "Topic #5: feel say new see need keep asking lost sky shoes\n",
      "Topic #6: miss mind deep eye tired iâ picked last talking little\n"
     ]
    }
   ],
   "source": [
    "for topic_num, topic in enumerate(nmf.components_):\n",
    "    message = \"Topic #{}: \".format(topic_num + 1)\n",
    "    message += \" \".join([vectorizer.get_feature_names_out()[i] for i in topic.argsort()[:-11 :-1]])\n",
    "    print(message)\n",
    "    "
   ]
  },
  {
   "cell_type": "code",
   "execution_count": 19,
   "id": "1a867000-1b07-4044-8d2d-fe2e9bd0d159",
   "metadata": {
    "tags": []
   },
   "outputs": [],
   "source": [
    "topic_labels = [\"memories\", \"family\", \"aspirations\", \"companionship\", \"seeking understanding\", \"reflection\"]"
   ]
  },
  {
   "cell_type": "code",
   "execution_count": 20,
   "id": "3f1141fe-2105-4248-8860-3b6f11a12d23",
   "metadata": {
    "tags": []
   },
   "outputs": [
    {
     "data": {
      "text/html": [
       "<div>\n",
       "<style scoped>\n",
       "    .dataframe tbody tr th:only-of-type {\n",
       "        vertical-align: middle;\n",
       "    }\n",
       "\n",
       "    .dataframe tbody tr th {\n",
       "        vertical-align: top;\n",
       "    }\n",
       "\n",
       "    .dataframe thead th {\n",
       "        text-align: right;\n",
       "    }\n",
       "</style>\n",
       "<table border=\"1\" class=\"dataframe\">\n",
       "  <thead>\n",
       "    <tr style=\"text-align: right;\">\n",
       "      <th></th>\n",
       "      <th>memories</th>\n",
       "      <th>family</th>\n",
       "      <th>aspirations</th>\n",
       "      <th>companionship</th>\n",
       "      <th>seeking understanding</th>\n",
       "      <th>reflection</th>\n",
       "    </tr>\n",
       "  </thead>\n",
       "  <tbody>\n",
       "    <tr>\n",
       "      <th>0</th>\n",
       "      <td>0.000000</td>\n",
       "      <td>0.627016</td>\n",
       "      <td>0.089695</td>\n",
       "      <td>0.000000</td>\n",
       "      <td>0.057370</td>\n",
       "      <td>0.017819</td>\n",
       "    </tr>\n",
       "    <tr>\n",
       "      <th>1</th>\n",
       "      <td>0.247289</td>\n",
       "      <td>0.000000</td>\n",
       "      <td>0.000000</td>\n",
       "      <td>0.000000</td>\n",
       "      <td>0.000589</td>\n",
       "      <td>0.220466</td>\n",
       "    </tr>\n",
       "    <tr>\n",
       "      <th>2</th>\n",
       "      <td>0.000000</td>\n",
       "      <td>0.000000</td>\n",
       "      <td>0.000000</td>\n",
       "      <td>0.870516</td>\n",
       "      <td>0.000000</td>\n",
       "      <td>0.000000</td>\n",
       "    </tr>\n",
       "    <tr>\n",
       "      <th>3</th>\n",
       "      <td>0.000000</td>\n",
       "      <td>0.000000</td>\n",
       "      <td>0.334292</td>\n",
       "      <td>0.281836</td>\n",
       "      <td>0.000000</td>\n",
       "      <td>0.259742</td>\n",
       "    </tr>\n",
       "    <tr>\n",
       "      <th>4</th>\n",
       "      <td>0.000295</td>\n",
       "      <td>0.000000</td>\n",
       "      <td>0.000000</td>\n",
       "      <td>0.000000</td>\n",
       "      <td>0.757179</td>\n",
       "      <td>0.000000</td>\n",
       "    </tr>\n",
       "    <tr>\n",
       "      <th>5</th>\n",
       "      <td>0.000000</td>\n",
       "      <td>0.096587</td>\n",
       "      <td>0.000000</td>\n",
       "      <td>0.001194</td>\n",
       "      <td>0.676257</td>\n",
       "      <td>0.000000</td>\n",
       "    </tr>\n",
       "    <tr>\n",
       "      <th>6</th>\n",
       "      <td>0.223603</td>\n",
       "      <td>0.000000</td>\n",
       "      <td>0.167861</td>\n",
       "      <td>0.000000</td>\n",
       "      <td>0.001840</td>\n",
       "      <td>0.000000</td>\n",
       "    </tr>\n",
       "    <tr>\n",
       "      <th>7</th>\n",
       "      <td>0.000000</td>\n",
       "      <td>0.740921</td>\n",
       "      <td>0.000000</td>\n",
       "      <td>0.000000</td>\n",
       "      <td>0.000000</td>\n",
       "      <td>0.000000</td>\n",
       "    </tr>\n",
       "    <tr>\n",
       "      <th>8</th>\n",
       "      <td>0.322351</td>\n",
       "      <td>0.000000</td>\n",
       "      <td>0.008663</td>\n",
       "      <td>0.000000</td>\n",
       "      <td>0.000000</td>\n",
       "      <td>0.000000</td>\n",
       "    </tr>\n",
       "    <tr>\n",
       "      <th>9</th>\n",
       "      <td>0.000000</td>\n",
       "      <td>0.000000</td>\n",
       "      <td>0.828534</td>\n",
       "      <td>0.000000</td>\n",
       "      <td>0.000000</td>\n",
       "      <td>0.000000</td>\n",
       "    </tr>\n",
       "    <tr>\n",
       "      <th>10</th>\n",
       "      <td>0.000000</td>\n",
       "      <td>0.000000</td>\n",
       "      <td>0.000000</td>\n",
       "      <td>0.000000</td>\n",
       "      <td>0.000000</td>\n",
       "      <td>0.967110</td>\n",
       "    </tr>\n",
       "    <tr>\n",
       "      <th>11</th>\n",
       "      <td>0.123270</td>\n",
       "      <td>0.255730</td>\n",
       "      <td>0.000000</td>\n",
       "      <td>0.200698</td>\n",
       "      <td>0.000000</td>\n",
       "      <td>0.051218</td>\n",
       "    </tr>\n",
       "    <tr>\n",
       "      <th>12</th>\n",
       "      <td>0.233145</td>\n",
       "      <td>0.002215</td>\n",
       "      <td>0.000000</td>\n",
       "      <td>0.246774</td>\n",
       "      <td>0.000000</td>\n",
       "      <td>0.000000</td>\n",
       "    </tr>\n",
       "  </tbody>\n",
       "</table>\n",
       "</div>"
      ],
      "text/plain": [
       "    memories    family  aspirations  companionship  seeking understanding  \\\n",
       "0   0.000000  0.627016     0.089695       0.000000               0.057370   \n",
       "1   0.247289  0.000000     0.000000       0.000000               0.000589   \n",
       "2   0.000000  0.000000     0.000000       0.870516               0.000000   \n",
       "3   0.000000  0.000000     0.334292       0.281836               0.000000   \n",
       "4   0.000295  0.000000     0.000000       0.000000               0.757179   \n",
       "5   0.000000  0.096587     0.000000       0.001194               0.676257   \n",
       "6   0.223603  0.000000     0.167861       0.000000               0.001840   \n",
       "7   0.000000  0.740921     0.000000       0.000000               0.000000   \n",
       "8   0.322351  0.000000     0.008663       0.000000               0.000000   \n",
       "9   0.000000  0.000000     0.828534       0.000000               0.000000   \n",
       "10  0.000000  0.000000     0.000000       0.000000               0.000000   \n",
       "11  0.123270  0.255730     0.000000       0.200698               0.000000   \n",
       "12  0.233145  0.002215     0.000000       0.246774               0.000000   \n",
       "\n",
       "    reflection  \n",
       "0     0.017819  \n",
       "1     0.220466  \n",
       "2     0.000000  \n",
       "3     0.259742  \n",
       "4     0.000000  \n",
       "5     0.000000  \n",
       "6     0.000000  \n",
       "7     0.000000  \n",
       "8     0.000000  \n",
       "9     0.000000  \n",
       "10    0.967110  \n",
       "11    0.051218  \n",
       "12    0.000000  "
      ]
     },
     "execution_count": 20,
     "metadata": {},
     "output_type": "execute_result"
    }
   ],
   "source": [
    "df_topics = pd.DataFrame(topic_values, columns = topic_labels)\n",
    "df_topics"
   ]
  },
  {
   "cell_type": "code",
   "execution_count": 21,
   "id": "c3b4a156-9ff6-4cd0-af76-2f632ec1e47e",
   "metadata": {
    "tags": []
   },
   "outputs": [],
   "source": [
    "songs = songs.join(df_topics)  #\"memories\", \"family\", \"aspirations\", \"companionship\", \"seeking understanding\", \"reflection\"]"
   ]
  },
  {
   "cell_type": "code",
   "execution_count": 22,
   "id": "c8deded5-faa4-47a5-b542-22656de9dada",
   "metadata": {
    "tags": []
   },
   "outputs": [],
   "source": [
    "songs.loc[songs['memories'] >= 0.1, 'memories'] = 1\n",
    "songs.loc[songs['family'] >= 0.1, 'family'] = 1\n",
    "songs.loc[songs['aspirations'] >= 0.1, 'aspirations'] = 1\n",
    "songs.loc[songs['companionship'] >= 0.1, 'companionship'] = 1\n",
    "songs.loc[songs['seeking understanding'] >= 0.1, 'seeking understanding'] = 1\n",
    "songs.loc[songs['reflection'] >= 0.1, 'reflection'] = 1"
   ]
  },
  {
   "cell_type": "code",
   "execution_count": 23,
   "id": "cb147a2a-7a75-401e-8a69-ddc61c820e45",
   "metadata": {
    "tags": []
   },
   "outputs": [],
   "source": [
    "songs.loc[songs['memories'] < 0.1, 'memories'] = 0\n",
    "songs.loc[songs['family'] < 0.1, 'family'] = 0\n",
    "songs.loc[songs['aspirations'] < 0.1, 'aspirations'] = 0\n",
    "songs.loc[songs['companionship'] < 0.1, 'companionship'] = 0\n",
    "songs.loc[songs['seeking understanding'] < 0.1, 'seeking understanding'] = 0\n",
    "songs.loc[songs['reflection'] < 0.1, 'reflection'] = 0"
   ]
  },
  {
   "cell_type": "code",
   "execution_count": 24,
   "id": "cd60301b-ae63-4f27-a515-d3356c269f2c",
   "metadata": {
    "tags": []
   },
   "outputs": [],
   "source": [
    "songs_csv = songs.to_csv('topics/midnights_topics.csv')"
   ]
  },
  {
   "cell_type": "code",
   "execution_count": null,
   "id": "69e13cea-46c2-4e0e-8c5d-a54780b9c899",
   "metadata": {},
   "outputs": [],
   "source": []
  }
 ],
 "metadata": {
  "kernelspec": {
   "display_name": "Python 3 (ipykernel)",
   "language": "python",
   "name": "python3"
  },
  "language_info": {
   "codemirror_mode": {
    "name": "ipython",
    "version": 3
   },
   "file_extension": ".py",
   "mimetype": "text/x-python",
   "name": "python",
   "nbconvert_exporter": "python",
   "pygments_lexer": "ipython3",
   "version": "3.11.9"
  }
 },
 "nbformat": 4,
 "nbformat_minor": 5
}
