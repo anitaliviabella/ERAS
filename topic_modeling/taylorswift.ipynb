{
 "cells": [
  {
   "cell_type": "code",
   "execution_count": 1,
   "id": "c203bd0c-daa1-4285-9924-4af16ade371e",
   "metadata": {
    "tags": []
   },
   "outputs": [],
   "source": [
    "import pandas as pd\n",
    "df = pd.read_csv('corpus/taylorswift_lyrics.csv', encoding = 'latin-1')"
   ]
  },
  {
   "cell_type": "code",
   "execution_count": 2,
   "id": "bd119ea0-3a77-42bc-b098-5f729bdc58a1",
   "metadata": {
    "tags": []
   },
   "outputs": [
    {
     "data": {
      "text/html": [
       "<div>\n",
       "<style scoped>\n",
       "    .dataframe tbody tr th:only-of-type {\n",
       "        vertical-align: middle;\n",
       "    }\n",
       "\n",
       "    .dataframe tbody tr th {\n",
       "        vertical-align: top;\n",
       "    }\n",
       "\n",
       "    .dataframe thead th {\n",
       "        text-align: right;\n",
       "    }\n",
       "</style>\n",
       "<table border=\"1\" class=\"dataframe\">\n",
       "  <thead>\n",
       "    <tr style=\"text-align: right;\">\n",
       "      <th></th>\n",
       "      <th>ï»¿album_name</th>\n",
       "      <th>track_title</th>\n",
       "      <th>track_n</th>\n",
       "      <th>lyric</th>\n",
       "      <th>line</th>\n",
       "    </tr>\n",
       "  </thead>\n",
       "  <tbody>\n",
       "    <tr>\n",
       "      <th>0</th>\n",
       "      <td>Taylor Swift</td>\n",
       "      <td>Tim McGraw</td>\n",
       "      <td>1</td>\n",
       "      <td>He said the way my blue eyes shined</td>\n",
       "      <td>1</td>\n",
       "    </tr>\n",
       "    <tr>\n",
       "      <th>1</th>\n",
       "      <td>Taylor Swift</td>\n",
       "      <td>Tim McGraw</td>\n",
       "      <td>1</td>\n",
       "      <td>Put those Georgia stars to shame that night</td>\n",
       "      <td>2</td>\n",
       "    </tr>\n",
       "    <tr>\n",
       "      <th>2</th>\n",
       "      <td>Taylor Swift</td>\n",
       "      <td>Tim McGraw</td>\n",
       "      <td>1</td>\n",
       "      <td>I said, \"That's a lie\"</td>\n",
       "      <td>3</td>\n",
       "    </tr>\n",
       "    <tr>\n",
       "      <th>3</th>\n",
       "      <td>Taylor Swift</td>\n",
       "      <td>Tim McGraw</td>\n",
       "      <td>1</td>\n",
       "      <td>Just a boy in a Chevy truck</td>\n",
       "      <td>4</td>\n",
       "    </tr>\n",
       "    <tr>\n",
       "      <th>4</th>\n",
       "      <td>Taylor Swift</td>\n",
       "      <td>Tim McGraw</td>\n",
       "      <td>1</td>\n",
       "      <td>That had a tendency of gettin' stuck</td>\n",
       "      <td>5</td>\n",
       "    </tr>\n",
       "  </tbody>\n",
       "</table>\n",
       "</div>"
      ],
      "text/plain": [
       "  ï»¿album_name track_title  track_n  \\\n",
       "0  Taylor Swift  Tim McGraw        1   \n",
       "1  Taylor Swift  Tim McGraw        1   \n",
       "2  Taylor Swift  Tim McGraw        1   \n",
       "3  Taylor Swift  Tim McGraw        1   \n",
       "4  Taylor Swift  Tim McGraw        1   \n",
       "\n",
       "                                         lyric  line  \n",
       "0          He said the way my blue eyes shined     1  \n",
       "1  Put those Georgia stars to shame that night     2  \n",
       "2                       I said, \"That's a lie\"     3  \n",
       "3                  Just a boy in a Chevy truck     4  \n",
       "4         That had a tendency of gettin' stuck     5  "
      ]
     },
     "execution_count": 2,
     "metadata": {},
     "output_type": "execute_result"
    }
   ],
   "source": [
    "df.head()"
   ]
  },
  {
   "cell_type": "code",
   "execution_count": 3,
   "id": "639932fe-855a-448a-9bdc-2ed181e53c4e",
   "metadata": {
    "tags": []
   },
   "outputs": [],
   "source": [
    "songs = df.groupby('track_title').agg({'lyric': lambda x: \" \".join(x)}).reset_index()"
   ]
  },
  {
   "cell_type": "code",
   "execution_count": 4,
   "id": "b87f9dca-4fe9-4236-80c0-d27ce9215224",
   "metadata": {
    "tags": []
   },
   "outputs": [],
   "source": [
    "pd.options.display.max_colwidth = 5000"
   ]
  },
  {
   "cell_type": "code",
   "execution_count": 5,
   "id": "cf43ef1b-4fd3-42ae-9a6d-a82db72b2f79",
   "metadata": {
    "tags": []
   },
   "outputs": [
    {
     "data": {
      "text/html": [
       "<div>\n",
       "<style scoped>\n",
       "    .dataframe tbody tr th:only-of-type {\n",
       "        vertical-align: middle;\n",
       "    }\n",
       "\n",
       "    .dataframe tbody tr th {\n",
       "        vertical-align: top;\n",
       "    }\n",
       "\n",
       "    .dataframe thead th {\n",
       "        text-align: right;\n",
       "    }\n",
       "</style>\n",
       "<table border=\"1\" class=\"dataframe\">\n",
       "  <thead>\n",
       "    <tr style=\"text-align: right;\">\n",
       "      <th></th>\n",
       "      <th>track_title</th>\n",
       "      <th>lyric</th>\n",
       "    </tr>\n",
       "  </thead>\n",
       "  <tbody>\n",
       "    <tr>\n",
       "      <th>0</th>\n",
       "      <td>A Perfectly Good Heart</td>\n",
       "      <td>Why would you wanna break a perfectly good heart? Why would you wanna take our love and tear it all apart, now? Why would you wanna make the very first scar? Why would you wanna break a perfectly good heart? Maybe I should've seen the signs Should've read the writing on the wall And realized by the distance in your eyes that I would be the one to fall No matter what you say, I still can't believe That you would walk away It don't make sense to me, but Why would you wanna break a perfectly good heart? Why would you wanna take our love and tear it all apart, now? Why would you wanna make the very first scar? Why would you wanna break a perfectly good heart? It's not unbroken anymore How do I get it back the way it was before? Why would you wanna break a perfectly good heart? Why would you wanna take our love and tear it all apart, now? Why would you wanna make the very first scar? Why would you wanna break? Why would you wanna break it? Why would you wanna break a perfectly good heart? Why would you wanna take our love and tear it all apart, now? Why would you wanna make the very first scar? Why would you wanna break a perfectly good heart?</td>\n",
       "    </tr>\n",
       "    <tr>\n",
       "      <th>1</th>\n",
       "      <td>A Place In This World</td>\n",
       "      <td>I don't know what I want, so don't ask me 'Cause I'm still trying to figure it out Don't know what's down this road, I'm just walking Trying to see through the rain coming down Even though I'm not the only one Who feels the way I do I'm alone, on my own, and that's all I know I'll be strong, I'll be wrong, oh but life goes on Oh, I'm just a girl, trying to find a place in this world Got the radio on, my old blue jeans And I'm wearing my heart on my sleeve Feeling lucky today, got the sunshine Could you tell me what more do I need And tomorrow's just a mystery, oh yeah But that's OK I'm alone, on my own, and that's all I know I'll be strong, I'll be wrong, oh but life goes on Oh, I'm just a girl, trying to find a place in this world Maybe I'm just a girl on a mission But I'm ready to fly I'm alone, on my own, and that's all I know I'll be strong, I'll be wrong, oh but life goes on Oh I'm alone, on my own, and that's all I know Oh I'm just a girl, trying to find a place in this world Oh I'm just a girl Oh I'm just a girl, oh, oh Oh I'm just a girl</td>\n",
       "    </tr>\n",
       "    <tr>\n",
       "      <th>2</th>\n",
       "      <td>Cold As You</td>\n",
       "      <td>You have a way of coming easily to me And when you take, you take the very best of me So I start a fight 'cause I need to feel something And you do what you want 'cause I'm not what you wanted Oh, what a shame, what a rainy ending given to a perfect day Just walk away, ain't no use defending words that you will never say And now that I'm sitting here thinking it through I've never been anywhere cold as you You put up walls and paint them all a shade of gray And I stood there loving you and wished them all away And you come away with a great little story Of a mess of a dreamer with the nerve to adore you Oh, what a shame, what a rainy ending given to a perfect day So just walk away, ain't no use defending words that you will never say And now that I'm sitting here thinking it through I've never been anywhere cold as you You never did give a damn thing, honey, but I cried, cried for you And I know you wouldn't have told nobody if I died, died for you, died for you Oh, what a shame, what a rainy ending given to a perfect day Every smile you fake is so condescending counting all the scars you made And now that I'm sitting here thinking it through I've never been anywhere cold as you</td>\n",
       "    </tr>\n",
       "    <tr>\n",
       "      <th>3</th>\n",
       "      <td>Invisible</td>\n",
       "      <td>She can't see the way your eyes Light up when you smile She'll never notice how you stop and stare Whenever she walks by And you can't see me wanting you the way you want her But you are everything to me And I just wanna show you She don't even know you She's never gonna love you like I want to And you just see right through me But if you only knew me We could be a beautiful Miracle Unbelievable Instead of just invisible Oh, yeah There's a fire inside of you That can't help but shine through She's never gonna see the light No matter what you do And all I think about is how to make you think of me And everything that we could be I just wanna show you She don't even know you She's never gonna love you like I want to And you just see right through me If you only knew me We could be a beautiful Miracle Unbelievable Instead of just invisible Like shadows in a faded light Oh, we're invisible I just wanna open your eyes And make you realize I just wanna show you She don't even know you Baby, let me love you Let me want you You just see right through me But if you only knew me We could be a beautiful Miracle Unbelievable Instead of just invisible Oh, yeah She can't see the way your eyes Light up when you smile</td>\n",
       "    </tr>\n",
       "    <tr>\n",
       "      <th>4</th>\n",
       "      <td>Iâm Only Me When Iâm with You</td>\n",
       "      <td>Friday night beneath the stars In a field behind your yard You and I are painting pictures in the sky And sometimes we don't say a thing Just listen to the crickets sing Everything I need is right here by my side And I know everything about you I don't wanna live without you I'm only up when you're not down Don't wanna fly if you're still on the ground It's like no matter what I do Well, you drive me crazy half the time The other half, I'm only tryna Let you know that what I feel is true And I'm only me when I'm with you Just a small-town boy and girl Living in a crazy world Tryna figure out what is and isn't true And I don't try to hide my tears My secrets or my deepest fears Through it all nobody gets me like you do And you know everything about me You say that you can't live without me I'm only up when you're not down Don't wanna fly if you're still on the ground It's like no matter what I do Well, you drive me crazy half the time The other half, I'm only tryna Let you know that what I feel is true And I'm only me when I'm with you When I'm with anybody else It's so hard to be myself And only you can tell That I'm only up when you're not down Don't wanna fly if you're still on the ground It's like no matter what I do Well, you drive me crazy half the time The other half, I'm only tryna Let you know that what I feel is true And I'm only me, who I wanna be Well, I'm only me when I'm with you With you Uh-huh, yeah</td>\n",
       "    </tr>\n",
       "  </tbody>\n",
       "</table>\n",
       "</div>"
      ],
      "text/plain": [
       "                         track_title  \\\n",
       "0             A Perfectly Good Heart   \n",
       "1              A Place In This World   \n",
       "2                        Cold As You   \n",
       "3                          Invisible   \n",
       "4  Iâm Only Me When Iâm with You   \n",
       "\n",
       "                                                                                                                                                                                                                                                                                                                                                                                                                                                                                                                                                                                                                                                                                                                                                                                                                                                                                                                                                                                                                                                                                                                                                                                                                                                                                                                                                                                                                                                                                           lyric  \n",
       "0                                                                                                                                                                                                                                                                                           Why would you wanna break a perfectly good heart? Why would you wanna take our love and tear it all apart, now? Why would you wanna make the very first scar? Why would you wanna break a perfectly good heart? Maybe I should've seen the signs Should've read the writing on the wall And realized by the distance in your eyes that I would be the one to fall No matter what you say, I still can't believe That you would walk away It don't make sense to me, but Why would you wanna break a perfectly good heart? Why would you wanna take our love and tear it all apart, now? Why would you wanna make the very first scar? Why would you wanna break a perfectly good heart? It's not unbroken anymore How do I get it back the way it was before? Why would you wanna break a perfectly good heart? Why would you wanna take our love and tear it all apart, now? Why would you wanna make the very first scar? Why would you wanna break? Why would you wanna break it? Why would you wanna break a perfectly good heart? Why would you wanna take our love and tear it all apart, now? Why would you wanna make the very first scar? Why would you wanna break a perfectly good heart?  \n",
       "1                                                                                                                                                                                                                                                                                                                                                                                          I don't know what I want, so don't ask me 'Cause I'm still trying to figure it out Don't know what's down this road, I'm just walking Trying to see through the rain coming down Even though I'm not the only one Who feels the way I do I'm alone, on my own, and that's all I know I'll be strong, I'll be wrong, oh but life goes on Oh, I'm just a girl, trying to find a place in this world Got the radio on, my old blue jeans And I'm wearing my heart on my sleeve Feeling lucky today, got the sunshine Could you tell me what more do I need And tomorrow's just a mystery, oh yeah But that's OK I'm alone, on my own, and that's all I know I'll be strong, I'll be wrong, oh but life goes on Oh, I'm just a girl, trying to find a place in this world Maybe I'm just a girl on a mission But I'm ready to fly I'm alone, on my own, and that's all I know I'll be strong, I'll be wrong, oh but life goes on Oh I'm alone, on my own, and that's all I know Oh I'm just a girl, trying to find a place in this world Oh I'm just a girl Oh I'm just a girl, oh, oh Oh I'm just a girl  \n",
       "2                                                                                                                                                                                                                                                  You have a way of coming easily to me And when you take, you take the very best of me So I start a fight 'cause I need to feel something And you do what you want 'cause I'm not what you wanted Oh, what a shame, what a rainy ending given to a perfect day Just walk away, ain't no use defending words that you will never say And now that I'm sitting here thinking it through I've never been anywhere cold as you You put up walls and paint them all a shade of gray And I stood there loving you and wished them all away And you come away with a great little story Of a mess of a dreamer with the nerve to adore you Oh, what a shame, what a rainy ending given to a perfect day So just walk away, ain't no use defending words that you will never say And now that I'm sitting here thinking it through I've never been anywhere cold as you You never did give a damn thing, honey, but I cried, cried for you And I know you wouldn't have told nobody if I died, died for you, died for you Oh, what a shame, what a rainy ending given to a perfect day Every smile you fake is so condescending counting all the scars you made And now that I'm sitting here thinking it through I've never been anywhere cold as you  \n",
       "3                                                                                                                                                                                                                          She can't see the way your eyes Light up when you smile She'll never notice how you stop and stare Whenever she walks by And you can't see me wanting you the way you want her But you are everything to me And I just wanna show you She don't even know you She's never gonna love you like I want to And you just see right through me But if you only knew me We could be a beautiful Miracle Unbelievable Instead of just invisible Oh, yeah There's a fire inside of you That can't help but shine through She's never gonna see the light No matter what you do And all I think about is how to make you think of me And everything that we could be I just wanna show you She don't even know you She's never gonna love you like I want to And you just see right through me If you only knew me We could be a beautiful Miracle Unbelievable Instead of just invisible Like shadows in a faded light Oh, we're invisible I just wanna open your eyes And make you realize I just wanna show you She don't even know you Baby, let me love you Let me want you You just see right through me But if you only knew me We could be a beautiful Miracle Unbelievable Instead of just invisible Oh, yeah She can't see the way your eyes Light up when you smile  \n",
       "4  Friday night beneath the stars In a field behind your yard You and I are painting pictures in the sky And sometimes we don't say a thing Just listen to the crickets sing Everything I need is right here by my side And I know everything about you I don't wanna live without you I'm only up when you're not down Don't wanna fly if you're still on the ground It's like no matter what I do Well, you drive me crazy half the time The other half, I'm only tryna Let you know that what I feel is true And I'm only me when I'm with you Just a small-town boy and girl Living in a crazy world Tryna figure out what is and isn't true And I don't try to hide my tears My secrets or my deepest fears Through it all nobody gets me like you do And you know everything about me You say that you can't live without me I'm only up when you're not down Don't wanna fly if you're still on the ground It's like no matter what I do Well, you drive me crazy half the time The other half, I'm only tryna Let you know that what I feel is true And I'm only me when I'm with you When I'm with anybody else It's so hard to be myself And only you can tell That I'm only up when you're not down Don't wanna fly if you're still on the ground It's like no matter what I do Well, you drive me crazy half the time The other half, I'm only tryna Let you know that what I feel is true And I'm only me, who I wanna be Well, I'm only me when I'm with you With you Uh-huh, yeah  "
      ]
     },
     "execution_count": 5,
     "metadata": {},
     "output_type": "execute_result"
    }
   ],
   "source": [
    "songs.head()"
   ]
  },
  {
   "cell_type": "code",
   "execution_count": 6,
   "id": "ac9117d3-87c0-46aa-aa37-2ba4804b9d72",
   "metadata": {
    "tags": []
   },
   "outputs": [
    {
     "data": {
      "text/plain": [
       "15"
      ]
     },
     "execution_count": 6,
     "metadata": {},
     "output_type": "execute_result"
    }
   ],
   "source": [
    "len(songs)"
   ]
  },
  {
   "cell_type": "code",
   "execution_count": 7,
   "id": "1e94fc64-189c-4a15-b353-abb1af8f3264",
   "metadata": {
    "tags": []
   },
   "outputs": [],
   "source": [
    "import sklearn"
   ]
  },
  {
   "cell_type": "code",
   "execution_count": 8,
   "id": "0e410afd-b6e1-4937-bcfb-f4997b8419f9",
   "metadata": {
    "tags": []
   },
   "outputs": [],
   "source": [
    "from sklearn.feature_extraction.text import TfidfVectorizer"
   ]
  },
  {
   "cell_type": "code",
   "execution_count": 9,
   "id": "f3fef6a1-b9ff-44a2-a215-564c2cc96f12",
   "metadata": {
    "tags": []
   },
   "outputs": [
    {
     "name": "stderr",
     "output_type": "stream",
     "text": [
      "[nltk_data] Downloading package stopwords to /Users/anita/nltk_data...\n",
      "[nltk_data]   Package stopwords is already up-to-date!\n"
     ]
    },
    {
     "data": {
      "text/plain": [
       "True"
      ]
     },
     "execution_count": 9,
     "metadata": {},
     "output_type": "execute_result"
    }
   ],
   "source": [
    "import nltk\n",
    "from nltk.corpus import stopwords\n",
    "nltk.download('stopwords')"
   ]
  },
  {
   "cell_type": "code",
   "execution_count": 10,
   "id": "afde5be6-bd74-4224-ae13-83c3b89fe16b",
   "metadata": {
    "tags": []
   },
   "outputs": [],
   "source": [
    "stop_words = stopwords.words('english')"
   ]
  },
  {
   "cell_type": "code",
   "execution_count": 11,
   "id": "2bdd724a-89e7-4d66-8701-9143051291ca",
   "metadata": {
    "tags": []
   },
   "outputs": [],
   "source": [
    "stop_words.extend([\"gone\", \"asking\", \"used\", \"get\", \"wishing\", \"drew\", \"teardrops\", \"car\", \"keep\", \n",
    "    \"reason\", \"got\", \"wanna\", \"would\", \"like\", \"matter\", \"well\", \"let\", \"know\", \n",
    "    \"find\", \"ask\", \"gonna\", \"every\", \"coming\", \"cause\", \"smile\", \"undone\", \n",
    "    \"watch\", \"another\", \"outside\", \"ever\", \"looking\", \"try\", \"best\", \"nobody\", \n",
    "    \"better\", \"see\", \"late\"])"
   ]
  },
  {
   "cell_type": "code",
   "execution_count": 12,
   "id": "e734c697-c63a-4d2f-9248-2fb07dad24cb",
   "metadata": {
    "tags": []
   },
   "outputs": [],
   "source": [
    "vectorizer = TfidfVectorizer(stop_words = stop_words, min_df = 0.1)"
   ]
  },
  {
   "cell_type": "code",
   "execution_count": 13,
   "id": "d4b74f30-3b2f-44c8-a893-627e9e1545c7",
   "metadata": {
    "tags": []
   },
   "outputs": [],
   "source": [
    "tfidf = vectorizer.fit_transform(songs['lyric'])"
   ]
  },
  {
   "cell_type": "code",
   "execution_count": 14,
   "id": "a7c60187-2d13-4b33-8455-42797dcca8e9",
   "metadata": {
    "tags": []
   },
   "outputs": [],
   "source": [
    "from sklearn.decomposition import NMF"
   ]
  },
  {
   "cell_type": "code",
   "execution_count": 15,
   "id": "a4adc111-b397-472e-9f29-2ca022e38ccc",
   "metadata": {
    "tags": []
   },
   "outputs": [],
   "source": [
    "nmf = NMF(n_components = 6)"
   ]
  },
  {
   "cell_type": "code",
   "execution_count": 16,
   "id": "be4ad0b9-f473-422d-8b54-825954d87e8e",
   "metadata": {
    "tags": []
   },
   "outputs": [
    {
     "name": "stderr",
     "output_type": "stream",
     "text": [
      "/Library/Frameworks/Python.framework/Versions/3.11/lib/python3.11/site-packages/sklearn/decomposition/_nmf.py:1770: ConvergenceWarning: Maximum number of iterations 200 reached. Increase it to improve convergence.\n",
      "  warnings.warn(\n"
     ]
    }
   ],
   "source": [
    "topic_values = nmf.fit_transform(tfidf)"
   ]
  },
  {
   "cell_type": "code",
   "execution_count": 17,
   "id": "2b01c193-aa68-4d0b-97c0-0739715dcffe",
   "metadata": {
    "tags": []
   },
   "outputs": [
    {
     "name": "stdout",
     "output_type": "stream",
     "text": [
      "Topic #1: baby one go might knows hold anyone tell still true\n",
      "Topic #2: singing guitar song enough star looks keeps talks fake beautiful\n",
      "Topic #3: oh beautiful never life girl knew want light instead day\n",
      "Topic #4: time drive crazy really true truck picture fly old feel\n",
      "Topic #5: break good perfectly heart make take first love still read\n",
      "Topic #6: said back think song hope fore take home kiss slamming\n"
     ]
    }
   ],
   "source": [
    "for topic_num, topic in enumerate(nmf.components_):\n",
    "    message = \"Topic #{}: \".format(topic_num + 1)\n",
    "    message += \" \".join([vectorizer.get_feature_names_out()[i] for i in topic.argsort()[:-11 :-1]])\n",
    "    print(message)\n",
    "    "
   ]
  },
  {
   "cell_type": "code",
   "execution_count": 18,
   "id": "fbc62de1-c160-4145-beaf-3aad2ccba734",
   "metadata": {
    "tags": []
   },
   "outputs": [],
   "source": [
    "topic_labels = ['intimacy', 'music', 'appreciation', 'nostalgia', 'breakup', 'expression']"
   ]
  },
  {
   "cell_type": "code",
   "execution_count": 19,
   "id": "d3655b10-0f13-4f1c-8065-4630e397487e",
   "metadata": {
    "tags": []
   },
   "outputs": [
    {
     "data": {
      "text/html": [
       "<div>\n",
       "<style scoped>\n",
       "    .dataframe tbody tr th:only-of-type {\n",
       "        vertical-align: middle;\n",
       "    }\n",
       "\n",
       "    .dataframe tbody tr th {\n",
       "        vertical-align: top;\n",
       "    }\n",
       "\n",
       "    .dataframe thead th {\n",
       "        text-align: right;\n",
       "    }\n",
       "</style>\n",
       "<table border=\"1\" class=\"dataframe\">\n",
       "  <thead>\n",
       "    <tr style=\"text-align: right;\">\n",
       "      <th></th>\n",
       "      <th>intimacy</th>\n",
       "      <th>music</th>\n",
       "      <th>appreciation</th>\n",
       "      <th>nostalgia</th>\n",
       "      <th>breakup</th>\n",
       "      <th>expression</th>\n",
       "    </tr>\n",
       "  </thead>\n",
       "  <tbody>\n",
       "    <tr>\n",
       "      <th>0</th>\n",
       "      <td>0.000000</td>\n",
       "      <td>0.000000</td>\n",
       "      <td>0.000000</td>\n",
       "      <td>0.000000</td>\n",
       "      <td>0.865785</td>\n",
       "      <td>0.000000</td>\n",
       "    </tr>\n",
       "    <tr>\n",
       "      <th>1</th>\n",
       "      <td>0.000000</td>\n",
       "      <td>0.000000</td>\n",
       "      <td>0.553628</td>\n",
       "      <td>0.000000</td>\n",
       "      <td>0.000000</td>\n",
       "      <td>0.000000</td>\n",
       "    </tr>\n",
       "    <tr>\n",
       "      <th>2</th>\n",
       "      <td>0.020749</td>\n",
       "      <td>0.000000</td>\n",
       "      <td>0.495613</td>\n",
       "      <td>0.010105</td>\n",
       "      <td>0.002574</td>\n",
       "      <td>0.000000</td>\n",
       "    </tr>\n",
       "    <tr>\n",
       "      <th>3</th>\n",
       "      <td>0.000000</td>\n",
       "      <td>0.087594</td>\n",
       "      <td>0.597274</td>\n",
       "      <td>0.000000</td>\n",
       "      <td>0.013167</td>\n",
       "      <td>0.000000</td>\n",
       "    </tr>\n",
       "    <tr>\n",
       "      <th>4</th>\n",
       "      <td>0.000000</td>\n",
       "      <td>0.011510</td>\n",
       "      <td>0.000000</td>\n",
       "      <td>0.698271</td>\n",
       "      <td>0.000000</td>\n",
       "      <td>0.000000</td>\n",
       "    </tr>\n",
       "    <tr>\n",
       "      <th>5</th>\n",
       "      <td>0.000000</td>\n",
       "      <td>0.000000</td>\n",
       "      <td>0.243511</td>\n",
       "      <td>0.129575</td>\n",
       "      <td>0.074339</td>\n",
       "      <td>0.417136</td>\n",
       "    </tr>\n",
       "    <tr>\n",
       "      <th>6</th>\n",
       "      <td>0.000000</td>\n",
       "      <td>0.140645</td>\n",
       "      <td>0.034483</td>\n",
       "      <td>0.000000</td>\n",
       "      <td>0.009175</td>\n",
       "      <td>0.415565</td>\n",
       "    </tr>\n",
       "    <tr>\n",
       "      <th>7</th>\n",
       "      <td>0.007694</td>\n",
       "      <td>0.000000</td>\n",
       "      <td>0.029138</td>\n",
       "      <td>0.692450</td>\n",
       "      <td>0.000000</td>\n",
       "      <td>0.000000</td>\n",
       "    </tr>\n",
       "    <tr>\n",
       "      <th>8</th>\n",
       "      <td>0.203278</td>\n",
       "      <td>0.000000</td>\n",
       "      <td>0.000000</td>\n",
       "      <td>0.000000</td>\n",
       "      <td>0.000000</td>\n",
       "      <td>0.449248</td>\n",
       "    </tr>\n",
       "    <tr>\n",
       "      <th>9</th>\n",
       "      <td>0.000000</td>\n",
       "      <td>0.035118</td>\n",
       "      <td>0.590275</td>\n",
       "      <td>0.000000</td>\n",
       "      <td>0.000000</td>\n",
       "      <td>0.065337</td>\n",
       "    </tr>\n",
       "    <tr>\n",
       "      <th>10</th>\n",
       "      <td>0.000000</td>\n",
       "      <td>0.861049</td>\n",
       "      <td>0.000000</td>\n",
       "      <td>0.000000</td>\n",
       "      <td>0.000000</td>\n",
       "      <td>0.000000</td>\n",
       "    </tr>\n",
       "    <tr>\n",
       "      <th>11</th>\n",
       "      <td>0.000000</td>\n",
       "      <td>0.860667</td>\n",
       "      <td>0.000000</td>\n",
       "      <td>0.000676</td>\n",
       "      <td>0.000000</td>\n",
       "      <td>0.000000</td>\n",
       "    </tr>\n",
       "    <tr>\n",
       "      <th>12</th>\n",
       "      <td>0.229148</td>\n",
       "      <td>0.000000</td>\n",
       "      <td>0.336730</td>\n",
       "      <td>0.032390</td>\n",
       "      <td>0.062719</td>\n",
       "      <td>0.000000</td>\n",
       "    </tr>\n",
       "    <tr>\n",
       "      <th>13</th>\n",
       "      <td>0.501234</td>\n",
       "      <td>0.010405</td>\n",
       "      <td>0.000000</td>\n",
       "      <td>0.000000</td>\n",
       "      <td>0.000000</td>\n",
       "      <td>0.000000</td>\n",
       "    </tr>\n",
       "    <tr>\n",
       "      <th>14</th>\n",
       "      <td>0.000000</td>\n",
       "      <td>0.018291</td>\n",
       "      <td>0.000000</td>\n",
       "      <td>0.000000</td>\n",
       "      <td>0.000000</td>\n",
       "      <td>0.457965</td>\n",
       "    </tr>\n",
       "  </tbody>\n",
       "</table>\n",
       "</div>"
      ],
      "text/plain": [
       "    intimacy     music  appreciation  nostalgia   breakup  expression\n",
       "0   0.000000  0.000000      0.000000   0.000000  0.865785    0.000000\n",
       "1   0.000000  0.000000      0.553628   0.000000  0.000000    0.000000\n",
       "2   0.020749  0.000000      0.495613   0.010105  0.002574    0.000000\n",
       "3   0.000000  0.087594      0.597274   0.000000  0.013167    0.000000\n",
       "4   0.000000  0.011510      0.000000   0.698271  0.000000    0.000000\n",
       "5   0.000000  0.000000      0.243511   0.129575  0.074339    0.417136\n",
       "6   0.000000  0.140645      0.034483   0.000000  0.009175    0.415565\n",
       "7   0.007694  0.000000      0.029138   0.692450  0.000000    0.000000\n",
       "8   0.203278  0.000000      0.000000   0.000000  0.000000    0.449248\n",
       "9   0.000000  0.035118      0.590275   0.000000  0.000000    0.065337\n",
       "10  0.000000  0.861049      0.000000   0.000000  0.000000    0.000000\n",
       "11  0.000000  0.860667      0.000000   0.000676  0.000000    0.000000\n",
       "12  0.229148  0.000000      0.336730   0.032390  0.062719    0.000000\n",
       "13  0.501234  0.010405      0.000000   0.000000  0.000000    0.000000\n",
       "14  0.000000  0.018291      0.000000   0.000000  0.000000    0.457965"
      ]
     },
     "execution_count": 19,
     "metadata": {},
     "output_type": "execute_result"
    }
   ],
   "source": [
    "df_topics = pd.DataFrame(topic_values, columns = topic_labels)\n",
    "df_topics"
   ]
  },
  {
   "cell_type": "code",
   "execution_count": 20,
   "id": "e825bb4d-1487-454e-b0f0-ec5e55a63df9",
   "metadata": {
    "tags": []
   },
   "outputs": [],
   "source": [
    "songs = songs.join(df_topics)"
   ]
  },
  {
   "cell_type": "code",
   "execution_count": 21,
   "id": "ffaf8a4e-bf43-40d5-b8d3-6c69f486d16b",
   "metadata": {
    "tags": []
   },
   "outputs": [],
   "source": [
    "#topic is in\n",
    "songs.loc[songs['intimacy'] >= 0.1, 'intimacy'] = 1\n",
    "songs.loc[songs['music'] >= 0.1, 'music'] = 1\n",
    "songs.loc[songs['appreciation'] >= 0.1, 'appreciation'] = 1\n",
    "songs.loc[songs['nostalgia'] >= 0.1, 'nostalgia'] = 1\n",
    "songs.loc[songs['breakup'] >= 0.1, 'breakup'] = 1\n",
    "songs.loc[songs['expression'] >= 0.1, 'expression'] = 1"
   ]
  },
  {
   "cell_type": "code",
   "execution_count": 22,
   "id": "f7ad0436-f5da-41c7-b4c0-c46cffe65f34",
   "metadata": {
    "tags": []
   },
   "outputs": [],
   "source": [
    "#topic is not\n",
    "songs.loc[songs['intimacy'] < 0.1, 'intimacy'] = 0\n",
    "songs.loc[songs['music'] < 0.1, 'music'] = 0\n",
    "songs.loc[songs['appreciation'] < 0.1, 'appreciation'] = 0\n",
    "songs.loc[songs['nostalgia'] < 0.1, 'nostalgia'] = 0\n",
    "songs.loc[songs['breakup'] < 0.1, 'breakup'] = 0\n",
    "songs.loc[songs['expression'] < 0.1, 'expression'] = 0"
   ]
  },
  {
   "cell_type": "code",
   "execution_count": 23,
   "id": "a7e86dd8-785b-421c-af8b-17de7b943f32",
   "metadata": {
    "tags": []
   },
   "outputs": [],
   "source": [
    "songs_csv = songs.to_csv('topics/taylorswift_topics.csv')"
   ]
  },
  {
   "cell_type": "code",
   "execution_count": null,
   "id": "865d7a8c-80cc-4246-a839-6b985c7c1ca8",
   "metadata": {},
   "outputs": [],
   "source": []
  }
 ],
 "metadata": {
  "kernelspec": {
   "display_name": "Python 3.12.3 64-bit",
   "language": "python",
   "name": "python3"
  },
  "language_info": {
   "codemirror_mode": {
    "name": "ipython",
    "version": 3
   },
   "file_extension": ".py",
   "mimetype": "text/x-python",
   "name": "python",
   "nbconvert_exporter": "python",
   "pygments_lexer": "ipython3",
   "version": "3.12.3"
  },
  "vscode": {
   "interpreter": {
    "hash": "aee8b7b246df8f9039afb4144a1f6fd8d2ca17a180786b69acc140d282b71a49"
   }
  }
 },
 "nbformat": 4,
 "nbformat_minor": 5
}
