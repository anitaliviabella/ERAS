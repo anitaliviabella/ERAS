{
 "cells": [
  {
   "cell_type": "code",
   "execution_count": 1,
   "id": "061c54fb-f5d5-4fe1-83bd-279881501392",
   "metadata": {
    "tags": []
   },
   "outputs": [],
   "source": [
    "import pandas as pd\n",
    "df = pd.read_csv('corpus/speaknow_lyrics.csv', encoding = 'latin-1')"
   ]
  },
  {
   "cell_type": "code",
   "execution_count": 2,
   "id": "909359a6-1721-41d7-b548-62e69002d3b9",
   "metadata": {
    "tags": []
   },
   "outputs": [
    {
     "data": {
      "text/html": [
       "<div>\n",
       "<style scoped>\n",
       "    .dataframe tbody tr th:only-of-type {\n",
       "        vertical-align: middle;\n",
       "    }\n",
       "\n",
       "    .dataframe tbody tr th {\n",
       "        vertical-align: top;\n",
       "    }\n",
       "\n",
       "    .dataframe thead th {\n",
       "        text-align: right;\n",
       "    }\n",
       "</style>\n",
       "<table border=\"1\" class=\"dataframe\">\n",
       "  <thead>\n",
       "    <tr style=\"text-align: right;\">\n",
       "      <th></th>\n",
       "      <th>ï»¿album_name</th>\n",
       "      <th>track_title</th>\n",
       "      <th>track_n</th>\n",
       "      <th>lyric</th>\n",
       "      <th>line</th>\n",
       "    </tr>\n",
       "  </thead>\n",
       "  <tbody>\n",
       "    <tr>\n",
       "      <th>0</th>\n",
       "      <td>Speak Now (Deluxe)</td>\n",
       "      <td>Mine</td>\n",
       "      <td>1</td>\n",
       "      <td>You were in college, working part-time, waitin...</td>\n",
       "      <td>1</td>\n",
       "    </tr>\n",
       "    <tr>\n",
       "      <th>1</th>\n",
       "      <td>Speak Now (Deluxe)</td>\n",
       "      <td>Mine</td>\n",
       "      <td>1</td>\n",
       "      <td>Left a small town and never looked back</td>\n",
       "      <td>2</td>\n",
       "    </tr>\n",
       "    <tr>\n",
       "      <th>2</th>\n",
       "      <td>Speak Now (Deluxe)</td>\n",
       "      <td>Mine</td>\n",
       "      <td>1</td>\n",
       "      <td>I was a flight risk, with a fear of falling</td>\n",
       "      <td>3</td>\n",
       "    </tr>\n",
       "    <tr>\n",
       "      <th>3</th>\n",
       "      <td>Speak Now (Deluxe)</td>\n",
       "      <td>Mine</td>\n",
       "      <td>1</td>\n",
       "      <td>Wondering why we bother with love, if it never...</td>\n",
       "      <td>4</td>\n",
       "    </tr>\n",
       "    <tr>\n",
       "      <th>4</th>\n",
       "      <td>Speak Now (Deluxe)</td>\n",
       "      <td>Mine</td>\n",
       "      <td>1</td>\n",
       "      <td>I say, \"Can you believe it?\"</td>\n",
       "      <td>5</td>\n",
       "    </tr>\n",
       "  </tbody>\n",
       "</table>\n",
       "</div>"
      ],
      "text/plain": [
       "        ï»¿album_name track_title  track_n  \\\n",
       "0  Speak Now (Deluxe)        Mine        1   \n",
       "1  Speak Now (Deluxe)        Mine        1   \n",
       "2  Speak Now (Deluxe)        Mine        1   \n",
       "3  Speak Now (Deluxe)        Mine        1   \n",
       "4  Speak Now (Deluxe)        Mine        1   \n",
       "\n",
       "                                               lyric  line  \n",
       "0  You were in college, working part-time, waitin...     1  \n",
       "1            Left a small town and never looked back     2  \n",
       "2        I was a flight risk, with a fear of falling     3  \n",
       "3  Wondering why we bother with love, if it never...     4  \n",
       "4                       I say, \"Can you believe it?\"     5  "
      ]
     },
     "execution_count": 2,
     "metadata": {},
     "output_type": "execute_result"
    }
   ],
   "source": [
    "df.head()"
   ]
  },
  {
   "cell_type": "code",
   "execution_count": 3,
   "id": "baf276db-57a9-430a-9a8c-94bc30a98f17",
   "metadata": {
    "tags": []
   },
   "outputs": [],
   "source": [
    "songs = df.groupby('track_title').agg({'lyric': lambda x: \" \".join(x)}).reset_index()"
   ]
  },
  {
   "cell_type": "code",
   "execution_count": 4,
   "id": "add26663-f7ba-4053-8a7c-503bbe185f90",
   "metadata": {
    "tags": []
   },
   "outputs": [],
   "source": [
    "pd.options.display.max_colwidth = 5000"
   ]
  },
  {
   "cell_type": "code",
   "execution_count": 5,
   "id": "bd4cc8d0-a468-4167-b91c-b763d5081f2b",
   "metadata": {
    "tags": []
   },
   "outputs": [
    {
     "data": {
      "text/html": [
       "<div>\n",
       "<style scoped>\n",
       "    .dataframe tbody tr th:only-of-type {\n",
       "        vertical-align: middle;\n",
       "    }\n",
       "\n",
       "    .dataframe tbody tr th {\n",
       "        vertical-align: top;\n",
       "    }\n",
       "\n",
       "    .dataframe thead th {\n",
       "        text-align: right;\n",
       "    }\n",
       "</style>\n",
       "<table border=\"1\" class=\"dataframe\">\n",
       "  <thead>\n",
       "    <tr style=\"text-align: right;\">\n",
       "      <th></th>\n",
       "      <th>track_title</th>\n",
       "      <th>lyric</th>\n",
       "    </tr>\n",
       "  </thead>\n",
       "  <tbody>\n",
       "    <tr>\n",
       "      <th>0</th>\n",
       "      <td>Back to December</td>\n",
       "      <td>I'm so glad you made time to see me How's life? Tell me, how's your family? I haven't seen them in a while You've been good, busier than ever We small talk, work and the weather Your guard is up and I know why Because the last time you saw me Is still burned in the back of your mind You gave me roses, and I left them there to die So this is me swallowing my pride Standing in front of you, saying I'm sorry for that night And I go back to December all the time It turns out freedom ain't nothing but missing you Wishing I'd realized what I had when you were mine I'd go back to December, turn around and make it alright I go back to December all the time These days, I haven't been sleeping Staying up, playing back myself leaving When your birthday passed and I didn't call And I think about summer, all the beautiful times I watched you laughing from the passenger side and Realized I loved you in the fall And then the cold came The dark days when fear crept into my mind You gave me all your love, and all I gave you was goodbye So this is me swallowing my pride Standing in front of you, saying I'm sorry for that night And I go back to December all the time It turns out freedom ain't nothing but missing you Wishing I'd realized what I had when you were mine I'd go back to December, turn around and change my own mind I go back to December all the time I miss your tan skin, your sweet smile So good to me, so right And how you held me in your arms that September night The first time you ever saw me cry Maybe this is wishful thinking Probably mindless dreaming But if we loved again, I swear I'd love you right I'd go back in time and change it, but I can't So if the chain is on your door, I understand But this is me swallowing my pride Standing in front of you, saying I'm sorry for that night And I go back to December It turns out freedom ain't nothing but missing you Wishing I'd realized what I had when you were mine I'd go back to December, turn around and make it alright I'd go back to December, turn around and change my own mind I go back to December all the time All the time</td>\n",
       "    </tr>\n",
       "    <tr>\n",
       "      <th>1</th>\n",
       "      <td>Better Than Revenge</td>\n",
       "      <td>Now go stand in the corner and think about what you did Ha, time for a little revenge The story starts when it was hot and it was summer and I had it all, I had him right there where I wanted him She came along, got him alone and let's hear the applause She took him faster than you can say \"Sabotage\" I never saw it coming, wouldn't have suspected it I underestimated just who I was dealing with She had to know the pain was beating on me like a drum She underestimated just who she was stealing from She's not a saint and she's not what you think She's an actress, whoa She's better known for the things that she does On the mattress, whoa Soon she's gonna find stealing other people's toys On the playground won't make you many friends She should keep in mind, she should keep in mind There is nothing I do better than revenge, ha She looks at life like it's a party and she's on the list She looks at me like I'm a trend and she's so over it I think her ever-present frown is a little troubling And she thinks I'm psycho 'cause I like to rhyme her name with things But sophistication isn't what you wear or who you know Or pushing people down to get you where you wanna go Oh, they didn't teach you that in prep school so it's up to me But no amount of vintage dresses gives you dignity (Think about what you did) Joeboy 'Sip (Alcohol)' Official Lyrics &amp; Meaning | Verified She's not a saint and she's not what you think She's an actress, whoa She's better known for the things that she does On the mattress, whoa Soon she's gonna find stealing other people's toys On the playground won't make you many friends She should keep in mind, she should keep in mind There is nothing I do better than revenge, ha I'm just another thing for you to roll your eyes at, honey You might have him, but haven't you heard? I'm just another thing for you to roll your eyes at, honey You might have him, but I always get the last word Whoa, whoa-ah-oh She's not a saint and she's not what you think She's an actress, whoa (She deserved it) She's better known for the things that she does On the mattress, whoa Soon she's gonna find stealing other people's toys On the playground won't make you many friends She should keep in mind, she should keep in mind There is nothing I do better than revenge, ha Do you still feel like you know what you're doing? 'Cause I don't think you do, oh (No, no, no, no) Do you still feel like you know what you're doing? (No) I don't think you do, I don't think you do Let's hear the applause (Come on, come on) Come on, show me how much better you are (So much better, yeah?) See you deserve some applause 'Cause you're so much better She took him faster than you could say \"Sabotage\"</td>\n",
       "    </tr>\n",
       "    <tr>\n",
       "      <th>2</th>\n",
       "      <td>Dear John</td>\n",
       "      <td>Long were the nights when My days once revolved around you Counting my footsteps Praying the floor won't fall through... again My mother accused me of losing my mind But I swore I was fine You paint me a blue sky Then go back and turn it to rain And I lived in your chess game But you changed the rules everyday Wonderin' which version of you I might get on the phone, tonight Well, I stopped pickin' up and this song is to let you know why Dear John, I see it all now that you're gone Don't you think I was too young to be messed with? The girl in the dress cried the whole way home I shoulda known Well, maybe it's me And my blind optimism to blame Or maybe it's you and your sick need To give love and take it away And you'll add my name to your long list of traitors Who don't understand And I look back in regret how I ignored when they said \"Run as fast as you can\" Dear John, I see it all now that you're gone Don't you think I was too young to be messed with? The girl in the dress cried the whole way home Dear John, I see it all now, it was wrong Don't you think nineteen's too young To be played by your dark, twisted games When I loved you so? I shoulda known You are an expert at sorry And keeping lines blurry Never impressed by me acing your tests All the girls that you've run dry have tired lifeless eyes 'Cause you burned them out But I took your matches Before fire could catch me So don't look now I'm shining like fireworks Over your sad empty town, yeah Oh, oh, oh, oh, oh, oh Dear John, I see it all now that you're gone Don't you think I was too young to be messed with? The girl in the dress cried the whole way home I see it all now that you're gone Don't you think I was too young to be messed with? The girl in the dress wrote you a song You shoulda known You shoulda known Don't you think I was too young? You shoulda known</td>\n",
       "    </tr>\n",
       "    <tr>\n",
       "      <th>3</th>\n",
       "      <td>Enchanted</td>\n",
       "      <td>There I was again tonight Forcing laughter, faking smiles Same old tired, lonely place Walls of insincerity, shifting eyes and vacancy Vanished when I saw your face All I can say is, it was enchanting to meet you Your eyes whispered, \"Have we met?\" 'Cross the room your silhouette Starts to make its way to me The playful conversation starts Counter all your quick remarks Like passing notes in secrecy And it was enchanting to meet you All I can say is, I was enchanted to meet you This night is sparkling Don't you let it go I'm wonderstruck Blushing all the way home I'll spend forever Wondering if you knew I was enchanted to meet you Joeboy 'Sip (Alcohol)' Official Lyrics &amp; Meaning | Verified Joeboy 'Sip (Alcohol)' Official Lyrics &amp; Meaning | Verified Joeboy 'Sip (Alcohol)' Official Lyrics &amp; Meaning | Verified Nardo Wick 'Who Want Smoke??' (Live Performance) | Open Mic Nardo Wick 'Who Want Smoke??' (Live Performance) | Open Mic Kiana LedÃ© 'Ur Best Friend' Official Lyrics &amp; Meaning | Verified Kiana LedÃ© 'Ur Best Friend' Official Lyrics &amp; Meaning | Verified The lingering question kept me up 2AM, who do you love? I wonder 'til I'm wide awake And now I'm pacing back and forth Wishing you were at my door I'd open up and you would say, \"Hey\" It was enchanting to meet you All I know is I was enchanted to meet you This night is sparkling Don't you let it go I'm wonderstruck Blushing all the way home I'll spend forever Wondering if you knew This night is flawless Don't you let it go I'm wonderstruck Dancing around all alone I'll spend forever Wondering if you knew I was enchanted to meet you This is me praying that This was the very first page Not where the storyline ends My thoughts will echo your name Until I see you again These are the words I held back As I was leaving too soon I was enchanted to meet you Please don't be in love With someone else Please don't have somebody Waiting on you Please don't be in love (Ooh) With someone else Please don't have somebody (Ooh, hey) Waiting on you This night is sparkling Don't you let it go I'm wonderstruck Blushing all the way home I'll spend forever Wondering if you knew This night is flawless (Please don't be in love with someone else) Don't you let it go I'm wonderstruck (Please don't have somebody waiting on you) Dancing around all alone I'll spend forever (Please don't be in love with someone else) Wondering if you knew I was enchanted to meet you Please don't be in love With someone else Please don't have somebody Waiting on you</td>\n",
       "    </tr>\n",
       "    <tr>\n",
       "      <th>4</th>\n",
       "      <td>Haunted</td>\n",
       "      <td>You and I walk a fragile line I have known it all this time But I never thought I'd live to see it break It's getting dark and it's all too quiet And I can't trust anything now And it's coming over you like it's all a big mistake Whoa, holding my breath Won't lose you again Something's made your eyes go cold Come on, come on, don't leave me like this I thought I had you figured out Something's gone terribly wrong You're all I wanted Come on, come on, don't leave me like this I thought I had you figured out Can't breathe whenever you're gone Can't turn back now, I'm haunted Stood there and watched you walk away From everything we had But I still mean every word I said to you He will try to take away my pain And he just might make me smile But the whole time, I'm wishing it was you instead Oh, holding my breath Won't see you again Something keeps me holding onto nothing Come on, come on, don't leave me like this I thought I had you figured out Something's gone terribly wrong You're all I wanted Come on, come on, don't leave me like this I thought I had you figured out Can't breathe whenever you're gone Can't turn back now, I'm haunted I know I know I just know You're not gone, you can't be gone, no Come on, come on, don't leave me like this I thought I had you figured out Something's gone terribly wrong Won't finish what you started Come on, come on, don't leave me like this I thought I had you figured out Can't breathe whenever you're gone Can't go back, I'm haunted (Oh, oh, oh, oh, oh, oh, oh, oh, oh) You and I walk a fragile line I have known it all this time Never ever thought I'd see it break Never thought I'd see it</td>\n",
       "    </tr>\n",
       "  </tbody>\n",
       "</table>\n",
       "</div>"
      ],
      "text/plain": [
       "           track_title  \\\n",
       "0     Back to December   \n",
       "1  Better Than Revenge   \n",
       "2            Dear John   \n",
       "3            Enchanted   \n",
       "4              Haunted   \n",
       "\n",
       "                                                                                                                                                                                                                                                                                                                                                                                                                                                                                                                                                                                                                                                                                                                                                                                                                                                                                                                                                                                                                                                                                                                                                                                                                                                                                                                                                                                                                                                                                                                                                                                                                                                                                                                                                                                                                                                                                                                                                                                                                                                                                                                                                                                                                                                                                                                                                                                                                                                                                                                                                                                                                                                                                                                                                                                                              lyric  \n",
       "0                                                                                                                                                                                                                                                                                                                                                                                                                                                                                                                                                                                                                             I'm so glad you made time to see me How's life? Tell me, how's your family? I haven't seen them in a while You've been good, busier than ever We small talk, work and the weather Your guard is up and I know why Because the last time you saw me Is still burned in the back of your mind You gave me roses, and I left them there to die So this is me swallowing my pride Standing in front of you, saying I'm sorry for that night And I go back to December all the time It turns out freedom ain't nothing but missing you Wishing I'd realized what I had when you were mine I'd go back to December, turn around and make it alright I go back to December all the time These days, I haven't been sleeping Staying up, playing back myself leaving When your birthday passed and I didn't call And I think about summer, all the beautiful times I watched you laughing from the passenger side and Realized I loved you in the fall And then the cold came The dark days when fear crept into my mind You gave me all your love, and all I gave you was goodbye So this is me swallowing my pride Standing in front of you, saying I'm sorry for that night And I go back to December all the time It turns out freedom ain't nothing but missing you Wishing I'd realized what I had when you were mine I'd go back to December, turn around and change my own mind I go back to December all the time I miss your tan skin, your sweet smile So good to me, so right And how you held me in your arms that September night The first time you ever saw me cry Maybe this is wishful thinking Probably mindless dreaming But if we loved again, I swear I'd love you right I'd go back in time and change it, but I can't So if the chain is on your door, I understand But this is me swallowing my pride Standing in front of you, saying I'm sorry for that night And I go back to December It turns out freedom ain't nothing but missing you Wishing I'd realized what I had when you were mine I'd go back to December, turn around and make it alright I'd go back to December, turn around and change my own mind I go back to December all the time All the time  \n",
       "1  Now go stand in the corner and think about what you did Ha, time for a little revenge The story starts when it was hot and it was summer and I had it all, I had him right there where I wanted him She came along, got him alone and let's hear the applause She took him faster than you can say \"Sabotage\" I never saw it coming, wouldn't have suspected it I underestimated just who I was dealing with She had to know the pain was beating on me like a drum She underestimated just who she was stealing from She's not a saint and she's not what you think She's an actress, whoa She's better known for the things that she does On the mattress, whoa Soon she's gonna find stealing other people's toys On the playground won't make you many friends She should keep in mind, she should keep in mind There is nothing I do better than revenge, ha She looks at life like it's a party and she's on the list She looks at me like I'm a trend and she's so over it I think her ever-present frown is a little troubling And she thinks I'm psycho 'cause I like to rhyme her name with things But sophistication isn't what you wear or who you know Or pushing people down to get you where you wanna go Oh, they didn't teach you that in prep school so it's up to me But no amount of vintage dresses gives you dignity (Think about what you did) Joeboy 'Sip (Alcohol)' Official Lyrics & Meaning | Verified She's not a saint and she's not what you think She's an actress, whoa She's better known for the things that she does On the mattress, whoa Soon she's gonna find stealing other people's toys On the playground won't make you many friends She should keep in mind, she should keep in mind There is nothing I do better than revenge, ha I'm just another thing for you to roll your eyes at, honey You might have him, but haven't you heard? I'm just another thing for you to roll your eyes at, honey You might have him, but I always get the last word Whoa, whoa-ah-oh She's not a saint and she's not what you think She's an actress, whoa (She deserved it) She's better known for the things that she does On the mattress, whoa Soon she's gonna find stealing other people's toys On the playground won't make you many friends She should keep in mind, she should keep in mind There is nothing I do better than revenge, ha Do you still feel like you know what you're doing? 'Cause I don't think you do, oh (No, no, no, no) Do you still feel like you know what you're doing? (No) I don't think you do, I don't think you do Let's hear the applause (Come on, come on) Come on, show me how much better you are (So much better, yeah?) See you deserve some applause 'Cause you're so much better She took him faster than you could say \"Sabotage\"  \n",
       "2                                                                                                                                                                                                                                                                                                                                                                                                                                                                                                                                                                                                                                                                                                                                                                                                                                                                                      Long were the nights when My days once revolved around you Counting my footsteps Praying the floor won't fall through... again My mother accused me of losing my mind But I swore I was fine You paint me a blue sky Then go back and turn it to rain And I lived in your chess game But you changed the rules everyday Wonderin' which version of you I might get on the phone, tonight Well, I stopped pickin' up and this song is to let you know why Dear John, I see it all now that you're gone Don't you think I was too young to be messed with? The girl in the dress cried the whole way home I shoulda known Well, maybe it's me And my blind optimism to blame Or maybe it's you and your sick need To give love and take it away And you'll add my name to your long list of traitors Who don't understand And I look back in regret how I ignored when they said \"Run as fast as you can\" Dear John, I see it all now that you're gone Don't you think I was too young to be messed with? The girl in the dress cried the whole way home Dear John, I see it all now, it was wrong Don't you think nineteen's too young To be played by your dark, twisted games When I loved you so? I shoulda known You are an expert at sorry And keeping lines blurry Never impressed by me acing your tests All the girls that you've run dry have tired lifeless eyes 'Cause you burned them out But I took your matches Before fire could catch me So don't look now I'm shining like fireworks Over your sad empty town, yeah Oh, oh, oh, oh, oh, oh Dear John, I see it all now that you're gone Don't you think I was too young to be messed with? The girl in the dress cried the whole way home I see it all now that you're gone Don't you think I was too young to be messed with? The girl in the dress wrote you a song You shoulda known You shoulda known Don't you think I was too young? You shoulda known  \n",
       "3                                                                                                                                                                                                 There I was again tonight Forcing laughter, faking smiles Same old tired, lonely place Walls of insincerity, shifting eyes and vacancy Vanished when I saw your face All I can say is, it was enchanting to meet you Your eyes whispered, \"Have we met?\" 'Cross the room your silhouette Starts to make its way to me The playful conversation starts Counter all your quick remarks Like passing notes in secrecy And it was enchanting to meet you All I can say is, I was enchanted to meet you This night is sparkling Don't you let it go I'm wonderstruck Blushing all the way home I'll spend forever Wondering if you knew I was enchanted to meet you Joeboy 'Sip (Alcohol)' Official Lyrics & Meaning | Verified Joeboy 'Sip (Alcohol)' Official Lyrics & Meaning | Verified Joeboy 'Sip (Alcohol)' Official Lyrics & Meaning | Verified Nardo Wick 'Who Want Smoke??' (Live Performance) | Open Mic Nardo Wick 'Who Want Smoke??' (Live Performance) | Open Mic Kiana LedÃ© 'Ur Best Friend' Official Lyrics & Meaning | Verified Kiana LedÃ© 'Ur Best Friend' Official Lyrics & Meaning | Verified The lingering question kept me up 2AM, who do you love? I wonder 'til I'm wide awake And now I'm pacing back and forth Wishing you were at my door I'd open up and you would say, \"Hey\" It was enchanting to meet you All I know is I was enchanted to meet you This night is sparkling Don't you let it go I'm wonderstruck Blushing all the way home I'll spend forever Wondering if you knew This night is flawless Don't you let it go I'm wonderstruck Dancing around all alone I'll spend forever Wondering if you knew I was enchanted to meet you This is me praying that This was the very first page Not where the storyline ends My thoughts will echo your name Until I see you again These are the words I held back As I was leaving too soon I was enchanted to meet you Please don't be in love With someone else Please don't have somebody Waiting on you Please don't be in love (Ooh) With someone else Please don't have somebody (Ooh, hey) Waiting on you This night is sparkling Don't you let it go I'm wonderstruck Blushing all the way home I'll spend forever Wondering if you knew This night is flawless (Please don't be in love with someone else) Don't you let it go I'm wonderstruck (Please don't have somebody waiting on you) Dancing around all alone I'll spend forever (Please don't be in love with someone else) Wondering if you knew I was enchanted to meet you Please don't be in love With someone else Please don't have somebody Waiting on you  \n",
       "4                                                                                                                                                                                                                                                                                                                                                                                                                                                                                                                                                                                                                                                                                                                                                                                                                                                                                                                                                                                                                                                                                                   You and I walk a fragile line I have known it all this time But I never thought I'd live to see it break It's getting dark and it's all too quiet And I can't trust anything now And it's coming over you like it's all a big mistake Whoa, holding my breath Won't lose you again Something's made your eyes go cold Come on, come on, don't leave me like this I thought I had you figured out Something's gone terribly wrong You're all I wanted Come on, come on, don't leave me like this I thought I had you figured out Can't breathe whenever you're gone Can't turn back now, I'm haunted Stood there and watched you walk away From everything we had But I still mean every word I said to you He will try to take away my pain And he just might make me smile But the whole time, I'm wishing it was you instead Oh, holding my breath Won't see you again Something keeps me holding onto nothing Come on, come on, don't leave me like this I thought I had you figured out Something's gone terribly wrong You're all I wanted Come on, come on, don't leave me like this I thought I had you figured out Can't breathe whenever you're gone Can't turn back now, I'm haunted I know I know I just know You're not gone, you can't be gone, no Come on, come on, don't leave me like this I thought I had you figured out Something's gone terribly wrong Won't finish what you started Come on, come on, don't leave me like this I thought I had you figured out Can't breathe whenever you're gone Can't go back, I'm haunted (Oh, oh, oh, oh, oh, oh, oh, oh, oh) You and I walk a fragile line I have known it all this time Never ever thought I'd see it break Never thought I'd see it  "
      ]
     },
     "execution_count": 5,
     "metadata": {},
     "output_type": "execute_result"
    }
   ],
   "source": [
    "songs.head()"
   ]
  },
  {
   "cell_type": "code",
   "execution_count": 6,
   "id": "257df5f0-66d9-4c19-a924-91eb1b11b0b3",
   "metadata": {
    "tags": []
   },
   "outputs": [
    {
     "data": {
      "text/plain": [
       "17"
      ]
     },
     "execution_count": 6,
     "metadata": {},
     "output_type": "execute_result"
    }
   ],
   "source": [
    "len(songs)"
   ]
  },
  {
   "cell_type": "code",
   "execution_count": 7,
   "id": "fc8df06c-7fe3-4bc1-8b9c-cd9277ecea35",
   "metadata": {
    "tags": []
   },
   "outputs": [],
   "source": [
    "import sklearn"
   ]
  },
  {
   "cell_type": "code",
   "execution_count": 8,
   "id": "b1b17f83-edc7-44e6-9a59-1661a35e8c16",
   "metadata": {
    "tags": []
   },
   "outputs": [],
   "source": [
    "from sklearn.feature_extraction.text import TfidfVectorizer"
   ]
  },
  {
   "cell_type": "code",
   "execution_count": 9,
   "id": "fbeb0076-7e1a-41e6-a2c2-7cd7e1b7a5ba",
   "metadata": {
    "tags": []
   },
   "outputs": [
    {
     "name": "stderr",
     "output_type": "stream",
     "text": [
      "[nltk_data] Downloading package stopwords to /Users/anita/nltk_data...\n",
      "[nltk_data]   Package stopwords is already up-to-date!\n"
     ]
    },
    {
     "data": {
      "text/plain": [
       "True"
      ]
     },
     "execution_count": 9,
     "metadata": {},
     "output_type": "execute_result"
    }
   ],
   "source": [
    "import nltk\n",
    "from nltk.corpus import stopwords\n",
    "nltk.download('stopwords')"
   ]
  },
  {
   "cell_type": "code",
   "execution_count": 10,
   "id": "c5b86191-11db-4644-b773-dd400f005a43",
   "metadata": {
    "tags": []
   },
   "outputs": [],
   "source": [
    "stop_words = stopwords.words('english')"
   ]
  },
  {
   "cell_type": "code",
   "execution_count": 11,
   "id": "98f41634-2c55-48ab-a89e-d1a428f6a5c8",
   "metadata": {
    "tags": []
   },
   "outputs": [],
   "source": [
    "stopwords = [\"love\", \"mine\", \"man\", \"best\", \"hard\", \"little\", \n",
    "    \"come\", \"back\", \"gone\", \"thought\", \"oh\", \"figured\", \n",
    "    \"leave\", \"could\", \"like\", \"go\", \"away\", \"la\", \"meet\", \n",
    "    \"say\", \"sparks\", \"go\", \"watch\", \"kiss\", \"something\", \n",
    "    \"think\", \"better\", \"story\", \"whoa\", \"know\", \"many\", \n",
    "    \"known\", \"us\", \"mean\", \"ever\", \"big\", \"someday\", \n",
    "    \"gonna\", \"old\", \"city\", \"oh\", \"little\", \"never\", \n",
    "    \"still\", \"long\", \"lights\", \"oh\", \"alright\", \"time\", \n",
    "    \"life\", \"wait\", \"days\"]"
   ]
  },
  {
   "cell_type": "code",
   "execution_count": 12,
   "id": "8abc4a12-6f65-45b3-be7f-d7d082d3db01",
   "metadata": {
    "tags": []
   },
   "outputs": [],
   "source": [
    "vectorizer = TfidfVectorizer(stop_words = stop_words, min_df = 0.1)"
   ]
  },
  {
   "cell_type": "code",
   "execution_count": 13,
   "id": "997e533d-2f0f-4665-bb44-2d847215bee9",
   "metadata": {
    "tags": []
   },
   "outputs": [],
   "source": [
    "tfidf = vectorizer.fit_transform(songs['lyric'])"
   ]
  },
  {
   "cell_type": "code",
   "execution_count": 14,
   "id": "ac2a21a2-7401-4a24-8d58-a8a5f7095f6e",
   "metadata": {
    "tags": []
   },
   "outputs": [],
   "source": [
    "from sklearn.decomposition import NMF"
   ]
  },
  {
   "cell_type": "code",
   "execution_count": 15,
   "id": "f24c2a26-cc45-4cf6-b4cf-5a3f376d0a8e",
   "metadata": {
    "tags": []
   },
   "outputs": [],
   "source": [
    "nmf = NMF(n_components = 6)"
   ]
  },
  {
   "cell_type": "code",
   "execution_count": 16,
   "id": "29e35027-ef7b-4eb8-b72d-6b1f05c7a197",
   "metadata": {
    "tags": []
   },
   "outputs": [],
   "source": [
    "topic_values = nmf.fit_transform(tfidf)"
   ]
  },
  {
   "cell_type": "code",
   "execution_count": 17,
   "id": "82d89fd1-02c1-4d33-a117-29a6b5a57c84",
   "metadata": {
    "tags": []
   },
   "outputs": [
    {
     "name": "stdout",
     "output_type": "stream",
     "text": [
      "Topic #1: love water mine time shine man people best hard little\n",
      "Topic #2: come back gone thought oh figured leave could like go\n",
      "Topic #3: fly away la meet say sparks go watch kiss something\n",
      "Topic #4: think better story whoa know like many known us oh\n",
      "Topic #5: mean ever big someday gonna old city oh little never\n",
      "Topic #6: still long live lights oh alright time life wait days\n"
     ]
    }
   ],
   "source": [
    "for topic_num, topic in enumerate(nmf.components_):\n",
    "    message = \"Topic #{}: \".format(topic_num + 1)\n",
    "    message += \" \".join([vectorizer.get_feature_names_out()[i] for i in topic.argsort()[:-11 :-1]])\n",
    "    print(message)\n",
    "    "
   ]
  },
  {
   "cell_type": "code",
   "execution_count": 18,
   "id": "4a7a3c5f-de1f-4283-8cb2-5ae3e1b071bf",
   "metadata": {},
   "outputs": [],
   "source": [
    "topic_labels = ['nature', 'return and departure', 'adventure', 'reflection', 'future', 'persistence']"
   ]
  },
  {
   "cell_type": "code",
   "execution_count": 19,
   "id": "6c46c5a8-39a2-4728-b77e-a67624f81610",
   "metadata": {
    "tags": []
   },
   "outputs": [
    {
     "data": {
      "text/html": [
       "<div>\n",
       "<style scoped>\n",
       "    .dataframe tbody tr th:only-of-type {\n",
       "        vertical-align: middle;\n",
       "    }\n",
       "\n",
       "    .dataframe tbody tr th {\n",
       "        vertical-align: top;\n",
       "    }\n",
       "\n",
       "    .dataframe thead th {\n",
       "        text-align: right;\n",
       "    }\n",
       "</style>\n",
       "<table border=\"1\" class=\"dataframe\">\n",
       "  <thead>\n",
       "    <tr style=\"text-align: right;\">\n",
       "      <th></th>\n",
       "      <th>nature</th>\n",
       "      <th>return and departure</th>\n",
       "      <th>adventure</th>\n",
       "      <th>reflection</th>\n",
       "      <th>future</th>\n",
       "      <th>persistence</th>\n",
       "    </tr>\n",
       "  </thead>\n",
       "  <tbody>\n",
       "    <tr>\n",
       "      <th>0</th>\n",
       "      <td>0.159517</td>\n",
       "      <td>0.280810</td>\n",
       "      <td>0.015215</td>\n",
       "      <td>0.000000</td>\n",
       "      <td>0.000000</td>\n",
       "      <td>0.223003</td>\n",
       "    </tr>\n",
       "    <tr>\n",
       "      <th>1</th>\n",
       "      <td>0.003563</td>\n",
       "      <td>0.039556</td>\n",
       "      <td>0.000000</td>\n",
       "      <td>0.785156</td>\n",
       "      <td>0.000000</td>\n",
       "      <td>0.000000</td>\n",
       "    </tr>\n",
       "    <tr>\n",
       "      <th>2</th>\n",
       "      <td>0.000000</td>\n",
       "      <td>0.153375</td>\n",
       "      <td>0.000000</td>\n",
       "      <td>0.464151</td>\n",
       "      <td>0.000000</td>\n",
       "      <td>0.141474</td>\n",
       "    </tr>\n",
       "    <tr>\n",
       "      <th>3</th>\n",
       "      <td>0.114252</td>\n",
       "      <td>0.000000</td>\n",
       "      <td>0.230300</td>\n",
       "      <td>0.017295</td>\n",
       "      <td>0.006390</td>\n",
       "      <td>0.112612</td>\n",
       "    </tr>\n",
       "    <tr>\n",
       "      <th>4</th>\n",
       "      <td>0.000000</td>\n",
       "      <td>0.732736</td>\n",
       "      <td>0.000000</td>\n",
       "      <td>0.031178</td>\n",
       "      <td>0.063815</td>\n",
       "      <td>0.000000</td>\n",
       "    </tr>\n",
       "    <tr>\n",
       "      <th>5</th>\n",
       "      <td>0.000000</td>\n",
       "      <td>0.800387</td>\n",
       "      <td>0.000000</td>\n",
       "      <td>0.000000</td>\n",
       "      <td>0.000000</td>\n",
       "      <td>0.000000</td>\n",
       "    </tr>\n",
       "    <tr>\n",
       "      <th>6</th>\n",
       "      <td>0.000000</td>\n",
       "      <td>0.000000</td>\n",
       "      <td>0.000000</td>\n",
       "      <td>0.000000</td>\n",
       "      <td>0.000000</td>\n",
       "      <td>0.811462</td>\n",
       "    </tr>\n",
       "    <tr>\n",
       "      <th>7</th>\n",
       "      <td>0.000000</td>\n",
       "      <td>0.000000</td>\n",
       "      <td>0.355640</td>\n",
       "      <td>0.125777</td>\n",
       "      <td>0.000000</td>\n",
       "      <td>0.125832</td>\n",
       "    </tr>\n",
       "    <tr>\n",
       "      <th>8</th>\n",
       "      <td>0.000000</td>\n",
       "      <td>0.000000</td>\n",
       "      <td>0.000000</td>\n",
       "      <td>0.000000</td>\n",
       "      <td>0.000000</td>\n",
       "      <td>0.722911</td>\n",
       "    </tr>\n",
       "    <tr>\n",
       "      <th>9</th>\n",
       "      <td>0.000000</td>\n",
       "      <td>0.000000</td>\n",
       "      <td>0.000000</td>\n",
       "      <td>0.000000</td>\n",
       "      <td>0.840410</td>\n",
       "      <td>0.000000</td>\n",
       "    </tr>\n",
       "    <tr>\n",
       "      <th>10</th>\n",
       "      <td>0.438017</td>\n",
       "      <td>0.014790</td>\n",
       "      <td>0.000000</td>\n",
       "      <td>0.000000</td>\n",
       "      <td>0.029389</td>\n",
       "      <td>0.000000</td>\n",
       "    </tr>\n",
       "    <tr>\n",
       "      <th>11</th>\n",
       "      <td>0.075591</td>\n",
       "      <td>0.086444</td>\n",
       "      <td>0.000000</td>\n",
       "      <td>0.073628</td>\n",
       "      <td>0.481619</td>\n",
       "      <td>0.133824</td>\n",
       "    </tr>\n",
       "    <tr>\n",
       "      <th>12</th>\n",
       "      <td>0.404511</td>\n",
       "      <td>0.000000</td>\n",
       "      <td>0.000000</td>\n",
       "      <td>0.063282</td>\n",
       "      <td>0.000000</td>\n",
       "      <td>0.000000</td>\n",
       "    </tr>\n",
       "    <tr>\n",
       "      <th>13</th>\n",
       "      <td>0.000000</td>\n",
       "      <td>0.000000</td>\n",
       "      <td>0.559250</td>\n",
       "      <td>0.000000</td>\n",
       "      <td>0.000000</td>\n",
       "      <td>0.000000</td>\n",
       "    </tr>\n",
       "    <tr>\n",
       "      <th>14</th>\n",
       "      <td>0.038997</td>\n",
       "      <td>0.034465</td>\n",
       "      <td>0.389322</td>\n",
       "      <td>0.064445</td>\n",
       "      <td>0.000000</td>\n",
       "      <td>0.000000</td>\n",
       "    </tr>\n",
       "    <tr>\n",
       "      <th>15</th>\n",
       "      <td>0.000000</td>\n",
       "      <td>0.149714</td>\n",
       "      <td>0.509664</td>\n",
       "      <td>0.000000</td>\n",
       "      <td>0.004540</td>\n",
       "      <td>0.000000</td>\n",
       "    </tr>\n",
       "    <tr>\n",
       "      <th>16</th>\n",
       "      <td>0.000000</td>\n",
       "      <td>0.000000</td>\n",
       "      <td>0.018337</td>\n",
       "      <td>0.702425</td>\n",
       "      <td>0.000000</td>\n",
       "      <td>0.007008</td>\n",
       "    </tr>\n",
       "  </tbody>\n",
       "</table>\n",
       "</div>"
      ],
      "text/plain": [
       "      nature  return and departure  adventure  reflection    future  \\\n",
       "0   0.159517              0.280810   0.015215    0.000000  0.000000   \n",
       "1   0.003563              0.039556   0.000000    0.785156  0.000000   \n",
       "2   0.000000              0.153375   0.000000    0.464151  0.000000   \n",
       "3   0.114252              0.000000   0.230300    0.017295  0.006390   \n",
       "4   0.000000              0.732736   0.000000    0.031178  0.063815   \n",
       "5   0.000000              0.800387   0.000000    0.000000  0.000000   \n",
       "6   0.000000              0.000000   0.000000    0.000000  0.000000   \n",
       "7   0.000000              0.000000   0.355640    0.125777  0.000000   \n",
       "8   0.000000              0.000000   0.000000    0.000000  0.000000   \n",
       "9   0.000000              0.000000   0.000000    0.000000  0.840410   \n",
       "10  0.438017              0.014790   0.000000    0.000000  0.029389   \n",
       "11  0.075591              0.086444   0.000000    0.073628  0.481619   \n",
       "12  0.404511              0.000000   0.000000    0.063282  0.000000   \n",
       "13  0.000000              0.000000   0.559250    0.000000  0.000000   \n",
       "14  0.038997              0.034465   0.389322    0.064445  0.000000   \n",
       "15  0.000000              0.149714   0.509664    0.000000  0.004540   \n",
       "16  0.000000              0.000000   0.018337    0.702425  0.000000   \n",
       "\n",
       "    persistence  \n",
       "0      0.223003  \n",
       "1      0.000000  \n",
       "2      0.141474  \n",
       "3      0.112612  \n",
       "4      0.000000  \n",
       "5      0.000000  \n",
       "6      0.811462  \n",
       "7      0.125832  \n",
       "8      0.722911  \n",
       "9      0.000000  \n",
       "10     0.000000  \n",
       "11     0.133824  \n",
       "12     0.000000  \n",
       "13     0.000000  \n",
       "14     0.000000  \n",
       "15     0.000000  \n",
       "16     0.007008  "
      ]
     },
     "execution_count": 19,
     "metadata": {},
     "output_type": "execute_result"
    }
   ],
   "source": [
    "df_topics = pd.DataFrame(topic_values, columns = topic_labels)\n",
    "df_topics"
   ]
  },
  {
   "cell_type": "code",
   "execution_count": 20,
   "id": "c36db3ed-8ba1-4873-b3be-4728447f3e00",
   "metadata": {
    "tags": []
   },
   "outputs": [],
   "source": [
    "songs = songs.join(df_topics)"
   ]
  },
  {
   "cell_type": "code",
   "execution_count": 21,
   "id": "c94efecc-a7a3-4fb3-8eeb-615246770241",
   "metadata": {
    "tags": []
   },
   "outputs": [],
   "source": [
    "#topic is in\n",
    "songs.loc[songs['nature'] >= 0.1, 'nature'] = 1\n",
    "songs.loc[songs['return and departure'] >= 0.1, 'return and departure'] = 1\n",
    "songs.loc[songs['adventure'] >= 0.1, 'adventure'] = 1\n",
    "songs.loc[songs['reflection'] >= 0.1, 'reflection'] = 1\n",
    "songs.loc[songs['future'] >= 0.1, 'future'] = 1\n",
    "songs.loc[songs['persistence'] >= 0.1, 'persistence'] = 1"
   ]
  },
  {
   "cell_type": "code",
   "execution_count": 22,
   "id": "a2675184-a1c4-49fa-b52c-009c9103dade",
   "metadata": {
    "tags": []
   },
   "outputs": [],
   "source": [
    "#topic is in\n",
    "songs.loc[songs['nature'] < 0.1, 'nature'] = 0\n",
    "songs.loc[songs['return and departure'] < 0.1, 'return and departure'] = 0\n",
    "songs.loc[songs['adventure'] < 0.1, 'adventure'] = 0\n",
    "songs.loc[songs['reflection'] < 0.1, 'reflection'] = 0\n",
    "songs.loc[songs['future'] < 0.1, 'future'] = 0\n",
    "songs.loc[songs['persistence'] < 0.1, 'persistence'] = 0"
   ]
  },
  {
   "cell_type": "code",
   "execution_count": 23,
   "id": "c26b9cc4-9260-4c48-baed-d0b34a6268e8",
   "metadata": {
    "tags": []
   },
   "outputs": [],
   "source": [
    "songs_csv = songs.to_csv('topics/speaknow_topics.csv')"
   ]
  },
  {
   "cell_type": "code",
   "execution_count": null,
   "id": "9123a64b-5516-4ee0-8a39-3503d150e079",
   "metadata": {},
   "outputs": [],
   "source": []
  },
  {
   "cell_type": "code",
   "execution_count": null,
   "id": "e4848dde-4e8f-4789-8428-a3b96e6e4ea5",
   "metadata": {},
   "outputs": [],
   "source": []
  },
  {
   "cell_type": "code",
   "execution_count": null,
   "id": "c586eb6c-7192-479f-ba3d-ddab9d8895a9",
   "metadata": {},
   "outputs": [],
   "source": []
  }
 ],
 "metadata": {
  "kernelspec": {
   "display_name": "Python 3 (ipykernel)",
   "language": "python",
   "name": "python3"
  },
  "language_info": {
   "codemirror_mode": {
    "name": "ipython",
    "version": 3
   },
   "file_extension": ".py",
   "mimetype": "text/x-python",
   "name": "python",
   "nbconvert_exporter": "python",
   "pygments_lexer": "ipython3",
   "version": "3.11.9"
  }
 },
 "nbformat": 4,
 "nbformat_minor": 5
}
