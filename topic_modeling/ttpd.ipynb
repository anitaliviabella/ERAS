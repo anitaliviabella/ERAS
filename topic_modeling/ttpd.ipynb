{
 "cells": [
  {
   "cell_type": "code",
   "execution_count": 1,
   "id": "97e6ea5f-1a85-4e74-8699-5928416c0ebb",
   "metadata": {
    "tags": []
   },
   "outputs": [],
   "source": [
    "import pandas as pd"
   ]
  },
  {
   "cell_type": "code",
   "execution_count": 2,
   "id": "746c4892-2610-4639-a719-48a93e7bd6d9",
   "metadata": {
    "tags": []
   },
   "outputs": [],
   "source": [
    "df = pd.read_csv('corpus/ttpd_lyrics.csv', encoding = 'latin-1')"
   ]
  },
  {
   "cell_type": "code",
   "execution_count": 3,
   "id": "64cf3082-b3d5-4d58-aa89-68f7b01e0e8c",
   "metadata": {
    "tags": []
   },
   "outputs": [
    {
     "data": {
      "text/html": [
       "<div>\n",
       "<style scoped>\n",
       "    .dataframe tbody tr th:only-of-type {\n",
       "        vertical-align: middle;\n",
       "    }\n",
       "\n",
       "    .dataframe tbody tr th {\n",
       "        vertical-align: top;\n",
       "    }\n",
       "\n",
       "    .dataframe thead th {\n",
       "        text-align: right;\n",
       "    }\n",
       "</style>\n",
       "<table border=\"1\" class=\"dataframe\">\n",
       "  <thead>\n",
       "    <tr style=\"text-align: right;\">\n",
       "      <th></th>\n",
       "      <th>album_name</th>\n",
       "      <th>track_title</th>\n",
       "      <th>track_n</th>\n",
       "      <th>lyric</th>\n",
       "      <th>line</th>\n",
       "    </tr>\n",
       "  </thead>\n",
       "  <tbody>\n",
       "    <tr>\n",
       "      <th>0</th>\n",
       "      <td>THE TORTURED POETS DEPARTMENT: THE ANTHOLOGY</td>\n",
       "      <td>Fortnight</td>\n",
       "      <td>1</td>\n",
       "      <td>I was supposed to be sent away, but they forgo...</td>\n",
       "      <td>1</td>\n",
       "    </tr>\n",
       "    <tr>\n",
       "      <th>1</th>\n",
       "      <td>THE TORTURED POETS DEPARTMENT: THE ANTHOLOGY</td>\n",
       "      <td>Fortnight</td>\n",
       "      <td>1</td>\n",
       "      <td>I was a functioning alcoholic till nobody noti...</td>\n",
       "      <td>2</td>\n",
       "    </tr>\n",
       "    <tr>\n",
       "      <th>2</th>\n",
       "      <td>THE TORTURED POETS DEPARTMENT: THE ANTHOLOGY</td>\n",
       "      <td>Fortnight</td>\n",
       "      <td>1</td>\n",
       "      <td>All of this to say, I hope you're okay, but yo...</td>\n",
       "      <td>3</td>\n",
       "    </tr>\n",
       "    <tr>\n",
       "      <th>3</th>\n",
       "      <td>THE TORTURED POETS DEPARTMENT: THE ANTHOLOGY</td>\n",
       "      <td>Fortnight</td>\n",
       "      <td>1</td>\n",
       "      <td>And no one here's to blame, but what about you...</td>\n",
       "      <td>4</td>\n",
       "    </tr>\n",
       "    <tr>\n",
       "      <th>4</th>\n",
       "      <td>THE TORTURED POETS DEPARTMENT: THE ANTHOLOGY</td>\n",
       "      <td>Fortnight</td>\n",
       "      <td>1</td>\n",
       "      <td>And for a fortnight there, we were forever</td>\n",
       "      <td>5</td>\n",
       "    </tr>\n",
       "  </tbody>\n",
       "</table>\n",
       "</div>"
      ],
      "text/plain": [
       "                                     album_name track_title  track_n  \\\n",
       "0  THE TORTURED POETS DEPARTMENT: THE ANTHOLOGY   Fortnight        1   \n",
       "1  THE TORTURED POETS DEPARTMENT: THE ANTHOLOGY   Fortnight        1   \n",
       "2  THE TORTURED POETS DEPARTMENT: THE ANTHOLOGY   Fortnight        1   \n",
       "3  THE TORTURED POETS DEPARTMENT: THE ANTHOLOGY   Fortnight        1   \n",
       "4  THE TORTURED POETS DEPARTMENT: THE ANTHOLOGY   Fortnight        1   \n",
       "\n",
       "                                               lyric  line  \n",
       "0  I was supposed to be sent away, but they forgo...     1  \n",
       "1  I was a functioning alcoholic till nobody noti...     2  \n",
       "2  All of this to say, I hope you're okay, but yo...     3  \n",
       "3  And no one here's to blame, but what about you...     4  \n",
       "4         And for a fortnight there, we were forever     5  "
      ]
     },
     "execution_count": 3,
     "metadata": {},
     "output_type": "execute_result"
    }
   ],
   "source": [
    "df.head()"
   ]
  },
  {
   "cell_type": "code",
   "execution_count": 4,
   "id": "e9db7d36-aa96-41e2-affd-92f8898879d4",
   "metadata": {
    "tags": []
   },
   "outputs": [],
   "source": [
    "songs = df.groupby('track_title').agg({'lyric': lambda x: \" \".join(x)}).reset_index()"
   ]
  },
  {
   "cell_type": "code",
   "execution_count": 1,
   "id": "68a335b2-a9a0-4dfc-a507-022830c1a0a1",
   "metadata": {
    "tags": []
   },
   "outputs": [
    {
     "ename": "NameError",
     "evalue": "name 'pd' is not defined",
     "output_type": "error",
     "traceback": [
      "\u001b[0;31m---------------------------------------------------------------------------\u001b[0m",
      "\u001b[0;31mNameError\u001b[0m                                 Traceback (most recent call last)",
      "Cell \u001b[0;32mIn[1], line 1\u001b[0m\n\u001b[0;32m----> 1\u001b[0m \u001b[43mpd\u001b[49m\u001b[38;5;241m.\u001b[39moptions\u001b[38;5;241m.\u001b[39mdisplay\u001b[38;5;241m.\u001b[39mmax_colwidth \u001b[38;5;241m=\u001b[39m \u001b[38;5;241m5000\u001b[39m\n",
      "\u001b[0;31mNameError\u001b[0m: name 'pd' is not defined"
     ]
    }
   ],
   "source": [
    "pd.options.display.max_colwidth = 5000"
   ]
  },
  {
   "cell_type": "code",
   "execution_count": 6,
   "id": "31569bd5-35b9-4761-bc63-7d28af52e79e",
   "metadata": {
    "tags": []
   },
   "outputs": [
    {
     "data": {
      "text/html": [
       "<div>\n",
       "<style scoped>\n",
       "    .dataframe tbody tr th:only-of-type {\n",
       "        vertical-align: middle;\n",
       "    }\n",
       "\n",
       "    .dataframe tbody tr th {\n",
       "        vertical-align: top;\n",
       "    }\n",
       "\n",
       "    .dataframe thead th {\n",
       "        text-align: right;\n",
       "    }\n",
       "</style>\n",
       "<table border=\"1\" class=\"dataframe\">\n",
       "  <thead>\n",
       "    <tr style=\"text-align: right;\">\n",
       "      <th></th>\n",
       "      <th>track_title</th>\n",
       "      <th>lyric</th>\n",
       "    </tr>\n",
       "  </thead>\n",
       "  <tbody>\n",
       "    <tr>\n",
       "      <th>0</th>\n",
       "      <td>But Daddy I Love Him</td>\n",
       "      <td>I forget how the West was won I forget if this was ever fun I just learned these people only raise you to cage you Sarahs and Hannahs in their Sunday best Clutching their pearls, sighing, \"What a mess\" I just learned these people try and save you Cause they hate you Too high a horse For a simple girl to rise above it They slammed the door on my whole world The one thing I wanted Now I'm running with my dress unbuttoned Screaming, \"But Daddy, I love him! I'm having his baby\" No, I'm not, but you should see your faces I'm telling him to floor it through the fences No, I'm not coming to my senses I know he's crazy but he's the one I want Dutiful daughter, all my plans were laid Tendrils tucked into a woven braid Growing up precocious sometimes means not growing up at all He was chaos, he was revelry Bedroom eyes like a remedy Soon enough the elders had convened Down at the city hall \"Stay away from her\" The saboteurs protested too much Lord knows the words we never heard Just screeching tires and true love And I'm running with my dress unbuttoned Screaming, \"But Daddy, I love him! I'm having his baby\" No, I'm not, but you should see your faces I'm telling him to floor it through the fences No, I'm not coming to my senses I know he's crazy but he's the one I want I'll tell you something right now I'd rather burn my whole life down Than listen to one more second of all this bitching and moaning I'll tell you something about my good name It's mine alone to disgrace I don't cater to all these vipers dressed in empath's clothing God save the most judgmental creeps Who say they want what's best for me Sanctimoniously performing soliloquies I'll never see Thinking it can change the beat Of my heart when he touches me And counteract the chemistry And undo the destiny You ain't gotta pray for me Me and my wild boy and all this wild joy If all you want is gray for me Then it's just white noise And it's just my choice There's a lot of people in town that I Bestow upon my fakest smiles Scandal does funny things to pride But brings lovers closer We came back when the heat died down Went to my parents and they came around All the wine moms are still holding out But fuck 'em, it's over Now I'm dancing in my dress in the sun, and Even my daddy just loves him I'm his lady And oh my God, you should see your faces Time, doesn't it give some perspective? And no, you can't come to the wedding I know he's crazy, but he's the one I want I'll tell you something right now, you ain't gotta pray for me Me and my wild boy and all of this wild joy He was chaos, he was revelry If all you want is gray for me Then it's just white noise, and it's my choice Screaming, \"But Daddy, I love him! I'm having his baby\" No, I'm not, but you Should see your faces But oh my God, you should see your faces He was chaos, he was revelry</td>\n",
       "    </tr>\n",
       "    <tr>\n",
       "      <th>1</th>\n",
       "      <td>Cassandra</td>\n",
       "      <td>I was in my new house placing daydreams Patching up the crack along the wall I pass it and lose track of what I'm saying Cause that's where I was when I got the call When the first stone's thrown there's screamin' In the streets there's a ragin' riot When it's, \"Burn the bitch\", they're shrieking When the truth comes out it's quiet So they killed Cassandra first Cause she feared the worst And tried to tell the town So they filled my cell with snakes, I regret to say Do you believe me now? I was in my tower weaving nightmares Twisting all my smiles into snarls They say what doesn't kill you makes you aware What happens if it becomes who you are? So they killed Cassandra first Cause she feared the worst And tried to tell the town So they set my life in flames, I regret to say Do you believe me now? They knew, they knew, they knew the whole time That I was onto somethin' The family, the pure greed, the Christian chorus line They all said nothin' Blood's thick, but nothin' like a payroll Bet they never spared a prayer for my soul You can mark my words that I said it first In a mourning warning no one heard I patched up the crack along the wall I pass it and lose track of what I'm saying Cause that's where I was when I lost it all So they killed Cassandra first Cause she feared the worst And tried to tell the town So they filled my cell with snakes, I regret to say Do you believe me now? I was onto somethin' They all said nothin' Blood's thick, but nothin' like a payroll Bet they never spared a prayer for my soul You can mark my words that I said it first In a mourning warning no one heard No one heard Not a single word was heard When the first stone's thrown there's screamin' In the streets there's a ragin' riot When it's \"Burn the bitch\", they're shriekin' When the truth comes out it's quiet It's so quiet</td>\n",
       "    </tr>\n",
       "    <tr>\n",
       "      <th>2</th>\n",
       "      <td>Chloe or Sam or Sophia or Marcus</td>\n",
       "      <td>Your hologram stumbled into my apartment Hands in the hair of somebody in darkness Named Chloe or Sam or Sophia or Marcus And I just watched it happen As the decade would play us for fools And you saw my bones out with somebody new Who seemed like he would've bullied you in school And you just watched it happen If you want to break my cold, cold heart Just say, \"I loved you the way that you were\" If you want to tear my world apart Just say you've always wondered You said some things that I can't unabsorb You turned me into an idea of sorts You needed me, but you needed drugs more And I couldn't watch it happen I changed into goddesses, villains, and fools Changed plans and lovers and outfits and rules All to outrun my desertion of you And you just watched it If you want to break my cold, cold heart Just say, \"I loved you the way that you were\" If you want to tear my world apart Just say you've always wondered If the glint in my eye traced the depths of your sigh Down that passage in time Back to the moment I crashed into you Like so many wrecks do Too impaired by my youth To know what to do So if I sell my apartment And you have some kids with an internet starlet Will that make your memory fade from this scarlet maroon? Like it never happened Could it be enough to just float in your orbit? Can we watch our phantoms like watching wild horses? Cooler in theory, but not if you force it To be, it just didn't happen So if you want to break my cold, cold heart Say you loved me And if you want to tear my world apart Say you'll always wonder Cause I wonder Will I always Will I always wonder?</td>\n",
       "    </tr>\n",
       "    <tr>\n",
       "      <th>3</th>\n",
       "      <td>Clara Bow</td>\n",
       "      <td>\"You look like Clara Bow In this light, remarkable All your life, did you know You'd be picked like a rose?\" \"I'm not trying to exaggerate But I think I might die if it happened Die if it happened to me No one in my small town Thought I'd see the lights of Manhattan\" \"This town is fake, but you're the real thing Breath of fresh air through smoke rings Take the glory, give everything Promise to be dazzling\" \"You look like Stevie Nicks In '75, the hair and lips Crowd goes wild at her fingertips Half moonshine, a full eclipse\" \"I'm not trying to exaggerate But I think I might die if I made it Die if I made it No one in my small town Thought I'd meet these suits in L.A. They all wanna say\" \"This town is fake, but you're the real thing Breath of fresh air through smoke rings Take the glory, give everything Promise to be dazzling\" \"The crown is stained, but you're the real queen Flesh and blood amongst war machines You're the new God we're worshipping Promise to be dazzling\" Beauty is a beast that roars Down on all fours Demanding, \"More\" Only when your girlish glow Flickers just so Do they let you know? It's hell on earth to be heavenly Them's the breaks, they don't come gently \"You look like Taylor Swift In this light, we're loving it You've got edge she never did The future's bright, dazzling\"</td>\n",
       "    </tr>\n",
       "    <tr>\n",
       "      <th>4</th>\n",
       "      <td>Down Bad</td>\n",
       "      <td>Did you really beam me up? In a cloud of sparkling dust Just to do experiments on Tell me I was the chosen one Show me that this world is bigger than us Then sent me back where I came from For a moment, I knew cosmic love Now I'm down bad, crying at the gym Everything comes out teenage petulance \"Fuck it if I can't have him\" \"I might just die, it would make no difference\" Down bad, waking up in blood Staring at the sky, come back and pick me up Fuck it if I can't have us I might just not get up I might stay down bad Fuck it if I can't have him Down bad Fuck it if I can't have him Did you take all my old clothes? Just to leave me here naked and alone In a field in my same old town That somehow seems so hollow now They'll say I'm nuts if I talk about the existence of you For a moment, I was heaven struck Now I'm down bad, crying at the gym (Crying at the gym) Everything comes out teenage petulance \"Fuck it if I can't have him\" (Fuck it if I can't have him) \"I might just die, it would make no difference\" Down bad, waking up in blood (Waking up in blood) Staring at the sky, come back and pick me up Fuck it if I can't have us I might just not get up I might stay down bad Like I lost my twin Fuck it if I can't have him (Down bad) Down bad Waving at the ship Fuck it if I can't have him I loved your hostile takeovers Encounters closer and closer All your indecent exposures How dare you say that it's- I'll build you a fort on some planet Where they can all understand it How dare you think it's romantic Leaving me safe and stranded Cause fuck it, I was in love So fuck you if I can't have us Cause fuck it, I was in love Now I'm down bad, crying at the gym (Crying at the gym) Everything comes out teenage petulance \"Fuck it if I can't have him\" (Can't have him) \"I might just die, it would make no difference\" Down bad, waking up in blood (Waking up in blood) Staring at the sky, come back and pick me up Fuck it if I can't have us I might just not get up I might stay down bad Like I lost my twin Fuck it if I can't have him (Down bad) Down bad Waving at the ship Fuck it if I can't have him Like I lost my twin Fuck it if I can't have him Down bad Waving at the ship Fuck it if I can't have him</td>\n",
       "    </tr>\n",
       "  </tbody>\n",
       "</table>\n",
       "</div>"
      ],
      "text/plain": [
       "                        track_title  \\\n",
       "0              But Daddy I Love Him   \n",
       "1                         Cassandra   \n",
       "2  Chloe or Sam or Sophia or Marcus   \n",
       "3                         Clara Bow   \n",
       "4                          Down Bad   \n",
       "\n",
       "                                                                                                                                                                                                                                                                                                                                                                                                                                                                                                                                                                                                                                                                                                                                                                                                                                                                                                                                                                                                                                                                                                                                                                                                                                                                                                                                                                                                                                                                                                                                                                                                                                                                                                                                                                                                                                                                                                                                                                                                                                                                                                                                                                                                                                                                                                                                                                                                                                                                                                                                                                                                                                                                                                                                                                                                                                                                                                                                                   lyric  \n",
       "0  I forget how the West was won I forget if this was ever fun I just learned these people only raise you to cage you Sarahs and Hannahs in their Sunday best Clutching their pearls, sighing, \"What a mess\" I just learned these people try and save you Cause they hate you Too high a horse For a simple girl to rise above it They slammed the door on my whole world The one thing I wanted Now I'm running with my dress unbuttoned Screaming, \"But Daddy, I love him! I'm having his baby\" No, I'm not, but you should see your faces I'm telling him to floor it through the fences No, I'm not coming to my senses I know he's crazy but he's the one I want Dutiful daughter, all my plans were laid Tendrils tucked into a woven braid Growing up precocious sometimes means not growing up at all He was chaos, he was revelry Bedroom eyes like a remedy Soon enough the elders had convened Down at the city hall \"Stay away from her\" The saboteurs protested too much Lord knows the words we never heard Just screeching tires and true love And I'm running with my dress unbuttoned Screaming, \"But Daddy, I love him! I'm having his baby\" No, I'm not, but you should see your faces I'm telling him to floor it through the fences No, I'm not coming to my senses I know he's crazy but he's the one I want I'll tell you something right now I'd rather burn my whole life down Than listen to one more second of all this bitching and moaning I'll tell you something about my good name It's mine alone to disgrace I don't cater to all these vipers dressed in empath's clothing God save the most judgmental creeps Who say they want what's best for me Sanctimoniously performing soliloquies I'll never see Thinking it can change the beat Of my heart when he touches me And counteract the chemistry And undo the destiny You ain't gotta pray for me Me and my wild boy and all this wild joy If all you want is gray for me Then it's just white noise And it's just my choice There's a lot of people in town that I Bestow upon my fakest smiles Scandal does funny things to pride But brings lovers closer We came back when the heat died down Went to my parents and they came around All the wine moms are still holding out But fuck 'em, it's over Now I'm dancing in my dress in the sun, and Even my daddy just loves him I'm his lady And oh my God, you should see your faces Time, doesn't it give some perspective? And no, you can't come to the wedding I know he's crazy, but he's the one I want I'll tell you something right now, you ain't gotta pray for me Me and my wild boy and all of this wild joy He was chaos, he was revelry If all you want is gray for me Then it's just white noise, and it's my choice Screaming, \"But Daddy, I love him! I'm having his baby\" No, I'm not, but you Should see your faces But oh my God, you should see your faces He was chaos, he was revelry  \n",
       "1                                                                                                                                                                                                                                                                                                                                                                                                                                                                                                                                                                                                                                                                                                                                                                                                                                                                                                                                                                                                                                              I was in my new house placing daydreams Patching up the crack along the wall I pass it and lose track of what I'm saying Cause that's where I was when I got the call When the first stone's thrown there's screamin' In the streets there's a ragin' riot When it's, \"Burn the bitch\", they're shrieking When the truth comes out it's quiet So they killed Cassandra first Cause she feared the worst And tried to tell the town So they filled my cell with snakes, I regret to say Do you believe me now? I was in my tower weaving nightmares Twisting all my smiles into snarls They say what doesn't kill you makes you aware What happens if it becomes who you are? So they killed Cassandra first Cause she feared the worst And tried to tell the town So they set my life in flames, I regret to say Do you believe me now? They knew, they knew, they knew the whole time That I was onto somethin' The family, the pure greed, the Christian chorus line They all said nothin' Blood's thick, but nothin' like a payroll Bet they never spared a prayer for my soul You can mark my words that I said it first In a mourning warning no one heard I patched up the crack along the wall I pass it and lose track of what I'm saying Cause that's where I was when I lost it all So they killed Cassandra first Cause she feared the worst And tried to tell the town So they filled my cell with snakes, I regret to say Do you believe me now? I was onto somethin' They all said nothin' Blood's thick, but nothin' like a payroll Bet they never spared a prayer for my soul You can mark my words that I said it first In a mourning warning no one heard No one heard Not a single word was heard When the first stone's thrown there's screamin' In the streets there's a ragin' riot When it's \"Burn the bitch\", they're shriekin' When the truth comes out it's quiet It's so quiet  \n",
       "2                                                                                                                                                                                                                                                                                                                                                                                                                                                                                                                                                                                                                                                                                                                                                                                                                                                                                                                                                                                                                                                                                                                                                                                                                                                                             Your hologram stumbled into my apartment Hands in the hair of somebody in darkness Named Chloe or Sam or Sophia or Marcus And I just watched it happen As the decade would play us for fools And you saw my bones out with somebody new Who seemed like he would've bullied you in school And you just watched it happen If you want to break my cold, cold heart Just say, \"I loved you the way that you were\" If you want to tear my world apart Just say you've always wondered You said some things that I can't unabsorb You turned me into an idea of sorts You needed me, but you needed drugs more And I couldn't watch it happen I changed into goddesses, villains, and fools Changed plans and lovers and outfits and rules All to outrun my desertion of you And you just watched it If you want to break my cold, cold heart Just say, \"I loved you the way that you were\" If you want to tear my world apart Just say you've always wondered If the glint in my eye traced the depths of your sigh Down that passage in time Back to the moment I crashed into you Like so many wrecks do Too impaired by my youth To know what to do So if I sell my apartment And you have some kids with an internet starlet Will that make your memory fade from this scarlet maroon? Like it never happened Could it be enough to just float in your orbit? Can we watch our phantoms like watching wild horses? Cooler in theory, but not if you force it To be, it just didn't happen So if you want to break my cold, cold heart Say you loved me And if you want to tear my world apart Say you'll always wonder Cause I wonder Will I always Will I always wonder?  \n",
       "3                                                                                                                                                                                                                                                                                                                                                                                                                                                                                                                                                                                                                                                                                                                                                                                                                                                                                                                                                                                                                                                                                                                                                                                                                                                                                                                                                                                                                                                                                                                                                                                        \"You look like Clara Bow In this light, remarkable All your life, did you know You'd be picked like a rose?\" \"I'm not trying to exaggerate But I think I might die if it happened Die if it happened to me No one in my small town Thought I'd see the lights of Manhattan\" \"This town is fake, but you're the real thing Breath of fresh air through smoke rings Take the glory, give everything Promise to be dazzling\" \"You look like Stevie Nicks In '75, the hair and lips Crowd goes wild at her fingertips Half moonshine, a full eclipse\" \"I'm not trying to exaggerate But I think I might die if I made it Die if I made it No one in my small town Thought I'd meet these suits in L.A. They all wanna say\" \"This town is fake, but you're the real thing Breath of fresh air through smoke rings Take the glory, give everything Promise to be dazzling\" \"The crown is stained, but you're the real queen Flesh and blood amongst war machines You're the new God we're worshipping Promise to be dazzling\" Beauty is a beast that roars Down on all fours Demanding, \"More\" Only when your girlish glow Flickers just so Do they let you know? It's hell on earth to be heavenly Them's the breaks, they don't come gently \"You look like Taylor Swift In this light, we're loving it You've got edge she never did The future's bright, dazzling\"  \n",
       "4                                                                                                                                                                                                                                                                                                                                                                                                                                                                                                                                                                                                                                                  Did you really beam me up? In a cloud of sparkling dust Just to do experiments on Tell me I was the chosen one Show me that this world is bigger than us Then sent me back where I came from For a moment, I knew cosmic love Now I'm down bad, crying at the gym Everything comes out teenage petulance \"Fuck it if I can't have him\" \"I might just die, it would make no difference\" Down bad, waking up in blood Staring at the sky, come back and pick me up Fuck it if I can't have us I might just not get up I might stay down bad Fuck it if I can't have him Down bad Fuck it if I can't have him Did you take all my old clothes? Just to leave me here naked and alone In a field in my same old town That somehow seems so hollow now They'll say I'm nuts if I talk about the existence of you For a moment, I was heaven struck Now I'm down bad, crying at the gym (Crying at the gym) Everything comes out teenage petulance \"Fuck it if I can't have him\" (Fuck it if I can't have him) \"I might just die, it would make no difference\" Down bad, waking up in blood (Waking up in blood) Staring at the sky, come back and pick me up Fuck it if I can't have us I might just not get up I might stay down bad Like I lost my twin Fuck it if I can't have him (Down bad) Down bad Waving at the ship Fuck it if I can't have him I loved your hostile takeovers Encounters closer and closer All your indecent exposures How dare you say that it's- I'll build you a fort on some planet Where they can all understand it How dare you think it's romantic Leaving me safe and stranded Cause fuck it, I was in love So fuck you if I can't have us Cause fuck it, I was in love Now I'm down bad, crying at the gym (Crying at the gym) Everything comes out teenage petulance \"Fuck it if I can't have him\" (Can't have him) \"I might just die, it would make no difference\" Down bad, waking up in blood (Waking up in blood) Staring at the sky, come back and pick me up Fuck it if I can't have us I might just not get up I might stay down bad Like I lost my twin Fuck it if I can't have him (Down bad) Down bad Waving at the ship Fuck it if I can't have him Like I lost my twin Fuck it if I can't have him Down bad Waving at the ship Fuck it if I can't have him  "
      ]
     },
     "execution_count": 6,
     "metadata": {},
     "output_type": "execute_result"
    }
   ],
   "source": [
    "songs.head()"
   ]
  },
  {
   "cell_type": "code",
   "execution_count": 7,
   "id": "6f551efe-bc7b-4114-b7a1-7624200dc4d1",
   "metadata": {},
   "outputs": [
    {
     "data": {
      "text/plain": [
       "31"
      ]
     },
     "execution_count": 7,
     "metadata": {},
     "output_type": "execute_result"
    }
   ],
   "source": [
    "len(songs)"
   ]
  },
  {
   "cell_type": "code",
   "execution_count": 8,
   "id": "bf324a95-51a8-41f6-9626-4b0deb1c02ff",
   "metadata": {
    "tags": []
   },
   "outputs": [],
   "source": [
    "import sklearn"
   ]
  },
  {
   "cell_type": "code",
   "execution_count": 9,
   "id": "fa6725fc-747b-4e7f-bcc9-4681acdc8d4a",
   "metadata": {
    "tags": []
   },
   "outputs": [],
   "source": [
    "from sklearn.feature_extraction.text import TfidfVectorizer"
   ]
  },
  {
   "cell_type": "code",
   "execution_count": 10,
   "id": "483427a2-e654-4f99-a3ce-46230ea51fb8",
   "metadata": {
    "tags": []
   },
   "outputs": [
    {
     "name": "stderr",
     "output_type": "stream",
     "text": [
      "[nltk_data] Downloading package stopwords to /Users/anita/nltk_data...\n",
      "[nltk_data]   Package stopwords is already up-to-date!\n"
     ]
    },
    {
     "data": {
      "text/plain": [
       "True"
      ]
     },
     "execution_count": 10,
     "metadata": {},
     "output_type": "execute_result"
    }
   ],
   "source": [
    "import nltk\n",
    "from nltk.corpus import stopwords\n",
    "nltk.download('stopwords')"
   ]
  },
  {
   "cell_type": "code",
   "execution_count": 11,
   "id": "3bf82ab4-858c-4275-b776-5237786548cb",
   "metadata": {
    "tags": []
   },
   "outputs": [],
   "source": [
    "stop_words = stopwords.words('english')"
   ]
  },
  {
   "cell_type": "code",
   "execution_count": 12,
   "id": "e263a7e1-5d76-4b9a-9565-fe4e4e109757",
   "metadata": {
    "tags": []
   },
   "outputs": [],
   "source": [
    "stop_words.extend(['like', 'one', 'get', 'gonna', 'back', 'never', 'oh', 'first', 'baby', 'someone', 'long', 'way', 'keep', 'things', 'good', 'cause', 'every', 'know', 'tell', 'really'])"
   ]
  },
  {
   "cell_type": "code",
   "execution_count": 13,
   "id": "6256c5c1-7ad2-4053-86fd-f5650c302d99",
   "metadata": {
    "tags": []
   },
   "outputs": [],
   "source": [
    "vectorizer = TfidfVectorizer(stop_words = stop_words, min_df = 0.1)"
   ]
  },
  {
   "cell_type": "code",
   "execution_count": 14,
   "id": "8932c348-d02f-4a37-94d5-67e9e1d53a18",
   "metadata": {
    "tags": []
   },
   "outputs": [],
   "source": [
    "tfidf = vectorizer.fit_transform(songs['lyric'])"
   ]
  },
  {
   "cell_type": "code",
   "execution_count": 15,
   "id": "337a1533-39c1-4a51-af53-148ab7bc22d7",
   "metadata": {},
   "outputs": [],
   "source": [
    "tfidf = vectorizer.fit_transform(songs['lyric'])"
   ]
  },
  {
   "cell_type": "markdown",
   "id": "c7a4dbc8-fb49-4aaa-82bf-5218ab196a50",
   "metadata": {},
   "source": [
    "topic = collection of words --> general theme\n",
    "\n",
    "documents = lyrics\n",
    "list of topics = grouping of words that the topic model will find for us\n",
    "score = represents how much of this topic is in that document\n",
    "0.6 = pretty high score, really prevalent topic.\n",
    "\n",
    "technique nmf = come up with differnt topics and find those words and find this scores. \n",
    "\n",
    "n_components = how many topics?\n",
    "but, how many topics? \n",
    "no right answer."
   ]
  },
  {
   "cell_type": "code",
   "execution_count": 16,
   "id": "22ec696a-b676-439e-89ee-274c9a68e468",
   "metadata": {
    "tags": []
   },
   "outputs": [],
   "source": [
    "from sklearn.decomposition import NMF"
   ]
  },
  {
   "cell_type": "code",
   "execution_count": 17,
   "id": "713c0930-064b-46b9-ba77-2ef0b3b08f60",
   "metadata": {
    "tags": []
   },
   "outputs": [],
   "source": [
    "nmf = NMF(n_components = 6)"
   ]
  },
  {
   "cell_type": "code",
   "execution_count": 18,
   "id": "9bdacb74-a19f-4aac-ae74-48feeb346f6d",
   "metadata": {
    "tags": []
   },
   "outputs": [],
   "source": [
    "topic_values = nmf.fit_transform(tfidf)"
   ]
  },
  {
   "cell_type": "code",
   "execution_count": 19,
   "id": "4960ddd1-de48-47d4-b7e6-b21b83d22a01",
   "metadata": {
    "tags": []
   },
   "outputs": [
    {
     "name": "stdout",
     "output_type": "stream",
     "text": [
      "Topic #1: die hate mine mind love life town something ever thing\n",
      "Topic #2: said heart tried life read time call even bed still\n",
      "Topic #3: time go look boy saw night got dreams people feel\n",
      "Topic #4: man want told could died ever see give boy even\n",
      "Topic #5: come find lost leaving touch friends hear understand still home\n",
      "Topic #6: fuck made say always want sky bad blood town take\n"
     ]
    }
   ],
   "source": [
    "for topic_num, topic in enumerate(nmf.components_):\n",
    "    message = \"Topic #{}: \".format(topic_num + 1)\n",
    "    message += \" \".join([vectorizer.get_feature_names_out()[i] for i in topic.argsort()[:-11 :-1]])\n",
    "    print(message)\n",
    "    "
   ]
  },
  {
   "cell_type": "code",
   "execution_count": 20,
   "id": "1a867000-1b07-4044-8d2d-fe2e9bd0d159",
   "metadata": {
    "tags": []
   },
   "outputs": [],
   "source": [
    "topic_labels = ['turmoil', 'heartache', 'reminiscence', 'desire', 'reconciliation', 'intensity']"
   ]
  },
  {
   "cell_type": "code",
   "execution_count": 21,
   "id": "3f1141fe-2105-4248-8860-3b6f11a12d23",
   "metadata": {
    "tags": []
   },
   "outputs": [
    {
     "data": {
      "text/html": [
       "<div>\n",
       "<style scoped>\n",
       "    .dataframe tbody tr th:only-of-type {\n",
       "        vertical-align: middle;\n",
       "    }\n",
       "\n",
       "    .dataframe tbody tr th {\n",
       "        vertical-align: top;\n",
       "    }\n",
       "\n",
       "    .dataframe thead th {\n",
       "        text-align: right;\n",
       "    }\n",
       "</style>\n",
       "<table border=\"1\" class=\"dataframe\">\n",
       "  <thead>\n",
       "    <tr style=\"text-align: right;\">\n",
       "      <th></th>\n",
       "      <th>turmoil</th>\n",
       "      <th>heartache</th>\n",
       "      <th>reminiscence</th>\n",
       "      <th>desire</th>\n",
       "      <th>reconciliation</th>\n",
       "      <th>intensity</th>\n",
       "    </tr>\n",
       "  </thead>\n",
       "  <tbody>\n",
       "    <tr>\n",
       "      <th>0</th>\n",
       "      <td>0.170164</td>\n",
       "      <td>0.029162</td>\n",
       "      <td>0.043053</td>\n",
       "      <td>0.219330</td>\n",
       "      <td>0.000000</td>\n",
       "      <td>0.108990</td>\n",
       "    </tr>\n",
       "    <tr>\n",
       "      <th>1</th>\n",
       "      <td>0.014476</td>\n",
       "      <td>0.232232</td>\n",
       "      <td>0.049290</td>\n",
       "      <td>0.000000</td>\n",
       "      <td>0.026108</td>\n",
       "      <td>0.205540</td>\n",
       "    </tr>\n",
       "    <tr>\n",
       "      <th>2</th>\n",
       "      <td>0.000000</td>\n",
       "      <td>0.109792</td>\n",
       "      <td>0.000000</td>\n",
       "      <td>0.059085</td>\n",
       "      <td>0.000000</td>\n",
       "      <td>0.411811</td>\n",
       "    </tr>\n",
       "    <tr>\n",
       "      <th>3</th>\n",
       "      <td>0.227637</td>\n",
       "      <td>0.000000</td>\n",
       "      <td>0.038607</td>\n",
       "      <td>0.000000</td>\n",
       "      <td>0.000000</td>\n",
       "      <td>0.202525</td>\n",
       "    </tr>\n",
       "    <tr>\n",
       "      <th>4</th>\n",
       "      <td>0.028513</td>\n",
       "      <td>0.000000</td>\n",
       "      <td>0.000000</td>\n",
       "      <td>0.000000</td>\n",
       "      <td>0.008544</td>\n",
       "      <td>0.460294</td>\n",
       "    </tr>\n",
       "    <tr>\n",
       "      <th>5</th>\n",
       "      <td>0.109295</td>\n",
       "      <td>0.001929</td>\n",
       "      <td>0.000000</td>\n",
       "      <td>0.000000</td>\n",
       "      <td>0.000000</td>\n",
       "      <td>0.388976</td>\n",
       "    </tr>\n",
       "    <tr>\n",
       "      <th>6</th>\n",
       "      <td>0.121335</td>\n",
       "      <td>0.036948</td>\n",
       "      <td>0.000000</td>\n",
       "      <td>0.000000</td>\n",
       "      <td>0.206545</td>\n",
       "      <td>0.009604</td>\n",
       "    </tr>\n",
       "    <tr>\n",
       "      <th>7</th>\n",
       "      <td>0.000000</td>\n",
       "      <td>0.177993</td>\n",
       "      <td>0.250798</td>\n",
       "      <td>0.000000</td>\n",
       "      <td>0.127339</td>\n",
       "      <td>0.000213</td>\n",
       "    </tr>\n",
       "    <tr>\n",
       "      <th>8</th>\n",
       "      <td>0.333583</td>\n",
       "      <td>0.000000</td>\n",
       "      <td>0.000000</td>\n",
       "      <td>0.016428</td>\n",
       "      <td>0.000000</td>\n",
       "      <td>0.000000</td>\n",
       "    </tr>\n",
       "    <tr>\n",
       "      <th>9</th>\n",
       "      <td>0.000000</td>\n",
       "      <td>0.000000</td>\n",
       "      <td>0.000000</td>\n",
       "      <td>0.000000</td>\n",
       "      <td>0.679737</td>\n",
       "      <td>0.000000</td>\n",
       "    </tr>\n",
       "    <tr>\n",
       "      <th>10</th>\n",
       "      <td>0.126707</td>\n",
       "      <td>0.507601</td>\n",
       "      <td>0.000000</td>\n",
       "      <td>0.018579</td>\n",
       "      <td>0.000000</td>\n",
       "      <td>0.000000</td>\n",
       "    </tr>\n",
       "    <tr>\n",
       "      <th>11</th>\n",
       "      <td>0.000000</td>\n",
       "      <td>0.000000</td>\n",
       "      <td>0.000000</td>\n",
       "      <td>0.754464</td>\n",
       "      <td>0.000000</td>\n",
       "      <td>0.000000</td>\n",
       "    </tr>\n",
       "    <tr>\n",
       "      <th>12</th>\n",
       "      <td>0.278141</td>\n",
       "      <td>0.000000</td>\n",
       "      <td>0.088737</td>\n",
       "      <td>0.000000</td>\n",
       "      <td>0.000000</td>\n",
       "      <td>0.000000</td>\n",
       "    </tr>\n",
       "    <tr>\n",
       "      <th>13</th>\n",
       "      <td>0.108414</td>\n",
       "      <td>0.000000</td>\n",
       "      <td>0.365526</td>\n",
       "      <td>0.000000</td>\n",
       "      <td>0.000000</td>\n",
       "      <td>0.000000</td>\n",
       "    </tr>\n",
       "    <tr>\n",
       "      <th>14</th>\n",
       "      <td>0.000000</td>\n",
       "      <td>0.023461</td>\n",
       "      <td>0.518011</td>\n",
       "      <td>0.106214</td>\n",
       "      <td>0.000000</td>\n",
       "      <td>0.008997</td>\n",
       "    </tr>\n",
       "    <tr>\n",
       "      <th>15</th>\n",
       "      <td>0.000000</td>\n",
       "      <td>0.261675</td>\n",
       "      <td>0.000000</td>\n",
       "      <td>0.000000</td>\n",
       "      <td>0.494936</td>\n",
       "      <td>0.000000</td>\n",
       "    </tr>\n",
       "    <tr>\n",
       "      <th>16</th>\n",
       "      <td>0.000000</td>\n",
       "      <td>0.000000</td>\n",
       "      <td>0.502979</td>\n",
       "      <td>0.000000</td>\n",
       "      <td>0.000000</td>\n",
       "      <td>0.000000</td>\n",
       "    </tr>\n",
       "    <tr>\n",
       "      <th>17</th>\n",
       "      <td>0.004043</td>\n",
       "      <td>0.000000</td>\n",
       "      <td>0.606986</td>\n",
       "      <td>0.000000</td>\n",
       "      <td>0.006839</td>\n",
       "      <td>0.044004</td>\n",
       "    </tr>\n",
       "    <tr>\n",
       "      <th>18</th>\n",
       "      <td>0.013801</td>\n",
       "      <td>0.000000</td>\n",
       "      <td>0.201092</td>\n",
       "      <td>0.074483</td>\n",
       "      <td>0.265895</td>\n",
       "      <td>0.067389</td>\n",
       "    </tr>\n",
       "    <tr>\n",
       "      <th>19</th>\n",
       "      <td>0.000000</td>\n",
       "      <td>0.599948</td>\n",
       "      <td>0.000000</td>\n",
       "      <td>0.000000</td>\n",
       "      <td>0.000000</td>\n",
       "      <td>0.008790</td>\n",
       "    </tr>\n",
       "    <tr>\n",
       "      <th>20</th>\n",
       "      <td>0.000000</td>\n",
       "      <td>0.516305</td>\n",
       "      <td>0.038803</td>\n",
       "      <td>0.004685</td>\n",
       "      <td>0.148317</td>\n",
       "      <td>0.000000</td>\n",
       "    </tr>\n",
       "    <tr>\n",
       "      <th>21</th>\n",
       "      <td>0.184848</td>\n",
       "      <td>0.061368</td>\n",
       "      <td>0.000000</td>\n",
       "      <td>0.097300</td>\n",
       "      <td>0.269855</td>\n",
       "      <td>0.000000</td>\n",
       "    </tr>\n",
       "    <tr>\n",
       "      <th>22</th>\n",
       "      <td>0.086649</td>\n",
       "      <td>0.000000</td>\n",
       "      <td>0.139825</td>\n",
       "      <td>0.000000</td>\n",
       "      <td>0.003222</td>\n",
       "      <td>0.183433</td>\n",
       "    </tr>\n",
       "    <tr>\n",
       "      <th>23</th>\n",
       "      <td>0.003341</td>\n",
       "      <td>0.592759</td>\n",
       "      <td>0.000000</td>\n",
       "      <td>0.000000</td>\n",
       "      <td>0.000000</td>\n",
       "      <td>0.032750</td>\n",
       "    </tr>\n",
       "    <tr>\n",
       "      <th>24</th>\n",
       "      <td>0.000000</td>\n",
       "      <td>0.092918</td>\n",
       "      <td>0.000000</td>\n",
       "      <td>0.041145</td>\n",
       "      <td>0.121852</td>\n",
       "      <td>0.331947</td>\n",
       "    </tr>\n",
       "    <tr>\n",
       "      <th>25</th>\n",
       "      <td>0.000000</td>\n",
       "      <td>0.083056</td>\n",
       "      <td>0.000000</td>\n",
       "      <td>0.707078</td>\n",
       "      <td>0.000000</td>\n",
       "      <td>0.067981</td>\n",
       "    </tr>\n",
       "    <tr>\n",
       "      <th>26</th>\n",
       "      <td>0.071707</td>\n",
       "      <td>0.124174</td>\n",
       "      <td>0.000000</td>\n",
       "      <td>0.000000</td>\n",
       "      <td>0.043768</td>\n",
       "      <td>0.000000</td>\n",
       "    </tr>\n",
       "    <tr>\n",
       "      <th>27</th>\n",
       "      <td>0.013369</td>\n",
       "      <td>0.173697</td>\n",
       "      <td>0.000000</td>\n",
       "      <td>0.000000</td>\n",
       "      <td>0.022216</td>\n",
       "      <td>0.415444</td>\n",
       "    </tr>\n",
       "    <tr>\n",
       "      <th>28</th>\n",
       "      <td>0.215452</td>\n",
       "      <td>0.000000</td>\n",
       "      <td>0.015537</td>\n",
       "      <td>0.000000</td>\n",
       "      <td>0.279121</td>\n",
       "      <td>0.029593</td>\n",
       "    </tr>\n",
       "    <tr>\n",
       "      <th>29</th>\n",
       "      <td>0.183629</td>\n",
       "      <td>0.226086</td>\n",
       "      <td>0.268468</td>\n",
       "      <td>0.021785</td>\n",
       "      <td>0.000000</td>\n",
       "      <td>0.000000</td>\n",
       "    </tr>\n",
       "    <tr>\n",
       "      <th>30</th>\n",
       "      <td>0.000000</td>\n",
       "      <td>0.000000</td>\n",
       "      <td>0.127961</td>\n",
       "      <td>0.000000</td>\n",
       "      <td>0.000000</td>\n",
       "      <td>0.623134</td>\n",
       "    </tr>\n",
       "  </tbody>\n",
       "</table>\n",
       "</div>"
      ],
      "text/plain": [
       "     turmoil  heartache  reminiscence    desire  reconciliation  intensity\n",
       "0   0.170164   0.029162      0.043053  0.219330        0.000000   0.108990\n",
       "1   0.014476   0.232232      0.049290  0.000000        0.026108   0.205540\n",
       "2   0.000000   0.109792      0.000000  0.059085        0.000000   0.411811\n",
       "3   0.227637   0.000000      0.038607  0.000000        0.000000   0.202525\n",
       "4   0.028513   0.000000      0.000000  0.000000        0.008544   0.460294\n",
       "5   0.109295   0.001929      0.000000  0.000000        0.000000   0.388976\n",
       "6   0.121335   0.036948      0.000000  0.000000        0.206545   0.009604\n",
       "7   0.000000   0.177993      0.250798  0.000000        0.127339   0.000213\n",
       "8   0.333583   0.000000      0.000000  0.016428        0.000000   0.000000\n",
       "9   0.000000   0.000000      0.000000  0.000000        0.679737   0.000000\n",
       "10  0.126707   0.507601      0.000000  0.018579        0.000000   0.000000\n",
       "11  0.000000   0.000000      0.000000  0.754464        0.000000   0.000000\n",
       "12  0.278141   0.000000      0.088737  0.000000        0.000000   0.000000\n",
       "13  0.108414   0.000000      0.365526  0.000000        0.000000   0.000000\n",
       "14  0.000000   0.023461      0.518011  0.106214        0.000000   0.008997\n",
       "15  0.000000   0.261675      0.000000  0.000000        0.494936   0.000000\n",
       "16  0.000000   0.000000      0.502979  0.000000        0.000000   0.000000\n",
       "17  0.004043   0.000000      0.606986  0.000000        0.006839   0.044004\n",
       "18  0.013801   0.000000      0.201092  0.074483        0.265895   0.067389\n",
       "19  0.000000   0.599948      0.000000  0.000000        0.000000   0.008790\n",
       "20  0.000000   0.516305      0.038803  0.004685        0.148317   0.000000\n",
       "21  0.184848   0.061368      0.000000  0.097300        0.269855   0.000000\n",
       "22  0.086649   0.000000      0.139825  0.000000        0.003222   0.183433\n",
       "23  0.003341   0.592759      0.000000  0.000000        0.000000   0.032750\n",
       "24  0.000000   0.092918      0.000000  0.041145        0.121852   0.331947\n",
       "25  0.000000   0.083056      0.000000  0.707078        0.000000   0.067981\n",
       "26  0.071707   0.124174      0.000000  0.000000        0.043768   0.000000\n",
       "27  0.013369   0.173697      0.000000  0.000000        0.022216   0.415444\n",
       "28  0.215452   0.000000      0.015537  0.000000        0.279121   0.029593\n",
       "29  0.183629   0.226086      0.268468  0.021785        0.000000   0.000000\n",
       "30  0.000000   0.000000      0.127961  0.000000        0.000000   0.623134"
      ]
     },
     "execution_count": 21,
     "metadata": {},
     "output_type": "execute_result"
    }
   ],
   "source": [
    "df_topics = pd.DataFrame(topic_values, columns = topic_labels)\n",
    "df_topics"
   ]
  },
  {
   "cell_type": "code",
   "execution_count": 22,
   "id": "c3b4a156-9ff6-4cd0-af76-2f632ec1e47e",
   "metadata": {
    "tags": []
   },
   "outputs": [],
   "source": [
    "songs = songs.join(df_topics)"
   ]
  },
  {
   "cell_type": "code",
   "execution_count": 23,
   "id": "c8deded5-faa4-47a5-b542-22656de9dada",
   "metadata": {
    "tags": []
   },
   "outputs": [],
   "source": [
    "#topic is in\n",
    "songs.loc[songs['turmoil'] >= 0.1, 'turmoil'] = 1\n",
    "songs.loc[songs['heartache'] >= 0.1, 'heartache'] = 1\n",
    "songs.loc[songs['reminiscence'] >= 0.1, 'reminiscence'] = 1\n",
    "songs.loc[songs['desire'] >= 0.1, 'desire'] = 1\n",
    "songs.loc[songs['reconciliation'] >= 0.1, 'reconciliation'] = 1\n",
    "songs.loc[songs['intensity'] >= 0.1, 'intensity'] = 1"
   ]
  },
  {
   "cell_type": "code",
   "execution_count": 24,
   "id": "cb147a2a-7a75-401e-8a69-ddc61c820e45",
   "metadata": {
    "tags": []
   },
   "outputs": [],
   "source": [
    "#topic is out\n",
    "songs.loc[songs['turmoil'] < 0.1, 'turmoil'] = 0\n",
    "songs.loc[songs['heartache'] < 0.1, 'heartache'] = 0\n",
    "songs.loc[songs['reminiscence'] < 0.1, 'reminiscence'] = 0\n",
    "songs.loc[songs['desire'] < 0.1, 'desire'] = 0\n",
    "songs.loc[songs['reconciliation'] < 0.1, 'reconciliation'] = 0\n",
    "songs.loc[songs['intensity'] < 0.1, 'intensity'] = 0"
   ]
  },
  {
   "cell_type": "code",
   "execution_count": 25,
   "id": "cd60301b-ae63-4f27-a515-d3356c269f2c",
   "metadata": {
    "tags": []
   },
   "outputs": [],
   "source": [
    "songs_csv = songs.to_csv('topics/ttps_topics.csv')"
   ]
  },
  {
   "cell_type": "code",
   "execution_count": null,
   "id": "69e13cea-46c2-4e0e-8c5d-a54780b9c899",
   "metadata": {},
   "outputs": [],
   "source": []
  }
 ],
 "metadata": {
  "kernelspec": {
   "display_name": "Python 3 (ipykernel)",
   "language": "python",
   "name": "python3"
  },
  "language_info": {
   "codemirror_mode": {
    "name": "ipython",
    "version": 3
   },
   "file_extension": ".py",
   "mimetype": "text/x-python",
   "name": "python",
   "nbconvert_exporter": "python",
   "pygments_lexer": "ipython3",
   "version": "3.11.9"
  }
 },
 "nbformat": 4,
 "nbformat_minor": 5
}
