{
 "cells": [
  {
   "cell_type": "code",
   "execution_count": 1,
   "id": "97e6ea5f-1a85-4e74-8699-5928416c0ebb",
   "metadata": {
    "tags": []
   },
   "outputs": [],
   "source": [
    "import pandas as pd"
   ]
  },
  {
   "cell_type": "code",
   "execution_count": 2,
   "id": "746c4892-2610-4639-a719-48a93e7bd6d9",
   "metadata": {
    "tags": []
   },
   "outputs": [],
   "source": [
    "df = pd.read_csv('corpus/reputation_lyrics.csv', encoding = 'latin-1')"
   ]
  },
  {
   "cell_type": "code",
   "execution_count": 3,
   "id": "64cf3082-b3d5-4d58-aa89-68f7b01e0e8c",
   "metadata": {
    "tags": []
   },
   "outputs": [
    {
     "data": {
      "text/html": [
       "<div>\n",
       "<style scoped>\n",
       "    .dataframe tbody tr th:only-of-type {\n",
       "        vertical-align: middle;\n",
       "    }\n",
       "\n",
       "    .dataframe tbody tr th {\n",
       "        vertical-align: top;\n",
       "    }\n",
       "\n",
       "    .dataframe thead th {\n",
       "        text-align: right;\n",
       "    }\n",
       "</style>\n",
       "<table border=\"1\" class=\"dataframe\">\n",
       "  <thead>\n",
       "    <tr style=\"text-align: right;\">\n",
       "      <th></th>\n",
       "      <th>ï»¿album_name</th>\n",
       "      <th>track_title</th>\n",
       "      <th>track_n</th>\n",
       "      <th>lyric</th>\n",
       "      <th>line</th>\n",
       "    </tr>\n",
       "  </thead>\n",
       "  <tbody>\n",
       "    <tr>\n",
       "      <th>0</th>\n",
       "      <td>reputation</td>\n",
       "      <td>...Ready for It?</td>\n",
       "      <td>1</td>\n",
       "      <td>Knew he was a killer first time that I saw him</td>\n",
       "      <td>1</td>\n",
       "    </tr>\n",
       "    <tr>\n",
       "      <th>1</th>\n",
       "      <td>reputation</td>\n",
       "      <td>...Ready for It?</td>\n",
       "      <td>1</td>\n",
       "      <td>Wondered how many girls he had loved and left ...</td>\n",
       "      <td>2</td>\n",
       "    </tr>\n",
       "    <tr>\n",
       "      <th>2</th>\n",
       "      <td>reputation</td>\n",
       "      <td>...Ready for It?</td>\n",
       "      <td>1</td>\n",
       "      <td>But if he's a ghost, then I can be a phantom</td>\n",
       "      <td>3</td>\n",
       "    </tr>\n",
       "    <tr>\n",
       "      <th>3</th>\n",
       "      <td>reputation</td>\n",
       "      <td>...Ready for It?</td>\n",
       "      <td>1</td>\n",
       "      <td>Holdin' him for ransom, some</td>\n",
       "      <td>4</td>\n",
       "    </tr>\n",
       "    <tr>\n",
       "      <th>4</th>\n",
       "      <td>reputation</td>\n",
       "      <td>...Ready for It?</td>\n",
       "      <td>1</td>\n",
       "      <td>Some boys are tryin' too hard, he don't try at...</td>\n",
       "      <td>5</td>\n",
       "    </tr>\n",
       "  </tbody>\n",
       "</table>\n",
       "</div>"
      ],
      "text/plain": [
       "  ï»¿album_name       track_title  track_n  \\\n",
       "0    reputation  ...Ready for It?        1   \n",
       "1    reputation  ...Ready for It?        1   \n",
       "2    reputation  ...Ready for It?        1   \n",
       "3    reputation  ...Ready for It?        1   \n",
       "4    reputation  ...Ready for It?        1   \n",
       "\n",
       "                                               lyric  line  \n",
       "0     Knew he was a killer first time that I saw him     1  \n",
       "1  Wondered how many girls he had loved and left ...     2  \n",
       "2       But if he's a ghost, then I can be a phantom     3  \n",
       "3                       Holdin' him for ransom, some     4  \n",
       "4  Some boys are tryin' too hard, he don't try at...     5  "
      ]
     },
     "execution_count": 3,
     "metadata": {},
     "output_type": "execute_result"
    }
   ],
   "source": [
    "df.head()"
   ]
  },
  {
   "cell_type": "code",
   "execution_count": 4,
   "id": "e9db7d36-aa96-41e2-affd-92f8898879d4",
   "metadata": {
    "tags": []
   },
   "outputs": [],
   "source": [
    "songs = df.groupby('track_title').agg({'lyric': lambda x: \" \".join(x)}).reset_index()"
   ]
  },
  {
   "cell_type": "code",
   "execution_count": 5,
   "id": "68a335b2-a9a0-4dfc-a507-022830c1a0a1",
   "metadata": {
    "tags": []
   },
   "outputs": [],
   "source": [
    "pd.options.display.max_colwidth = 5000"
   ]
  },
  {
   "cell_type": "code",
   "execution_count": 6,
   "id": "31569bd5-35b9-4761-bc63-7d28af52e79e",
   "metadata": {
    "tags": []
   },
   "outputs": [
    {
     "data": {
      "text/html": [
       "<div>\n",
       "<style scoped>\n",
       "    .dataframe tbody tr th:only-of-type {\n",
       "        vertical-align: middle;\n",
       "    }\n",
       "\n",
       "    .dataframe tbody tr th {\n",
       "        vertical-align: top;\n",
       "    }\n",
       "\n",
       "    .dataframe thead th {\n",
       "        text-align: right;\n",
       "    }\n",
       "</style>\n",
       "<table border=\"1\" class=\"dataframe\">\n",
       "  <thead>\n",
       "    <tr style=\"text-align: right;\">\n",
       "      <th></th>\n",
       "      <th>track_title</th>\n",
       "      <th>lyric</th>\n",
       "    </tr>\n",
       "  </thead>\n",
       "  <tbody>\n",
       "    <tr>\n",
       "      <th>0</th>\n",
       "      <td>...Ready for It?</td>\n",
       "      <td>Knew he was a killer first time that I saw him Wondered how many girls he had loved and left haunted But if he's a ghost, then I can be a phantom Holdin' him for ransom, some Some boys are tryin' too hard, he don't try at all though Younger than my exes, but he act like such a man, so I see nothing better, I keep him forever Like a vendetta-ta I, I, I see how this is gon' go Touch me and you'll never be alone I-Island breeze and lights down low No one has to know In the middle of the night, in my dreams You should see the things we do, baby In the middle of the night, in my dreams I know I'm gonna be with you, so I take my time Are you ready for it? Knew I was a robber first time that he saw me Stealing hearts and running off and never sayin' sorry But if I'm a thief, then he can join the heist, and We'll move to an island, and And he can be my jailer, Burton to this Taylor Every love I've known in comparison is a failure I forget their names now, I'm so very tame now Never be the same now, now Joeboy 'Sip (Alcohol)' Official Lyrics &amp; Meaning | Verified I, I, I see how this is gon' go Touch me and you'll never be alone I-Island breeze and lights down low No one has to know (No one has to know) In the middle of the night, in my dreams You should see the things we do, baby In the middle of the night in my dreams I know I'm gonna be with you, so I take my time Are you ready for it? Oh, are you ready for it? Baby, let the games begin Let the games begin Let the games begin Baby, let the games begin Let the games begin Let the games begin I, I, I see how this is gon' go Touch me and you'll never be alone I-Island breeze and lights down low No one has to know In the middle of the night (Night), in my dreams (My dreams) You should see the things we do (We do), baby (Baby), hmm (Eh) In the middle of the night, in my dreams (My dreams) I know I'm gonna be with you (I know I'm gonna be with you) So I take my time In the middle of the night Baby, let the games begin Let the games begin Let the games begin Are you ready for it? Baby, let the games begin Let the games begin Let the games begin Are you ready for it?</td>\n",
       "    </tr>\n",
       "    <tr>\n",
       "      <th>1</th>\n",
       "      <td>Call It What You Want</td>\n",
       "      <td>My castle crumbled overnight I brought a knife to a gunfight They took the crown, but it's alright All the liars are calling me one Nobody's heard from me for months I'm doin' better than I ever was 'Cause My baby's fit like a daydream Walking with his head down I'm the one he's walking to So call it what you want, yeah Call it what you want to My baby's fly like a jet stream High above the whole scene Loves me like I'm brand new So call it what you want, yeah Call it what you want to All my flowers grew back as thorns Windows boarded up after the storm He built a fire just to keep me warm All the drama queens taking swings All the jokers dressing up as kings They fade to nothing when I look at him And I know I make the same mistakes every time Bridges burn, I never learn At least I did one thing right I did one thing right I'm laughing with my lover, makin' forts under covers Trust him like a brother Yeah, you know I did one thing right Starry eyes sparkin' up my darkest night Joeboy 'Sip (Alcohol)' Official Lyrics &amp; Meaning | Verified My baby's fit like a daydream Walking with his head down I'm the one he's walking to So call it what you want, yeah Call it what you want to My baby's fly like a jet stream High above the whole scene Loves me like I'm brand new (Call it what you want, call it what you want, call it) So call it what you want, yeah Call it what you want to I want to wear his initial on a chain 'round my neck Chain 'round my neck Not because he owns me But 'cause he really knows me Which is more than they can say, I I recall late November Holding my breath, slowly, I said \"You don't need to save me But would you run away with me?\" Yes (Would you run away?) My baby's fit like a daydream Walking with his head down I'm the one he's walking to (Call it what you want, call it what you want, call it) So call it what you want, yeah Call it what you want to My baby's fly like a jet stream High above the whole scene Loves me like I'm brand new (Call it what you want, call it what you want, call it) So call it what you want, yeah Call it what you want to (Call it what you want, call it) (Call it what you want, call it what you want, call it) (Call it what you want, call it what you want, call it) (Call it what you want, call it what you want, call it) (Call it what you want, call it what you want, call it) (Call it what you want, call it what you want, call it) (Call it what you want, call it what you want, call it) Call it what you want, yeah Call it what you want... to</td>\n",
       "    </tr>\n",
       "    <tr>\n",
       "      <th>2</th>\n",
       "      <td>Dancing with Our Hands Tied</td>\n",
       "      <td>I, I loved you in secret First sight, yeah, we love without reason Oh, twenty-five years old Oh, how were you to know? And My, my love had been frozen Deep blue, but you painted me golden Oh, and you held me close Oh, how was I to know? Iâ Could've spent forever with your hands in my pockets Picture of your face in an invisible locket You said there was nothing in the world that could stop it I had a bad feeling And darling, you had turned my bed into a sacred oasis People started talking, putting us through our paces I knew there was no one in the world who could take it I had a bad feeling But we were dancing Dancing with our hands tied, hands tied Yeah, we were dancing Like it was the first time, first time Yeah, we were dancing Dancing with our hands tied, hands tied Yeah, we were dancing And I had a bad feeling But we were dancing I, I loved you in spite of Deep fears that the world would divide us So, baby, can we dance? Oh, through an avalanche?Â And Say, say that we got it I'm a mess, but I'm the mess that you wanted Oh, 'cause it's gravity Oh, keeping you with me, Iâ Could've spent forever with your hands in my pockets Picture of your face in an invisible locket You said there was nothing in the world that could stop it I had a bad feeling But we were dancing Dancing with our hands tied, hands tied Yeah, we were dancing Like it was the first time, first time Yeah, we were dancing Dancing with our hands tied, hands tied Yeah, we were dancing (Knew we had our hands tied) And I had a bad feeling But we were dancing I'd kiss you as the lights went out Swaying as the room burned down I'd hold you as the water rushes in If I could dance with you again I'd kiss you as the lights went out Swaying as the room burned down I'd hold you as the water rushes in If I could dance with you again (Again) Dancing with our hands tied, hands tied Oh, yeah, we were dancing Like it was the first time, first time (First time, first time) Yeah, we were dancing (Oh) Dancing with our hands tied, hands tied (Dancing with our hands tied) Yeah, we were dancing (Ooh) And I had a bad feeling (Had a bad feeling) But we were dancing (Ooh-ooh, ooh-ooh) Hands tied, hands tied (Dancing)</td>\n",
       "    </tr>\n",
       "    <tr>\n",
       "      <th>3</th>\n",
       "      <td>Delicate</td>\n",
       "      <td>This ain't for the best My reputation's never been worse, so You must like me for me... We can't make Any promises now, can we, babe? But you can make me a drink Dive bar on the East Side, where you at? Phone lights up my nightstand in the black Come here, you can meet me in the back Dark jeans and your Nikes, look at you Oh damn, never seen that color blue Just think of the fun things we could do ('Cause I like you) This ain't for the best My reputation's never been worse, so You must like me for me... (Yeah, I want you) We can't make Any promises now, can we, babe? But you can make me a drink Is it cool that I said all that? Is it chill that you're in my head? 'Cause I know that it's delicate (Delicate) Is it cool that I said all that? Is it too soon to do this yet? 'Cause I know that it's delicate Isn't it? Isn't it? Isn't it? Isn't it? Isn't it? Isn't it? Isn't it? Isn't it... delicate? Third floor on the West Side, me and you Handsome, you're a mansion with a view Do the girls back home touch you like I do? Long night, with your hands up in my hair Echoes of your footsteps on the stairs Stay here, honey, I don't wanna share ('Cause I like you) This ain't for the best My reputation's never been worse, so You must like me for meâ¦ (Yeah, I want you) We can't make Any promises now, can we, babe? But you can make me a drink Is it cool that I said all that? Is it chill that you're in my head? 'Cause I know that it's delicate (Delicate) Is it cool that I said all that? Is it too soon to do this yet? 'Cause I know that it's delicate Isn't it? Isn't it? Isn't it? Isn't it? Isn't it? Isn't it? Isn't it? Isn't it delicate? Sometimes I wonder when you sleep Are you ever dreaming of me? Sometimes when I look into your eyes I pretend you're mine, all the damn time 'Cause I like you Is it cool that I said all that? Is it chill that you're in my head? 'Cause I know that it's delicate (Delicate) (Yeah, I want you) Is it cool that I said all that? Is it too soon to do this yet? 'Cause I know that it's delicate (Delicate) ('Cause I like you) Is it cool that I said all that? Isn't it? Isn't it? Isn't it? Isn't it? Is it chill that you're in my head? Isn't it? Isn't it? Isn't it? Isn't it? 'Cause I know that it's delicate Isn't it? Isn't it? Isn't it? Isn't it? (Yeah, I want you) Is it cool that I said all that? Isn't it? Isn't it? Isn't it? Isn't it? Is it too soon to do this yet? Isn't it? Isn't it? Isn't it? 'Cause I know that it's delicate Isn't it delicate?</td>\n",
       "    </tr>\n",
       "    <tr>\n",
       "      <th>4</th>\n",
       "      <td>Donât Blame Me</td>\n",
       "      <td>Don't blame me, love made me crazy If it doesn't, you ain't doin' it right Lord, save me, my drug is my baby I'll be usin' for the rest of my life I've been breakin' hearts a long time And toyin' with them older guys Just playthings for me to use Something happened for the first time In the darkest little paradise Shakin', pacin', I just need you For you, I would cross the line I would waste my time I would lose my mind They say, \"She's gone too far this time\" Don't blame me, love made me crazy If it doesn't, you ain't doin' it right Lord, save me, my drug is my baby I'll be usin' for the rest of my life Don't blame me, love made me crazy If it doesn't, you ain't doin' it right Oh, Lord, save me, my drug is my baby I'll be usin' for the rest of my life My name is whatever you decide And I'm just gonna call you mine I'm insane, but I'm your baby (Your baby) Echoes of your name inside my mind Halo hiding my obsession I once was poison ivy, but now I'm your daisy And baby, for you, I would fall from grace Just to touch your face If you walk away, I'd beg you on my knees to stay Don't blame me, love made me crazy If it doesn't, you ain't doin' it right Lord, save me, my drug is my baby I'll be usin' for the rest of my life Don't blame me, love made me crazy If it doesn't, you ain't doin' it right Oh, Lord, save me, my drug is my baby I'll be usin' for the rest of my life I get so high, oh! Every time you're, every time you're lovin' me You're lovin' me Trip of my life, oh! Every time you're, every time you're touchin' me You're touchin' me Every time you're, every time you're lovin' me Oh, Lord, save me My drug is my baby I'll be usin' for the rest of my life (Usin' for the rest of my life, oh-whoah-oh-oh) Don't blame me, love made me crazy If it doesn't, you ain't doin' it right (Doin' it right, no) Lord, save me, my drug is my baby I'll be usin' for the rest of my life, oh-oh Don't blame me, love made me crazy (Oh-oh-oh) If it doesn't, you ain't doin' it right (You ain't doin' it right) Oh, Lord, save me, my drug is my baby I'll be usin' for the rest of my life (I'll be usin', I'll be usin') I get so high, oh! Every time you're, every time you're lovin' me You're lovin' me Oh, Lord, save me, my drug is my baby I'll be usin' for the rest of my life</td>\n",
       "    </tr>\n",
       "  </tbody>\n",
       "</table>\n",
       "</div>"
      ],
      "text/plain": [
       "                   track_title  \\\n",
       "0             ...Ready for It?   \n",
       "1        Call It What You Want   \n",
       "2  Dancing with Our Hands Tied   \n",
       "3                     Delicate   \n",
       "4             Donât Blame Me   \n",
       "\n",
       "                                                                                                                                                                                                                                                                                                                                                                                                                                                                                                                                                                                                                                                                                                                                                                                                                                                                                                                                                                                                                                                                                                                                                                                                                                                                                                                                                                                                                                                                                                                                                                                                                                                                                                                                                                                                                                                                                                                                                                                                                                                                                                                                                                                                                                                                                                                                                                                                                                                                                                                                                                                                                    lyric  \n",
       "0                                                                                                                                                                                                                                                                                                                                                                                             Knew he was a killer first time that I saw him Wondered how many girls he had loved and left haunted But if he's a ghost, then I can be a phantom Holdin' him for ransom, some Some boys are tryin' too hard, he don't try at all though Younger than my exes, but he act like such a man, so I see nothing better, I keep him forever Like a vendetta-ta I, I, I see how this is gon' go Touch me and you'll never be alone I-Island breeze and lights down low No one has to know In the middle of the night, in my dreams You should see the things we do, baby In the middle of the night, in my dreams I know I'm gonna be with you, so I take my time Are you ready for it? Knew I was a robber first time that he saw me Stealing hearts and running off and never sayin' sorry But if I'm a thief, then he can join the heist, and We'll move to an island, and And he can be my jailer, Burton to this Taylor Every love I've known in comparison is a failure I forget their names now, I'm so very tame now Never be the same now, now Joeboy 'Sip (Alcohol)' Official Lyrics & Meaning | Verified I, I, I see how this is gon' go Touch me and you'll never be alone I-Island breeze and lights down low No one has to know (No one has to know) In the middle of the night, in my dreams You should see the things we do, baby In the middle of the night in my dreams I know I'm gonna be with you, so I take my time Are you ready for it? Oh, are you ready for it? Baby, let the games begin Let the games begin Let the games begin Baby, let the games begin Let the games begin Let the games begin I, I, I see how this is gon' go Touch me and you'll never be alone I-Island breeze and lights down low No one has to know In the middle of the night (Night), in my dreams (My dreams) You should see the things we do (We do), baby (Baby), hmm (Eh) In the middle of the night, in my dreams (My dreams) I know I'm gonna be with you (I know I'm gonna be with you) So I take my time In the middle of the night Baby, let the games begin Let the games begin Let the games begin Are you ready for it? Baby, let the games begin Let the games begin Let the games begin Are you ready for it?  \n",
       "1  My castle crumbled overnight I brought a knife to a gunfight They took the crown, but it's alright All the liars are calling me one Nobody's heard from me for months I'm doin' better than I ever was 'Cause My baby's fit like a daydream Walking with his head down I'm the one he's walking to So call it what you want, yeah Call it what you want to My baby's fly like a jet stream High above the whole scene Loves me like I'm brand new So call it what you want, yeah Call it what you want to All my flowers grew back as thorns Windows boarded up after the storm He built a fire just to keep me warm All the drama queens taking swings All the jokers dressing up as kings They fade to nothing when I look at him And I know I make the same mistakes every time Bridges burn, I never learn At least I did one thing right I did one thing right I'm laughing with my lover, makin' forts under covers Trust him like a brother Yeah, you know I did one thing right Starry eyes sparkin' up my darkest night Joeboy 'Sip (Alcohol)' Official Lyrics & Meaning | Verified My baby's fit like a daydream Walking with his head down I'm the one he's walking to So call it what you want, yeah Call it what you want to My baby's fly like a jet stream High above the whole scene Loves me like I'm brand new (Call it what you want, call it what you want, call it) So call it what you want, yeah Call it what you want to I want to wear his initial on a chain 'round my neck Chain 'round my neck Not because he owns me But 'cause he really knows me Which is more than they can say, I I recall late November Holding my breath, slowly, I said \"You don't need to save me But would you run away with me?\" Yes (Would you run away?) My baby's fit like a daydream Walking with his head down I'm the one he's walking to (Call it what you want, call it what you want, call it) So call it what you want, yeah Call it what you want to My baby's fly like a jet stream High above the whole scene Loves me like I'm brand new (Call it what you want, call it what you want, call it) So call it what you want, yeah Call it what you want to (Call it what you want, call it) (Call it what you want, call it what you want, call it) (Call it what you want, call it what you want, call it) (Call it what you want, call it what you want, call it) (Call it what you want, call it what you want, call it) (Call it what you want, call it what you want, call it) (Call it what you want, call it what you want, call it) Call it what you want, yeah Call it what you want... to  \n",
       "2                                                                                                                                                                                                                                                                                                                               I, I loved you in secret First sight, yeah, we love without reason Oh, twenty-five years old Oh, how were you to know? And My, my love had been frozen Deep blue, but you painted me golden Oh, and you held me close Oh, how was I to know? Iâ Could've spent forever with your hands in my pockets Picture of your face in an invisible locket You said there was nothing in the world that could stop it I had a bad feeling And darling, you had turned my bed into a sacred oasis People started talking, putting us through our paces I knew there was no one in the world who could take it I had a bad feeling But we were dancing Dancing with our hands tied, hands tied Yeah, we were dancing Like it was the first time, first time Yeah, we were dancing Dancing with our hands tied, hands tied Yeah, we were dancing And I had a bad feeling But we were dancing I, I loved you in spite of Deep fears that the world would divide us So, baby, can we dance? Oh, through an avalanche?Â And Say, say that we got it I'm a mess, but I'm the mess that you wanted Oh, 'cause it's gravity Oh, keeping you with me, Iâ Could've spent forever with your hands in my pockets Picture of your face in an invisible locket You said there was nothing in the world that could stop it I had a bad feeling But we were dancing Dancing with our hands tied, hands tied Yeah, we were dancing Like it was the first time, first time Yeah, we were dancing Dancing with our hands tied, hands tied Yeah, we were dancing (Knew we had our hands tied) And I had a bad feeling But we were dancing I'd kiss you as the lights went out Swaying as the room burned down I'd hold you as the water rushes in If I could dance with you again I'd kiss you as the lights went out Swaying as the room burned down I'd hold you as the water rushes in If I could dance with you again (Again) Dancing with our hands tied, hands tied Oh, yeah, we were dancing Like it was the first time, first time (First time, first time) Yeah, we were dancing (Oh) Dancing with our hands tied, hands tied (Dancing with our hands tied) Yeah, we were dancing (Ooh) And I had a bad feeling (Had a bad feeling) But we were dancing (Ooh-ooh, ooh-ooh) Hands tied, hands tied (Dancing)  \n",
       "3                            This ain't for the best My reputation's never been worse, so You must like me for me... We can't make Any promises now, can we, babe? But you can make me a drink Dive bar on the East Side, where you at? Phone lights up my nightstand in the black Come here, you can meet me in the back Dark jeans and your Nikes, look at you Oh damn, never seen that color blue Just think of the fun things we could do ('Cause I like you) This ain't for the best My reputation's never been worse, so You must like me for me... (Yeah, I want you) We can't make Any promises now, can we, babe? But you can make me a drink Is it cool that I said all that? Is it chill that you're in my head? 'Cause I know that it's delicate (Delicate) Is it cool that I said all that? Is it too soon to do this yet? 'Cause I know that it's delicate Isn't it? Isn't it? Isn't it? Isn't it? Isn't it? Isn't it? Isn't it? Isn't it... delicate? Third floor on the West Side, me and you Handsome, you're a mansion with a view Do the girls back home touch you like I do? Long night, with your hands up in my hair Echoes of your footsteps on the stairs Stay here, honey, I don't wanna share ('Cause I like you) This ain't for the best My reputation's never been worse, so You must like me for meâ¦ (Yeah, I want you) We can't make Any promises now, can we, babe? But you can make me a drink Is it cool that I said all that? Is it chill that you're in my head? 'Cause I know that it's delicate (Delicate) Is it cool that I said all that? Is it too soon to do this yet? 'Cause I know that it's delicate Isn't it? Isn't it? Isn't it? Isn't it? Isn't it? Isn't it? Isn't it? Isn't it delicate? Sometimes I wonder when you sleep Are you ever dreaming of me? Sometimes when I look into your eyes I pretend you're mine, all the damn time 'Cause I like you Is it cool that I said all that? Is it chill that you're in my head? 'Cause I know that it's delicate (Delicate) (Yeah, I want you) Is it cool that I said all that? Is it too soon to do this yet? 'Cause I know that it's delicate (Delicate) ('Cause I like you) Is it cool that I said all that? Isn't it? Isn't it? Isn't it? Isn't it? Is it chill that you're in my head? Isn't it? Isn't it? Isn't it? Isn't it? 'Cause I know that it's delicate Isn't it? Isn't it? Isn't it? Isn't it? (Yeah, I want you) Is it cool that I said all that? Isn't it? Isn't it? Isn't it? Isn't it? Is it too soon to do this yet? Isn't it? Isn't it? Isn't it? 'Cause I know that it's delicate Isn't it delicate?  \n",
       "4                                                                                                                                                                                                                                           Don't blame me, love made me crazy If it doesn't, you ain't doin' it right Lord, save me, my drug is my baby I'll be usin' for the rest of my life I've been breakin' hearts a long time And toyin' with them older guys Just playthings for me to use Something happened for the first time In the darkest little paradise Shakin', pacin', I just need you For you, I would cross the line I would waste my time I would lose my mind They say, \"She's gone too far this time\" Don't blame me, love made me crazy If it doesn't, you ain't doin' it right Lord, save me, my drug is my baby I'll be usin' for the rest of my life Don't blame me, love made me crazy If it doesn't, you ain't doin' it right Oh, Lord, save me, my drug is my baby I'll be usin' for the rest of my life My name is whatever you decide And I'm just gonna call you mine I'm insane, but I'm your baby (Your baby) Echoes of your name inside my mind Halo hiding my obsession I once was poison ivy, but now I'm your daisy And baby, for you, I would fall from grace Just to touch your face If you walk away, I'd beg you on my knees to stay Don't blame me, love made me crazy If it doesn't, you ain't doin' it right Lord, save me, my drug is my baby I'll be usin' for the rest of my life Don't blame me, love made me crazy If it doesn't, you ain't doin' it right Oh, Lord, save me, my drug is my baby I'll be usin' for the rest of my life I get so high, oh! Every time you're, every time you're lovin' me You're lovin' me Trip of my life, oh! Every time you're, every time you're touchin' me You're touchin' me Every time you're, every time you're lovin' me Oh, Lord, save me My drug is my baby I'll be usin' for the rest of my life (Usin' for the rest of my life, oh-whoah-oh-oh) Don't blame me, love made me crazy If it doesn't, you ain't doin' it right (Doin' it right, no) Lord, save me, my drug is my baby I'll be usin' for the rest of my life, oh-oh Don't blame me, love made me crazy (Oh-oh-oh) If it doesn't, you ain't doin' it right (You ain't doin' it right) Oh, Lord, save me, my drug is my baby I'll be usin' for the rest of my life (I'll be usin', I'll be usin') I get so high, oh! Every time you're, every time you're lovin' me You're lovin' me Oh, Lord, save me, my drug is my baby I'll be usin' for the rest of my life  "
      ]
     },
     "execution_count": 6,
     "metadata": {},
     "output_type": "execute_result"
    }
   ],
   "source": [
    "songs.head()"
   ]
  },
  {
   "cell_type": "code",
   "execution_count": 7,
   "id": "6f551efe-bc7b-4114-b7a1-7624200dc4d1",
   "metadata": {},
   "outputs": [
    {
     "data": {
      "text/plain": [
       "15"
      ]
     },
     "execution_count": 7,
     "metadata": {},
     "output_type": "execute_result"
    }
   ],
   "source": [
    "len(songs)"
   ]
  },
  {
   "cell_type": "code",
   "execution_count": 8,
   "id": "bf324a95-51a8-41f6-9626-4b0deb1c02ff",
   "metadata": {
    "tags": []
   },
   "outputs": [],
   "source": [
    "import sklearn"
   ]
  },
  {
   "cell_type": "code",
   "execution_count": 9,
   "id": "fa6725fc-747b-4e7f-bcc9-4681acdc8d4a",
   "metadata": {
    "tags": []
   },
   "outputs": [],
   "source": [
    "from sklearn.feature_extraction.text import TfidfVectorizer"
   ]
  },
  {
   "cell_type": "code",
   "execution_count": 10,
   "id": "483427a2-e654-4f99-a3ce-46230ea51fb8",
   "metadata": {
    "tags": []
   },
   "outputs": [
    {
     "name": "stderr",
     "output_type": "stream",
     "text": [
      "[nltk_data] Downloading package stopwords to /Users/anita/nltk_data...\n",
      "[nltk_data]   Package stopwords is already up-to-date!\n"
     ]
    },
    {
     "data": {
      "text/plain": [
       "True"
      ]
     },
     "execution_count": 10,
     "metadata": {},
     "output_type": "execute_result"
    }
   ],
   "source": [
    "import nltk\n",
    "from nltk.corpus import stopwords\n",
    "nltk.download('stopwords')"
   ]
  },
  {
   "cell_type": "code",
   "execution_count": 11,
   "id": "3bf82ab4-858c-4275-b776-5237786548cb",
   "metadata": {
    "tags": []
   },
   "outputs": [],
   "source": [
    "stop_words = stopwords.words('english')"
   ]
  },
  {
   "cell_type": "code",
   "execution_count": 12,
   "id": "d0dc40f4-fe70-409f-aca0-e05c12e10fc2",
   "metadata": {},
   "outputs": [],
   "source": [
    "stopwords = [\"things\", \"baby\", \"games\", \"said\", \"let\", \"break\", \"dreams\", \"darling\", \"night\",\n",
    "    \"call\", \"want\", \"ah\", \"take\", \"like\", \"could\", \"best\", \"yeah\", \"cool\", \"hands\",\n",
    "    \"wanna\", \"ooh\", \"first\", \"waiting\", \"whoa\", \"end\", \"oh\", \"heart\", \"soul\",\n",
    "    \"feel\", \"good\", \"light\", \"face\", \"say\", \"way\", \"bad\", \"make\", \"back\", \"something\",\n",
    "    \"made\", \"look\", \"life\", \"save\", \"time\", \"doin\", \"right\", \"crazy\", \"baby\",\n",
    "    \"hold\", \"floor\", \"laugh\", \"day\", \"year\", \"last\", \"new\", \"ever\", \"stay\"]"
   ]
  },
  {
   "cell_type": "code",
   "execution_count": 13,
   "id": "6256c5c1-7ad2-4053-86fd-f5650c302d99",
   "metadata": {
    "tags": []
   },
   "outputs": [],
   "source": [
    "vectorizer = TfidfVectorizer(stop_words = stop_words, min_df = 0.1)"
   ]
  },
  {
   "cell_type": "code",
   "execution_count": 14,
   "id": "8932c348-d02f-4a37-94d5-67e9e1d53a18",
   "metadata": {
    "tags": []
   },
   "outputs": [],
   "source": [
    "tfidf = vectorizer.fit_transform(songs['lyric'])"
   ]
  },
  {
   "cell_type": "code",
   "execution_count": 15,
   "id": "22ec696a-b676-439e-89ee-274c9a68e468",
   "metadata": {
    "tags": []
   },
   "outputs": [],
   "source": [
    "from sklearn.decomposition import NMF"
   ]
  },
  {
   "cell_type": "code",
   "execution_count": 16,
   "id": "713c0930-064b-46b9-ba77-2ef0b3b08f60",
   "metadata": {
    "tags": []
   },
   "outputs": [],
   "source": [
    "nmf = NMF(n_components = 6)"
   ]
  },
  {
   "cell_type": "code",
   "execution_count": 17,
   "id": "9bdacb74-a19f-4aac-ae74-48feeb346f6d",
   "metadata": {
    "tags": []
   },
   "outputs": [
    {
     "name": "stderr",
     "output_type": "stream",
     "text": [
      "/Library/Frameworks/Python.framework/Versions/3.11/lib/python3.11/site-packages/sklearn/decomposition/_nmf.py:1770: ConvergenceWarning: Maximum number of iterations 200 reached. Increase it to improve convergence.\n",
      "  warnings.warn(\n"
     ]
    }
   ],
   "source": [
    "topic_values = nmf.fit_transform(tfidf)"
   ]
  },
  {
   "cell_type": "code",
   "execution_count": 18,
   "id": "4960ddd1-de48-47d4-b7e6-b21b83d22a01",
   "metadata": {
    "tags": []
   },
   "outputs": [
    {
     "name": "stdout",
     "output_type": "stream",
     "text": [
      "Topic #1: things baby know games said let break dreams darling night\n",
      "Topic #2: call want ah take like could best yeah cool hands\n",
      "Topic #3: wanna ooh first waiting whoa hands end oh heart soul\n",
      "Topic #4: feel good light face say way bad make back something\n",
      "Topic #5: made look life save time oh doin right crazy baby\n",
      "Topic #6: hold floor laugh could day year last new ever stay\n"
     ]
    }
   ],
   "source": [
    "for topic_num, topic in enumerate(nmf.components_):\n",
    "    message = \"Topic #{}: \".format(topic_num + 1)\n",
    "    message += \" \".join([vectorizer.get_feature_names_out()[i] for i in topic.argsort()[:-11 :-1]])\n",
    "    print(message)"
   ]
  },
  {
   "cell_type": "code",
   "execution_count": 19,
   "id": "1a867000-1b07-4044-8d2d-fe2e9bd0d159",
   "metadata": {
    "tags": []
   },
   "outputs": [],
   "source": [
    "topic_labels = ['fantasy', 'enthusiasm', 'expression', 'emotional states', 'reflection', 'persistence']"
   ]
  },
  {
   "cell_type": "code",
   "execution_count": 20,
   "id": "3f1141fe-2105-4248-8860-3b6f11a12d23",
   "metadata": {
    "tags": []
   },
   "outputs": [
    {
     "data": {
      "text/html": [
       "<div>\n",
       "<style scoped>\n",
       "    .dataframe tbody tr th:only-of-type {\n",
       "        vertical-align: middle;\n",
       "    }\n",
       "\n",
       "    .dataframe tbody tr th {\n",
       "        vertical-align: top;\n",
       "    }\n",
       "\n",
       "    .dataframe thead th {\n",
       "        text-align: right;\n",
       "    }\n",
       "</style>\n",
       "<table border=\"1\" class=\"dataframe\">\n",
       "  <thead>\n",
       "    <tr style=\"text-align: right;\">\n",
       "      <th></th>\n",
       "      <th>fantasy</th>\n",
       "      <th>enthusiasm</th>\n",
       "      <th>expression</th>\n",
       "      <th>emotional states</th>\n",
       "      <th>reflection</th>\n",
       "      <th>persistence</th>\n",
       "    </tr>\n",
       "  </thead>\n",
       "  <tbody>\n",
       "    <tr>\n",
       "      <th>0</th>\n",
       "      <td>0.352148</td>\n",
       "      <td>0.000000</td>\n",
       "      <td>0.007607</td>\n",
       "      <td>0.000000</td>\n",
       "      <td>0.000000</td>\n",
       "      <td>0.000111</td>\n",
       "    </tr>\n",
       "    <tr>\n",
       "      <th>1</th>\n",
       "      <td>0.000000</td>\n",
       "      <td>0.562304</td>\n",
       "      <td>0.000000</td>\n",
       "      <td>0.000000</td>\n",
       "      <td>0.012469</td>\n",
       "      <td>0.000000</td>\n",
       "    </tr>\n",
       "    <tr>\n",
       "      <th>2</th>\n",
       "      <td>0.009514</td>\n",
       "      <td>0.096716</td>\n",
       "      <td>0.436978</td>\n",
       "      <td>0.040518</td>\n",
       "      <td>0.027878</td>\n",
       "      <td>0.128257</td>\n",
       "    </tr>\n",
       "    <tr>\n",
       "      <th>3</th>\n",
       "      <td>0.172104</td>\n",
       "      <td>0.309347</td>\n",
       "      <td>0.034001</td>\n",
       "      <td>0.096146</td>\n",
       "      <td>0.000000</td>\n",
       "      <td>0.016820</td>\n",
       "    </tr>\n",
       "    <tr>\n",
       "      <th>4</th>\n",
       "      <td>0.084537</td>\n",
       "      <td>0.000000</td>\n",
       "      <td>0.010364</td>\n",
       "      <td>0.000000</td>\n",
       "      <td>0.502812</td>\n",
       "      <td>0.000000</td>\n",
       "    </tr>\n",
       "    <tr>\n",
       "      <th>5</th>\n",
       "      <td>0.000000</td>\n",
       "      <td>0.501175</td>\n",
       "      <td>0.013355</td>\n",
       "      <td>0.000000</td>\n",
       "      <td>0.000000</td>\n",
       "      <td>0.000000</td>\n",
       "    </tr>\n",
       "    <tr>\n",
       "      <th>6</th>\n",
       "      <td>0.000000</td>\n",
       "      <td>0.022378</td>\n",
       "      <td>0.546722</td>\n",
       "      <td>0.000000</td>\n",
       "      <td>0.000000</td>\n",
       "      <td>0.000000</td>\n",
       "    </tr>\n",
       "    <tr>\n",
       "      <th>7</th>\n",
       "      <td>0.079799</td>\n",
       "      <td>0.000000</td>\n",
       "      <td>0.370188</td>\n",
       "      <td>0.157752</td>\n",
       "      <td>0.010193</td>\n",
       "      <td>0.000000</td>\n",
       "    </tr>\n",
       "    <tr>\n",
       "      <th>8</th>\n",
       "      <td>0.000000</td>\n",
       "      <td>0.035140</td>\n",
       "      <td>0.000000</td>\n",
       "      <td>0.634635</td>\n",
       "      <td>0.138739</td>\n",
       "      <td>0.000000</td>\n",
       "    </tr>\n",
       "    <tr>\n",
       "      <th>9</th>\n",
       "      <td>0.000000</td>\n",
       "      <td>0.000000</td>\n",
       "      <td>0.000000</td>\n",
       "      <td>0.736332</td>\n",
       "      <td>0.000000</td>\n",
       "      <td>0.000000</td>\n",
       "    </tr>\n",
       "    <tr>\n",
       "      <th>10</th>\n",
       "      <td>0.000000</td>\n",
       "      <td>0.000000</td>\n",
       "      <td>0.519162</td>\n",
       "      <td>0.000000</td>\n",
       "      <td>0.000000</td>\n",
       "      <td>0.000000</td>\n",
       "    </tr>\n",
       "    <tr>\n",
       "      <th>11</th>\n",
       "      <td>0.000000</td>\n",
       "      <td>0.000000</td>\n",
       "      <td>0.000000</td>\n",
       "      <td>0.000000</td>\n",
       "      <td>0.669752</td>\n",
       "      <td>0.000000</td>\n",
       "    </tr>\n",
       "    <tr>\n",
       "      <th>12</th>\n",
       "      <td>0.000000</td>\n",
       "      <td>0.000000</td>\n",
       "      <td>0.000000</td>\n",
       "      <td>0.000000</td>\n",
       "      <td>0.000000</td>\n",
       "      <td>0.911400</td>\n",
       "    </tr>\n",
       "    <tr>\n",
       "      <th>13</th>\n",
       "      <td>0.307784</td>\n",
       "      <td>0.000000</td>\n",
       "      <td>0.000000</td>\n",
       "      <td>0.284959</td>\n",
       "      <td>0.000000</td>\n",
       "      <td>0.000000</td>\n",
       "    </tr>\n",
       "    <tr>\n",
       "      <th>14</th>\n",
       "      <td>0.399718</td>\n",
       "      <td>0.000000</td>\n",
       "      <td>0.000000</td>\n",
       "      <td>0.000000</td>\n",
       "      <td>0.000000</td>\n",
       "      <td>0.000000</td>\n",
       "    </tr>\n",
       "  </tbody>\n",
       "</table>\n",
       "</div>"
      ],
      "text/plain": [
       "     fantasy  enthusiasm  expression  emotional states  reflection  \\\n",
       "0   0.352148    0.000000    0.007607          0.000000    0.000000   \n",
       "1   0.000000    0.562304    0.000000          0.000000    0.012469   \n",
       "2   0.009514    0.096716    0.436978          0.040518    0.027878   \n",
       "3   0.172104    0.309347    0.034001          0.096146    0.000000   \n",
       "4   0.084537    0.000000    0.010364          0.000000    0.502812   \n",
       "5   0.000000    0.501175    0.013355          0.000000    0.000000   \n",
       "6   0.000000    0.022378    0.546722          0.000000    0.000000   \n",
       "7   0.079799    0.000000    0.370188          0.157752    0.010193   \n",
       "8   0.000000    0.035140    0.000000          0.634635    0.138739   \n",
       "9   0.000000    0.000000    0.000000          0.736332    0.000000   \n",
       "10  0.000000    0.000000    0.519162          0.000000    0.000000   \n",
       "11  0.000000    0.000000    0.000000          0.000000    0.669752   \n",
       "12  0.000000    0.000000    0.000000          0.000000    0.000000   \n",
       "13  0.307784    0.000000    0.000000          0.284959    0.000000   \n",
       "14  0.399718    0.000000    0.000000          0.000000    0.000000   \n",
       "\n",
       "    persistence  \n",
       "0      0.000111  \n",
       "1      0.000000  \n",
       "2      0.128257  \n",
       "3      0.016820  \n",
       "4      0.000000  \n",
       "5      0.000000  \n",
       "6      0.000000  \n",
       "7      0.000000  \n",
       "8      0.000000  \n",
       "9      0.000000  \n",
       "10     0.000000  \n",
       "11     0.000000  \n",
       "12     0.911400  \n",
       "13     0.000000  \n",
       "14     0.000000  "
      ]
     },
     "execution_count": 20,
     "metadata": {},
     "output_type": "execute_result"
    }
   ],
   "source": [
    "df_topics = pd.DataFrame(topic_values, columns = topic_labels)\n",
    "df_topics"
   ]
  },
  {
   "cell_type": "code",
   "execution_count": 21,
   "id": "c3b4a156-9ff6-4cd0-af76-2f632ec1e47e",
   "metadata": {
    "tags": []
   },
   "outputs": [],
   "source": [
    "songs = songs.join(df_topics) "
   ]
  },
  {
   "cell_type": "code",
   "execution_count": 22,
   "id": "c8deded5-faa4-47a5-b542-22656de9dada",
   "metadata": {
    "tags": []
   },
   "outputs": [],
   "source": [
    "songs.loc[songs['fantasy'] >= 0.1, 'fantasy'] = 1\n",
    "songs.loc[songs['enthusiasm'] >= 0.1, 'enthusiasm'] = 1\n",
    "songs.loc[songs['expression'] >= 0.1, 'expression'] = 1\n",
    "songs.loc[songs['emotional states'] >= 0.1, 'emotional states'] = 1\n",
    "songs.loc[songs['reflection'] >= 0.1, 'reflection'] = 1\n",
    "songs.loc[songs['persistence'] >= 0.1, 'persistence'] = 1"
   ]
  },
  {
   "cell_type": "code",
   "execution_count": 23,
   "id": "cb147a2a-7a75-401e-8a69-ddc61c820e45",
   "metadata": {
    "tags": []
   },
   "outputs": [],
   "source": [
    "songs.loc[songs['fantasy'] < 0.1, 'fantasy'] = 0\n",
    "songs.loc[songs['enthusiasm'] < 0.1, 'enthusiasm'] = 0\n",
    "songs.loc[songs['expression'] < 0.1, 'expression'] = 0\n",
    "songs.loc[songs['emotional states'] < 0.1, 'emotional states'] = 0\n",
    "songs.loc[songs['reflection'] < 0.1, 'reflection'] = 0\n",
    "songs.loc[songs['persistence'] < 0.1, 'persistence'] = 0"
   ]
  },
  {
   "cell_type": "code",
   "execution_count": 24,
   "id": "cd60301b-ae63-4f27-a515-d3356c269f2c",
   "metadata": {
    "tags": []
   },
   "outputs": [],
   "source": [
    "songs_csv = songs.to_csv('topics/reputation_topics.csv')"
   ]
  }
 ],
 "metadata": {
  "kernelspec": {
   "display_name": "Python 3 (ipykernel)",
   "language": "python",
   "name": "python3"
  },
  "language_info": {
   "codemirror_mode": {
    "name": "ipython",
    "version": 3
   },
   "file_extension": ".py",
   "mimetype": "text/x-python",
   "name": "python",
   "nbconvert_exporter": "python",
   "pygments_lexer": "ipython3",
   "version": "3.11.9"
  }
 },
 "nbformat": 4,
 "nbformat_minor": 5
}
