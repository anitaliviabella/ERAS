{
 "cells": [
  {
   "cell_type": "code",
   "execution_count": 1,
   "id": "97e6ea5f-1a85-4e74-8699-5928416c0ebb",
   "metadata": {
    "tags": []
   },
   "outputs": [],
   "source": [
    "import pandas as pd"
   ]
  },
  {
   "cell_type": "code",
   "execution_count": 2,
   "id": "746c4892-2610-4639-a719-48a93e7bd6d9",
   "metadata": {
    "tags": []
   },
   "outputs": [],
   "source": [
    "df = pd.read_csv('corpus/lover_lyrics.csv', encoding = 'latin-1')"
   ]
  },
  {
   "cell_type": "code",
   "execution_count": 3,
   "id": "64cf3082-b3d5-4d58-aa89-68f7b01e0e8c",
   "metadata": {
    "tags": []
   },
   "outputs": [
    {
     "data": {
      "text/html": [
       "<div>\n",
       "<style scoped>\n",
       "    .dataframe tbody tr th:only-of-type {\n",
       "        vertical-align: middle;\n",
       "    }\n",
       "\n",
       "    .dataframe tbody tr th {\n",
       "        vertical-align: top;\n",
       "    }\n",
       "\n",
       "    .dataframe thead th {\n",
       "        text-align: right;\n",
       "    }\n",
       "</style>\n",
       "<table border=\"1\" class=\"dataframe\">\n",
       "  <thead>\n",
       "    <tr style=\"text-align: right;\">\n",
       "      <th></th>\n",
       "      <th>ï»¿album_name</th>\n",
       "      <th>track_title</th>\n",
       "      <th>track_n</th>\n",
       "      <th>lyric</th>\n",
       "      <th>line</th>\n",
       "    </tr>\n",
       "  </thead>\n",
       "  <tbody>\n",
       "    <tr>\n",
       "      <th>0</th>\n",
       "      <td>Lover</td>\n",
       "      <td>I Forgot That You Existed</td>\n",
       "      <td>1</td>\n",
       "      <td>How many days did I spend thinking</td>\n",
       "      <td>1</td>\n",
       "    </tr>\n",
       "    <tr>\n",
       "      <th>1</th>\n",
       "      <td>Lover</td>\n",
       "      <td>I Forgot That You Existed</td>\n",
       "      <td>1</td>\n",
       "      <td>'Bout how you did me wrong, wrong, wrong?</td>\n",
       "      <td>2</td>\n",
       "    </tr>\n",
       "    <tr>\n",
       "      <th>2</th>\n",
       "      <td>Lover</td>\n",
       "      <td>I Forgot That You Existed</td>\n",
       "      <td>1</td>\n",
       "      <td>Lived inâ",
       "theâ",
       "shade you wereâ",
       "throwing</td>\n",
       "      <td>3</td>\n",
       "    </tr>\n",
       "    <tr>\n",
       "      <th>3</th>\n",
       "      <td>Lover</td>\n",
       "      <td>I Forgot That You Existed</td>\n",
       "      <td>1</td>\n",
       "      <td>'Til all of my sunshine wasâ",
       "gone, gone, gone</td>\n",
       "      <td>4</td>\n",
       "    </tr>\n",
       "    <tr>\n",
       "      <th>4</th>\n",
       "      <td>Lover</td>\n",
       "      <td>I Forgot That You Existed</td>\n",
       "      <td>1</td>\n",
       "      <td>And I couldn't get away from ya</td>\n",
       "      <td>5</td>\n",
       "    </tr>\n",
       "  </tbody>\n",
       "</table>\n",
       "</div>"
      ],
      "text/plain": [
       "  ï»¿album_name                track_title  track_n  \\\n",
       "0         Lover  I Forgot That You Existed        1   \n",
       "1         Lover  I Forgot That You Existed        1   \n",
       "2         Lover  I Forgot That You Existed        1   \n",
       "3         Lover  I Forgot That You Existed        1   \n",
       "4         Lover  I Forgot That You Existed        1   \n",
       "\n",
       "                                            lyric  line  \n",
       "0              How many days did I spend thinking     1  \n",
       "1       'Bout how you did me wrong, wrong, wrong?     2  \n",
       "2      Lived inâ\n",
       "theâ\n",
       "shade you wereâ\n",
       "throwing     3  \n",
       "3  'Til all of my sunshine wasâ\n",
       "gone, gone, gone     4  \n",
       "4                 And I couldn't get away from ya     5  "
      ]
     },
     "execution_count": 3,
     "metadata": {},
     "output_type": "execute_result"
    }
   ],
   "source": [
    "df.head()"
   ]
  },
  {
   "cell_type": "code",
   "execution_count": 4,
   "id": "e9db7d36-aa96-41e2-affd-92f8898879d4",
   "metadata": {
    "tags": []
   },
   "outputs": [],
   "source": [
    "songs = df.groupby('track_title').agg({'lyric': lambda x: \" \".join(x)}).reset_index()"
   ]
  },
  {
   "cell_type": "code",
   "execution_count": 5,
   "id": "68a335b2-a9a0-4dfc-a507-022830c1a0a1",
   "metadata": {
    "tags": []
   },
   "outputs": [],
   "source": [
    "pd.options.display.max_colwidth = 5000"
   ]
  },
  {
   "cell_type": "code",
   "execution_count": 6,
   "id": "31569bd5-35b9-4761-bc63-7d28af52e79e",
   "metadata": {
    "tags": []
   },
   "outputs": [
    {
     "data": {
      "text/html": [
       "<div>\n",
       "<style scoped>\n",
       "    .dataframe tbody tr th:only-of-type {\n",
       "        vertical-align: middle;\n",
       "    }\n",
       "\n",
       "    .dataframe tbody tr th {\n",
       "        vertical-align: top;\n",
       "    }\n",
       "\n",
       "    .dataframe thead th {\n",
       "        text-align: right;\n",
       "    }\n",
       "</style>\n",
       "<table border=\"1\" class=\"dataframe\">\n",
       "  <thead>\n",
       "    <tr style=\"text-align: right;\">\n",
       "      <th></th>\n",
       "      <th>track_title</th>\n",
       "      <th>lyric</th>\n",
       "    </tr>\n",
       "  </thead>\n",
       "  <tbody>\n",
       "    <tr>\n",
       "      <th>0</th>\n",
       "      <td>Afterglow</td>\n",
       "      <td>I blew things out of proportion, now you're blue Put you in jail for something youâ",
       "didnâtâ",
       "do I pinned yourâ",
       "hands behind your back, oh Thought Iâ",
       "had reason to attack, but no Fighting with a true love is boxing with no gloves Chemistry 'til it blows up, 'til thereâs no us Why'd I have to break what I love so much? It's on your face, and I'm to blame, I need to say Hey, it's all me, in my head I'm the one who burned us down But it's not what I meant Sorry that I hurt you I don't wanna do, I donât wanna do this to you (Ooh) I donât wanna lose, I don't wanna lose this with you (Ooh) I need to say, hey, itâs all me, just don't go Meet me in the afterglow It's so excruciating to see you low Just wanna lift you up and not let you go This ultraviolet morning light below Tells me this love is worth the fight, oh I lived like an island, punished you with silence Went off like sirens, just crying Why'd I have to break what I love so much? Itâs on your face, don't walk away, I need to say Hey, it's all me, in my head I'm the one who burned us down But it's not what I meant I'm sorry that I hurt you I don't wanna do, I don't wanna do this to you (Ooh) I don't wanna lose, I don't wanna lose this with you (Ooh) I need to say, hey, it's all me, just don't go Meet me in the afterglow Tell me that you're still mine Tell me that we'll be just fine Even when I lose my mind I need to say Tell me that it's not my fault Tell me that I'm all you want Even when I break your heart I need to say Hey, it's all me, in my head I'm the one who burned us down But it's not what I meant Sorry that I hurt you I don't wanna do, I don't wanna do this to you (Ooh) I don't wanna lose, I don't wanna lose this with you (Ooh) I need to say, hey, it's all me, just don't go Meet me in the afterglow</td>\n",
       "    </tr>\n",
       "    <tr>\n",
       "      <th>1</th>\n",
       "      <td>Cornelia Street</td>\n",
       "      <td>We were in the backseat Drunk on something stronger than the drinks in the bar \"I rentâ",
       "aâ",
       "place on Corneliaâ",
       "Street\" I say casually in the car Weâ",
       "were a fresh page on the desk Filling in the blanks as we go As if the street lights pointed in an arrow head Leading us home And I hope I never lose you, hope it never ends I'd never walk Cornelia Street again That's the kinda heartbreak time could never mend I'd never walk Cornelia Street again And baby, I get mystified by how this city screams your name And baby, I'm so terrified of if you ever walk away I'd never walk Cornelia Street again I'd never walk Cornelia Street again Windows flung right open, autumn air Jacket 'round my shoulders is yours We bless the rains on Cornelia Street Memorize the creaks in the floor Back when we were card sharks, playing games I thought you were leading me on I packed my bags, left Cornelia Street Before you even knew I was gone But then you called,Â showed your hand I turned around before I hit the tunnel Sat on the roof, you and I I hope I never lose you, hope it never ends I'd never walk Cornelia Street again That's the kinda heartbreak time could never mend I'd never walk Cornelia Street again And baby, I get mystified by how this city screams your name And baby, I'm so terrified of if you ever walk away I'd never walk Cornelia Street again I'd never walk Cornelia Street again You hold my hand on the street Walk me back to that apartment Years ago, we were just inside Barefoot in the kitchen Sacred new beginnings That became my religion, listen I hope I never lose you I'd never walk Cornelia Street again Oh, never again And baby, I get mystified by how this city screams your name And baby, I'm so terrified of if you ever walk away I'd never walk Cornelia Street again I'd never walk Cornelia Street again I don't wanna lose you (Hope it never ends) I'd never walk Cornelia Street again I don't wanna lose you (Yeah) \"I rent a place on Cornelia Street\" I say casually in the car</td>\n",
       "    </tr>\n",
       "    <tr>\n",
       "      <th>2</th>\n",
       "      <td>Cruel Summer</td>\n",
       "      <td>(Yeah, yeah, yeah, yeah) Fever dream high in the quiet of the night You know that I caught it (Oh yeah, you're right, I want it) Bad, bad boy, shiny toy with a price You know that I bought it (Oh yeah, you're right, I want it) Killing me slow, out the window I'm always waiting for you to be waiting below Devils roll the dice, angels roll their eyes What doesn't kill me makes me want you more And it's new, the shape of your body It's blue, the feeling I've got And it's ooh, whoa oh It's a cruel summer It's cool, that's what I tell 'em No rules in breakable heaven But ooh, whoa oh It's a cruel summer With you Joeboy 'Sip (Alcohol)' Official Lyrics &amp; Meaning | Verified Hang your head low in the glow of the vending machine I'm not dying (Oh yeah, you're right, I want it) We say that we'll just screw it up in these trying times We're not trying (Oh yeah, you're right, I want it) So cut the headlights, summer's a knife I'm always waiting for you just to cut to the bone Devils roll the dice, angels roll their eyes And if I bleed, you'll be the last to know Oh, it's new, the shape of your body It's blue, the feeling I've got And it's ooh, whoa oh It's a cruel summer It's cool, that's what I tell 'em No rules in breakable heaven But ooh, whoa oh It's a cruel summer With you I'm drunk in the back of the car And I cried like a baby coming home from the bar (Oh) Said, \"I'm fine,\" but it wasn't true I don't wanna keep secrets just to keep you And I snuck in through the garden gate Every night that summer just to seal my fate (Oh) And I scream, \"For whatever it's worth I love you, ain't that the worst thing you ever heard?\" He looks up, grinning like a devil It's new, the shape of your body It's blue, the feeling I've got And it's ooh, whoa oh It's a cruel summer It's cool, that's what I tell 'em No rules in breakable heaven But ooh, whoa oh It's a cruel summer With you I'm drunk in the back of the car And I cried like a baby coming home from the bar (Oh) Said, \"I'm fine,\" but it wasn't true I don't wanna keep secrets just to keep you And I snuck in through the garden gate Every night that summer just to seal my fate (Oh) And I scream, \"For whatever it's worth I love you, ain't that the worst thing you ever heard?\" (Yeah, yeah, yeah, yeah)</td>\n",
       "    </tr>\n",
       "    <tr>\n",
       "      <th>3</th>\n",
       "      <td>Daylight</td>\n",
       "      <td>My love was as cruel as the cities I lived in Everyone looked worse in the light There are so many lines that I've crossed unforgiven I'll tell you the truth, but never goodbye I don't wanna look at anything else now that I saw you I don't wanna think of anything else now that I thought of you I've been sleeping so long in a 20-year dark night And now I see daylight, I only see daylight Luck of the draw only draws the unlucky And so I became the butt of the joke I wounded the good and I trusted the wicked Clearing the air, I breathed in the smoke Maybe you ran with the wolves and refused to settle down Maybe I've stormed out of every single room in this town Threw out our cloaks and our daggers because it's morning now It's brighter now, now I don't wanna look at anything else now that I saw you (I can never look away) I don't wanna think of anything else now that I thought of you (Things will never be the same) I've been sleeping so long in a 20-year dark night (Now I'm wide awake) And now I see daylight (Daylight), I only see daylight (Daylight) I only see daylight, daylight, daylight, daylight I only see daylight, daylight, daylight, daylight And I can still see it all (In my mind) All of you, all of me (Intertwined) I once believed love would be (Black and white) But it's golden (Golden) And I can still see it all (In my head) Back and forth from New York (Sneaking in your bed) I once believed love would be (Burning red) But it's golden Like daylight, like daylight Like daylight, daylight I don't wanna look at anything else now that I saw you (I can never look away) And I don't wanna think of anything else now that I thought of you (Things will never be the same) I've been sleeping so long in a 20-year dark night (Now I'm wide awake) And now I see daylight (I see daylight), I only see daylight (Ah) I only see daylight, daylight, daylight, daylight I only see daylight, daylight, daylight, daylight (Ah) (And I can still see it all) I only see daylight, daylight, daylight, daylight (And I can still see it all, back and forth from New York) I only see daylight, daylight, daylight, daylight (I once believed love would be burning red) Like daylight It's golden like daylight You gotta step into the daylight and let it go Just let it go, let it go I wanna be defined by the things that I love Not the things I hate Not the things I'm afraid of, I'm afraid of Or the things that haunt me in the middle of the night I, I just think that You are what you love</td>\n",
       "    </tr>\n",
       "    <tr>\n",
       "      <th>4</th>\n",
       "      <td>Death by a Thousand Cuts</td>\n",
       "      <td>My, my, my, my My, my, my, my My, my, my, my My, my, my, my My, my, my, my My, my, my, my My, my, my, my My, my, my, my Saying goodbye is death by a thousand cuts Flashbacks waking me up I get drunk, but it's not enough âCause the morning comes and you're not my baby I look through the windows of this love Even though we boarded them up Chandelier's still flickering here âCause I can't pretend it's okay when it's not It's death by a thousand cuts I dress to kill my time, I take the long way home I ask the traffic lights if it'll be alright They say, \"I don't know\" And what once was ours is no one's now I see you everywhere, the only thing we share Is this small town You said it was a great love, one for the ages But if the storyâs over, why am I still writing pages? âCause saying goodbye is death by a thousand cuts Flashbacks waking me up I get drunk, but it's not enough âCause the morning comes and you're not my baby I look through the windows of this love Even though we boarded them up Chandelier's still flickering here 'Cause I canât pretend it's okay when it's not It's death by a thousand cuts My heart, my hips, my body, my love Tryna find a part of me that you didn't touch Gave up on me like I was a bad drug Now I'm searching for signs in a haunted club Our songs, our films, united we stand Our country, guess it was a lawless land Quiet my fears with the touch of your hand Paper cut stings from our paper-thin plans My time, my wine, my spirit, my trust Tryna find a part of me you didn't take up Gave you so much, but it wasn't enough But I'll be alright, it's just a thousand cuts I get drunk, but it's not enough 'Cause you're not my baby I look through the windows of this love Even though we boarded them up Chandelier's still flickering here 'Cause I can't pretend it's okay when it's not No, it's not It's death by a thousand cuts (You didn't touch) Tryna find a part of me that you didn't touch My body, my love, my trust (It's death by a thousand cuts) But it wasn't enough, it wasn't enough, no, no I take the long way home I ask the traffic lights if it'll be alright They say, \"I don't know\"</td>\n",
       "    </tr>\n",
       "  </tbody>\n",
       "</table>\n",
       "</div>"
      ],
      "text/plain": [
       "                track_title  \\\n",
       "0                 Afterglow   \n",
       "1           Cornelia Street   \n",
       "2              Cruel Summer   \n",
       "3                  Daylight   \n",
       "4  Death by a Thousand Cuts   \n",
       "\n",
       "                                                                                                                                                                                                                                                                                                                                                                                                                                                                                                                                                                                                                                                                                                                                                                                                                                                                                                                                                                                                                                                                                                                                                                                                                                                                                                                                                                                                                                                                                                                                                                                                                                                                                                                                                                                                                                                                                                                                                                                                                                                                                                                                                                                                                                                                                                                                                                                                                                                                                                                                                                                          lyric  \n",
       "0                                                                                                                                                                                                                                                                                                                                                                                                                                                                                                                                                                                                                                                                                                                  I blew things out of proportion, now you're blue Put you in jail for something youâ\n",
       "didnâtâ\n",
       "do I pinned yourâ\n",
       "hands behind your back, oh Thought Iâ\n",
       "had reason to attack, but no Fighting with a true love is boxing with no gloves Chemistry 'til it blows up, 'til thereâs no us Why'd I have to break what I love so much? It's on your face, and I'm to blame, I need to say Hey, it's all me, in my head I'm the one who burned us down But it's not what I meant Sorry that I hurt you I don't wanna do, I donât wanna do this to you (Ooh) I donât wanna lose, I don't wanna lose this with you (Ooh) I need to say, hey, itâs all me, just don't go Meet me in the afterglow It's so excruciating to see you low Just wanna lift you up and not let you go This ultraviolet morning light below Tells me this love is worth the fight, oh I lived like an island, punished you with silence Went off like sirens, just crying Why'd I have to break what I love so much? Itâs on your face, don't walk away, I need to say Hey, it's all me, in my head I'm the one who burned us down But it's not what I meant I'm sorry that I hurt you I don't wanna do, I don't wanna do this to you (Ooh) I don't wanna lose, I don't wanna lose this with you (Ooh) I need to say, hey, it's all me, just don't go Meet me in the afterglow Tell me that you're still mine Tell me that we'll be just fine Even when I lose my mind I need to say Tell me that it's not my fault Tell me that I'm all you want Even when I break your heart I need to say Hey, it's all me, in my head I'm the one who burned us down But it's not what I meant Sorry that I hurt you I don't wanna do, I don't wanna do this to you (Ooh) I don't wanna lose, I don't wanna lose this with you (Ooh) I need to say, hey, it's all me, just don't go Meet me in the afterglow  \n",
       "1                                                                                                                                                                                                                                                                                                                                                                                                                                                                                                                We were in the backseat Drunk on something stronger than the drinks in the bar \"I rentâ\n",
       "aâ\n",
       "place on Corneliaâ\n",
       "Street\" I say casually in the car Weâ\n",
       "were a fresh page on the desk Filling in the blanks as we go As if the street lights pointed in an arrow head Leading us home And I hope I never lose you, hope it never ends I'd never walk Cornelia Street again That's the kinda heartbreak time could never mend I'd never walk Cornelia Street again And baby, I get mystified by how this city screams your name And baby, I'm so terrified of if you ever walk away I'd never walk Cornelia Street again I'd never walk Cornelia Street again Windows flung right open, autumn air Jacket 'round my shoulders is yours We bless the rains on Cornelia Street Memorize the creaks in the floor Back when we were card sharks, playing games I thought you were leading me on I packed my bags, left Cornelia Street Before you even knew I was gone But then you called,Â showed your hand I turned around before I hit the tunnel Sat on the roof, you and I I hope I never lose you, hope it never ends I'd never walk Cornelia Street again That's the kinda heartbreak time could never mend I'd never walk Cornelia Street again And baby, I get mystified by how this city screams your name And baby, I'm so terrified of if you ever walk away I'd never walk Cornelia Street again I'd never walk Cornelia Street again You hold my hand on the street Walk me back to that apartment Years ago, we were just inside Barefoot in the kitchen Sacred new beginnings That became my religion, listen I hope I never lose you I'd never walk Cornelia Street again Oh, never again And baby, I get mystified by how this city screams your name And baby, I'm so terrified of if you ever walk away I'd never walk Cornelia Street again I'd never walk Cornelia Street again I don't wanna lose you (Hope it never ends) I'd never walk Cornelia Street again I don't wanna lose you (Yeah) \"I rent a place on Cornelia Street\" I say casually in the car  \n",
       "2                                                                                                                                                                                                                                     (Yeah, yeah, yeah, yeah) Fever dream high in the quiet of the night You know that I caught it (Oh yeah, you're right, I want it) Bad, bad boy, shiny toy with a price You know that I bought it (Oh yeah, you're right, I want it) Killing me slow, out the window I'm always waiting for you to be waiting below Devils roll the dice, angels roll their eyes What doesn't kill me makes me want you more And it's new, the shape of your body It's blue, the feeling I've got And it's ooh, whoa oh It's a cruel summer It's cool, that's what I tell 'em No rules in breakable heaven But ooh, whoa oh It's a cruel summer With you Joeboy 'Sip (Alcohol)' Official Lyrics & Meaning | Verified Hang your head low in the glow of the vending machine I'm not dying (Oh yeah, you're right, I want it) We say that we'll just screw it up in these trying times We're not trying (Oh yeah, you're right, I want it) So cut the headlights, summer's a knife I'm always waiting for you just to cut to the bone Devils roll the dice, angels roll their eyes And if I bleed, you'll be the last to know Oh, it's new, the shape of your body It's blue, the feeling I've got And it's ooh, whoa oh It's a cruel summer It's cool, that's what I tell 'em No rules in breakable heaven But ooh, whoa oh It's a cruel summer With you I'm drunk in the back of the car And I cried like a baby coming home from the bar (Oh) Said, \"I'm fine,\" but it wasn't true I don't wanna keep secrets just to keep you And I snuck in through the garden gate Every night that summer just to seal my fate (Oh) And I scream, \"For whatever it's worth I love you, ain't that the worst thing you ever heard?\" He looks up, grinning like a devil It's new, the shape of your body It's blue, the feeling I've got And it's ooh, whoa oh It's a cruel summer It's cool, that's what I tell 'em No rules in breakable heaven But ooh, whoa oh It's a cruel summer With you I'm drunk in the back of the car And I cried like a baby coming home from the bar (Oh) Said, \"I'm fine,\" but it wasn't true I don't wanna keep secrets just to keep you And I snuck in through the garden gate Every night that summer just to seal my fate (Oh) And I scream, \"For whatever it's worth I love you, ain't that the worst thing you ever heard?\" (Yeah, yeah, yeah, yeah)  \n",
       "3  My love was as cruel as the cities I lived in Everyone looked worse in the light There are so many lines that I've crossed unforgiven I'll tell you the truth, but never goodbye I don't wanna look at anything else now that I saw you I don't wanna think of anything else now that I thought of you I've been sleeping so long in a 20-year dark night And now I see daylight, I only see daylight Luck of the draw only draws the unlucky And so I became the butt of the joke I wounded the good and I trusted the wicked Clearing the air, I breathed in the smoke Maybe you ran with the wolves and refused to settle down Maybe I've stormed out of every single room in this town Threw out our cloaks and our daggers because it's morning now It's brighter now, now I don't wanna look at anything else now that I saw you (I can never look away) I don't wanna think of anything else now that I thought of you (Things will never be the same) I've been sleeping so long in a 20-year dark night (Now I'm wide awake) And now I see daylight (Daylight), I only see daylight (Daylight) I only see daylight, daylight, daylight, daylight I only see daylight, daylight, daylight, daylight And I can still see it all (In my mind) All of you, all of me (Intertwined) I once believed love would be (Black and white) But it's golden (Golden) And I can still see it all (In my head) Back and forth from New York (Sneaking in your bed) I once believed love would be (Burning red) But it's golden Like daylight, like daylight Like daylight, daylight I don't wanna look at anything else now that I saw you (I can never look away) And I don't wanna think of anything else now that I thought of you (Things will never be the same) I've been sleeping so long in a 20-year dark night (Now I'm wide awake) And now I see daylight (I see daylight), I only see daylight (Ah) I only see daylight, daylight, daylight, daylight I only see daylight, daylight, daylight, daylight (Ah) (And I can still see it all) I only see daylight, daylight, daylight, daylight (And I can still see it all, back and forth from New York) I only see daylight, daylight, daylight, daylight (I once believed love would be burning red) Like daylight It's golden like daylight You gotta step into the daylight and let it go Just let it go, let it go I wanna be defined by the things that I love Not the things I hate Not the things I'm afraid of, I'm afraid of Or the things that haunt me in the middle of the night I, I just think that You are what you love  \n",
       "4                                                                                                                                                                                                                                                                                                                                                               My, my, my, my My, my, my, my My, my, my, my My, my, my, my My, my, my, my My, my, my, my My, my, my, my My, my, my, my Saying goodbye is death by a thousand cuts Flashbacks waking me up I get drunk, but it's not enough âCause the morning comes and you're not my baby I look through the windows of this love Even though we boarded them up Chandelier's still flickering here âCause I can't pretend it's okay when it's not It's death by a thousand cuts I dress to kill my time, I take the long way home I ask the traffic lights if it'll be alright They say, \"I don't know\" And what once was ours is no one's now I see you everywhere, the only thing we share Is this small town You said it was a great love, one for the ages But if the storyâs over, why am I still writing pages? âCause saying goodbye is death by a thousand cuts Flashbacks waking me up I get drunk, but it's not enough âCause the morning comes and you're not my baby I look through the windows of this love Even though we boarded them up Chandelier's still flickering here 'Cause I canât pretend it's okay when it's not It's death by a thousand cuts My heart, my hips, my body, my love Tryna find a part of me that you didn't touch Gave up on me like I was a bad drug Now I'm searching for signs in a haunted club Our songs, our films, united we stand Our country, guess it was a lawless land Quiet my fears with the touch of your hand Paper cut stings from our paper-thin plans My time, my wine, my spirit, my trust Tryna find a part of me you didn't take up Gave you so much, but it wasn't enough But I'll be alright, it's just a thousand cuts I get drunk, but it's not enough 'Cause you're not my baby I look through the windows of this love Even though we boarded them up Chandelier's still flickering here 'Cause I can't pretend it's okay when it's not No, it's not It's death by a thousand cuts (You didn't touch) Tryna find a part of me that you didn't touch My body, my love, my trust (It's death by a thousand cuts) But it wasn't enough, it wasn't enough, no, no I take the long way home I ask the traffic lights if it'll be alright They say, \"I don't know\"  "
      ]
     },
     "execution_count": 6,
     "metadata": {},
     "output_type": "execute_result"
    }
   ],
   "source": [
    "songs.head()"
   ]
  },
  {
   "cell_type": "code",
   "execution_count": 7,
   "id": "6f551efe-bc7b-4114-b7a1-7624200dc4d1",
   "metadata": {},
   "outputs": [
    {
     "data": {
      "text/plain": [
       "18"
      ]
     },
     "execution_count": 7,
     "metadata": {},
     "output_type": "execute_result"
    }
   ],
   "source": [
    "len(songs)"
   ]
  },
  {
   "cell_type": "code",
   "execution_count": 8,
   "id": "bf324a95-51a8-41f6-9626-4b0deb1c02ff",
   "metadata": {
    "tags": []
   },
   "outputs": [],
   "source": [
    "import sklearn"
   ]
  },
  {
   "cell_type": "code",
   "execution_count": 9,
   "id": "fa6725fc-747b-4e7f-bcc9-4681acdc8d4a",
   "metadata": {
    "tags": []
   },
   "outputs": [],
   "source": [
    "from sklearn.feature_extraction.text import TfidfVectorizer"
   ]
  },
  {
   "cell_type": "code",
   "execution_count": 10,
   "id": "483427a2-e654-4f99-a3ce-46230ea51fb8",
   "metadata": {
    "tags": []
   },
   "outputs": [
    {
     "name": "stderr",
     "output_type": "stream",
     "text": [
      "[nltk_data] Downloading package stopwords to /Users/anita/nltk_data...\n",
      "[nltk_data]   Package stopwords is already up-to-date!\n"
     ]
    },
    {
     "data": {
      "text/plain": [
       "True"
      ]
     },
     "execution_count": 10,
     "metadata": {},
     "output_type": "execute_result"
    }
   ],
   "source": [
    "import nltk\n",
    "from nltk.corpus import stopwords\n",
    "nltk.download('stopwords')"
   ]
  },
  {
   "cell_type": "code",
   "execution_count": 11,
   "id": "3bf82ab4-858c-4275-b776-5237786548cb",
   "metadata": {
    "tags": []
   },
   "outputs": [],
   "source": [
    "stop_words = stopwords.words('english')"
   ]
  },
  {
   "cell_type": "code",
   "execution_count": 12,
   "id": "d0dc40f4-fe70-409f-aca0-e05c12e10fc2",
   "metadata": {},
   "outputs": [],
   "source": [
    "stopwords = [ \"darling\",\n",
    "    \"ooh\",\n",
    "    \"yeah\",\n",
    "    \"whoa\",\n",
    "    \"wanna\",\n",
    "    \"iâ\",\n",
    "    \"okay\",\n",
    "    \"cause\",\n",
    "    \"get\",\n",
    "    \"mad\"]"
   ]
  },
  {
   "cell_type": "code",
   "execution_count": 13,
   "id": "6256c5c1-7ad2-4053-86fd-f5650c302d99",
   "metadata": {
    "tags": []
   },
   "outputs": [],
   "source": [
    "vectorizer = TfidfVectorizer(stop_words = stop_words, min_df = 0.1)"
   ]
  },
  {
   "cell_type": "code",
   "execution_count": 14,
   "id": "8932c348-d02f-4a37-94d5-67e9e1d53a18",
   "metadata": {
    "tags": []
   },
   "outputs": [],
   "source": [
    "tfidf = vectorizer.fit_transform(songs['lyric'])"
   ]
  },
  {
   "cell_type": "code",
   "execution_count": 15,
   "id": "22ec696a-b676-439e-89ee-274c9a68e468",
   "metadata": {
    "tags": []
   },
   "outputs": [],
   "source": [
    "from sklearn.decomposition import NMF"
   ]
  },
  {
   "cell_type": "code",
   "execution_count": 16,
   "id": "713c0930-064b-46b9-ba77-2ef0b3b08f60",
   "metadata": {
    "tags": []
   },
   "outputs": [],
   "source": [
    "nmf = NMF(n_components = 6)"
   ]
  },
  {
   "cell_type": "code",
   "execution_count": 17,
   "id": "9bdacb74-a19f-4aac-ae74-48feeb346f6d",
   "metadata": {
    "tags": []
   },
   "outputs": [
    {
     "name": "stderr",
     "output_type": "stream",
     "text": [
      "/Library/Frameworks/Python.framework/Versions/3.11/lib/python3.11/site-packages/sklearn/decomposition/_nmf.py:1770: ConvergenceWarning: Maximum number of iterations 200 reached. Increase it to improve convergence.\n",
      "  warnings.warn(\n"
     ]
    }
   ],
   "source": [
    "topic_values = nmf.fit_transform(tfidf)"
   ]
  },
  {
   "cell_type": "code",
   "execution_count": 18,
   "id": "4960ddd1-de48-47d4-b7e6-b21b83d22a01",
   "metadata": {
    "tags": []
   },
   "outputs": [
    {
     "name": "stdout",
     "output_type": "stream",
     "text": [
      "Topic #1: want right see bless think one could stay darling got\n",
      "Topic #2: ooh nice soon better fun one baby get like yeah\n",
      "Topic #3: oh need wanna summer boy yeah whoa love know cruel\n",
      "Topic #4: still love even god enough get see look touch faith\n",
      "Topic #5: man would coming running iâ okay bad cause get mad\n",
      "Topic #6: street walk never take lover ever lose go place always\n"
     ]
    }
   ],
   "source": [
    "for topic_num, topic in enumerate(nmf.components_):\n",
    "    message = \"Topic #{}: \".format(topic_num + 1)\n",
    "    message += \" \".join([vectorizer.get_feature_names_out()[i] for i in topic.argsort()[:-11 :-1]])\n",
    "    print(message)"
   ]
  },
  {
   "cell_type": "code",
   "execution_count": 19,
   "id": "1a867000-1b07-4044-8d2d-fe2e9bd0d159",
   "metadata": {
    "tags": []
   },
   "outputs": [],
   "source": [
    "topic_labels = ['relationships', 'excitement', 'desire', 'devotion', 'anger', 'nostalgia']"
   ]
  },
  {
   "cell_type": "code",
   "execution_count": 20,
   "id": "3f1141fe-2105-4248-8860-3b6f11a12d23",
   "metadata": {
    "tags": []
   },
   "outputs": [
    {
     "data": {
      "text/html": [
       "<div>\n",
       "<style scoped>\n",
       "    .dataframe tbody tr th:only-of-type {\n",
       "        vertical-align: middle;\n",
       "    }\n",
       "\n",
       "    .dataframe tbody tr th {\n",
       "        vertical-align: top;\n",
       "    }\n",
       "\n",
       "    .dataframe thead th {\n",
       "        text-align: right;\n",
       "    }\n",
       "</style>\n",
       "<table border=\"1\" class=\"dataframe\">\n",
       "  <thead>\n",
       "    <tr style=\"text-align: right;\">\n",
       "      <th></th>\n",
       "      <th>relationships</th>\n",
       "      <th>excitement</th>\n",
       "      <th>desire</th>\n",
       "      <th>devotion</th>\n",
       "      <th>anger</th>\n",
       "      <th>nostalgia</th>\n",
       "    </tr>\n",
       "  </thead>\n",
       "  <tbody>\n",
       "    <tr>\n",
       "      <th>0</th>\n",
       "      <td>0.000000</td>\n",
       "      <td>0.186601</td>\n",
       "      <td>0.315437</td>\n",
       "      <td>0.157303</td>\n",
       "      <td>0.000000</td>\n",
       "      <td>0.133984</td>\n",
       "    </tr>\n",
       "    <tr>\n",
       "      <th>1</th>\n",
       "      <td>0.000000</td>\n",
       "      <td>0.011577</td>\n",
       "      <td>0.000000</td>\n",
       "      <td>0.000000</td>\n",
       "      <td>0.000000</td>\n",
       "      <td>0.865579</td>\n",
       "    </tr>\n",
       "    <tr>\n",
       "      <th>2</th>\n",
       "      <td>0.053848</td>\n",
       "      <td>0.129510</td>\n",
       "      <td>0.558704</td>\n",
       "      <td>0.000000</td>\n",
       "      <td>0.011026</td>\n",
       "      <td>0.000000</td>\n",
       "    </tr>\n",
       "    <tr>\n",
       "      <th>3</th>\n",
       "      <td>0.162310</td>\n",
       "      <td>0.000000</td>\n",
       "      <td>0.000000</td>\n",
       "      <td>0.435835</td>\n",
       "      <td>0.000000</td>\n",
       "      <td>0.034136</td>\n",
       "    </tr>\n",
       "    <tr>\n",
       "      <th>4</th>\n",
       "      <td>0.000000</td>\n",
       "      <td>0.000000</td>\n",
       "      <td>0.000000</td>\n",
       "      <td>0.679519</td>\n",
       "      <td>0.000000</td>\n",
       "      <td>0.034866</td>\n",
       "    </tr>\n",
       "    <tr>\n",
       "      <th>5</th>\n",
       "      <td>0.000000</td>\n",
       "      <td>0.000000</td>\n",
       "      <td>0.000000</td>\n",
       "      <td>0.749000</td>\n",
       "      <td>0.000000</td>\n",
       "      <td>0.000000</td>\n",
       "    </tr>\n",
       "    <tr>\n",
       "      <th>6</th>\n",
       "      <td>0.006543</td>\n",
       "      <td>0.207714</td>\n",
       "      <td>0.000000</td>\n",
       "      <td>0.219182</td>\n",
       "      <td>0.210259</td>\n",
       "      <td>0.000000</td>\n",
       "    </tr>\n",
       "    <tr>\n",
       "      <th>7</th>\n",
       "      <td>0.369725</td>\n",
       "      <td>0.000000</td>\n",
       "      <td>0.024022</td>\n",
       "      <td>0.000000</td>\n",
       "      <td>0.039398</td>\n",
       "      <td>0.000000</td>\n",
       "    </tr>\n",
       "    <tr>\n",
       "      <th>8</th>\n",
       "      <td>0.000000</td>\n",
       "      <td>0.759478</td>\n",
       "      <td>0.000000</td>\n",
       "      <td>0.000000</td>\n",
       "      <td>0.000000</td>\n",
       "      <td>0.000000</td>\n",
       "    </tr>\n",
       "    <tr>\n",
       "      <th>9</th>\n",
       "      <td>0.000000</td>\n",
       "      <td>0.077693</td>\n",
       "      <td>0.476849</td>\n",
       "      <td>0.204562</td>\n",
       "      <td>0.000000</td>\n",
       "      <td>0.008022</td>\n",
       "    </tr>\n",
       "    <tr>\n",
       "      <th>10</th>\n",
       "      <td>0.017953</td>\n",
       "      <td>0.000000</td>\n",
       "      <td>0.004394</td>\n",
       "      <td>0.000000</td>\n",
       "      <td>0.101684</td>\n",
       "      <td>0.637570</td>\n",
       "    </tr>\n",
       "    <tr>\n",
       "      <th>11</th>\n",
       "      <td>0.046309</td>\n",
       "      <td>0.723643</td>\n",
       "      <td>0.031351</td>\n",
       "      <td>0.000000</td>\n",
       "      <td>0.000000</td>\n",
       "      <td>0.060721</td>\n",
       "    </tr>\n",
       "    <tr>\n",
       "      <th>12</th>\n",
       "      <td>0.252890</td>\n",
       "      <td>0.035957</td>\n",
       "      <td>0.022992</td>\n",
       "      <td>0.054363</td>\n",
       "      <td>0.182611</td>\n",
       "      <td>0.012646</td>\n",
       "    </tr>\n",
       "    <tr>\n",
       "      <th>13</th>\n",
       "      <td>0.374931</td>\n",
       "      <td>0.020980</td>\n",
       "      <td>0.044761</td>\n",
       "      <td>0.000000</td>\n",
       "      <td>0.000000</td>\n",
       "      <td>0.000000</td>\n",
       "    </tr>\n",
       "    <tr>\n",
       "      <th>14</th>\n",
       "      <td>0.000000</td>\n",
       "      <td>0.552296</td>\n",
       "      <td>0.000000</td>\n",
       "      <td>0.054207</td>\n",
       "      <td>0.019799</td>\n",
       "      <td>0.000000</td>\n",
       "    </tr>\n",
       "    <tr>\n",
       "      <th>15</th>\n",
       "      <td>0.302367</td>\n",
       "      <td>0.000000</td>\n",
       "      <td>0.000000</td>\n",
       "      <td>0.000000</td>\n",
       "      <td>0.000000</td>\n",
       "      <td>0.087275</td>\n",
       "    </tr>\n",
       "    <tr>\n",
       "      <th>16</th>\n",
       "      <td>0.000000</td>\n",
       "      <td>0.000000</td>\n",
       "      <td>0.000000</td>\n",
       "      <td>0.000000</td>\n",
       "      <td>1.013153</td>\n",
       "      <td>0.000000</td>\n",
       "    </tr>\n",
       "    <tr>\n",
       "      <th>17</th>\n",
       "      <td>0.000000</td>\n",
       "      <td>0.000000</td>\n",
       "      <td>0.677954</td>\n",
       "      <td>0.000000</td>\n",
       "      <td>0.000000</td>\n",
       "      <td>0.000000</td>\n",
       "    </tr>\n",
       "  </tbody>\n",
       "</table>\n",
       "</div>"
      ],
      "text/plain": [
       "    relationships  excitement    desire  devotion     anger  nostalgia\n",
       "0        0.000000    0.186601  0.315437  0.157303  0.000000   0.133984\n",
       "1        0.000000    0.011577  0.000000  0.000000  0.000000   0.865579\n",
       "2        0.053848    0.129510  0.558704  0.000000  0.011026   0.000000\n",
       "3        0.162310    0.000000  0.000000  0.435835  0.000000   0.034136\n",
       "4        0.000000    0.000000  0.000000  0.679519  0.000000   0.034866\n",
       "5        0.000000    0.000000  0.000000  0.749000  0.000000   0.000000\n",
       "6        0.006543    0.207714  0.000000  0.219182  0.210259   0.000000\n",
       "7        0.369725    0.000000  0.024022  0.000000  0.039398   0.000000\n",
       "8        0.000000    0.759478  0.000000  0.000000  0.000000   0.000000\n",
       "9        0.000000    0.077693  0.476849  0.204562  0.000000   0.008022\n",
       "10       0.017953    0.000000  0.004394  0.000000  0.101684   0.637570\n",
       "11       0.046309    0.723643  0.031351  0.000000  0.000000   0.060721\n",
       "12       0.252890    0.035957  0.022992  0.054363  0.182611   0.012646\n",
       "13       0.374931    0.020980  0.044761  0.000000  0.000000   0.000000\n",
       "14       0.000000    0.552296  0.000000  0.054207  0.019799   0.000000\n",
       "15       0.302367    0.000000  0.000000  0.000000  0.000000   0.087275\n",
       "16       0.000000    0.000000  0.000000  0.000000  1.013153   0.000000\n",
       "17       0.000000    0.000000  0.677954  0.000000  0.000000   0.000000"
      ]
     },
     "execution_count": 20,
     "metadata": {},
     "output_type": "execute_result"
    }
   ],
   "source": [
    "df_topics = pd.DataFrame(topic_values, columns = topic_labels)\n",
    "df_topics"
   ]
  },
  {
   "cell_type": "code",
   "execution_count": 21,
   "id": "c3b4a156-9ff6-4cd0-af76-2f632ec1e47e",
   "metadata": {
    "tags": []
   },
   "outputs": [],
   "source": [
    "songs = songs.join(df_topics) #['relationships', 'excitement', 'desire', 'devotion', 'anger', 'nostalgia']"
   ]
  },
  {
   "cell_type": "code",
   "execution_count": 22,
   "id": "c8deded5-faa4-47a5-b542-22656de9dada",
   "metadata": {
    "tags": []
   },
   "outputs": [],
   "source": [
    "songs.loc[songs['relationships'] >= 0.1, 'relationships'] = 1\n",
    "songs.loc[songs['excitement'] >= 0.1, 'excitement'] = 1\n",
    "songs.loc[songs['desire'] >= 0.1, 'desire'] = 1\n",
    "songs.loc[songs['devotion'] >= 0.1, 'devotion'] = 1\n",
    "songs.loc[songs['anger'] >= 0.1, 'anger'] = 1\n",
    "songs.loc[songs['nostalgia'] >= 0.1, 'nostalgia'] = 1"
   ]
  },
  {
   "cell_type": "code",
   "execution_count": 23,
   "id": "cb147a2a-7a75-401e-8a69-ddc61c820e45",
   "metadata": {
    "tags": []
   },
   "outputs": [],
   "source": [
    "songs.loc[songs['relationships'] < 0.1, 'relationships'] = 0\n",
    "songs.loc[songs['excitement'] < 0.1, 'excitement'] = 0\n",
    "songs.loc[songs['desire'] < 0.1, 'desire'] = 0\n",
    "songs.loc[songs['devotion'] < 0.1, 'devotion'] = 0\n",
    "songs.loc[songs['anger'] < 0.1, 'anger'] = 0\n",
    "songs.loc[songs['nostalgia'] < 0.1, 'nostalgia'] = 0"
   ]
  },
  {
   "cell_type": "code",
   "execution_count": 24,
   "id": "cd60301b-ae63-4f27-a515-d3356c269f2c",
   "metadata": {
    "tags": []
   },
   "outputs": [],
   "source": [
    "songs_csv = songs.to_csv('topics/lover_topics.csv')"
   ]
  },
  {
   "cell_type": "code",
   "execution_count": null,
   "id": "69e13cea-46c2-4e0e-8c5d-a54780b9c899",
   "metadata": {},
   "outputs": [],
   "source": []
  }
 ],
 "metadata": {
  "kernelspec": {
   "display_name": "Python 3 (ipykernel)",
   "language": "python",
   "name": "python3"
  },
  "language_info": {
   "codemirror_mode": {
    "name": "ipython",
    "version": 3
   },
   "file_extension": ".py",
   "mimetype": "text/x-python",
   "name": "python",
   "nbconvert_exporter": "python",
   "pygments_lexer": "ipython3",
   "version": "3.11.9"
  }
 },
 "nbformat": 4,
 "nbformat_minor": 5
}
